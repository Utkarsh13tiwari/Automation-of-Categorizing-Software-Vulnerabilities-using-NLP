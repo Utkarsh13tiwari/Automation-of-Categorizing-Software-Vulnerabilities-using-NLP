{
 "cells": [
  {
   "cell_type": "code",
   "execution_count": 1,
   "id": "1ebfb52e",
   "metadata": {},
   "outputs": [],
   "source": [
    "import pandas as pd\n",
    "import seaborn as sns\n",
    "import matplotlib.pyplot as plt\n",
    "import numpy as np"
   ]
  },
  {
   "cell_type": "code",
   "execution_count": 2,
   "id": "194f232c",
   "metadata": {},
   "outputs": [],
   "source": [
    "data=pd.read_excel('Software_Vuln_Data.xlsx', sheet_name ='vuln') # Reading data "
   ]
  },
  {
   "cell_type": "code",
   "execution_count": 3,
   "id": "08020d8f",
   "metadata": {},
   "outputs": [
    {
     "data": {
      "text/html": [
       "<div>\n",
       "<style scoped>\n",
       "    .dataframe tbody tr th:only-of-type {\n",
       "        vertical-align: middle;\n",
       "    }\n",
       "\n",
       "    .dataframe tbody tr th {\n",
       "        vertical-align: top;\n",
       "    }\n",
       "\n",
       "    .dataframe thead th {\n",
       "        text-align: right;\n",
       "    }\n",
       "</style>\n",
       "<table border=\"1\" class=\"dataframe\">\n",
       "  <thead>\n",
       "    <tr style=\"text-align: right;\">\n",
       "      <th></th>\n",
       "      <th>QID</th>\n",
       "      <th>Severity</th>\n",
       "      <th>Port</th>\n",
       "      <th>Times Detected</th>\n",
       "      <th>Times Reopened</th>\n",
       "      <th>CVSS</th>\n",
       "      <th>CVSS3</th>\n",
       "    </tr>\n",
       "  </thead>\n",
       "  <tbody>\n",
       "    <tr>\n",
       "      <th>count</th>\n",
       "      <td>69909.000000</td>\n",
       "      <td>69909.000000</td>\n",
       "      <td>46458.000000</td>\n",
       "      <td>69909.000000</td>\n",
       "      <td>10965.000000</td>\n",
       "      <td>69909.000000</td>\n",
       "      <td>49820.000000</td>\n",
       "    </tr>\n",
       "    <tr>\n",
       "      <th>mean</th>\n",
       "      <td>80771.576092</td>\n",
       "      <td>2.894949</td>\n",
       "      <td>1512.361875</td>\n",
       "      <td>36.457366</td>\n",
       "      <td>1.763338</td>\n",
       "      <td>4.271057</td>\n",
       "      <td>5.998314</td>\n",
       "    </tr>\n",
       "    <tr>\n",
       "      <th>std</th>\n",
       "      <td>74274.334047</td>\n",
       "      <td>0.888893</td>\n",
       "      <td>3124.608964</td>\n",
       "      <td>167.254555</td>\n",
       "      <td>2.007894</td>\n",
       "      <td>1.474804</td>\n",
       "      <td>1.219130</td>\n",
       "    </tr>\n",
       "    <tr>\n",
       "      <th>min</th>\n",
       "      <td>5001.000000</td>\n",
       "      <td>1.000000</td>\n",
       "      <td>1.000000</td>\n",
       "      <td>1.000000</td>\n",
       "      <td>1.000000</td>\n",
       "      <td>0.000000</td>\n",
       "      <td>0.000000</td>\n",
       "    </tr>\n",
       "    <tr>\n",
       "      <th>25%</th>\n",
       "      <td>38173.000000</td>\n",
       "      <td>2.000000</td>\n",
       "      <td>123.000000</td>\n",
       "      <td>4.000000</td>\n",
       "      <td>1.000000</td>\n",
       "      <td>3.500000</td>\n",
       "      <td>5.300000</td>\n",
       "    </tr>\n",
       "    <tr>\n",
       "      <th>50%</th>\n",
       "      <td>38670.000000</td>\n",
       "      <td>3.000000</td>\n",
       "      <td>443.000000</td>\n",
       "      <td>6.000000</td>\n",
       "      <td>1.000000</td>\n",
       "      <td>3.900000</td>\n",
       "      <td>5.800000</td>\n",
       "    </tr>\n",
       "    <tr>\n",
       "      <th>75%</th>\n",
       "      <td>86763.000000</td>\n",
       "      <td>3.000000</td>\n",
       "      <td>443.000000</td>\n",
       "      <td>17.000000</td>\n",
       "      <td>2.000000</td>\n",
       "      <td>4.700000</td>\n",
       "      <td>6.700000</td>\n",
       "    </tr>\n",
       "    <tr>\n",
       "      <th>max</th>\n",
       "      <td>373156.000000</td>\n",
       "      <td>5.000000</td>\n",
       "      <td>65000.000000</td>\n",
       "      <td>2809.000000</td>\n",
       "      <td>29.000000</td>\n",
       "      <td>10.000000</td>\n",
       "      <td>10.000000</td>\n",
       "    </tr>\n",
       "  </tbody>\n",
       "</table>\n",
       "</div>"
      ],
      "text/plain": [
       "                 QID      Severity          Port  Times Detected  \\\n",
       "count   69909.000000  69909.000000  46458.000000    69909.000000   \n",
       "mean    80771.576092      2.894949   1512.361875       36.457366   \n",
       "std     74274.334047      0.888893   3124.608964      167.254555   \n",
       "min      5001.000000      1.000000      1.000000        1.000000   \n",
       "25%     38173.000000      2.000000    123.000000        4.000000   \n",
       "50%     38670.000000      3.000000    443.000000        6.000000   \n",
       "75%     86763.000000      3.000000    443.000000       17.000000   \n",
       "max    373156.000000      5.000000  65000.000000     2809.000000   \n",
       "\n",
       "       Times Reopened          CVSS         CVSS3  \n",
       "count    10965.000000  69909.000000  49820.000000  \n",
       "mean         1.763338      4.271057      5.998314  \n",
       "std          2.007894      1.474804      1.219130  \n",
       "min          1.000000      0.000000      0.000000  \n",
       "25%          1.000000      3.500000      5.300000  \n",
       "50%          1.000000      3.900000      5.800000  \n",
       "75%          2.000000      4.700000      6.700000  \n",
       "max         29.000000     10.000000     10.000000  "
      ]
     },
     "execution_count": 3,
     "metadata": {},
     "output_type": "execute_result"
    }
   ],
   "source": [
    "data.describe()"
   ]
  },
  {
   "cell_type": "code",
   "execution_count": 4,
   "id": "79bc8bb2",
   "metadata": {},
   "outputs": [
    {
     "name": "stdout",
     "output_type": "stream",
     "text": [
      "          masked Ip                 Network Tracking Method  \\\n",
      "0      lab_2_IP9036  Global Default Network          QAGENT   \n",
      "1      lab_2_IP9036  Global Default Network          QAGENT   \n",
      "2      lab_2_IP9036  Global Default Network          QAGENT   \n",
      "3      lab_2_IP9036  Global Default Network          QAGENT   \n",
      "4      lab_2_IP9036  Global Default Network          QAGENT   \n",
      "...             ...                     ...             ...   \n",
      "69904     lab_2_IP2  Global Default Network              IP   \n",
      "69905     lab_2_IP2  Global Default Network              IP   \n",
      "69906     lab_2_IP2  Global Default Network              IP   \n",
      "69907     lab_2_IP2  Global Default Network              IP   \n",
      "69908     lab_2_IP1  Global Default Network              IP   \n",
      "\n",
      "                                                      OS  \\\n",
      "0                                   Ubuntu Linux 16.04.4   \n",
      "1                                   Ubuntu Linux 16.04.4   \n",
      "2                                   Ubuntu Linux 16.04.4   \n",
      "3                                   Ubuntu Linux 16.04.4   \n",
      "4                                   Ubuntu Linux 16.04.4   \n",
      "...                                                  ...   \n",
      "69904                    VMware ESXi 6.5.0 build 8294253   \n",
      "69905                    VMware ESXi 6.5.0 build 8294253   \n",
      "69906                    VMware ESXi 6.5.0 build 8294253   \n",
      "69907                    VMware ESXi 6.5.0 build 8294253   \n",
      "69908  Linux 2.4-2.6 / Embedded Device / F5 Networks ...   \n",
      "\n",
      "                      IP Status     QID  \\\n",
      "0      host scanned, found vuln  197967   \n",
      "1      host scanned, found vuln  197742   \n",
      "2      host scanned, found vuln  197688   \n",
      "3      host scanned, found vuln  196604   \n",
      "4      host scanned, found vuln  372015   \n",
      "...                         ...     ...   \n",
      "69904  host scanned, found vuln   38628   \n",
      "69905  host scanned, found vuln   38628   \n",
      "69906  host scanned, found vuln   38169   \n",
      "69907  host scanned, found vuln   38169   \n",
      "69908  host scanned, found vuln   38169   \n",
      "\n",
      "                                                   Title Vuln Status  Type  \\\n",
      "0      Ubuntu Security Notification for Grub2 Vulnera...      Active  Vuln   \n",
      "1      Ubuntu Security Notification for Linux, Linux-...      Active  Vuln   \n",
      "2      Ubuntu Security Notification for LibTIFF vulne...      Active  Vuln   \n",
      "3      Ubuntu Security Notification for Linux Vulnera...      Active  Vuln   \n",
      "4       Docker Build Remote Code Execution Vulnerability      Active  Vuln   \n",
      "...                                                  ...         ...   ...   \n",
      "69904                    SSL/TLS Server supports TLSv1.0      Active  Vuln   \n",
      "69905                    SSL/TLS Server supports TLSv1.0      Active  Vuln   \n",
      "69906          SSL Certificate - Self-Signed Certificate      Active  Vuln   \n",
      "69907          SSL Certificate - Self-Signed Certificate      Active  Vuln   \n",
      "69908          SSL Certificate - Self-Signed Certificate      Active  Vuln   \n",
      "\n",
      "       Severity  ...       CVSS3 Temporal  \\\n",
      "0             4  ...  7.1 (E:U/RL:O/RC:C)   \n",
      "1             4  ...  7.8 (E:U/RL:O/RC:U)   \n",
      "2             4  ...  7.7 (E:U/RL:O/RC:C)   \n",
      "3             4  ...  6.5 (E:P/RL:O/RC:U)   \n",
      "4             3  ...  7.6 (E:P/RL:O/RC:C)   \n",
      "...         ...  ...                  ...   \n",
      "69904         3  ...  6.2 (E:F/RL:W/RC:C)   \n",
      "69905         3  ...  6.2 (E:F/RL:W/RC:C)   \n",
      "69906         3  ...  5.3 (E:U/RL:W/RC:U)   \n",
      "69907         3  ...  5.3 (E:U/RL:W/RC:U)   \n",
      "69908         3  ...  5.3 (E:U/RL:W/RC:U)   \n",
      "\n",
      "                                                  Threat  \\\n",
      "0      The GRUB2 boot loader is vulnerable to buffer ...   \n",
      "1        It was discovered that a heap-based buffer o...   \n",
      "2       It was discovered that LibTIFF incorrectly ha...   \n",
      "3        It was discovered that a race condition exis...   \n",
      "4      Docker Engine enables containerized applicatio...   \n",
      "...                                                  ...   \n",
      "69904  TLS is capable of using a multitude of ciphers...   \n",
      "69905  TLS is capable of using a multitude of ciphers...   \n",
      "69906  An SSL Certificate associates an entity (perso...   \n",
      "69907  An SSL Certificate associates an entity (perso...   \n",
      "69908  An SSL Certificate associates an entity (perso...   \n",
      "\n",
      "                                                  Impact  \\\n",
      "0      Successful exploitation allows attacker to exe...   \n",
      "1         A physically proximate attacker could use t...   \n",
      "2        If a user or automated system were tricked i...   \n",
      "3         A local attacker could use this to gain adm...   \n",
      "4      Successful exploitation of this vulnerability ...   \n",
      "...                                                  ...   \n",
      "69904  An attacker can exploit cryptographic flaws to...   \n",
      "69905  An attacker can exploit cryptographic flaws to...   \n",
      "69906  By exploiting this vulnerability, an attacker ...   \n",
      "69907  By exploiting this vulnerability, an attacker ...   \n",
      "69908  By exploiting this vulnerability, an attacker ...   \n",
      "\n",
      "                                                Solution  \\\n",
      "0      Refer to Ubuntu advisory USN-4432-1 (https://u...   \n",
      "1      Refer to Ubuntu advisory USN-4228-1 (https://l...   \n",
      "2      Refer to Ubuntu advisory USN-4158-1 (https://l...   \n",
      "3      Refer to Ubuntu advisory USN-3106-1 (https://l...   \n",
      "4      Customers are advised to upgrade docker engine...   \n",
      "...                                                  ...   \n",
      "69904  Disable the use of TLSv1.0 protocol in favor o...   \n",
      "69905  Disable the use of TLSv1.0 protocol in favor o...   \n",
      "69906  Please install a server certificate signed by ...   \n",
      "69907  Please install a server certificate signed by ...   \n",
      "69908  Please install a server certificate signed by ...   \n",
      "\n",
      "                                          Exploitability  Associated Malware  \\\n",
      "0                                                    NaN                 NaN   \n",
      "1                                                    NaN                 NaN   \n",
      "2                                                    NaN                 NaN   \n",
      "3      Source: The Exploit-DB_x000D_\\nReference:CVE-2...                 NaN   \n",
      "4      Source: Qualys_x000D_\\nReference:CVE-2019-1313...                 NaN   \n",
      "...                                                  ...                 ...   \n",
      "69904                                                NaN                 NaN   \n",
      "69905                                                NaN                 NaN   \n",
      "69906                                                NaN                 NaN   \n",
      "69907                                                NaN                 NaN   \n",
      "69908                                                NaN                 NaN   \n",
      "\n",
      "      PCI Vuln                              OS CPE                 Category  \\\n",
      "0          yes                                 NaN                   Ubuntu   \n",
      "1          yes                                 NaN                   Ubuntu   \n",
      "2          yes                                 NaN                   Ubuntu   \n",
      "3          yes                                 NaN                   Ubuntu   \n",
      "4          yes                                 NaN                    Local   \n",
      "...        ...                                 ...                      ...   \n",
      "69904      yes  cpe:/o:vmware:esxi:6.5.0:8294253::  General remote services   \n",
      "69905      yes  cpe:/o:vmware:esxi:6.5.0:8294253::  General remote services   \n",
      "69906      yes  cpe:/o:vmware:esxi:6.5.0:8294253::  General remote services   \n",
      "69907      yes  cpe:/o:vmware:esxi:6.5.0:8294253::  General remote services   \n",
      "69908      yes                                 NaN  General remote services   \n",
      "\n",
      "       Non-running Kernel  \n",
      "0                      No  \n",
      "1                     Yes  \n",
      "2                      No  \n",
      "3                     Yes  \n",
      "4                      No  \n",
      "...                   ...  \n",
      "69904                  No  \n",
      "69905                  No  \n",
      "69906                  No  \n",
      "69907                  No  \n",
      "69908                  No  \n",
      "\n",
      "[69909 rows x 39 columns]\n"
     ]
    }
   ],
   "source": [
    "print(data)"
   ]
  },
  {
   "cell_type": "code",
   "execution_count": 5,
   "id": "af299603",
   "metadata": {},
   "outputs": [
    {
     "data": {
      "text/plain": [
       "(69909, 39)"
      ]
     },
     "execution_count": 5,
     "metadata": {},
     "output_type": "execute_result"
    }
   ],
   "source": [
    "data.shape\n"
   ]
  },
  {
   "cell_type": "markdown",
   "id": "e48ce332",
   "metadata": {},
   "source": [
    "# Handling the missing Values "
   ]
  },
  {
   "cell_type": "code",
   "execution_count": 6,
   "id": "722ed8f7",
   "metadata": {},
   "outputs": [
    {
     "data": {
      "text/plain": [
       "Associated Malware    69715\n",
       "Exploitability        60207\n",
       "Times Reopened        58944\n",
       "Last Reopened         58944\n",
       "First Reopened        58944\n",
       "Date Last Fixed       53268\n",
       "Bugtraq ID            53177\n",
       "Vendor Reference      50879\n",
       "OS CPE                48356\n",
       "CVE ID                44803\n",
       "SSL                   40641\n",
       "Protocol              23451\n",
       "Port                  23451\n",
       "CVSS3 Temporal        20089\n",
       "CVSS3 Base            20089\n",
       "CVSS3                 20089\n",
       "OS                     1237\n",
       "Impact                  500\n",
       "CVSS Temporal             0\n",
       "Threat                    0\n",
       "Solution                  0\n",
       "PCI Vuln                  0\n",
       "Category                  0\n",
       "CVSS Environment          0\n",
       "masked Ip                 0\n",
       "CVSS Base                 0\n",
       "CVSS                      0\n",
       "Network                   0\n",
       "Times Detected            0\n",
       "Last Detected             0\n",
       "First Detected            0\n",
       "Severity                  0\n",
       "Type                      0\n",
       "Vuln Status               0\n",
       "Title                     0\n",
       "QID                       0\n",
       "IP Status                 0\n",
       "Tracking Method           0\n",
       "Non-running Kernel        0\n",
       "dtype: int64"
      ]
     },
     "execution_count": 6,
     "metadata": {},
     "output_type": "execute_result"
    }
   ],
   "source": [
    "data_null=data.isnull().sum()\n",
    "data_null.sort_values(ascending = False)"
   ]
  },
  {
   "cell_type": "code",
   "execution_count": 7,
   "id": "f52ec5de",
   "metadata": {},
   "outputs": [],
   "source": [
    "##Checking null percentage"
   ]
  },
  {
   "cell_type": "code",
   "execution_count": 8,
   "id": "0a61b9a5",
   "metadata": {},
   "outputs": [
    {
     "data": {
      "text/plain": [
       "Associated Malware    99.722496\n",
       "Exploitability        86.121959\n",
       "Times Reopened        84.315324\n",
       "Last Reopened         84.315324\n",
       "First Reopened        84.315324\n",
       "Date Last Fixed       76.196198\n",
       "Bugtraq ID            76.066029\n",
       "Vendor Reference      72.778898\n",
       "OS CPE                69.169921\n",
       "CVE ID                64.087600\n",
       "SSL                   58.134146\n",
       "Protocol              33.545037\n",
       "Port                  33.545037\n",
       "CVSS3 Temporal        28.735928\n",
       "CVSS3 Base            28.735928\n",
       "CVSS3                 28.735928\n",
       "OS                     1.769443\n",
       "Impact                 0.715215\n",
       "CVSS Temporal          0.000000\n",
       "Threat                 0.000000\n",
       "Solution               0.000000\n",
       "PCI Vuln               0.000000\n",
       "Category               0.000000\n",
       "CVSS Environment       0.000000\n",
       "masked Ip              0.000000\n",
       "CVSS Base              0.000000\n",
       "CVSS                   0.000000\n",
       "Network                0.000000\n",
       "Times Detected         0.000000\n",
       "Last Detected          0.000000\n",
       "First Detected         0.000000\n",
       "Severity               0.000000\n",
       "Type                   0.000000\n",
       "Vuln Status            0.000000\n",
       "Title                  0.000000\n",
       "QID                    0.000000\n",
       "IP Status              0.000000\n",
       "Tracking Method        0.000000\n",
       "Non-running Kernel     0.000000\n",
       "dtype: float64"
      ]
     },
     "execution_count": 8,
     "metadata": {},
     "output_type": "execute_result"
    }
   ],
   "source": [
    "null_percentage = data.isnull().sum()/len(data)*100\n",
    "null_percentage.sort_values(ascending = False)"
   ]
  },
  {
   "cell_type": "code",
   "execution_count": 9,
   "id": "4c00d424",
   "metadata": {},
   "outputs": [
    {
     "data": {
      "text/plain": [
       "masked Ip              9022\n",
       "Network                   1\n",
       "Tracking Method           2\n",
       "OS                      269\n",
       "IP Status                 1\n",
       "QID                    1178\n",
       "Title                  1178\n",
       "Vuln Status               4\n",
       "Type                      1\n",
       "Severity                  5\n",
       "Port                    258\n",
       "Protocol                  2\n",
       "SSL                       1\n",
       "First Detected        25925\n",
       "Last Detected         17135\n",
       "Times Detected          685\n",
       "Date Last Fixed        6594\n",
       "First Reopened         4875\n",
       "Last Reopened          4557\n",
       "Times Reopened           23\n",
       "CVE ID                  837\n",
       "Vendor Reference        900\n",
       "Bugtraq ID              369\n",
       "CVSS                     74\n",
       "CVSS Base                90\n",
       "CVSS Temporal           190\n",
       "CVSS Environment          1\n",
       "CVSS3                    61\n",
       "CVSS3 Base              122\n",
       "CVSS3 Temporal          150\n",
       "Threat                 1126\n",
       "Impact                  715\n",
       "Solution               1156\n",
       "Exploitability          160\n",
       "Associated Malware        7\n",
       "PCI Vuln                  2\n",
       "OS CPE                  108\n",
       "Category                 25\n",
       "Non-running Kernel        2\n",
       "dtype: int64"
      ]
     },
     "execution_count": 9,
     "metadata": {},
     "output_type": "execute_result"
    }
   ],
   "source": [
    "data.nunique()"
   ]
  },
  {
   "cell_type": "code",
   "execution_count": 86,
   "id": "9fc3391a",
   "metadata": {},
   "outputs": [
    {
     "data": {
      "text/plain": [
       "270"
      ]
     },
     "execution_count": 86,
     "metadata": {},
     "output_type": "execute_result"
    }
   ],
   "source": [
    "data['OS'].nunique() # We have lot of unique values for 'OS'."
   ]
  },
  {
   "cell_type": "code",
   "execution_count": 11,
   "id": "ee216540",
   "metadata": {},
   "outputs": [
    {
     "data": {
      "text/plain": [
       "0"
      ]
     },
     "execution_count": 11,
     "metadata": {},
     "output_type": "execute_result"
    }
   ],
   "source": [
    "data['OS'].fillna('Unknown', inplace=True)\n",
    "data['OS'].isnull().sum()\n",
    "# we have filled the 'OS' null values with 'Unknown' "
   ]
  },
  {
   "cell_type": "code",
   "execution_count": 12,
   "id": "aea6847e",
   "metadata": {},
   "outputs": [
    {
     "data": {
      "text/plain": [
       "count      69909\n",
       "unique         4\n",
       "top       Active\n",
       "freq       56989\n",
       "Name: Vuln Status, dtype: object"
      ]
     },
     "execution_count": 12,
     "metadata": {},
     "output_type": "execute_result"
    }
   ],
   "source": [
    "data['Vuln Status'].describe()"
   ]
  },
  {
   "cell_type": "code",
   "execution_count": 13,
   "id": "c2b16de0",
   "metadata": {},
   "outputs": [],
   "source": [
    "#mean_cvss3=data['CVSS3'].mean()\n",
    "#mean_cvss3"
   ]
  },
  {
   "cell_type": "code",
   "execution_count": 14,
   "id": "58dc6e58",
   "metadata": {},
   "outputs": [],
   "source": [
    "#data['CVSS3'].fillna(mean_cvss3,inplace=True)"
   ]
  },
  {
   "cell_type": "code",
   "execution_count": 15,
   "id": "0491d736",
   "metadata": {},
   "outputs": [
    {
     "data": {
      "text/plain": [
       "20089"
      ]
     },
     "execution_count": 15,
     "metadata": {},
     "output_type": "execute_result"
    }
   ],
   "source": [
    "data['CVSS3'].isnull().sum()"
   ]
  },
  {
   "cell_type": "code",
   "execution_count": 16,
   "id": "7b2275ba",
   "metadata": {},
   "outputs": [
    {
     "data": {
      "text/plain": [
       "count    49820.000000\n",
       "mean         5.998314\n",
       "std          1.219130\n",
       "min          0.000000\n",
       "25%          5.300000\n",
       "50%          5.800000\n",
       "75%          6.700000\n",
       "max         10.000000\n",
       "Name: CVSS3, dtype: float64"
      ]
     },
     "execution_count": 16,
     "metadata": {},
     "output_type": "execute_result"
    }
   ],
   "source": [
    "data['CVSS3'].describe()"
   ]
  },
  {
   "cell_type": "code",
   "execution_count": 17,
   "id": "11aeb2f6",
   "metadata": {},
   "outputs": [
    {
     "data": {
      "text/plain": [
       "count    69909.000000\n",
       "mean         4.271057\n",
       "std          1.474804\n",
       "min          0.000000\n",
       "25%          3.500000\n",
       "50%          3.900000\n",
       "75%          4.700000\n",
       "max         10.000000\n",
       "Name: CVSS, dtype: float64"
      ]
     },
     "execution_count": 17,
     "metadata": {},
     "output_type": "execute_result"
    }
   ],
   "source": [
    "data['CVSS'].describe()"
   ]
  },
  {
   "cell_type": "markdown",
   "id": "d6eb3992",
   "metadata": {},
   "source": [
    "### We can see difference between CVSS and CVSS3 scores. From the 'describe' function it is clear that CVSS3  generates slighty higher score then CVSS\n"
   ]
  },
  {
   "cell_type": "code",
   "execution_count": 18,
   "id": "93f27ca3",
   "metadata": {
    "scrolled": false
   },
   "outputs": [
    {
     "data": {
      "text/plain": [
       "<AxesSubplot:>"
      ]
     },
     "execution_count": 18,
     "metadata": {},
     "output_type": "execute_result"
    },
    {
     "data": {
      "image/png": "[encoded data removed]",
      "text/plain": [
       "<Figure size 720x720 with 1 Axes>"
      ]
     },
     "metadata": {},
     "output_type": "display_data"
    }
   ],
   "source": [
    "sns.set_theme(style=\"whitegrid\")\n",
    "sns.set(rc={\"figure.figsize\":(10, 10)})\n",
    "sns.boxplot(data=data.loc[:, ['CVSS3', 'CVSS']])\n"
   ]
  },
  {
   "cell_type": "code",
   "execution_count": 19,
   "id": "fd38af02",
   "metadata": {},
   "outputs": [
    {
     "data": {
      "text/plain": [
       "{'whiskers': [<matplotlib.lines.Line2D at 0x1d5bd21d6d0>,\n",
       "  <matplotlib.lines.Line2D at 0x1d5bd21d9d0>],\n",
       " 'caps': [<matplotlib.lines.Line2D at 0x1d5bd21dc70>,\n",
       "  <matplotlib.lines.Line2D at 0x1d5bd21df40>],\n",
       " 'boxes': [<matplotlib.lines.Line2D at 0x1d5bd21d400>],\n",
       " 'medians': [<matplotlib.lines.Line2D at 0x1d5bd239250>],\n",
       " 'fliers': [<matplotlib.lines.Line2D at 0x1d5bd2394c0>],\n",
       " 'means': []}"
      ]
     },
     "execution_count": 19,
     "metadata": {},
     "output_type": "execute_result"
    },
    {
     "data": {
      "image/png": "[encoded data removed]",
      "text/plain": [
       "<Figure size 720x720 with 1 Axes>"
      ]
     },
     "metadata": {},
     "output_type": "display_data"
    }
   ],
   "source": [
    "plt.boxplot(data['Times Detected'])"
   ]
  },
  {
   "cell_type": "code",
   "execution_count": 20,
   "id": "e72aa9fe",
   "metadata": {
    "scrolled": true
   },
   "outputs": [
    {
     "data": {
      "text/plain": [
       "count    69909.000000\n",
       "mean        36.457366\n",
       "std        167.254555\n",
       "min          1.000000\n",
       "25%          4.000000\n",
       "50%          6.000000\n",
       "75%         17.000000\n",
       "max       2809.000000\n",
       "Name: Times Detected, dtype: float64"
      ]
     },
     "execution_count": 20,
     "metadata": {},
     "output_type": "execute_result"
    }
   ],
   "source": [
    "data['Times Detected'].describe()"
   ]
  },
  {
   "cell_type": "code",
   "execution_count": 21,
   "id": "cded0f48",
   "metadata": {},
   "outputs": [
    {
     "data": {
      "text/plain": [
       "<AxesSubplot:ylabel='Severity'>"
      ]
     },
     "execution_count": 21,
     "metadata": {},
     "output_type": "execute_result"
    },
    {
     "data": {
      "image/png": "[encoded data removed]",
      "text/plain": [
       "<Figure size 720x720 with 1 Axes>"
      ]
     },
     "metadata": {},
     "output_type": "display_data"
    }
   ],
   "source": [
    "sns.boxplot(y = 'Severity', data = data)"
   ]
  },
  {
   "cell_type": "code",
   "execution_count": 22,
   "id": "34b5c9d3",
   "metadata": {},
   "outputs": [
    {
     "data": {
      "text/plain": [
       "Text(0, 0.5, 'Category')"
      ]
     },
     "execution_count": 22,
     "metadata": {},
     "output_type": "execute_result"
    },
    {
     "data": {
      "image/png": "[encoded data removed]",
      "text/plain": [
       "<Figure size 720x720 with 1 Axes>"
      ]
     },
     "metadata": {},
     "output_type": "display_data"
    }
   ],
   "source": [
    "plt.scatter(x=data['Severity'],y=data['Category'])\n",
    "plt.xlabel('Severity')\n",
    "plt.ylabel('Category')"
   ]
  },
  {
   "cell_type": "code",
   "execution_count": 23,
   "id": "e35762d6",
   "metadata": {},
   "outputs": [
    {
     "data": {
      "text/plain": [
       "<AxesSubplot:xlabel='Vuln Status', ylabel='Count'>"
      ]
     },
     "execution_count": 23,
     "metadata": {},
     "output_type": "execute_result"
    },
    {
     "data": {
      "image/png": "[encoded data removed]",
      "text/plain": [
       "<Figure size 720x720 with 1 Axes>"
      ]
     },
     "metadata": {},
     "output_type": "display_data"
    }
   ],
   "source": [
    "sns.histplot(data = data, x = \"Vuln Status\")"
   ]
  },
  {
   "cell_type": "code",
   "execution_count": 24,
   "id": "6ac8cd50",
   "metadata": {},
   "outputs": [
    {
     "data": {
      "text/plain": [
       "<matplotlib.collections.PathCollection at 0x1d5bcf8cb50>"
      ]
     },
     "execution_count": 24,
     "metadata": {},
     "output_type": "execute_result"
    },
    {
     "data": {
      "image/png": "[encoded data removed]",
      "text/plain": [
       "<Figure size 720x720 with 1 Axes>"
      ]
     },
     "metadata": {},
     "output_type": "display_data"
    }
   ],
   "source": [
    "plt.scatter(x=data['Vuln Status'] ,y=data['Category'])"
   ]
  },
  {
   "cell_type": "code",
   "execution_count": 25,
   "id": "25b362ab",
   "metadata": {},
   "outputs": [
    {
     "data": {
      "text/plain": [
       "count                       69909\n",
       "unique                         25\n",
       "top       General remote services\n",
       "freq                        40391\n",
       "Name: Category, dtype: object"
      ]
     },
     "execution_count": 25,
     "metadata": {},
     "output_type": "execute_result"
    }
   ],
   "source": [
    "data['Category'].describe()"
   ]
  },
  {
   "cell_type": "code",
   "execution_count": 26,
   "id": "03674792",
   "metadata": {},
   "outputs": [
    {
     "data": {
      "text/plain": [
       "Text(0, 0.5, 'Category')"
      ]
     },
     "execution_count": 26,
     "metadata": {},
     "output_type": "execute_result"
    },
    {
     "data": {
      "image/png": "[encoded data removed]",
      "text/plain": [
       "<Figure size 720x720 with 1 Axes>"
      ]
     },
     "metadata": {},
     "output_type": "display_data"
    }
   ],
   "source": [
    "plt.scatter(x=data['Times Detected'],y=data['Category'])\n",
    "plt.xlabel('Times Detected')\n",
    "plt.ylabel('Category')"
   ]
  },
  {
   "cell_type": "markdown",
   "id": "71ccf6f7",
   "metadata": {},
   "source": [
    "#  From the above observation we notice that Ubuntu,Local,RedHat are the most detected \n",
    "\n"
   ]
  },
  {
   "cell_type": "code",
   "execution_count": null,
   "id": "0cf698b4",
   "metadata": {},
   "outputs": [],
   "source": []
  },
  {
   "cell_type": "code",
   "execution_count": 27,
   "id": "462dda7a",
   "metadata": {},
   "outputs": [
    {
     "data": {
      "text/plain": [
       "Text(0.5, 1.0, 'Severity vs CVSS scores')"
      ]
     },
     "execution_count": 27,
     "metadata": {},
     "output_type": "execute_result"
    },
    {
     "data": {
      "image/png": "[encoded data removed]",
      "text/plain": [
       "<Figure size 720x720 with 1 Axes>"
      ]
     },
     "metadata": {},
     "output_type": "display_data"
    }
   ],
   "source": [
    "plt.scatter(x=data['CVSS'],y=data['Severity'],marker =\"+\",s=140,label='CVSS')\n",
    "plt.scatter(x=data['CVSS3'],y=data['Severity'], marker =\"^\",label='CVSS3')\n",
    "plt.legend()\n",
    "plt.xlabel('CVSS & CVSS3')\n",
    "plt.ylabel('Severity')\n",
    "plt.title(\"Severity vs CVSS scores\")"
   ]
  },
  {
   "cell_type": "code",
   "execution_count": 28,
   "id": "0178365d",
   "metadata": {},
   "outputs": [
    {
     "data": {
      "text/plain": [
       "Text(0, 0.5, 'Category')"
      ]
     },
     "execution_count": 28,
     "metadata": {},
     "output_type": "execute_result"
    },
    {
     "data": {
      "image/png": "[encoded data removed]",
      "text/plain": [
       "<Figure size 1080x1080 with 1 Axes>"
      ]
     },
     "metadata": {},
     "output_type": "display_data"
    }
   ],
   "source": [
    "#CVSS scores vs Category \n",
    "sns.set_theme(style='darkgrid')\n",
    "sns.set(rc={\"figure.figsize\":(15, 15)})\n",
    "plt.scatter(x=data['CVSS'],y=data['Category'],label='CVSS')\n",
    "plt.scatter(x=data['CVSS3'],y=data['Category'] ,marker =\"^\",label='CVSS3')\n",
    "plt.legend()\n",
    "plt.xlabel('CVSS scores',fontweight ='bold', fontsize = 15)\n",
    "plt.ylabel('Category',fontweight ='bold', fontsize = 15)"
   ]
  },
  {
   "cell_type": "code",
   "execution_count": null,
   "id": "55d86a99",
   "metadata": {},
   "outputs": [],
   "source": []
  },
  {
   "cell_type": "code",
   "execution_count": 29,
   "id": "fb953cf2",
   "metadata": {},
   "outputs": [
    {
     "data": {
      "text/plain": [
       "count                       69909\n",
       "unique                         25\n",
       "top       General remote services\n",
       "freq                        40391\n",
       "Name: Category, dtype: object"
      ]
     },
     "execution_count": 29,
     "metadata": {},
     "output_type": "execute_result"
    }
   ],
   "source": [
    "data['Category'].describe()\n",
    "## we notice that General remote services are most frequent OS categories. "
   ]
  },
  {
   "cell_type": "code",
   "execution_count": 30,
   "id": "aff1733f",
   "metadata": {},
   "outputs": [],
   "source": [
    "# Need to find which OS in Ubuntu category and other OS in other categories are havnig more CVSS and and mosty detecte.\n",
    "# The next task is to drop few features as its simply creating confusion.\n",
    "# Take the import features and do analysis.\n"
   ]
  },
  {
   "cell_type": "code",
   "execution_count": 31,
   "id": "24cae391",
   "metadata": {},
   "outputs": [
    {
     "name": "stdout",
     "output_type": "stream",
     "text": [
      "          masked Ip                 Network Tracking Method  \\\n",
      "645    lab_2_IP9028  Global Default Network          QAGENT   \n",
      "2291   lab_2_IP9004  Global Default Network              IP   \n",
      "2292   lab_2_IP9004  Global Default Network              IP   \n",
      "2293   lab_2_IP9004  Global Default Network              IP   \n",
      "2294   lab_2_IP9004  Global Default Network              IP   \n",
      "...             ...                     ...             ...   \n",
      "69904     lab_2_IP2  Global Default Network              IP   \n",
      "69905     lab_2_IP2  Global Default Network              IP   \n",
      "69906     lab_2_IP2  Global Default Network              IP   \n",
      "69907     lab_2_IP2  Global Default Network              IP   \n",
      "69908     lab_2_IP1  Global Default Network              IP   \n",
      "\n",
      "                                                      OS  \\\n",
      "645                                CentOS Linux 7.8.2003   \n",
      "2291   VMware vCenter Server Appliance 6.5.0 build 10...   \n",
      "2292   VMware vCenter Server Appliance 6.5.0 build 10...   \n",
      "2293   VMware vCenter Server Appliance 6.5.0 build 10...   \n",
      "2294   VMware vCenter Server Appliance 6.5.0 build 10...   \n",
      "...                                                  ...   \n",
      "69904                    VMware ESXi 6.5.0 build 8294253   \n",
      "69905                    VMware ESXi 6.5.0 build 8294253   \n",
      "69906                    VMware ESXi 6.5.0 build 8294253   \n",
      "69907                    VMware ESXi 6.5.0 build 8294253   \n",
      "69908  Linux 2.4-2.6 / Embedded Device / F5 Networks ...   \n",
      "\n",
      "                      IP Status    QID  \\\n",
      "645    host scanned, found vuln  38726   \n",
      "2291   host scanned, found vuln  38628   \n",
      "2292   host scanned, found vuln  38628   \n",
      "2293   host scanned, found vuln  38628   \n",
      "2294   host scanned, found vuln  38604   \n",
      "...                         ...    ...   \n",
      "69904  host scanned, found vuln  38628   \n",
      "69905  host scanned, found vuln  38628   \n",
      "69906  host scanned, found vuln  38169   \n",
      "69907  host scanned, found vuln  38169   \n",
      "69908  host scanned, found vuln  38169   \n",
      "\n",
      "                                               Title Vuln Status  Type  \\\n",
      "645       OpenSSH Username Enumeration Vulnerability       Fixed  Vuln   \n",
      "2291                 SSL/TLS Server supports TLSv1.0      Active  Vuln   \n",
      "2292                 SSL/TLS Server supports TLSv1.0      Active  Vuln   \n",
      "2293                 SSL/TLS Server supports TLSv1.0      Active  Vuln   \n",
      "2294   TLS CBC Incorrect Padding Abuse Vulnerability      Active  Vuln   \n",
      "...                                              ...         ...   ...   \n",
      "69904                SSL/TLS Server supports TLSv1.0      Active  Vuln   \n",
      "69905                SSL/TLS Server supports TLSv1.0      Active  Vuln   \n",
      "69906      SSL Certificate - Self-Signed Certificate      Active  Vuln   \n",
      "69907      SSL Certificate - Self-Signed Certificate      Active  Vuln   \n",
      "69908      SSL Certificate - Self-Signed Certificate      Active  Vuln   \n",
      "\n",
      "       Severity  ...       CVSS3 Temporal  \\\n",
      "645           3  ...  4.8 (E:P/RL:U/RC:R)   \n",
      "2291          3  ...  6.2 (E:F/RL:W/RC:C)   \n",
      "2292          3  ...  6.2 (E:F/RL:W/RC:C)   \n",
      "2293          3  ...  6.2 (E:F/RL:W/RC:C)   \n",
      "2294          3  ...  5.3 (E:P/RL:O/RC:C)   \n",
      "...         ...  ...                  ...   \n",
      "69904         3  ...  6.2 (E:F/RL:W/RC:C)   \n",
      "69905         3  ...  6.2 (E:F/RL:W/RC:C)   \n",
      "69906         3  ...  5.3 (E:U/RL:W/RC:U)   \n",
      "69907         3  ...  5.3 (E:U/RL:W/RC:U)   \n",
      "69908         3  ...  5.3 (E:U/RL:W/RC:U)   \n",
      "\n",
      "                                                  Threat  \\\n",
      "645    OpenSSH (OpenBSD Secure Shell) is a set of com...   \n",
      "2291   TLS is capable of using a multitude of ciphers...   \n",
      "2292   TLS is capable of using a multitude of ciphers...   \n",
      "2293   TLS is capable of using a multitude of ciphers...   \n",
      "2294   POODLE attack on SSLv3 has been described befo...   \n",
      "...                                                  ...   \n",
      "69904  TLS is capable of using a multitude of ciphers...   \n",
      "69905  TLS is capable of using a multitude of ciphers...   \n",
      "69906  An SSL Certificate associates an entity (perso...   \n",
      "69907  An SSL Certificate associates an entity (perso...   \n",
      "69908  An SSL Certificate associates an entity (perso...   \n",
      "\n",
      "                                                  Impact  \\\n",
      "645    Successful exploitation allows an attacker to ...   \n",
      "2291   An attacker can exploit cryptographic flaws to...   \n",
      "2292   An attacker can exploit cryptographic flaws to...   \n",
      "2293   An attacker can exploit cryptographic flaws to...   \n",
      "2294   Very much like in POODLE case an attacker who ...   \n",
      "...                                                  ...   \n",
      "69904  An attacker can exploit cryptographic flaws to...   \n",
      "69905  An attacker can exploit cryptographic flaws to...   \n",
      "69906  By exploiting this vulnerability, an attacker ...   \n",
      "69907  By exploiting this vulnerability, an attacker ...   \n",
      "69908  By exploiting this vulnerability, an attacker ...   \n",
      "\n",
      "                                                Solution  \\\n",
      "645    Customers are advised to upgrade to OpenSSH 7....   \n",
      "2291   Disable the use of TLSv1.0 protocol in favor o...   \n",
      "2292   Disable the use of TLSv1.0 protocol in favor o...   \n",
      "2293   Disable the use of TLSv1.0 protocol in favor o...   \n",
      "2294   Apply vendor specified patches.\\n \\nA10 - SECU...   \n",
      "...                                                  ...   \n",
      "69904  Disable the use of TLSv1.0 protocol in favor o...   \n",
      "69905  Disable the use of TLSv1.0 protocol in favor o...   \n",
      "69906  Please install a server certificate signed by ...   \n",
      "69907  Please install a server certificate signed by ...   \n",
      "69908  Please install a server certificate signed by ...   \n",
      "\n",
      "                                          Exploitability  Associated Malware  \\\n",
      "645    Source: The Exploit-DB_x000D_\\nReference:CVE-2...                 NaN   \n",
      "2291                                                 NaN                 NaN   \n",
      "2292                                                 NaN                 NaN   \n",
      "2293                                                 NaN                 NaN   \n",
      "2294                                                 NaN                 NaN   \n",
      "...                                                  ...                 ...   \n",
      "69904                                                NaN                 NaN   \n",
      "69905                                                NaN                 NaN   \n",
      "69906                                                NaN                 NaN   \n",
      "69907                                                NaN                 NaN   \n",
      "69908                                                NaN                 NaN   \n",
      "\n",
      "      PCI Vuln                                             OS CPE  \\\n",
      "645        yes                                                NaN   \n",
      "2291       yes  cpe:/a:vmware:vcenter_server_appliance:6.5.0:1...   \n",
      "2292       yes  cpe:/a:vmware:vcenter_server_appliance:6.5.0:1...   \n",
      "2293       yes  cpe:/a:vmware:vcenter_server_appliance:6.5.0:1...   \n",
      "2294       yes  cpe:/a:vmware:vcenter_server_appliance:6.5.0:1...   \n",
      "...        ...                                                ...   \n",
      "69904      yes                 cpe:/o:vmware:esxi:6.5.0:8294253::   \n",
      "69905      yes                 cpe:/o:vmware:esxi:6.5.0:8294253::   \n",
      "69906      yes                 cpe:/o:vmware:esxi:6.5.0:8294253::   \n",
      "69907      yes                 cpe:/o:vmware:esxi:6.5.0:8294253::   \n",
      "69908      yes                                                NaN   \n",
      "\n",
      "                      Category  Non-running Kernel  \n",
      "645    General remote services                  No  \n",
      "2291   General remote services                  No  \n",
      "2292   General remote services                  No  \n",
      "2293   General remote services                  No  \n",
      "2294   General remote services                  No  \n",
      "...                        ...                 ...  \n",
      "69904  General remote services                  No  \n",
      "69905  General remote services                  No  \n",
      "69906  General remote services                  No  \n",
      "69907  General remote services                  No  \n",
      "69908  General remote services                  No  \n",
      "\n",
      "[40391 rows x 39 columns]\n"
     ]
    },
    {
     "data": {
      "text/html": [
       "<div>\n",
       "<style scoped>\n",
       "    .dataframe tbody tr th:only-of-type {\n",
       "        vertical-align: middle;\n",
       "    }\n",
       "\n",
       "    .dataframe tbody tr th {\n",
       "        vertical-align: top;\n",
       "    }\n",
       "\n",
       "    .dataframe thead th {\n",
       "        text-align: right;\n",
       "    }\n",
       "</style>\n",
       "<table border=\"1\" class=\"dataframe\">\n",
       "  <thead>\n",
       "    <tr style=\"text-align: right;\">\n",
       "      <th></th>\n",
       "      <th>QID</th>\n",
       "      <th>Severity</th>\n",
       "      <th>Port</th>\n",
       "      <th>Times Detected</th>\n",
       "      <th>Times Reopened</th>\n",
       "      <th>CVSS</th>\n",
       "      <th>CVSS3</th>\n",
       "    </tr>\n",
       "  </thead>\n",
       "  <tbody>\n",
       "    <tr>\n",
       "      <th>count</th>\n",
       "      <td>40391.000000</td>\n",
       "      <td>40391.000000</td>\n",
       "      <td>39970.000000</td>\n",
       "      <td>40391.000000</td>\n",
       "      <td>6263.000000</td>\n",
       "      <td>40391.000000</td>\n",
       "      <td>27620.000000</td>\n",
       "    </tr>\n",
       "    <tr>\n",
       "      <th>mean</th>\n",
       "      <td>38467.149043</td>\n",
       "      <td>2.568221</td>\n",
       "      <td>1508.590743</td>\n",
       "      <td>10.267980</td>\n",
       "      <td>1.582309</td>\n",
       "      <td>4.235691</td>\n",
       "      <td>5.790058</td>\n",
       "    </tr>\n",
       "    <tr>\n",
       "      <th>std</th>\n",
       "      <td>564.451525</td>\n",
       "      <td>0.700471</td>\n",
       "      <td>3028.269503</td>\n",
       "      <td>15.046699</td>\n",
       "      <td>1.770681</td>\n",
       "      <td>1.379672</td>\n",
       "      <td>1.031760</td>\n",
       "    </tr>\n",
       "    <tr>\n",
       "      <th>min</th>\n",
       "      <td>38003.000000</td>\n",
       "      <td>1.000000</td>\n",
       "      <td>21.000000</td>\n",
       "      <td>1.000000</td>\n",
       "      <td>1.000000</td>\n",
       "      <td>0.000000</td>\n",
       "      <td>3.000000</td>\n",
       "    </tr>\n",
       "    <tr>\n",
       "      <th>25%</th>\n",
       "      <td>38170.000000</td>\n",
       "      <td>2.000000</td>\n",
       "      <td>443.000000</td>\n",
       "      <td>4.000000</td>\n",
       "      <td>1.000000</td>\n",
       "      <td>3.600000</td>\n",
       "      <td>5.300000</td>\n",
       "    </tr>\n",
       "    <tr>\n",
       "      <th>50%</th>\n",
       "      <td>38259.000000</td>\n",
       "      <td>2.000000</td>\n",
       "      <td>443.000000</td>\n",
       "      <td>5.000000</td>\n",
       "      <td>1.000000</td>\n",
       "      <td>4.300000</td>\n",
       "      <td>5.600000</td>\n",
       "    </tr>\n",
       "    <tr>\n",
       "      <th>75%</th>\n",
       "      <td>38657.000000</td>\n",
       "      <td>3.000000</td>\n",
       "      <td>443.000000</td>\n",
       "      <td>10.000000</td>\n",
       "      <td>1.000000</td>\n",
       "      <td>4.700000</td>\n",
       "      <td>6.200000</td>\n",
       "    </tr>\n",
       "    <tr>\n",
       "      <th>max</th>\n",
       "      <td>42444.000000</td>\n",
       "      <td>5.000000</td>\n",
       "      <td>65000.000000</td>\n",
       "      <td>156.000000</td>\n",
       "      <td>20.000000</td>\n",
       "      <td>9.500000</td>\n",
       "      <td>9.000000</td>\n",
       "    </tr>\n",
       "  </tbody>\n",
       "</table>\n",
       "</div>"
      ],
      "text/plain": [
       "                QID      Severity          Port  Times Detected  \\\n",
       "count  40391.000000  40391.000000  39970.000000    40391.000000   \n",
       "mean   38467.149043      2.568221   1508.590743       10.267980   \n",
       "std      564.451525      0.700471   3028.269503       15.046699   \n",
       "min    38003.000000      1.000000     21.000000        1.000000   \n",
       "25%    38170.000000      2.000000    443.000000        4.000000   \n",
       "50%    38259.000000      2.000000    443.000000        5.000000   \n",
       "75%    38657.000000      3.000000    443.000000       10.000000   \n",
       "max    42444.000000      5.000000  65000.000000      156.000000   \n",
       "\n",
       "       Times Reopened          CVSS         CVSS3  \n",
       "count     6263.000000  40391.000000  27620.000000  \n",
       "mean         1.582309      4.235691      5.790058  \n",
       "std          1.770681      1.379672      1.031760  \n",
       "min          1.000000      0.000000      3.000000  \n",
       "25%          1.000000      3.600000      5.300000  \n",
       "50%          1.000000      4.300000      5.600000  \n",
       "75%          1.000000      4.700000      6.200000  \n",
       "max         20.000000      9.500000      9.000000  "
      ]
     },
     "execution_count": 31,
     "metadata": {},
     "output_type": "execute_result"
    }
   ],
   "source": [
    "# condition mask\n",
    "mask = data['Category'] == 'General remote services'\n",
    " \n",
    "# new dataframe with selected rows\n",
    "data_General_remote_services = pd.DataFrame(data[mask])\n",
    " \n",
    "print(data_General_remote_services)\n",
    "data_General_remote_services.describe()"
   ]
  },
  {
   "cell_type": "markdown",
   "id": "e20c109f",
   "metadata": {},
   "source": [
    "# Analysis of Ubuntu "
   ]
  },
  {
   "cell_type": "code",
   "execution_count": 32,
   "id": "886567d9",
   "metadata": {
    "scrolled": true
   },
   "outputs": [
    {
     "name": "stdout",
     "output_type": "stream",
     "text": [
      "         masked Ip                 Network Tracking Method  \\\n",
      "0     lab_2_IP9036  Global Default Network          QAGENT   \n",
      "1     lab_2_IP9036  Global Default Network          QAGENT   \n",
      "2     lab_2_IP9036  Global Default Network          QAGENT   \n",
      "3     lab_2_IP9036  Global Default Network          QAGENT   \n",
      "6     lab_2_IP9036  Global Default Network          QAGENT   \n",
      "...            ...                     ...             ...   \n",
      "2146  lab_2_IP9007  Global Default Network          QAGENT   \n",
      "2147  lab_2_IP9007  Global Default Network          QAGENT   \n",
      "2148  lab_2_IP9007  Global Default Network          QAGENT   \n",
      "2149  lab_2_IP9007  Global Default Network          QAGENT   \n",
      "2157  lab_2_IP9007  Global Default Network          QAGENT   \n",
      "\n",
      "                        OS                 IP Status     QID  \\\n",
      "0     Ubuntu Linux 16.04.4  host scanned, found vuln  197967   \n",
      "1     Ubuntu Linux 16.04.4  host scanned, found vuln  197742   \n",
      "2     Ubuntu Linux 16.04.4  host scanned, found vuln  197688   \n",
      "3     Ubuntu Linux 16.04.4  host scanned, found vuln  196604   \n",
      "6     Ubuntu Linux 16.04.4  host scanned, found vuln  198010   \n",
      "...                    ...                       ...     ...   \n",
      "2146  Ubuntu Linux 18.04.3  host scanned, found vuln  197609   \n",
      "2147  Ubuntu Linux 18.04.3  host scanned, found vuln  197606   \n",
      "2148  Ubuntu Linux 18.04.3  host scanned, found vuln  197599   \n",
      "2149  Ubuntu Linux 18.04.3  host scanned, found vuln  197590   \n",
      "2157  Ubuntu Linux 18.04.3  host scanned, found vuln  197608   \n",
      "\n",
      "                                                  Title Vuln Status  Type  \\\n",
      "0     Ubuntu Security Notification for Grub2 Vulnera...      Active  Vuln   \n",
      "1     Ubuntu Security Notification for Linux, Linux-...      Active  Vuln   \n",
      "2     Ubuntu Security Notification for LibTIFF vulne...      Active  Vuln   \n",
      "3     Ubuntu Security Notification for Linux Vulnera...      Active  Vuln   \n",
      "6     Ubuntu Security Notification for Libx11 Vulner...      Active  Vuln   \n",
      "...                                                 ...         ...   ...   \n",
      "2146  Ubuntu Security Notification for Curl Vulnerab...      Active  Vuln   \n",
      "2147  Ubuntu Security Notification for Python2.7, Py...      Active  Vuln   \n",
      "2148  Ubuntu Security Notification for Systemd Vulne...      Active  Vuln   \n",
      "2149  Ubuntu Security Notification for Ghostscript V...      Active  Vuln   \n",
      "2157  Ubuntu Security Notification for Systemd Regre...      Active  Vuln   \n",
      "\n",
      "      Severity  ...       CVSS3 Temporal  \\\n",
      "0            4  ...  7.1 (E:U/RL:O/RC:C)   \n",
      "1            4  ...  7.8 (E:U/RL:O/RC:U)   \n",
      "2            4  ...  7.7 (E:U/RL:O/RC:C)   \n",
      "3            4  ...  6.5 (E:P/RL:O/RC:U)   \n",
      "6            3  ...  6.2 (E:U/RL:O/RC:U)   \n",
      "...        ...  ...                  ...   \n",
      "2146         3  ...  7.8 (E:U/RL:O/RC:U)   \n",
      "2147         3  ...  7.8 (E:U/RL:O/RC:U)   \n",
      "2148         3  ...  4.4 (E:U/RL:O/RC:U)   \n",
      "2149         3  ...  7.8 (E:U/RL:O/RC:U)   \n",
      "2157         2  ...  4.3 (E:U/RL:O/RC:U)   \n",
      "\n",
      "                                                 Threat  \\\n",
      "0     The GRUB2 boot loader is vulnerable to buffer ...   \n",
      "1       It was discovered that a heap-based buffer o...   \n",
      "2      It was discovered that LibTIFF incorrectly ha...   \n",
      "3       It was discovered that a race condition exis...   \n",
      "6       It was discovered that libx11 incorrectly ha...   \n",
      "...                                                 ...   \n",
      "2146    It was discovered that curl incorrectly hand...   \n",
      "2147    It was discovered that Python incorrectly ha...   \n",
      "2148    It was discovered that the systemd-resolved ...   \n",
      "2149    It was discovered that the PDF interpreter i...   \n",
      "2157    USN-4120-1 fixed a vulnerability in systemd....   \n",
      "\n",
      "                                                 Impact  \\\n",
      "0     Successful exploitation allows attacker to exe...   \n",
      "1        A physically proximate attacker could use t...   \n",
      "2       If a user or automated system were tricked i...   \n",
      "3        A local attacker could use this to gain adm...   \n",
      "6        A local attacker could possibly use this is...   \n",
      "...                                                 ...   \n",
      "2146      A remote attacker could use this issue to ...   \n",
      "2147     An attacker could possibly use this issue t...   \n",
      "2148     A local unprivileged user could exploit thi...   \n",
      "2149     If a user or automated system were tricked ...   \n",
      "2157     The update included a recent SRU from the u...   \n",
      "\n",
      "                                               Solution  \\\n",
      "0     Refer to Ubuntu advisory USN-4432-1 (https://u...   \n",
      "1     Refer to Ubuntu advisory USN-4228-1 (https://l...   \n",
      "2     Refer to Ubuntu advisory USN-4158-1 (https://l...   \n",
      "3     Refer to Ubuntu advisory USN-3106-1 (https://l...   \n",
      "6     Refer to Ubuntu advisory USN-4487-1 (https://l...   \n",
      "...                                                 ...   \n",
      "2146  Refer to Ubuntu advisory USN-4129-1 (https://l...   \n",
      "2147  Refer to Ubuntu advisory USN-4127-1 (https://l...   \n",
      "2148  Refer to Ubuntu advisory USN-4120-1 (https://l...   \n",
      "2149  Refer to Ubuntu advisory USN-4111-1 (https://l...   \n",
      "2157  Refer to Ubuntu advisory USN-4120-2 (https://l...   \n",
      "\n",
      "                                         Exploitability  Associated Malware  \\\n",
      "0                                                   NaN                 NaN   \n",
      "1                                                   NaN                 NaN   \n",
      "2                                                   NaN                 NaN   \n",
      "3     Source: The Exploit-DB_x000D_\\nReference:CVE-2...                 NaN   \n",
      "6                                                   NaN                 NaN   \n",
      "...                                                 ...                 ...   \n",
      "2146                                                NaN                 NaN   \n",
      "2147                                                NaN                 NaN   \n",
      "2148                                                NaN                 NaN   \n",
      "2149                                                NaN                 NaN   \n",
      "2157                                                NaN                 NaN   \n",
      "\n",
      "     PCI Vuln OS CPE Category  Non-running Kernel  \n",
      "0         yes    NaN   Ubuntu                  No  \n",
      "1         yes    NaN   Ubuntu                 Yes  \n",
      "2         yes    NaN   Ubuntu                  No  \n",
      "3         yes    NaN   Ubuntu                 Yes  \n",
      "6         yes    NaN   Ubuntu                  No  \n",
      "...       ...    ...      ...                 ...  \n",
      "2146      yes    NaN   Ubuntu                  No  \n",
      "2147      yes    NaN   Ubuntu                  No  \n",
      "2148       no    NaN   Ubuntu                  No  \n",
      "2149      yes    NaN   Ubuntu                  No  \n",
      "2157       no    NaN   Ubuntu                  No  \n",
      "\n",
      "[1182 rows x 39 columns]\n"
     ]
    },
    {
     "data": {
      "text/html": [
       "<div>\n",
       "<style scoped>\n",
       "    .dataframe tbody tr th:only-of-type {\n",
       "        vertical-align: middle;\n",
       "    }\n",
       "\n",
       "    .dataframe tbody tr th {\n",
       "        vertical-align: top;\n",
       "    }\n",
       "\n",
       "    .dataframe thead th {\n",
       "        text-align: right;\n",
       "    }\n",
       "</style>\n",
       "<table border=\"1\" class=\"dataframe\">\n",
       "  <thead>\n",
       "    <tr style=\"text-align: right;\">\n",
       "      <th></th>\n",
       "      <th>QID</th>\n",
       "      <th>Severity</th>\n",
       "      <th>Port</th>\n",
       "      <th>Times Detected</th>\n",
       "      <th>Times Reopened</th>\n",
       "      <th>CVSS</th>\n",
       "      <th>CVSS3</th>\n",
       "    </tr>\n",
       "  </thead>\n",
       "  <tbody>\n",
       "    <tr>\n",
       "      <th>count</th>\n",
       "      <td>1182.000000</td>\n",
       "      <td>1182.000000</td>\n",
       "      <td>0.0</td>\n",
       "      <td>1182.000000</td>\n",
       "      <td>58.000000</td>\n",
       "      <td>1182.000000</td>\n",
       "      <td>1182.000000</td>\n",
       "    </tr>\n",
       "    <tr>\n",
       "      <th>mean</th>\n",
       "      <td>197686.505076</td>\n",
       "      <td>3.026227</td>\n",
       "      <td>NaN</td>\n",
       "      <td>757.445008</td>\n",
       "      <td>1.241379</td>\n",
       "      <td>4.469712</td>\n",
       "      <td>6.226819</td>\n",
       "    </tr>\n",
       "    <tr>\n",
       "      <th>std</th>\n",
       "      <td>247.118746</td>\n",
       "      <td>0.179818</td>\n",
       "      <td>NaN</td>\n",
       "      <td>714.645240</td>\n",
       "      <td>0.923577</td>\n",
       "      <td>1.423790</td>\n",
       "      <td>1.436361</td>\n",
       "    </tr>\n",
       "    <tr>\n",
       "      <th>min</th>\n",
       "      <td>196604.000000</td>\n",
       "      <td>2.000000</td>\n",
       "      <td>NaN</td>\n",
       "      <td>1.000000</td>\n",
       "      <td>1.000000</td>\n",
       "      <td>0.000000</td>\n",
       "      <td>0.000000</td>\n",
       "    </tr>\n",
       "    <tr>\n",
       "      <th>25%</th>\n",
       "      <td>197515.500000</td>\n",
       "      <td>3.000000</td>\n",
       "      <td>NaN</td>\n",
       "      <td>199.000000</td>\n",
       "      <td>1.000000</td>\n",
       "      <td>3.400000</td>\n",
       "      <td>5.400000</td>\n",
       "    </tr>\n",
       "    <tr>\n",
       "      <th>50%</th>\n",
       "      <td>197742.000000</td>\n",
       "      <td>3.000000</td>\n",
       "      <td>NaN</td>\n",
       "      <td>474.000000</td>\n",
       "      <td>1.000000</td>\n",
       "      <td>4.700000</td>\n",
       "      <td>6.300000</td>\n",
       "    </tr>\n",
       "    <tr>\n",
       "      <th>75%</th>\n",
       "      <td>197886.000000</td>\n",
       "      <td>3.000000</td>\n",
       "      <td>NaN</td>\n",
       "      <td>1149.250000</td>\n",
       "      <td>1.000000</td>\n",
       "      <td>5.500000</td>\n",
       "      <td>7.300000</td>\n",
       "    </tr>\n",
       "    <tr>\n",
       "      <th>max</th>\n",
       "      <td>198032.000000</td>\n",
       "      <td>5.000000</td>\n",
       "      <td>NaN</td>\n",
       "      <td>2809.000000</td>\n",
       "      <td>6.000000</td>\n",
       "      <td>7.800000</td>\n",
       "      <td>8.800000</td>\n",
       "    </tr>\n",
       "  </tbody>\n",
       "</table>\n",
       "</div>"
      ],
      "text/plain": [
       "                 QID     Severity  Port  Times Detected  Times Reopened  \\\n",
       "count    1182.000000  1182.000000   0.0     1182.000000       58.000000   \n",
       "mean   197686.505076     3.026227   NaN      757.445008        1.241379   \n",
       "std       247.118746     0.179818   NaN      714.645240        0.923577   \n",
       "min    196604.000000     2.000000   NaN        1.000000        1.000000   \n",
       "25%    197515.500000     3.000000   NaN      199.000000        1.000000   \n",
       "50%    197742.000000     3.000000   NaN      474.000000        1.000000   \n",
       "75%    197886.000000     3.000000   NaN     1149.250000        1.000000   \n",
       "max    198032.000000     5.000000   NaN     2809.000000        6.000000   \n",
       "\n",
       "              CVSS        CVSS3  \n",
       "count  1182.000000  1182.000000  \n",
       "mean      4.469712     6.226819  \n",
       "std       1.423790     1.436361  \n",
       "min       0.000000     0.000000  \n",
       "25%       3.400000     5.400000  \n",
       "50%       4.700000     6.300000  \n",
       "75%       5.500000     7.300000  \n",
       "max       7.800000     8.800000  "
      ]
     },
     "execution_count": 32,
     "metadata": {},
     "output_type": "execute_result"
    }
   ],
   "source": [
    "# condition mask\n",
    "mask = data['Category'] == 'Ubuntu'\n",
    " \n",
    "# new dataframe with selected rows\n",
    "data_ubuntu = pd.DataFrame(data[mask])\n",
    " \n",
    "print(data_ubuntu)\n",
    "data_ubuntu.describe()"
   ]
  },
  {
   "cell_type": "code",
   "execution_count": 33,
   "id": "5ddf7438",
   "metadata": {},
   "outputs": [
    {
     "data": {
      "text/plain": [
       "count                     1182\n",
       "unique                       5\n",
       "top       Ubuntu Linux 16.04.4\n",
       "freq                       412\n",
       "Name: OS, dtype: object"
      ]
     },
     "execution_count": 33,
     "metadata": {},
     "output_type": "execute_result"
    }
   ],
   "source": [
    " # we only have 5 Unique Opereting system in Ubuntu category.\n",
    "data_ubuntu['OS'].describe()"
   ]
  },
  {
   "cell_type": "code",
   "execution_count": 34,
   "id": "5b43e5b2",
   "metadata": {},
   "outputs": [],
   "source": [
    "#plt.bar(data_ubuntu['OS'], data_ubuntu['Severity'], color ='maroon',width = 0.4)\n",
    "#plt.xlabel(\"Severity\",fontsize = 20)\n",
    "#plt.ylabel(\"Ubuntu O S\",fontsize = 20)\n",
    "#plt.title(\"OS vs Severity\",fontsize = 20)\n",
    "sns.set_theme(style='darkgrid')\n",
    "sns.set(rc={\"figure.figsize\":(10, 10)})"
   ]
  },
  {
   "cell_type": "markdown",
   "id": "02913032",
   "metadata": {},
   "source": [
    "\n",
    "\n",
    "\n"
   ]
  },
  {
   "cell_type": "code",
   "execution_count": 35,
   "id": "a5984cf2",
   "metadata": {},
   "outputs": [
    {
     "data": {
      "text/plain": [
       "Text(0.5, 0, 'O S')"
      ]
     },
     "execution_count": 35,
     "metadata": {},
     "output_type": "execute_result"
    },
    {
     "data": {
      "image/png": "[encoded data removed]",
      "text/plain": [
       "<Figure size 720x720 with 1 Axes>"
      ]
     },
     "metadata": {},
     "output_type": "display_data"
    }
   ],
   "source": [
    "plt.bar(data_ubuntu['OS'], data_ubuntu['Times Detected'], color ='blue',width = 0.4)\n",
    "\n",
    "plt.ylabel('Times Detected',fontweight ='bold', fontsize = 20)\n",
    "plt.xlabel('O S',fontweight ='bold', fontsize = 20)\n"
   ]
  },
  {
   "cell_type": "code",
   "execution_count": 36,
   "id": "c4a2830f",
   "metadata": {},
   "outputs": [
    {
     "data": {
      "text/plain": [
       "<matplotlib.legend.Legend at 0x1d5babfe520>"
      ]
     },
     "execution_count": 36,
     "metadata": {},
     "output_type": "execute_result"
    },
    {
     "data": {
      "image/png": "[encoded data removed]",
      "text/plain": [
       "<Figure size 720x720 with 1 Axes>"
      ]
     },
     "metadata": {},
     "output_type": "display_data"
    }
   ],
   "source": [
    "plt.bar(data_ubuntu['OS'], data_ubuntu['CVSS3'], color ='red',width = 0.4, label ='CVSS3')\n",
    "plt.bar(data_ubuntu['OS'], data_ubuntu['CVSS'], color ='green',width = 0.4, label ='CVSS')\n",
    "plt.bar(data_ubuntu['OS'], data_ubuntu['Severity'], color ='maroon',width = 0.4, label ='Severity')\n",
    "\n",
    "plt.xlabel('O S',fontweight ='bold', fontsize = 20)\n",
    "plt.ylabel('CVSS-SCORE',fontweight ='bold', fontsize = 20)\n",
    "\n",
    "plt.legend()"
   ]
  },
  {
   "cell_type": "markdown",
   "id": "4fa89e78",
   "metadata": {},
   "source": [
    "## It is Noticed that Ubuntu Linux 16.04.6 is more severe then other Ubuntu OS."
   ]
  },
  {
   "cell_type": "markdown",
   "id": "34438b00",
   "metadata": {},
   "source": [
    "## It is observed that Ubuntu Linux 16.04.4 and 16.04.6  is having High CVSS score and also detected the most \n"
   ]
  },
  {
   "cell_type": "code",
   "execution_count": null,
   "id": "6280cb58",
   "metadata": {},
   "outputs": [],
   "source": []
  },
  {
   "cell_type": "markdown",
   "id": "b2652831",
   "metadata": {},
   "source": [
    "## Ubuntu Linux 16.04.4"
   ]
  },
  {
   "cell_type": "code",
   "execution_count": 37,
   "id": "b3efa8ed",
   "metadata": {},
   "outputs": [
    {
     "name": "stdout",
     "output_type": "stream",
     "text": [
      "          First Detected       Last Detected  Times Detected  Times Reopened  \\\n",
      "1    2020-01-10 04:46:24 2020-09-23 21:25:25             908             NaN   \n",
      "24   2020-07-08 03:11:22 2020-09-23 21:25:25             225             NaN   \n",
      "85   2019-10-29 11:15:08 2020-09-23 21:25:25            1199             NaN   \n",
      "86   2019-10-16 14:24:59 2020-09-23 21:25:25            1251             NaN   \n",
      "88   2019-10-06 11:17:58 2020-09-23 21:25:25            1298             NaN   \n",
      "121  2019-06-13 14:17:40 2020-09-23 21:25:25            1738             NaN   \n",
      "151  2019-02-15 03:22:46 2020-09-23 21:25:25            2092             NaN   \n",
      "164  2018-11-17 00:47:13 2020-09-23 21:25:25            2552             1.0   \n",
      "176  2018-11-17 00:47:13 2020-09-23 21:25:25            2552             1.0   \n",
      "196  2018-11-17 00:47:13 2020-09-23 21:25:25            2552             1.0   \n",
      "1464 2020-01-10 04:29:28 2020-09-24 07:55:15             896             NaN   \n",
      "1511 2020-07-08 08:46:00 2020-09-24 07:55:15             222             NaN   \n",
      "1606 2019-10-29 16:18:22 2020-09-24 07:55:15            1182             NaN   \n",
      "1607 2019-10-16 13:48:42 2020-09-24 07:55:15            1239             NaN   \n",
      "1609 2019-10-06 07:23:41 2020-09-24 07:55:15            1290             NaN   \n",
      "1642 2019-06-13 14:03:15 2020-09-24 07:55:15            1733             NaN   \n",
      "1672 2019-02-15 04:13:30 2020-09-24 07:55:15            2075             NaN   \n",
      "1685 2018-11-15 04:38:45 2020-09-24 07:55:15            2545             NaN   \n",
      "1698 2018-09-25 08:24:57 2020-09-24 07:55:15            2756             NaN   \n",
      "1700 2018-09-21 00:07:53 2020-09-24 07:55:15            2770             NaN   \n",
      "1719 2018-09-08 08:16:27 2020-09-24 07:55:15            2809             NaN   \n",
      "\n",
      "     Associated Malware                                     Exploitability  \n",
      "1                   NaN                                                NaN  \n",
      "24                  NaN                                                NaN  \n",
      "85                  NaN                                                NaN  \n",
      "86                  NaN  Source: The Exploit-DB_x000D_\\nReference:CVE-2...  \n",
      "88                  NaN                                                NaN  \n",
      "121                 NaN  Source: The Exploit-DB_x000D_\\nReference:CVE-2...  \n",
      "151                 NaN  Source: Core Security_x000D_\\nReference:CVE-20...  \n",
      "164                 NaN  Source: The Exploit-DB_x000D_\\nReference:CVE-2...  \n",
      "176                 NaN  Source: Metasploit_x000D_\\nReference:CVE-2018-...  \n",
      "196                 NaN  Source: The Exploit-DB_x000D_\\nReference:CVE-2...  \n",
      "1464                NaN                                                NaN  \n",
      "1511                NaN                                                NaN  \n",
      "1606                NaN                                                NaN  \n",
      "1607                NaN  Source: The Exploit-DB_x000D_\\nReference:CVE-2...  \n",
      "1609                NaN                                                NaN  \n",
      "1642                NaN  Source: The Exploit-DB_x000D_\\nReference:CVE-2...  \n",
      "1672                NaN  Source: Core Security_x000D_\\nReference:CVE-20...  \n",
      "1685                NaN  Source: The Exploit-DB_x000D_\\nReference:CVE-2...  \n",
      "1698                NaN  Source: Metasploit_x000D_\\nReference:CVE-2018-...  \n",
      "1700                NaN                                                NaN  \n",
      "1719                NaN  Source: The Exploit-DB_x000D_\\nReference:CVE-2...  \n"
     ]
    }
   ],
   "source": [
    "mask = (data_ubuntu['OS'] == 'Ubuntu Linux 16.04.4') & (data_ubuntu['Severity'] >= 3) & (data_ubuntu['CVSS'] >= 7)\n",
    " \n",
    "# new dataframe with selected rows\n",
    "data_ubuntu_164 = pd.DataFrame(data_ubuntu[mask])\n",
    " \n",
    "print(data_ubuntu_164[['First Detected','Last Detected','Times Detected','Times Reopened','Associated Malware','Exploitability']])"
   ]
  },
  {
   "cell_type": "code",
   "execution_count": 38,
   "id": "4640f62e",
   "metadata": {},
   "outputs": [
    {
     "name": "stdout",
     "output_type": "stream",
     "text": [
      "      Severity  CVSS  CVSS3 Vuln Status PCI Vuln  \\\n",
      "1            4   7.4    7.8      Active      yes   \n",
      "24           3   7.4    7.8      Active      yes   \n",
      "85           3   7.4    7.8      Active      yes   \n",
      "86           3   7.0    7.9      Active      yes   \n",
      "88           3   7.4    7.8      Active      yes   \n",
      "121          3   7.3    8.1      Active      yes   \n",
      "151          3   7.8    8.1      Active      yes   \n",
      "164          3   7.8    8.1      Active      yes   \n",
      "176          3   7.3    7.0      Active      yes   \n",
      "196          3   7.3    8.1      Active      yes   \n",
      "1464         4   7.4    7.8      Active      yes   \n",
      "1511         3   7.4    7.8      Active      yes   \n",
      "1606         3   7.4    7.8      Active      yes   \n",
      "1607         3   7.0    7.9      Active      yes   \n",
      "1609         3   7.4    7.8      Active      yes   \n",
      "1642         3   7.3    8.1      Active      yes   \n",
      "1672         3   7.8    8.1      Active      yes   \n",
      "1685         3   7.8    8.1      Active      yes   \n",
      "1698         3   7.3    7.0      Active      yes   \n",
      "1700         3   7.4    8.5      Active      yes   \n",
      "1719         3   7.3    8.1      Active      yes   \n",
      "\n",
      "                             CVSS Base           CVSS Temporal  \n",
      "1      10 (AV:N/AC:L/Au:N/C:C/I:C/A:C)    7.4 (E:U/RL:OF/RC:C)  \n",
      "24     10 (AV:N/AC:L/Au:N/C:C/I:C/A:C)    7.4 (E:U/RL:OF/RC:C)  \n",
      "85     10 (AV:N/AC:L/Au:N/C:C/I:C/A:C)    7.4 (E:U/RL:OF/RC:C)  \n",
      "86      9 (AV:N/AC:L/Au:S/C:C/I:C/A:C)    7 (E:POC/RL:OF/RC:C)  \n",
      "88     10 (AV:N/AC:L/Au:N/C:C/I:C/A:C)    7.4 (E:U/RL:OF/RC:C)  \n",
      "121   9.3 (AV:N/AC:M/Au:N/C:C/I:C/A:C)  7.3 (E:POC/RL:OF/RC:C)  \n",
      "151    10 (AV:N/AC:L/Au:N/C:C/I:C/A:C)  7.8 (E:POC/RL:OF/RC:C)  \n",
      "164    10 (AV:N/AC:L/Au:N/C:C/I:C/A:C)  7.8 (E:POC/RL:OF/RC:C)  \n",
      "176   9.3 (AV:N/AC:M/Au:N/C:C/I:C/A:C)  7.3 (E:POC/RL:OF/RC:C)  \n",
      "196   9.3 (AV:N/AC:M/Au:N/C:C/I:C/A:C)  7.3 (E:POC/RL:OF/RC:C)  \n",
      "1464   10 (AV:N/AC:L/Au:N/C:C/I:C/A:C)    7.4 (E:U/RL:OF/RC:C)  \n",
      "1511   10 (AV:N/AC:L/Au:N/C:C/I:C/A:C)    7.4 (E:U/RL:OF/RC:C)  \n",
      "1606   10 (AV:N/AC:L/Au:N/C:C/I:C/A:C)    7.4 (E:U/RL:OF/RC:C)  \n",
      "1607    9 (AV:N/AC:L/Au:S/C:C/I:C/A:C)    7 (E:POC/RL:OF/RC:C)  \n",
      "1609   10 (AV:N/AC:L/Au:N/C:C/I:C/A:C)    7.4 (E:U/RL:OF/RC:C)  \n",
      "1642  9.3 (AV:N/AC:M/Au:N/C:C/I:C/A:C)  7.3 (E:POC/RL:OF/RC:C)  \n",
      "1672   10 (AV:N/AC:L/Au:N/C:C/I:C/A:C)  7.8 (E:POC/RL:OF/RC:C)  \n",
      "1685   10 (AV:N/AC:L/Au:N/C:C/I:C/A:C)  7.8 (E:POC/RL:OF/RC:C)  \n",
      "1698  9.3 (AV:N/AC:M/Au:N/C:C/I:C/A:C)  7.3 (E:POC/RL:OF/RC:C)  \n",
      "1700   10 (AV:N/AC:L/Au:N/C:C/I:C/A:C)    7.4 (E:U/RL:OF/RC:C)  \n",
      "1719  9.3 (AV:N/AC:M/Au:N/C:C/I:C/A:C)  7.3 (E:POC/RL:OF/RC:C)  \n"
     ]
    }
   ],
   "source": [
    "print(data_ubuntu_164[['Severity','CVSS','CVSS3','Vuln Status','PCI Vuln','CVSS Base','CVSS Temporal']])"
   ]
  },
  {
   "cell_type": "markdown",
   "id": "aeb96869",
   "metadata": {},
   "source": [
    "## Ubuntu Linux 16.04.6"
   ]
  },
  {
   "cell_type": "code",
   "execution_count": 39,
   "id": "6bd1ef8b",
   "metadata": {},
   "outputs": [
    {
     "name": "stdout",
     "output_type": "stream",
     "text": [
      "         First Detected       Last Detected  Times Detected  Times Reopened  \\\n",
      "402 2020-01-10 04:48:25 2020-03-11 08:25:33             235             NaN   \n",
      "438 2019-10-29 11:32:13 2020-03-11 08:25:33             509             1.0   \n",
      "439 2019-10-16 14:10:50 2020-03-11 08:25:33             559             1.0   \n",
      "441 2019-10-06 11:11:08 2020-03-11 08:25:33             588             1.0   \n",
      "646 2020-08-11 02:40:40 2020-09-24 02:15:46             108             NaN   \n",
      "672 2020-01-10 04:47:09 2020-02-11 21:46:15             143             NaN   \n",
      "703 2020-07-08 03:09:50 2020-09-24 02:15:46             229             NaN   \n",
      "769 2019-10-29 11:00:27 2020-02-11 21:46:15             442             NaN   \n",
      "771 2019-10-16 14:26:13 2020-02-11 21:46:15             495             NaN   \n",
      "773 2019-10-06 10:33:27 2020-02-11 21:46:15             545             NaN   \n",
      "810 2019-06-13 14:29:21 2020-02-11 21:46:15             976             NaN   \n",
      "840 2019-03-28 02:04:45 2020-02-11 21:46:15            1194             NaN   \n",
      "851 2019-03-28 02:04:45 2020-02-11 21:46:15            1194             NaN   \n",
      "864 2019-03-28 02:04:45 2020-02-11 21:46:15            1194             NaN   \n",
      "866 2019-03-28 02:04:45 2020-02-11 21:46:15            1194             NaN   \n",
      "884 2019-03-28 02:04:45 2020-02-11 21:46:15            1194             NaN   \n",
      "\n",
      "    Associated Malware                                     Exploitability  \n",
      "402                NaN                                                NaN  \n",
      "438                NaN                                                NaN  \n",
      "439                NaN  Source: The Exploit-DB_x000D_\\nReference:CVE-2...  \n",
      "441                NaN                                                NaN  \n",
      "646                NaN                                                NaN  \n",
      "672                NaN                                                NaN  \n",
      "703                NaN                                                NaN  \n",
      "769                NaN                                                NaN  \n",
      "771                NaN  Source: The Exploit-DB_x000D_\\nReference:CVE-2...  \n",
      "773                NaN                                                NaN  \n",
      "810                NaN  Source: The Exploit-DB_x000D_\\nReference:CVE-2...  \n",
      "840                NaN  Source: Core Security_x000D_\\nReference:CVE-20...  \n",
      "851                NaN  Source: The Exploit-DB_x000D_\\nReference:CVE-2...  \n",
      "864                NaN  Source: Metasploit_x000D_\\nReference:CVE-2018-...  \n",
      "866                NaN                                                NaN  \n",
      "884                NaN  Source: The Exploit-DB_x000D_\\nReference:CVE-2...  \n"
     ]
    }
   ],
   "source": [
    "mask = (data_ubuntu['OS'] == 'Ubuntu Linux 16.04.6') & (data_ubuntu['Severity'] >= 3) & (data_ubuntu['CVSS'] >= 7) \n",
    " \n",
    "# new dataframe with selected rows\n",
    "data_ubuntu_166 = pd.DataFrame(data_ubuntu[mask])\n",
    " \n",
    "print(data_ubuntu_166[['First Detected','Last Detected','Times Detected','Times Reopened','Associated Malware','Exploitability']])"
   ]
  },
  {
   "cell_type": "code",
   "execution_count": 40,
   "id": "61fa79f3",
   "metadata": {},
   "outputs": [
    {
     "name": "stdout",
     "output_type": "stream",
     "text": [
      "     Severity  CVSS  CVSS3 Vuln Status PCI Vuln  \\\n",
      "402         4   7.4    7.8      Active      yes   \n",
      "438         3   7.4    7.8      Active      yes   \n",
      "439         3   7.0    7.9      Active      yes   \n",
      "441         3   7.4    7.8      Active      yes   \n",
      "646         5   7.4    7.8      Active      yes   \n",
      "672         4   7.4    7.8       Fixed      yes   \n",
      "703         3   7.4    7.8      Active      yes   \n",
      "769         3   7.4    7.8       Fixed      yes   \n",
      "771         3   7.0    7.9       Fixed      yes   \n",
      "773         3   7.4    7.8       Fixed      yes   \n",
      "810         3   7.3    8.1       Fixed      yes   \n",
      "840         3   7.8    8.1       Fixed      yes   \n",
      "851         3   7.8    8.1       Fixed      yes   \n",
      "864         3   7.3    7.0       Fixed      yes   \n",
      "866         3   7.4    8.5       Fixed      yes   \n",
      "884         3   7.3    8.1       Fixed      yes   \n",
      "\n",
      "                            CVSS Base           CVSS Temporal  \n",
      "402   10 (AV:N/AC:L/Au:N/C:C/I:C/A:C)    7.4 (E:U/RL:OF/RC:C)  \n",
      "438   10 (AV:N/AC:L/Au:N/C:C/I:C/A:C)    7.4 (E:U/RL:OF/RC:C)  \n",
      "439    9 (AV:N/AC:L/Au:S/C:C/I:C/A:C)    7 (E:POC/RL:OF/RC:C)  \n",
      "441   10 (AV:N/AC:L/Au:N/C:C/I:C/A:C)    7.4 (E:U/RL:OF/RC:C)  \n",
      "646   10 (AV:N/AC:L/Au:N/C:C/I:C/A:C)    7.4 (E:U/RL:OF/RC:C)  \n",
      "672   10 (AV:N/AC:L/Au:N/C:C/I:C/A:C)    7.4 (E:U/RL:OF/RC:C)  \n",
      "703   10 (AV:N/AC:L/Au:N/C:C/I:C/A:C)    7.4 (E:U/RL:OF/RC:C)  \n",
      "769   10 (AV:N/AC:L/Au:N/C:C/I:C/A:C)    7.4 (E:U/RL:OF/RC:C)  \n",
      "771    9 (AV:N/AC:L/Au:S/C:C/I:C/A:C)    7 (E:POC/RL:OF/RC:C)  \n",
      "773   10 (AV:N/AC:L/Au:N/C:C/I:C/A:C)    7.4 (E:U/RL:OF/RC:C)  \n",
      "810  9.3 (AV:N/AC:M/Au:N/C:C/I:C/A:C)  7.3 (E:POC/RL:OF/RC:C)  \n",
      "840   10 (AV:N/AC:L/Au:N/C:C/I:C/A:C)  7.8 (E:POC/RL:OF/RC:C)  \n",
      "851   10 (AV:N/AC:L/Au:N/C:C/I:C/A:C)  7.8 (E:POC/RL:OF/RC:C)  \n",
      "864  9.3 (AV:N/AC:M/Au:N/C:C/I:C/A:C)  7.3 (E:POC/RL:OF/RC:C)  \n",
      "866   10 (AV:N/AC:L/Au:N/C:C/I:C/A:C)    7.4 (E:U/RL:OF/RC:C)  \n",
      "884  9.3 (AV:N/AC:M/Au:N/C:C/I:C/A:C)  7.3 (E:POC/RL:OF/RC:C)  \n"
     ]
    }
   ],
   "source": [
    "print(data_ubuntu_166[['Severity','CVSS','CVSS3','Vuln Status','PCI Vuln','CVSS Base','CVSS Temporal']])"
   ]
  },
  {
   "cell_type": "markdown",
   "id": "8b664905",
   "metadata": {},
   "source": [
    "## ----------------------------------------------------------------------------------------------------------------------------------"
   ]
  },
  {
   "cell_type": "markdown",
   "id": "484e2c54",
   "metadata": {},
   "source": [
    "### Severity == 5"
   ]
  },
  {
   "cell_type": "code",
   "execution_count": 41,
   "id": "71ffdaf2",
   "metadata": {},
   "outputs": [],
   "source": [
    "## Checking the OS with severity = 5. In Ubuntu Category"
   ]
  },
  {
   "cell_type": "code",
   "execution_count": 42,
   "id": "89b7f750",
   "metadata": {},
   "outputs": [
    {
     "name": "stdout",
     "output_type": "stream",
     "text": [
      "     CVSS3  CVSS  Severity                    OS  \\\n",
      "646    7.8   7.4         5  Ubuntu Linux 16.04.6   \n",
      "\n",
      "                                                Impact  \\\n",
      "646   An attacker could possibly use this issue to ...   \n",
      "\n",
      "                                                Threat  \n",
      "646    It was discovered that FFmpeg incorrectly ve...  \n"
     ]
    }
   ],
   "source": [
    "mask = data_ubuntu['Severity'] == 5\n",
    "\n",
    "data_ubuntu_severity5 = pd.DataFrame(data_ubuntu[mask])\n",
    "\n",
    "print(data_ubuntu_severity5[['CVSS3','CVSS','Severity','OS','Impact','Threat']])"
   ]
  },
  {
   "cell_type": "markdown",
   "id": "3b5bfed0",
   "metadata": {},
   "source": [
    "## ----------------------------------------------------------------------------------------------------------------------------------"
   ]
  },
  {
   "cell_type": "markdown",
   "id": "72b84f5a",
   "metadata": {},
   "source": [
    "### Most Dectected in Ubuntu category"
   ]
  },
  {
   "cell_type": "code",
   "execution_count": 43,
   "id": "5f40617d",
   "metadata": {},
   "outputs": [
    {
     "name": "stdout",
     "output_type": "stream",
     "text": [
      "Empty DataFrame\n",
      "Columns: [masked Ip, Network, Tracking Method, OS, IP Status, QID, Title, Vuln Status, Type, Severity, Port, Protocol, SSL, First Detected, Last Detected, Times Detected, Date Last Fixed, First Reopened, Last Reopened, Times Reopened, CVE ID, Vendor Reference, Bugtraq ID, CVSS, CVSS Base, CVSS Temporal, CVSS Environment, CVSS3, CVSS3 Base, CVSS3 Temporal, Threat, Impact, Solution, Exploitability, Associated Malware, PCI Vuln, OS CPE, Category, Non-running Kernel]\n",
      "Index: []\n",
      "\n",
      "[0 rows x 39 columns]\n"
     ]
    }
   ],
   "source": [
    "mask = data_ubuntu['CVSS'] >= 9\n",
    "\n",
    "data_ubuntu_TD = pd.DataFrame(data_ubuntu[mask])\n",
    "\n",
    "print(data_ubuntu_TD)"
   ]
  },
  {
   "cell_type": "code",
   "execution_count": null,
   "id": "ce194c88",
   "metadata": {},
   "outputs": [],
   "source": []
  },
  {
   "cell_type": "markdown",
   "id": "76562829",
   "metadata": {},
   "source": []
  },
  {
   "cell_type": "markdown",
   "id": "74dbecca",
   "metadata": {},
   "source": [
    "# Analysis of Local Category OS"
   ]
  },
  {
   "cell_type": "code",
   "execution_count": 44,
   "id": "386ec29e",
   "metadata": {
    "scrolled": true
   },
   "outputs": [
    {
     "name": "stdout",
     "output_type": "stream",
     "text": [
      "          masked Ip                 Network Tracking Method  \\\n",
      "4      lab_2_IP9036  Global Default Network          QAGENT   \n",
      "5      lab_2_IP9036  Global Default Network          QAGENT   \n",
      "293    lab_2_IP9034  Global Default Network          QAGENT   \n",
      "294    lab_2_IP9034  Global Default Network          QAGENT   \n",
      "295    lab_2_IP9034  Global Default Network          QAGENT   \n",
      "...             ...                     ...             ...   \n",
      "69465    lab_2_IP66  Global Default Network              IP   \n",
      "69487    lab_2_IP65  Global Default Network              IP   \n",
      "69488    lab_2_IP65  Global Default Network              IP   \n",
      "69489    lab_2_IP65  Global Default Network              IP   \n",
      "69522    lab_2_IP63  Global Default Network              IP   \n",
      "\n",
      "                                                      OS  \\\n",
      "4                                   Ubuntu Linux 16.04.4   \n",
      "5                                   Ubuntu Linux 16.04.4   \n",
      "293                                CentOS Linux 7.7.1908   \n",
      "294                                CentOS Linux 7.7.1908   \n",
      "295                                CentOS Linux 7.7.1908   \n",
      "...                                                  ...   \n",
      "69465  Linux 2.4-2.6 / Embedded Device / F5 Networks ...   \n",
      "69487                           Windows 7 Service Pack 1   \n",
      "69488                           Windows 7 Service Pack 1   \n",
      "69489                           Windows 7 Service Pack 1   \n",
      "69522  Linux 2.4-2.6 / Embedded Device / F5 Networks ...   \n",
      "\n",
      "                      IP Status     QID  \\\n",
      "4      host scanned, found vuln  372015   \n",
      "5      host scanned, found vuln  370248   \n",
      "293    host scanned, found vuln  372871   \n",
      "294    host scanned, found vuln  371979   \n",
      "295    host scanned, found vuln  371129   \n",
      "...                         ...     ...   \n",
      "69465  host scanned, found vuln  121695   \n",
      "69487  host scanned, found vuln  123565   \n",
      "69488  host scanned, found vuln  123563   \n",
      "69489  host scanned, found vuln  122710   \n",
      "69522  host scanned, found vuln  121695   \n",
      "\n",
      "                                                   Title Vuln Status  Type  \\\n",
      "4       Docker Build Remote Code Execution Vulnerability      Active  Vuln   \n",
      "5      Ruby Gem nokogiri libxml2 and libxslt Security...      Active  Vuln   \n",
      "293           Kubernetes Man In The Middle Vulnerability       Fixed  Vuln   \n",
      "294          ImageMagick Denial of Service Vulnerability       Fixed  Vuln   \n",
      "295                 Nmap Denial Of Service Vulnerability      Active  Vuln   \n",
      "...                                                  ...         ...   ...   \n",
      "69465  NTP \"monlist\" Feature Denial of Service Vulner...       Fixed  Vuln   \n",
      "69487  MongoDB 'BSON Message' Validation Denial of Se...   Re-Opened  Vuln   \n",
      "69488  MongoDB PCRE Library Remote Denial of Service ...   Re-Opened  Vuln   \n",
      "69489  MongoDB \"nativeHelper.apply\" Remote Code Execu...   Re-Opened  Vuln   \n",
      "69522  NTP \"monlist\" Feature Denial of Service Vulner...       Fixed  Vuln   \n",
      "\n",
      "       Severity  ...       CVSS3 Temporal  \\\n",
      "4             3  ...  7.6 (E:P/RL:O/RC:C)   \n",
      "5             3  ...  6.5 (E:U/RL:O/RC:C)   \n",
      "293           3  ...  5.2 (E:U/RL:O/RC:C)   \n",
      "294           3  ...  6.4 (E:P/RL:O/RC:C)   \n",
      "295           3  ...  6.9 (E:U/RL:U/RC:C)   \n",
      "...         ...  ...                  ...   \n",
      "69465         3  ...                  NaN   \n",
      "69487         3  ...                  NaN   \n",
      "69488         3  ...                  NaN   \n",
      "69489         3  ...                  NaN   \n",
      "69522         3  ...                  NaN   \n",
      "\n",
      "                                                  Threat  \\\n",
      "4      Docker Engine enables containerized applicatio...   \n",
      "5      Nokogiri is an HTML, XML, SAX, and Reader pars...   \n",
      "293    Kubernetes is an open-source container-orchest...   \n",
      "294    ImageMagick is a software suite to create, edi...   \n",
      "295    Nmap (\"Network Mapper\") is a free and open sou...   \n",
      "...                                                  ...   \n",
      "69465   The Network Time Protocol (NTP) is used to sy...   \n",
      "69487  MongoDB is an open-source document database, a...   \n",
      "69488  MongoDB is an open-source document database, a...   \n",
      "69489  MongoDB is an open-source document database, a...   \n",
      "69522   The Network Time Protocol (NTP) is used to sy...   \n",
      "\n",
      "                                                  Impact  \\\n",
      "4      Successful exploitation of this vulnerability ...   \n",
      "5      Successful exploitation allows a remote attack...   \n",
      "293    Successful exploitation of this vulnerability ...   \n",
      "294    An attacker can exploit this issue to crash th...   \n",
      "295    Successful exploitation could allow remote att...   \n",
      "...                                                  ...   \n",
      "69465   This issue allows an attacker to perform refl...   \n",
      "69487  Successful exploitiaton of this vulnerability ...   \n",
      "69488  Successful exploitiaton of this vulnerability ...   \n",
      "69489  Successful exploitation of this vulnerability ...   \n",
      "69522   This issue allows an attacker to perform refl...   \n",
      "\n",
      "                                                Solution  \\\n",
      "4      Customers are advised to upgrade docker engine...   \n",
      "5      Customers are advised to install nokogiri 1.6....   \n",
      "293    Customers are advised to download Kubernetes  ...   \n",
      "294    Customers are advised to install the latest Im...   \n",
      "295    Currently no patch is available to fix this vu...   \n",
      "...                                                  ...   \n",
      "69465  Upgrade to NTP Version 4.2.7p26 or latest vers...   \n",
      "69487  Users are advised to upgrade to the latest ver...   \n",
      "69488  Users are advised to upgrade to the latest ver...   \n",
      "69489  Users are advised to upgrade to the latest ver...   \n",
      "69522  Upgrade to NTP Version 4.2.7p26 or latest vers...   \n",
      "\n",
      "                                          Exploitability  Associated Malware  \\\n",
      "4      Source: Qualys_x000D_\\nReference:CVE-2019-1313...                 NaN   \n",
      "5                                                    NaN                 NaN   \n",
      "293                                                  NaN                 NaN   \n",
      "294                                                  NaN                 NaN   \n",
      "295                                                  NaN                 NaN   \n",
      "...                                                  ...                 ...   \n",
      "69465  Source: Metasploit_x000D_\\nReference:CVE-2013-...                 NaN   \n",
      "69487                                                NaN                 NaN   \n",
      "69488                                                NaN                 NaN   \n",
      "69489  Source: The Exploit-DB_x000D_\\nReference:CVE-2...                 NaN   \n",
      "69522  Source: Metasploit_x000D_\\nReference:CVE-2013-...                 NaN   \n",
      "\n",
      "      PCI Vuln OS CPE Category  Non-running Kernel  \n",
      "4          yes    NaN    Local                  No  \n",
      "5           no    NaN    Local                  No  \n",
      "293        yes    NaN    Local                  No  \n",
      "294         no    NaN    Local                  No  \n",
      "295         no    NaN    Local                  No  \n",
      "...        ...    ...      ...                 ...  \n",
      "69465       no    NaN    Local                  No  \n",
      "69487       no    NaN    Local                  No  \n",
      "69488       no    NaN    Local                  No  \n",
      "69489      yes    NaN    Local                  No  \n",
      "69522       no    NaN    Local                  No  \n",
      "\n",
      "[367 rows x 39 columns]\n"
     ]
    },
    {
     "data": {
      "text/html": [
       "<div>\n",
       "<style scoped>\n",
       "    .dataframe tbody tr th:only-of-type {\n",
       "        vertical-align: middle;\n",
       "    }\n",
       "\n",
       "    .dataframe tbody tr th {\n",
       "        vertical-align: top;\n",
       "    }\n",
       "\n",
       "    .dataframe thead th {\n",
       "        text-align: right;\n",
       "    }\n",
       "</style>\n",
       "<table border=\"1\" class=\"dataframe\">\n",
       "  <thead>\n",
       "    <tr style=\"text-align: right;\">\n",
       "      <th></th>\n",
       "      <th>QID</th>\n",
       "      <th>Severity</th>\n",
       "      <th>Port</th>\n",
       "      <th>Times Detected</th>\n",
       "      <th>Times Reopened</th>\n",
       "      <th>CVSS</th>\n",
       "      <th>CVSS3</th>\n",
       "    </tr>\n",
       "  </thead>\n",
       "  <tbody>\n",
       "    <tr>\n",
       "      <th>count</th>\n",
       "      <td>367.000000</td>\n",
       "      <td>367.000000</td>\n",
       "      <td>9.0</td>\n",
       "      <td>367.000000</td>\n",
       "      <td>71.000000</td>\n",
       "      <td>367.000000</td>\n",
       "      <td>55.000000</td>\n",
       "    </tr>\n",
       "    <tr>\n",
       "      <th>mean</th>\n",
       "      <td>148064.583106</td>\n",
       "      <td>3.043597</td>\n",
       "      <td>20545.0</td>\n",
       "      <td>88.869210</td>\n",
       "      <td>1.436620</td>\n",
       "      <td>4.062670</td>\n",
       "      <td>6.641818</td>\n",
       "    </tr>\n",
       "    <tr>\n",
       "      <th>std</th>\n",
       "      <td>77352.581089</td>\n",
       "      <td>0.241254</td>\n",
       "      <td>11208.0</td>\n",
       "      <td>310.373729</td>\n",
       "      <td>0.840619</td>\n",
       "      <td>0.836625</td>\n",
       "      <td>0.937232</td>\n",
       "    </tr>\n",
       "    <tr>\n",
       "      <th>min</th>\n",
       "      <td>115292.000000</td>\n",
       "      <td>2.000000</td>\n",
       "      <td>5601.0</td>\n",
       "      <td>1.000000</td>\n",
       "      <td>1.000000</td>\n",
       "      <td>1.500000</td>\n",
       "      <td>4.200000</td>\n",
       "    </tr>\n",
       "    <tr>\n",
       "      <th>25%</th>\n",
       "      <td>121695.000000</td>\n",
       "      <td>3.000000</td>\n",
       "      <td>5601.0</td>\n",
       "      <td>8.000000</td>\n",
       "      <td>1.000000</td>\n",
       "      <td>3.900000</td>\n",
       "      <td>6.400000</td>\n",
       "    </tr>\n",
       "    <tr>\n",
       "      <th>50%</th>\n",
       "      <td>121695.000000</td>\n",
       "      <td>3.000000</td>\n",
       "      <td>28017.0</td>\n",
       "      <td>16.000000</td>\n",
       "      <td>1.000000</td>\n",
       "      <td>3.900000</td>\n",
       "      <td>6.500000</td>\n",
       "    </tr>\n",
       "    <tr>\n",
       "      <th>75%</th>\n",
       "      <td>121695.000000</td>\n",
       "      <td>3.000000</td>\n",
       "      <td>28017.0</td>\n",
       "      <td>27.000000</td>\n",
       "      <td>2.000000</td>\n",
       "      <td>3.900000</td>\n",
       "      <td>6.900000</td>\n",
       "    </tr>\n",
       "    <tr>\n",
       "      <th>max</th>\n",
       "      <td>373156.000000</td>\n",
       "      <td>5.000000</td>\n",
       "      <td>28017.0</td>\n",
       "      <td>2806.000000</td>\n",
       "      <td>4.000000</td>\n",
       "      <td>8.300000</td>\n",
       "      <td>8.700000</td>\n",
       "    </tr>\n",
       "  </tbody>\n",
       "</table>\n",
       "</div>"
      ],
      "text/plain": [
       "                 QID    Severity     Port  Times Detected  Times Reopened  \\\n",
       "count     367.000000  367.000000      9.0      367.000000       71.000000   \n",
       "mean   148064.583106    3.043597  20545.0       88.869210        1.436620   \n",
       "std     77352.581089    0.241254  11208.0      310.373729        0.840619   \n",
       "min    115292.000000    2.000000   5601.0        1.000000        1.000000   \n",
       "25%    121695.000000    3.000000   5601.0        8.000000        1.000000   \n",
       "50%    121695.000000    3.000000  28017.0       16.000000        1.000000   \n",
       "75%    121695.000000    3.000000  28017.0       27.000000        2.000000   \n",
       "max    373156.000000    5.000000  28017.0     2806.000000        4.000000   \n",
       "\n",
       "             CVSS      CVSS3  \n",
       "count  367.000000  55.000000  \n",
       "mean     4.062670   6.641818  \n",
       "std      0.836625   0.937232  \n",
       "min      1.500000   4.200000  \n",
       "25%      3.900000   6.400000  \n",
       "50%      3.900000   6.500000  \n",
       "75%      3.900000   6.900000  \n",
       "max      8.300000   8.700000  "
      ]
     },
     "execution_count": 44,
     "metadata": {},
     "output_type": "execute_result"
    }
   ],
   "source": [
    "# condition mask\n",
    "mask = data['Category'] == 'Local'\n",
    " \n",
    "# new dataframe with selected rows\n",
    "data_local = pd.DataFrame(data[mask])\n",
    " \n",
    "print(data_local)\n",
    "data_local.describe()"
   ]
  },
  {
   "cell_type": "code",
   "execution_count": 45,
   "id": "825204ae",
   "metadata": {},
   "outputs": [
    {
     "data": {
      "text/plain": [
       "count                                                   367\n",
       "unique                                                   47\n",
       "top       Ubuntu / Tiny Core Linux / Linux 2.6.x / IBM A...\n",
       "freq                                                     79\n",
       "Name: OS, dtype: object"
      ]
     },
     "execution_count": 45,
     "metadata": {},
     "output_type": "execute_result"
    }
   ],
   "source": [
    "# It is noticed that there are 47 unique OS belonging to Local Category.\n",
    "data_local['OS'].describe()"
   ]
  },
  {
   "cell_type": "markdown",
   "id": "5964ed64",
   "metadata": {},
   "source": [
    "### So we set thrushold value here that all the OS having CVSS over 7(High) and analysis them."
   ]
  },
  {
   "cell_type": "code",
   "execution_count": 46,
   "id": "96ba4512",
   "metadata": {},
   "outputs": [
    {
     "name": "stdout",
     "output_type": "stream",
     "text": [
      "          masked Ip                 Network Tracking Method  \\\n",
      "451    lab_2_IP9028  Global Default Network          QAGENT   \n",
      "5067   lab_2_IP8675  Global Default Network              IP   \n",
      "6712   lab_2_IP8481  Global Default Network              IP   \n",
      "6714   lab_2_IP8481  Global Default Network              IP   \n",
      "6839   lab_2_IP8473  Global Default Network              IP   \n",
      "6841   lab_2_IP8473  Global Default Network              IP   \n",
      "11082  lab_2_IP7910  Global Default Network              IP   \n",
      "22085  lab_2_IP6507  Global Default Network              IP   \n",
      "\n",
      "                                                      OS  \\\n",
      "451                                CentOS Linux 7.8.2003   \n",
      "5067                                              Ubuntu   \n",
      "6712                       VMware ESX 4.1.0 build 260247   \n",
      "6714                       VMware ESX 4.1.0 build 260247   \n",
      "6839                       VMware ESX 4.1.0 build 260247   \n",
      "6841                       VMware ESX 4.1.0 build 260247   \n",
      "11082      Ubuntu / Fedora / Tiny Core Linux / Linux 3.x   \n",
      "22085  EulerOS / Ubuntu / Fedora / Tiny Core Linux / ...   \n",
      "\n",
      "                      IP Status     QID  \\\n",
      "451    host scanned, found vuln  122698   \n",
      "5067   host scanned, found vuln  371687   \n",
      "6712   host scanned, found vuln  118967   \n",
      "6714   host scanned, found vuln  118569   \n",
      "6839   host scanned, found vuln  118967   \n",
      "6841   host scanned, found vuln  118569   \n",
      "11082  host scanned, found vuln  371687   \n",
      "22085  host scanned, found vuln  371687   \n",
      "\n",
      "                                                   Title Vuln Status  Type  \\\n",
      "451    Bash Command Injection/Remote Code Execution V...       Fixed  Vuln   \n",
      "5067   Kibana Multiple Security Vulnerabilities (ESA-...   Re-Opened  Vuln   \n",
      "6712   VMware ESX Security Update for Third-Party Com...      Active  Vuln   \n",
      "6714   VMware ESX Third Party Updates for Service Con...      Active  Vuln   \n",
      "6839   VMware ESX Security Update for Third-Party Com...      Active  Vuln   \n",
      "6841   VMware ESX Third Party Updates for Service Con...      Active  Vuln   \n",
      "11082  Kibana Multiple Security Vulnerabilities (ESA-...      Active  Vuln   \n",
      "22085  Kibana Multiple Security Vulnerabilities (ESA-...      Active  Vuln   \n",
      "\n",
      "       Severity  ...       CVSS3 Temporal  \\\n",
      "451           5  ...                  NaN   \n",
      "5067          4  ...  8.7 (E:U/RL:O/RC:C)   \n",
      "6712          3  ...  7.2 (E:F/RL:O/RC:C)   \n",
      "6714          3  ...                  NaN   \n",
      "6839          3  ...  7.2 (E:F/RL:O/RC:C)   \n",
      "6841          3  ...                  NaN   \n",
      "11082         4  ...  8.7 (E:U/RL:O/RC:C)   \n",
      "22085         4  ...  8.7 (E:U/RL:O/RC:C)   \n",
      "\n",
      "                                                  Threat  \\\n",
      "451    The GNU Bourne Again shell (Bash) is a shell a...   \n",
      "5067    Kibana is an open source data visualization p...   \n",
      "6712   VMware has acknowledged some vulnerabilities i...   \n",
      "6714   VMware ESX Server abstracts server processor, ...   \n",
      "6839   VMware has acknowledged some vulnerabilities i...   \n",
      "6841   VMware ESX Server abstracts server processor, ...   \n",
      "11082   Kibana is an open source data visualization p...   \n",
      "22085   Kibana is an open source data visualization p...   \n",
      "\n",
      "                                                  Impact  \\\n",
      "451    Successful exploitation allows remote code exe...   \n",
      "5067    Exploiting this issue may allow a remote atta...   \n",
      "6712   These vulnerabilities can be exploited to comp...   \n",
      "6714   Successful exploitation allows an attacker to ...   \n",
      "6839   These vulnerabilities can be exploited to comp...   \n",
      "6841   Successful exploitation allows an attacker to ...   \n",
      "11082   Exploiting this issue may allow a remote atta...   \n",
      "22085   Exploiting this issue may allow a remote atta...   \n",
      "\n",
      "                                                Solution  \\\n",
      "451    GNU bash has patches available at GNU BASH pat...   \n",
      "5067   Update to version 5.6.15 and 6.6.1. Kibana can...   \n",
      "6712   To resolve these vulnerabilities, upgrade to t...   \n",
      "6714   To resolve this vulnerability, upgrade to the ...   \n",
      "6839   To resolve these vulnerabilities, upgrade to t...   \n",
      "6841   To resolve this vulnerability, upgrade to the ...   \n",
      "11082  Update to version 5.6.15 and 6.6.1. Kibana can...   \n",
      "22085  Update to version 5.6.15 and 6.6.1. Kibana can...   \n",
      "\n",
      "                                          Exploitability  \\\n",
      "451    Source: The Exploit-DB_x000D_\\nReference:CVE-2...   \n",
      "5067                                                 NaN   \n",
      "6712   Source: The Exploit-DB_x000D_\\nReference:CVE-2...   \n",
      "6714   Source: The Exploit-DB_x000D_\\nReference:CVE-2...   \n",
      "6839   Source: The Exploit-DB_x000D_\\nReference:CVE-2...   \n",
      "6841   Source: The Exploit-DB_x000D_\\nReference:CVE-2...   \n",
      "11082                                                NaN   \n",
      "22085                                                NaN   \n",
      "\n",
      "                                      Associated Malware PCI Vuln  \\\n",
      "451    Source: Trend Micro_x000D_\\nMalware ID:ELF_BAS...      yes   \n",
      "5067                                                 NaN      yes   \n",
      "6712   Source: Trend Micro_x000D_\\nMalware ID:JAVA_AG...      yes   \n",
      "6714                                                 NaN      yes   \n",
      "6839   Source: Trend Micro_x000D_\\nMalware ID:JAVA_AG...      yes   \n",
      "6841                                                 NaN      yes   \n",
      "11082                                                NaN      yes   \n",
      "22085                                                NaN      yes   \n",
      "\n",
      "                                 OS CPE Category  Non-running Kernel  \n",
      "451                                 NaN    Local                  No  \n",
      "5067                                NaN    Local                  No  \n",
      "6712   cpe:/o:vmware:esx:4.1.0:260247::    Local                  No  \n",
      "6714   cpe:/o:vmware:esx:4.1.0:260247::    Local                  No  \n",
      "6839   cpe:/o:vmware:esx:4.1.0:260247::    Local                  No  \n",
      "6841   cpe:/o:vmware:esx:4.1.0:260247::    Local                  No  \n",
      "11082                               NaN    Local                  No  \n",
      "22085                               NaN    Local                  No  \n",
      "\n",
      "[8 rows x 39 columns]\n"
     ]
    },
    {
     "data": {
      "text/html": [
       "<div>\n",
       "<style scoped>\n",
       "    .dataframe tbody tr th:only-of-type {\n",
       "        vertical-align: middle;\n",
       "    }\n",
       "\n",
       "    .dataframe tbody tr th {\n",
       "        vertical-align: top;\n",
       "    }\n",
       "\n",
       "    .dataframe thead th {\n",
       "        text-align: right;\n",
       "    }\n",
       "</style>\n",
       "<table border=\"1\" class=\"dataframe\">\n",
       "  <thead>\n",
       "    <tr style=\"text-align: right;\">\n",
       "      <th></th>\n",
       "      <th>QID</th>\n",
       "      <th>Severity</th>\n",
       "      <th>Port</th>\n",
       "      <th>Times Detected</th>\n",
       "      <th>Times Reopened</th>\n",
       "      <th>CVSS</th>\n",
       "      <th>CVSS3</th>\n",
       "    </tr>\n",
       "  </thead>\n",
       "  <tbody>\n",
       "    <tr>\n",
       "      <th>count</th>\n",
       "      <td>8.000000</td>\n",
       "      <td>8.000000</td>\n",
       "      <td>3.0</td>\n",
       "      <td>8.000000</td>\n",
       "      <td>3.000000</td>\n",
       "      <td>8.000000</td>\n",
       "      <td>5.000000</td>\n",
       "    </tr>\n",
       "    <tr>\n",
       "      <th>mean</th>\n",
       "      <td>214103.875000</td>\n",
       "      <td>3.625000</td>\n",
       "      <td>5601.0</td>\n",
       "      <td>19.375000</td>\n",
       "      <td>1.666667</td>\n",
       "      <td>7.837500</td>\n",
       "      <td>8.100000</td>\n",
       "    </tr>\n",
       "    <tr>\n",
       "      <th>std</th>\n",
       "      <td>130498.074693</td>\n",
       "      <td>0.744024</td>\n",
       "      <td>0.0</td>\n",
       "      <td>10.676242</td>\n",
       "      <td>1.154701</td>\n",
       "      <td>0.417261</td>\n",
       "      <td>0.821584</td>\n",
       "    </tr>\n",
       "    <tr>\n",
       "      <th>min</th>\n",
       "      <td>118569.000000</td>\n",
       "      <td>3.000000</td>\n",
       "      <td>5601.0</td>\n",
       "      <td>2.000000</td>\n",
       "      <td>1.000000</td>\n",
       "      <td>7.400000</td>\n",
       "      <td>7.200000</td>\n",
       "    </tr>\n",
       "    <tr>\n",
       "      <th>25%</th>\n",
       "      <td>118867.500000</td>\n",
       "      <td>3.000000</td>\n",
       "      <td>5601.0</td>\n",
       "      <td>13.750000</td>\n",
       "      <td>1.000000</td>\n",
       "      <td>7.400000</td>\n",
       "      <td>7.200000</td>\n",
       "    </tr>\n",
       "    <tr>\n",
       "      <th>50%</th>\n",
       "      <td>120832.500000</td>\n",
       "      <td>3.500000</td>\n",
       "      <td>5601.0</td>\n",
       "      <td>25.000000</td>\n",
       "      <td>1.000000</td>\n",
       "      <td>7.800000</td>\n",
       "      <td>8.700000</td>\n",
       "    </tr>\n",
       "    <tr>\n",
       "      <th>75%</th>\n",
       "      <td>371687.000000</td>\n",
       "      <td>4.000000</td>\n",
       "      <td>5601.0</td>\n",
       "      <td>27.000000</td>\n",
       "      <td>2.000000</td>\n",
       "      <td>8.300000</td>\n",
       "      <td>8.700000</td>\n",
       "    </tr>\n",
       "    <tr>\n",
       "      <th>max</th>\n",
       "      <td>371687.000000</td>\n",
       "      <td>5.000000</td>\n",
       "      <td>5601.0</td>\n",
       "      <td>28.000000</td>\n",
       "      <td>3.000000</td>\n",
       "      <td>8.300000</td>\n",
       "      <td>8.700000</td>\n",
       "    </tr>\n",
       "  </tbody>\n",
       "</table>\n",
       "</div>"
      ],
      "text/plain": [
       "                 QID  Severity    Port  Times Detected  Times Reopened  \\\n",
       "count       8.000000  8.000000     3.0        8.000000        3.000000   \n",
       "mean   214103.875000  3.625000  5601.0       19.375000        1.666667   \n",
       "std    130498.074693  0.744024     0.0       10.676242        1.154701   \n",
       "min    118569.000000  3.000000  5601.0        2.000000        1.000000   \n",
       "25%    118867.500000  3.000000  5601.0       13.750000        1.000000   \n",
       "50%    120832.500000  3.500000  5601.0       25.000000        1.000000   \n",
       "75%    371687.000000  4.000000  5601.0       27.000000        2.000000   \n",
       "max    371687.000000  5.000000  5601.0       28.000000        3.000000   \n",
       "\n",
       "           CVSS     CVSS3  \n",
       "count  8.000000  5.000000  \n",
       "mean   7.837500  8.100000  \n",
       "std    0.417261  0.821584  \n",
       "min    7.400000  7.200000  \n",
       "25%    7.400000  7.200000  \n",
       "50%    7.800000  8.700000  \n",
       "75%    8.300000  8.700000  \n",
       "max    8.300000  8.700000  "
      ]
     },
     "execution_count": 46,
     "metadata": {},
     "output_type": "execute_result"
    }
   ],
   "source": [
    "data_local_cvss_7 = data_local.loc[(data_local['CVSS'] > 7)]\n",
    "print(data_local_cvss_7)\n",
    "data_local_cvss_7.describe()"
   ]
  },
  {
   "cell_type": "code",
   "execution_count": 47,
   "id": "d23312e1",
   "metadata": {},
   "outputs": [
    {
     "data": {
      "text/plain": [
       "Text(0, 0.5, 'O S')"
      ]
     },
     "execution_count": 47,
     "metadata": {},
     "output_type": "execute_result"
    },
    {
     "data": {
      "image/png": "[encoded data removed]",
      "text/plain": [
       "<Figure size 720x720 with 1 Axes>"
      ]
     },
     "metadata": {},
     "output_type": "display_data"
    }
   ],
   "source": [
    "OS=data_local_cvss_7['OS']\n",
    "Times_Detected=data_local_cvss_7['Times Detected']\n",
    "plt.barh(OS, Times_Detected, color ='blue',height=0.4)\n",
    "plt.xlabel('Times Detected',fontweight ='bold', fontsize = 15)\n",
    "plt.ylabel('O S',fontweight ='bold', fontsize = 15)\n"
   ]
  },
  {
   "cell_type": "code",
   "execution_count": 48,
   "id": "667b0c9d",
   "metadata": {},
   "outputs": [
    {
     "data": {
      "image/png": "[encoded data removed]",
      "text/plain": [
       "<Figure size 720x720 with 1 Axes>"
      ]
     },
     "metadata": {},
     "output_type": "display_data"
    }
   ],
   "source": [
    "\n",
    "plt.bar(data_local_cvss_7['OS'], data_local_cvss_7['CVSS'], color ='blue',width = 0.4,label='CVSS')\n",
    "p1=plt.bar(data_local_cvss_7['OS'], data_local_cvss_7['CVSS3'], color ='green',width = 0.4,label='CVSS3')\n",
    "plt.bar(data_local_cvss_7['OS'], data_local_cvss_7['Severity'], color ='maroon',width = 0.4,label='Severity')\n",
    "plt.legend()\n",
    "#sns.set_theme(style='whitegrid')\n",
    "#y_pos = range(len(data_local_cvss_7['OS']))\n",
    "plt.xticks(rotation=90)\n",
    "\n",
    "OS=data_local_cvss_7['OS']\n",
    "CVSS=data_local_cvss_7['CVSS']\n",
    "CVSS3=data_local_cvss_7['CVSS3']\n",
    "\n",
    "#for i in range(len(OS)):\n",
    "#    plt.text(i,9,CVSS3[i],ha=\"center\",va=\"bottom\")\n",
    "\n",
    "#ax.bar_label(p1, label_type='center')"
   ]
  },
  {
   "cell_type": "code",
   "execution_count": 49,
   "id": "412e3c95",
   "metadata": {},
   "outputs": [
    {
     "data": {
      "text/plain": [
       "<matplotlib.collections.PathCollection at 0x1d5be7cf520>"
      ]
     },
     "execution_count": 49,
     "metadata": {},
     "output_type": "execute_result"
    },
    {
     "data": {
      "image/png": "[encoded data removed]",
      "text/plain": [
       "<Figure size 720x720 with 1 Axes>"
      ]
     },
     "metadata": {},
     "output_type": "display_data"
    }
   ],
   "source": [
    "plt.scatter(x=data_local_cvss_7['Vuln Status'] ,y=data_local_cvss_7['OS'])"
   ]
  },
  {
   "cell_type": "code",
   "execution_count": null,
   "id": "262c11ba",
   "metadata": {},
   "outputs": [],
   "source": []
  },
  {
   "cell_type": "markdown",
   "id": "e904e370",
   "metadata": {},
   "source": [
    "# Observations:\n",
    "## 1)All the OS lie in the High CVSS score region.\n",
    "\n",
    "## 2)EulerOS/ Ubuntu/ has been listed the as most number of vulnerability                   detected and CVSS lieing in the High vulnerability region"
   ]
  },
  {
   "cell_type": "markdown",
   "id": "3e87294b",
   "metadata": {},
   "source": [
    "### -----------------------------------------------------------------------------------------------------------------------------------------------------"
   ]
  },
  {
   "cell_type": "markdown",
   "id": "7b478e57",
   "metadata": {},
   "source": [
    "### EulerOS / Ubuntu / Fedora / Tiny Core Linux / Linux 3.x / IBM"
   ]
  },
  {
   "cell_type": "code",
   "execution_count": 50,
   "id": "7bbc43b5",
   "metadata": {},
   "outputs": [],
   "source": [
    "mask = (data_local_cvss_7['OS'] == 'EulerOS / Ubuntu / Fedora / Tiny Core Linux / Linux 3.x / IBM') & (data_local_cvss_7['Severity'] >= 3) & (data_local_cvss_7['CVSS'] >= 7) \n",
    " \n",
    "# new dataframe with selected rows\n",
    "data_local_1 = pd.DataFrame(data_local_cvss_7[mask])"
   ]
  },
  {
   "cell_type": "code",
   "execution_count": 51,
   "id": "ea7c9a3a",
   "metadata": {},
   "outputs": [
    {
     "name": "stdout",
     "output_type": "stream",
     "text": [
      "           First Detected       Last Detected  Times Detected  Times Reopened  \\\n",
      "22085 2019-11-24 05:25:41 2020-09-23 17:54:51              28             NaN   \n",
      "\n",
      "      Associated Malware Exploitability  \n",
      "22085                NaN            NaN  \n"
     ]
    }
   ],
   "source": [
    "print(data_local_1[['First Detected','Last Detected','Times Detected','Times Reopened','Associated Malware','Exploitability']])"
   ]
  },
  {
   "cell_type": "code",
   "execution_count": 52,
   "id": "43cbf363",
   "metadata": {},
   "outputs": [
    {
     "name": "stdout",
     "output_type": "stream",
     "text": [
      "       Severity  CVSS  CVSS3 Vuln Status PCI Vuln  \\\n",
      "22085         4   7.4    8.7      Active      yes   \n",
      "\n",
      "                             CVSS Base         CVSS Temporal  \n",
      "22085  10 (AV:N/AC:L/Au:N/C:C/I:C/A:C)  7.4 (E:U/RL:OF/RC:C)  \n"
     ]
    }
   ],
   "source": [
    "print(data_local_1[['Severity','CVSS','CVSS3','Vuln Status','PCI Vuln','CVSS Base','CVSS Temporal']])"
   ]
  },
  {
   "cell_type": "markdown",
   "id": "861998df",
   "metadata": {},
   "source": [
    "### Ubuntu / Fedora / Tiny Core Linux / Linux 3.x"
   ]
  },
  {
   "cell_type": "code",
   "execution_count": 53,
   "id": "5a2c1afb",
   "metadata": {},
   "outputs": [],
   "source": [
    "mask = (data_local_cvss_7['OS'] == 'Ubuntu / Fedora / Tiny Core Linux / Linux 3.x') & (data_local_cvss_7['Severity'] >= 3) & (data_local_cvss_7['CVSS'] >= 7) \n",
    " \n",
    "# new dataframe with selected rows\n",
    "data_local_2 = pd.DataFrame(data_local_cvss_7[mask])"
   ]
  },
  {
   "cell_type": "code",
   "execution_count": 54,
   "id": "b0c71e1c",
   "metadata": {},
   "outputs": [
    {
     "name": "stdout",
     "output_type": "stream",
     "text": [
      "           First Detected       Last Detected  Times Detected  Times Reopened  \\\n",
      "11082 2019-11-24 22:38:02 2020-07-08 09:04:00              17             3.0   \n",
      "\n",
      "      Associated Malware Exploitability  \n",
      "11082                NaN            NaN  \n"
     ]
    }
   ],
   "source": [
    "print(data_local_2[['First Detected','Last Detected','Times Detected','Times Reopened','Associated Malware','Exploitability']])"
   ]
  },
  {
   "cell_type": "code",
   "execution_count": 55,
   "id": "64997b6c",
   "metadata": {},
   "outputs": [
    {
     "name": "stdout",
     "output_type": "stream",
     "text": [
      "       Severity  CVSS  CVSS3 Vuln Status PCI Vuln  \\\n",
      "11082         4   7.4    8.7      Active      yes   \n",
      "\n",
      "                             CVSS Base         CVSS Temporal  \n",
      "11082  10 (AV:N/AC:L/Au:N/C:C/I:C/A:C)  7.4 (E:U/RL:OF/RC:C)  \n"
     ]
    }
   ],
   "source": [
    "print(data_local_2[['Severity','CVSS','CVSS3','Vuln Status','PCI Vuln','CVSS Base','CVSS Temporal']])"
   ]
  },
  {
   "cell_type": "markdown",
   "id": "18b57bd3",
   "metadata": {},
   "source": [
    "### Ubuntu"
   ]
  },
  {
   "cell_type": "code",
   "execution_count": 56,
   "id": "985f84fd",
   "metadata": {},
   "outputs": [],
   "source": [
    "mask = (data_local_cvss_7['OS'] == 'Ubuntu') & (data_local_cvss_7['Severity'] >= 3) & (data_local_cvss_7['CVSS'] >= 7) \n",
    " \n",
    "# new dataframe with selected rows\n",
    "data_local_3 = pd.DataFrame(data_local_cvss_7[mask])"
   ]
  },
  {
   "cell_type": "code",
   "execution_count": 57,
   "id": "7d1a32a5",
   "metadata": {},
   "outputs": [
    {
     "name": "stdout",
     "output_type": "stream",
     "text": [
      "          First Detected       Last Detected  Times Detected  Times Reopened  \\\n",
      "5067 2020-05-27 02:19:20 2020-07-08 14:04:27               4             1.0   \n",
      "\n",
      "     Associated Malware Exploitability  \n",
      "5067                NaN            NaN  \n"
     ]
    }
   ],
   "source": [
    "print(data_local_3[['First Detected','Last Detected','Times Detected','Times Reopened','Associated Malware','Exploitability']])"
   ]
  },
  {
   "cell_type": "code",
   "execution_count": 58,
   "id": "8f062b5d",
   "metadata": {},
   "outputs": [
    {
     "name": "stdout",
     "output_type": "stream",
     "text": [
      "      Severity  CVSS  CVSS3 Vuln Status PCI Vuln  \\\n",
      "5067         4   7.4    8.7   Re-Opened      yes   \n",
      "\n",
      "                            CVSS Base         CVSS Temporal  \n",
      "5067  10 (AV:N/AC:L/Au:N/C:C/I:C/A:C)  7.4 (E:U/RL:OF/RC:C)  \n"
     ]
    }
   ],
   "source": [
    "print(data_local_3[['Severity','CVSS','CVSS3','Vuln Status','PCI Vuln','CVSS Base','CVSS Temporal']])"
   ]
  },
  {
   "cell_type": "markdown",
   "id": "bdaa4e8e",
   "metadata": {},
   "source": [
    "### --------------------------------------------------------------------------------------------------------------------------------------------------------------"
   ]
  },
  {
   "cell_type": "markdown",
   "id": "45d28607",
   "metadata": {},
   "source": [
    "### Most detected "
   ]
  },
  {
   "cell_type": "code",
   "execution_count": 59,
   "id": "91be0d58",
   "metadata": {},
   "outputs": [
    {
     "name": "stdout",
     "output_type": "stream",
     "text": [
      "         masked Ip                 Network Tracking Method  \\\n",
      "5     lab_2_IP9036  Global Default Network          QAGENT   \n",
      "1469  lab_2_IP9013  Global Default Network          QAGENT   \n",
      "\n",
      "                        OS                 IP Status     QID  \\\n",
      "5     Ubuntu Linux 16.04.4  host scanned, found vuln  370248   \n",
      "1469  Ubuntu Linux 16.04.4  host scanned, found vuln  370248   \n",
      "\n",
      "                                                  Title Vuln Status  Type  \\\n",
      "5     Ruby Gem nokogiri libxml2 and libxslt Security...      Active  Vuln   \n",
      "1469  Ruby Gem nokogiri libxml2 and libxslt Security...      Active  Vuln   \n",
      "\n",
      "      Severity  ...       CVSS3 Temporal  \\\n",
      "5            3  ...  6.5 (E:U/RL:O/RC:C)   \n",
      "1469         3  ...  6.5 (E:U/RL:O/RC:C)   \n",
      "\n",
      "                                                 Threat  \\\n",
      "5     Nokogiri is an HTML, XML, SAX, and Reader pars...   \n",
      "1469  Nokogiri is an HTML, XML, SAX, and Reader pars...   \n",
      "\n",
      "                                                 Impact  \\\n",
      "5     Successful exploitation allows a remote attack...   \n",
      "1469  Successful exploitation allows a remote attack...   \n",
      "\n",
      "                                               Solution Exploitability  \\\n",
      "5     Customers are advised to install nokogiri 1.6....            NaN   \n",
      "1469  Customers are advised to install nokogiri 1.6....            NaN   \n",
      "\n",
      "      Associated Malware PCI Vuln OS CPE Category  Non-running Kernel  \n",
      "5                    NaN       no    NaN    Local                  No  \n",
      "1469                 NaN       no    NaN    Local                  No  \n",
      "\n",
      "[2 rows x 39 columns]\n"
     ]
    },
    {
     "data": {
      "text/html": [
       "<div>\n",
       "<style scoped>\n",
       "    .dataframe tbody tr th:only-of-type {\n",
       "        vertical-align: middle;\n",
       "    }\n",
       "\n",
       "    .dataframe tbody tr th {\n",
       "        vertical-align: top;\n",
       "    }\n",
       "\n",
       "    .dataframe thead th {\n",
       "        text-align: right;\n",
       "    }\n",
       "</style>\n",
       "<table border=\"1\" class=\"dataframe\">\n",
       "  <thead>\n",
       "    <tr style=\"text-align: right;\">\n",
       "      <th></th>\n",
       "      <th>QID</th>\n",
       "      <th>Severity</th>\n",
       "      <th>Port</th>\n",
       "      <th>Times Detected</th>\n",
       "      <th>Times Reopened</th>\n",
       "      <th>CVSS</th>\n",
       "      <th>CVSS3</th>\n",
       "    </tr>\n",
       "  </thead>\n",
       "  <tbody>\n",
       "    <tr>\n",
       "      <th>count</th>\n",
       "      <td>2.0</td>\n",
       "      <td>2.0</td>\n",
       "      <td>0.0</td>\n",
       "      <td>2.000000</td>\n",
       "      <td>2.000000</td>\n",
       "      <td>2.0</td>\n",
       "      <td>2.0</td>\n",
       "    </tr>\n",
       "    <tr>\n",
       "      <th>mean</th>\n",
       "      <td>370248.0</td>\n",
       "      <td>3.0</td>\n",
       "      <td>NaN</td>\n",
       "      <td>2677.500000</td>\n",
       "      <td>1.500000</td>\n",
       "      <td>3.7</td>\n",
       "      <td>6.5</td>\n",
       "    </tr>\n",
       "    <tr>\n",
       "      <th>std</th>\n",
       "      <td>0.0</td>\n",
       "      <td>0.0</td>\n",
       "      <td>NaN</td>\n",
       "      <td>181.726443</td>\n",
       "      <td>0.707107</td>\n",
       "      <td>0.0</td>\n",
       "      <td>0.0</td>\n",
       "    </tr>\n",
       "    <tr>\n",
       "      <th>min</th>\n",
       "      <td>370248.0</td>\n",
       "      <td>3.0</td>\n",
       "      <td>NaN</td>\n",
       "      <td>2549.000000</td>\n",
       "      <td>1.000000</td>\n",
       "      <td>3.7</td>\n",
       "      <td>6.5</td>\n",
       "    </tr>\n",
       "    <tr>\n",
       "      <th>25%</th>\n",
       "      <td>370248.0</td>\n",
       "      <td>3.0</td>\n",
       "      <td>NaN</td>\n",
       "      <td>2613.250000</td>\n",
       "      <td>1.250000</td>\n",
       "      <td>3.7</td>\n",
       "      <td>6.5</td>\n",
       "    </tr>\n",
       "    <tr>\n",
       "      <th>50%</th>\n",
       "      <td>370248.0</td>\n",
       "      <td>3.0</td>\n",
       "      <td>NaN</td>\n",
       "      <td>2677.500000</td>\n",
       "      <td>1.500000</td>\n",
       "      <td>3.7</td>\n",
       "      <td>6.5</td>\n",
       "    </tr>\n",
       "    <tr>\n",
       "      <th>75%</th>\n",
       "      <td>370248.0</td>\n",
       "      <td>3.0</td>\n",
       "      <td>NaN</td>\n",
       "      <td>2741.750000</td>\n",
       "      <td>1.750000</td>\n",
       "      <td>3.7</td>\n",
       "      <td>6.5</td>\n",
       "    </tr>\n",
       "    <tr>\n",
       "      <th>max</th>\n",
       "      <td>370248.0</td>\n",
       "      <td>3.0</td>\n",
       "      <td>NaN</td>\n",
       "      <td>2806.000000</td>\n",
       "      <td>2.000000</td>\n",
       "      <td>3.7</td>\n",
       "      <td>6.5</td>\n",
       "    </tr>\n",
       "  </tbody>\n",
       "</table>\n",
       "</div>"
      ],
      "text/plain": [
       "            QID  Severity  Port  Times Detected  Times Reopened  CVSS  CVSS3\n",
       "count       2.0       2.0   0.0        2.000000        2.000000   2.0    2.0\n",
       "mean   370248.0       3.0   NaN     2677.500000        1.500000   3.7    6.5\n",
       "std         0.0       0.0   NaN      181.726443        0.707107   0.0    0.0\n",
       "min    370248.0       3.0   NaN     2549.000000        1.000000   3.7    6.5\n",
       "25%    370248.0       3.0   NaN     2613.250000        1.250000   3.7    6.5\n",
       "50%    370248.0       3.0   NaN     2677.500000        1.500000   3.7    6.5\n",
       "75%    370248.0       3.0   NaN     2741.750000        1.750000   3.7    6.5\n",
       "max    370248.0       3.0   NaN     2806.000000        2.000000   3.7    6.5"
      ]
     },
     "execution_count": 59,
     "metadata": {},
     "output_type": "execute_result"
    }
   ],
   "source": [
    "data_local_cvss_7 = data_local.loc[(data_local['Times Detected'] >= 2500)]\n",
    "print(data_local_cvss_7)\n",
    "data_local_cvss_7.describe()"
   ]
  },
  {
   "cell_type": "markdown",
   "id": "df90597c",
   "metadata": {},
   "source": [
    "### --------------------------------------------------------------------------------------------------------------------------------------------------------------"
   ]
  },
  {
   "cell_type": "markdown",
   "id": "0685b235",
   "metadata": {},
   "source": [
    "### Severity = 5"
   ]
  },
  {
   "cell_type": "code",
   "execution_count": 60,
   "id": "deb6b17a",
   "metadata": {},
   "outputs": [
    {
     "name": "stdout",
     "output_type": "stream",
     "text": [
      "        masked Ip                 Network Tracking Method  \\\n",
      "451  lab_2_IP9028  Global Default Network          QAGENT   \n",
      "\n",
      "                        OS                 IP Status     QID  \\\n",
      "451  CentOS Linux 7.8.2003  host scanned, found vuln  122698   \n",
      "\n",
      "                                                 Title Vuln Status  Type  \\\n",
      "451  Bash Command Injection/Remote Code Execution V...       Fixed  Vuln   \n",
      "\n",
      "     Severity  ...  CVSS3 Temporal  \\\n",
      "451         5  ...             NaN   \n",
      "\n",
      "                                                Threat  \\\n",
      "451  The GNU Bourne Again shell (Bash) is a shell a...   \n",
      "\n",
      "                                                Impact  \\\n",
      "451  Successful exploitation allows remote code exe...   \n",
      "\n",
      "                                              Solution  \\\n",
      "451  GNU bash has patches available at GNU BASH pat...   \n",
      "\n",
      "                                        Exploitability  \\\n",
      "451  Source: The Exploit-DB_x000D_\\nReference:CVE-2...   \n",
      "\n",
      "                                    Associated Malware PCI Vuln OS CPE  \\\n",
      "451  Source: Trend Micro_x000D_\\nMalware ID:ELF_BAS...      yes    NaN   \n",
      "\n",
      "    Category  Non-running Kernel  \n",
      "451    Local                  No  \n",
      "\n",
      "[1 rows x 39 columns]\n"
     ]
    },
    {
     "data": {
      "text/html": [
       "<div>\n",
       "<style scoped>\n",
       "    .dataframe tbody tr th:only-of-type {\n",
       "        vertical-align: middle;\n",
       "    }\n",
       "\n",
       "    .dataframe tbody tr th {\n",
       "        vertical-align: top;\n",
       "    }\n",
       "\n",
       "    .dataframe thead th {\n",
       "        text-align: right;\n",
       "    }\n",
       "</style>\n",
       "<table border=\"1\" class=\"dataframe\">\n",
       "  <thead>\n",
       "    <tr style=\"text-align: right;\">\n",
       "      <th></th>\n",
       "      <th>QID</th>\n",
       "      <th>Severity</th>\n",
       "      <th>Port</th>\n",
       "      <th>Times Detected</th>\n",
       "      <th>Times Reopened</th>\n",
       "      <th>CVSS</th>\n",
       "      <th>CVSS3</th>\n",
       "    </tr>\n",
       "  </thead>\n",
       "  <tbody>\n",
       "    <tr>\n",
       "      <th>count</th>\n",
       "      <td>1.0</td>\n",
       "      <td>1.0</td>\n",
       "      <td>0.0</td>\n",
       "      <td>1.0</td>\n",
       "      <td>1.0</td>\n",
       "      <td>1.0</td>\n",
       "      <td>0.0</td>\n",
       "    </tr>\n",
       "    <tr>\n",
       "      <th>mean</th>\n",
       "      <td>122698.0</td>\n",
       "      <td>5.0</td>\n",
       "      <td>NaN</td>\n",
       "      <td>2.0</td>\n",
       "      <td>1.0</td>\n",
       "      <td>8.3</td>\n",
       "      <td>NaN</td>\n",
       "    </tr>\n",
       "    <tr>\n",
       "      <th>std</th>\n",
       "      <td>NaN</td>\n",
       "      <td>NaN</td>\n",
       "      <td>NaN</td>\n",
       "      <td>NaN</td>\n",
       "      <td>NaN</td>\n",
       "      <td>NaN</td>\n",
       "      <td>NaN</td>\n",
       "    </tr>\n",
       "    <tr>\n",
       "      <th>min</th>\n",
       "      <td>122698.0</td>\n",
       "      <td>5.0</td>\n",
       "      <td>NaN</td>\n",
       "      <td>2.0</td>\n",
       "      <td>1.0</td>\n",
       "      <td>8.3</td>\n",
       "      <td>NaN</td>\n",
       "    </tr>\n",
       "    <tr>\n",
       "      <th>25%</th>\n",
       "      <td>122698.0</td>\n",
       "      <td>5.0</td>\n",
       "      <td>NaN</td>\n",
       "      <td>2.0</td>\n",
       "      <td>1.0</td>\n",
       "      <td>8.3</td>\n",
       "      <td>NaN</td>\n",
       "    </tr>\n",
       "    <tr>\n",
       "      <th>50%</th>\n",
       "      <td>122698.0</td>\n",
       "      <td>5.0</td>\n",
       "      <td>NaN</td>\n",
       "      <td>2.0</td>\n",
       "      <td>1.0</td>\n",
       "      <td>8.3</td>\n",
       "      <td>NaN</td>\n",
       "    </tr>\n",
       "    <tr>\n",
       "      <th>75%</th>\n",
       "      <td>122698.0</td>\n",
       "      <td>5.0</td>\n",
       "      <td>NaN</td>\n",
       "      <td>2.0</td>\n",
       "      <td>1.0</td>\n",
       "      <td>8.3</td>\n",
       "      <td>NaN</td>\n",
       "    </tr>\n",
       "    <tr>\n",
       "      <th>max</th>\n",
       "      <td>122698.0</td>\n",
       "      <td>5.0</td>\n",
       "      <td>NaN</td>\n",
       "      <td>2.0</td>\n",
       "      <td>1.0</td>\n",
       "      <td>8.3</td>\n",
       "      <td>NaN</td>\n",
       "    </tr>\n",
       "  </tbody>\n",
       "</table>\n",
       "</div>"
      ],
      "text/plain": [
       "            QID  Severity  Port  Times Detected  Times Reopened  CVSS  CVSS3\n",
       "count       1.0       1.0   0.0             1.0             1.0   1.0    0.0\n",
       "mean   122698.0       5.0   NaN             2.0             1.0   8.3    NaN\n",
       "std         NaN       NaN   NaN             NaN             NaN   NaN    NaN\n",
       "min    122698.0       5.0   NaN             2.0             1.0   8.3    NaN\n",
       "25%    122698.0       5.0   NaN             2.0             1.0   8.3    NaN\n",
       "50%    122698.0       5.0   NaN             2.0             1.0   8.3    NaN\n",
       "75%    122698.0       5.0   NaN             2.0             1.0   8.3    NaN\n",
       "max    122698.0       5.0   NaN             2.0             1.0   8.3    NaN"
      ]
     },
     "execution_count": 60,
     "metadata": {},
     "output_type": "execute_result"
    }
   ],
   "source": [
    "data_local_cvss_7 = data_local.loc[(data_local['Severity'] == 5)]\n",
    "print(data_local_cvss_7)\n",
    "data_local_cvss_7.describe()"
   ]
  },
  {
   "cell_type": "code",
   "execution_count": 61,
   "id": "6ff511e5",
   "metadata": {},
   "outputs": [],
   "source": [
    "## We can see that only has severity equal to 5 but its CVSS3 is unknow (Null Value)"
   ]
  },
  {
   "cell_type": "code",
   "execution_count": 62,
   "id": "c7210030",
   "metadata": {},
   "outputs": [
    {
     "data": {
      "text/html": [
       "<div>\n",
       "<style scoped>\n",
       "    .dataframe tbody tr th:only-of-type {\n",
       "        vertical-align: middle;\n",
       "    }\n",
       "\n",
       "    .dataframe tbody tr th {\n",
       "        vertical-align: top;\n",
       "    }\n",
       "\n",
       "    .dataframe thead th {\n",
       "        text-align: right;\n",
       "    }\n",
       "</style>\n",
       "<table border=\"1\" class=\"dataframe\">\n",
       "  <thead>\n",
       "    <tr style=\"text-align: right;\">\n",
       "      <th></th>\n",
       "      <th>QID</th>\n",
       "      <th>Severity</th>\n",
       "      <th>Port</th>\n",
       "      <th>Times Detected</th>\n",
       "      <th>Times Reopened</th>\n",
       "      <th>CVSS</th>\n",
       "      <th>CVSS3</th>\n",
       "    </tr>\n",
       "  </thead>\n",
       "  <tbody>\n",
       "    <tr>\n",
       "      <th>count</th>\n",
       "      <td>1.0</td>\n",
       "      <td>1.0</td>\n",
       "      <td>0.0</td>\n",
       "      <td>1.0</td>\n",
       "      <td>1.0</td>\n",
       "      <td>1.0</td>\n",
       "      <td>0.0</td>\n",
       "    </tr>\n",
       "    <tr>\n",
       "      <th>mean</th>\n",
       "      <td>122698.0</td>\n",
       "      <td>5.0</td>\n",
       "      <td>NaN</td>\n",
       "      <td>2.0</td>\n",
       "      <td>1.0</td>\n",
       "      <td>8.3</td>\n",
       "      <td>NaN</td>\n",
       "    </tr>\n",
       "    <tr>\n",
       "      <th>std</th>\n",
       "      <td>NaN</td>\n",
       "      <td>NaN</td>\n",
       "      <td>NaN</td>\n",
       "      <td>NaN</td>\n",
       "      <td>NaN</td>\n",
       "      <td>NaN</td>\n",
       "      <td>NaN</td>\n",
       "    </tr>\n",
       "    <tr>\n",
       "      <th>min</th>\n",
       "      <td>122698.0</td>\n",
       "      <td>5.0</td>\n",
       "      <td>NaN</td>\n",
       "      <td>2.0</td>\n",
       "      <td>1.0</td>\n",
       "      <td>8.3</td>\n",
       "      <td>NaN</td>\n",
       "    </tr>\n",
       "    <tr>\n",
       "      <th>25%</th>\n",
       "      <td>122698.0</td>\n",
       "      <td>5.0</td>\n",
       "      <td>NaN</td>\n",
       "      <td>2.0</td>\n",
       "      <td>1.0</td>\n",
       "      <td>8.3</td>\n",
       "      <td>NaN</td>\n",
       "    </tr>\n",
       "    <tr>\n",
       "      <th>50%</th>\n",
       "      <td>122698.0</td>\n",
       "      <td>5.0</td>\n",
       "      <td>NaN</td>\n",
       "      <td>2.0</td>\n",
       "      <td>1.0</td>\n",
       "      <td>8.3</td>\n",
       "      <td>NaN</td>\n",
       "    </tr>\n",
       "    <tr>\n",
       "      <th>75%</th>\n",
       "      <td>122698.0</td>\n",
       "      <td>5.0</td>\n",
       "      <td>NaN</td>\n",
       "      <td>2.0</td>\n",
       "      <td>1.0</td>\n",
       "      <td>8.3</td>\n",
       "      <td>NaN</td>\n",
       "    </tr>\n",
       "    <tr>\n",
       "      <th>max</th>\n",
       "      <td>122698.0</td>\n",
       "      <td>5.0</td>\n",
       "      <td>NaN</td>\n",
       "      <td>2.0</td>\n",
       "      <td>1.0</td>\n",
       "      <td>8.3</td>\n",
       "      <td>NaN</td>\n",
       "    </tr>\n",
       "  </tbody>\n",
       "</table>\n",
       "</div>"
      ],
      "text/plain": [
       "            QID  Severity  Port  Times Detected  Times Reopened  CVSS  CVSS3\n",
       "count       1.0       1.0   0.0             1.0             1.0   1.0    0.0\n",
       "mean   122698.0       5.0   NaN             2.0             1.0   8.3    NaN\n",
       "std         NaN       NaN   NaN             NaN             NaN   NaN    NaN\n",
       "min    122698.0       5.0   NaN             2.0             1.0   8.3    NaN\n",
       "25%    122698.0       5.0   NaN             2.0             1.0   8.3    NaN\n",
       "50%    122698.0       5.0   NaN             2.0             1.0   8.3    NaN\n",
       "75%    122698.0       5.0   NaN             2.0             1.0   8.3    NaN\n",
       "max    122698.0       5.0   NaN             2.0             1.0   8.3    NaN"
      ]
     },
     "execution_count": 62,
     "metadata": {},
     "output_type": "execute_result"
    }
   ],
   "source": [
    "data_local_cvss_7_CentOS=data_local_cvss_7.loc[(data_local_cvss_7['OS'] == 'CentOS Linux 7.8.2003')]\n",
    "data_local_cvss_7_CentOS.describe()"
   ]
  },
  {
   "cell_type": "code",
   "execution_count": null,
   "id": "81aebd1b",
   "metadata": {},
   "outputs": [],
   "source": []
  },
  {
   "cell_type": "markdown",
   "id": "d7826d9a",
   "metadata": {},
   "source": [
    "## ----------------------------------------------------------------------------------------------------------------------------------"
   ]
  },
  {
   "cell_type": "markdown",
   "id": "476f3ce6",
   "metadata": {},
   "source": [
    "# Analysis of RedHat Category OS"
   ]
  },
  {
   "cell_type": "code",
   "execution_count": 63,
   "id": "1178f747",
   "metadata": {},
   "outputs": [
    {
     "name": "stdout",
     "output_type": "stream",
     "text": [
      "         masked Ip                 Network Tracking Method  \\\n",
      "206   lab_2_IP9035  Global Default Network          QAGENT   \n",
      "207   lab_2_IP9035  Global Default Network          QAGENT   \n",
      "208   lab_2_IP9035  Global Default Network          QAGENT   \n",
      "209   lab_2_IP9035  Global Default Network          QAGENT   \n",
      "210   lab_2_IP9035  Global Default Network          QAGENT   \n",
      "...            ...                     ...             ...   \n",
      "2264  lab_2_IP9006  Global Default Network          QAGENT   \n",
      "2265  lab_2_IP9006  Global Default Network          QAGENT   \n",
      "2266  lab_2_IP9006  Global Default Network          QAGENT   \n",
      "2267  lab_2_IP9006  Global Default Network          QAGENT   \n",
      "2268  lab_2_IP9006  Global Default Network          QAGENT   \n",
      "\n",
      "                                       OS                 IP Status     QID  \\\n",
      "206          Red Hat Enterprise Linux 8.1  host scanned, found vuln  238147   \n",
      "207          Red Hat Enterprise Linux 8.1  host scanned, found vuln  238053   \n",
      "208          Red Hat Enterprise Linux 8.1  host scanned, found vuln  237997   \n",
      "209          Red Hat Enterprise Linux 8.1  host scanned, found vuln  237994   \n",
      "210          Red Hat Enterprise Linux 8.1  host scanned, found vuln  237992   \n",
      "...                                   ...                       ...     ...   \n",
      "2264  Red Hat Enterprise Linux Server 7.6  host scanned, found vuln  237430   \n",
      "2265  Red Hat Enterprise Linux Server 7.6  host scanned, found vuln  237425   \n",
      "2266  Red Hat Enterprise Linux Server 7.6  host scanned, found vuln  237420   \n",
      "2267  Red Hat Enterprise Linux Server 7.6  host scanned, found vuln  237397   \n",
      "2268  Red Hat Enterprise Linux Server 7.6  host scanned, found vuln  237395   \n",
      "\n",
      "                                              Title Vuln Status  Type  \\\n",
      "206   Red Hat Update for virt:rhel (RHSA-2020:1358)         New  Vuln   \n",
      "207         Red Hat Update for icu (RHSA-2020:0902)         New  Vuln   \n",
      "208         Red Hat Update for ksh (RHSA-2020:0559)         New  Vuln   \n",
      "209   Red Hat Update for openjpeg2 (RHSA-2020:0570)         New  Vuln   \n",
      "210     Red Hat Update for systemd (RHSA-2020:0575)         New  Vuln   \n",
      "...                                             ...         ...   ...   \n",
      "2264       Red Hat Update for curl (RHSA-2019:2181)      Active  Vuln   \n",
      "2265      Red Hat Update for unzip (RHSA-2019:2159)      Active  Vuln   \n",
      "2266    Red Hat Update for openssh (RHSA-2019:2143)      Active  Vuln   \n",
      "2267        Red Hat Update for ntp (RHSA-2019:2077)      Active  Vuln   \n",
      "2268       Red Hat Update for curl (RHSA-2019:1880)      Active  Vuln   \n",
      "\n",
      "      Severity  ...       CVSS3 Temporal  \\\n",
      "206          4  ...  5.2 (E:U/RL:O/RC:C)   \n",
      "207          4  ...  7.7 (E:U/RL:O/RC:C)   \n",
      "208          4  ...  6.7 (E:U/RL:O/RC:C)   \n",
      "209          4  ...  7.7 (E:U/RL:O/RC:C)   \n",
      "210          4  ...  6.7 (E:U/RL:O/RC:C)   \n",
      "...        ...  ...                  ...   \n",
      "2264         2  ...  7.9 (E:U/RL:O/RC:C)   \n",
      "2265         2  ...  4.8 (E:U/RL:O/RC:C)   \n",
      "2266         2  ...  4.8 (E:P/RL:O/RC:C)   \n",
      "2267         2  ...  8.8 (E:P/RL:O/RC:C)   \n",
      "2268         2  ...  8.5 (E:U/RL:O/RC:C)   \n",
      "\n",
      "                                                 Threat  \\\n",
      "206   Kernel-based Virtual Machine (KVM) offers a fu...   \n",
      "207   The International Components for Unicode (ICU)...   \n",
      "208   KornShell (ksh) is a Unix shell developed by A...   \n",
      "209   OpenJPEG is an open source library for reading...   \n",
      "210   The systemd packages contain systemd, a system...   \n",
      "...                                                 ...   \n",
      "2264  The curl packages provide the libcurl library ...   \n",
      "2265  The unzip utility is used to list, test, and e...   \n",
      "2266  OpenSSH is an SSH protocol implementation supp...   \n",
      "2267  The Network Time Protocol (NTP) is used to syn...   \n",
      "2268  The curl packages provide the libcurl library ...   \n",
      "\n",
      "                                                 Impact  \\\n",
      "206   On successful exploitation it could allow an a...   \n",
      "207   On successful exploitation it could allow an a...   \n",
      "208   On successful exploitation it could allow an a...   \n",
      "209   On successful exploitation it could allow an a...   \n",
      "210   On successful exploitation it could allow an a...   \n",
      "...                                                 ...   \n",
      "2264  On successful exploitation it could allow an a...   \n",
      "2265  On successful exploitation it could allow an a...   \n",
      "2266  On successful exploitation it could allow an a...   \n",
      "2267  On successful exploitation it could allow an a...   \n",
      "2268  On successful exploitation it could allow an a...   \n",
      "\n",
      "                                               Solution  \\\n",
      "206   Upgrade to the latest packages which contain a...   \n",
      "207   Upgrade to the latest packages which contain a...   \n",
      "208   Upgrade to the latest packages which contain a...   \n",
      "209   Upgrade to the latest packages which contain a...   \n",
      "210   Upgrade to the latest packages which contain a...   \n",
      "...                                                 ...   \n",
      "2264  Upgrade to the latest packages which contain a...   \n",
      "2265  Upgrade to the latest packages which contain a...   \n",
      "2266  Upgrade to the latest packages which contain a...   \n",
      "2267  Upgrade to the latest packages which contain a...   \n",
      "2268  Upgrade to the latest packages which contain a...   \n",
      "\n",
      "                                         Exploitability  Associated Malware  \\\n",
      "206                                                 NaN                 NaN   \n",
      "207                                                 NaN                 NaN   \n",
      "208                                                 NaN                 NaN   \n",
      "209                                                 NaN                 NaN   \n",
      "210                                                 NaN                 NaN   \n",
      "...                                                 ...                 ...   \n",
      "2264                                                NaN                 NaN   \n",
      "2265                                                NaN                 NaN   \n",
      "2266  Source: The Exploit-DB_x000D_\\nReference:CVE-2...                 NaN   \n",
      "2267  Source: The Exploit-DB_x000D_\\nReference:CVE-2...                 NaN   \n",
      "2268                                                NaN                 NaN   \n",
      "\n",
      "     PCI Vuln OS CPE Category  Non-running Kernel  \n",
      "206       yes    NaN   RedHat                  No  \n",
      "207       yes    NaN   RedHat                  No  \n",
      "208       yes    NaN   RedHat                  No  \n",
      "209       yes    NaN   RedHat                  No  \n",
      "210       yes    NaN   RedHat                  No  \n",
      "...       ...    ...      ...                 ...  \n",
      "2264      yes    NaN   RedHat                  No  \n",
      "2265       no    NaN   RedHat                  No  \n",
      "2266      yes    NaN   RedHat                  No  \n",
      "2267      yes    NaN   RedHat                  No  \n",
      "2268      yes    NaN   RedHat                  No  \n",
      "\n",
      "[654 rows x 39 columns]\n"
     ]
    },
    {
     "data": {
      "text/html": [
       "<div>\n",
       "<style scoped>\n",
       "    .dataframe tbody tr th:only-of-type {\n",
       "        vertical-align: middle;\n",
       "    }\n",
       "\n",
       "    .dataframe tbody tr th {\n",
       "        vertical-align: top;\n",
       "    }\n",
       "\n",
       "    .dataframe thead th {\n",
       "        text-align: right;\n",
       "    }\n",
       "</style>\n",
       "<table border=\"1\" class=\"dataframe\">\n",
       "  <thead>\n",
       "    <tr style=\"text-align: right;\">\n",
       "      <th></th>\n",
       "      <th>QID</th>\n",
       "      <th>Severity</th>\n",
       "      <th>Port</th>\n",
       "      <th>Times Detected</th>\n",
       "      <th>Times Reopened</th>\n",
       "      <th>CVSS</th>\n",
       "      <th>CVSS3</th>\n",
       "    </tr>\n",
       "  </thead>\n",
       "  <tbody>\n",
       "    <tr>\n",
       "      <th>count</th>\n",
       "      <td>654.000000</td>\n",
       "      <td>654.000000</td>\n",
       "      <td>0.0</td>\n",
       "      <td>654.000000</td>\n",
       "      <td>3.000000</td>\n",
       "      <td>654.000000</td>\n",
       "      <td>647.000000</td>\n",
       "    </tr>\n",
       "    <tr>\n",
       "      <th>mean</th>\n",
       "      <td>237823.062691</td>\n",
       "      <td>3.412844</td>\n",
       "      <td>NaN</td>\n",
       "      <td>651.974006</td>\n",
       "      <td>1.666667</td>\n",
       "      <td>4.562080</td>\n",
       "      <td>6.798145</td>\n",
       "    </tr>\n",
       "    <tr>\n",
       "      <th>std</th>\n",
       "      <td>461.506721</td>\n",
       "      <td>0.702797</td>\n",
       "      <td>NaN</td>\n",
       "      <td>677.371764</td>\n",
       "      <td>1.154701</td>\n",
       "      <td>1.266919</td>\n",
       "      <td>1.339133</td>\n",
       "    </tr>\n",
       "    <tr>\n",
       "      <th>min</th>\n",
       "      <td>236763.000000</td>\n",
       "      <td>2.000000</td>\n",
       "      <td>NaN</td>\n",
       "      <td>1.000000</td>\n",
       "      <td>1.000000</td>\n",
       "      <td>1.400000</td>\n",
       "      <td>2.900000</td>\n",
       "    </tr>\n",
       "    <tr>\n",
       "      <th>25%</th>\n",
       "      <td>237428.000000</td>\n",
       "      <td>3.000000</td>\n",
       "      <td>NaN</td>\n",
       "      <td>61.000000</td>\n",
       "      <td>1.000000</td>\n",
       "      <td>3.600000</td>\n",
       "      <td>5.900000</td>\n",
       "    </tr>\n",
       "    <tr>\n",
       "      <th>50%</th>\n",
       "      <td>237861.000000</td>\n",
       "      <td>4.000000</td>\n",
       "      <td>NaN</td>\n",
       "      <td>406.000000</td>\n",
       "      <td>1.000000</td>\n",
       "      <td>5.000000</td>\n",
       "      <td>6.800000</td>\n",
       "    </tr>\n",
       "    <tr>\n",
       "      <th>75%</th>\n",
       "      <td>238232.000000</td>\n",
       "      <td>4.000000</td>\n",
       "      <td>NaN</td>\n",
       "      <td>1320.250000</td>\n",
       "      <td>2.000000</td>\n",
       "      <td>5.500000</td>\n",
       "      <td>7.700000</td>\n",
       "    </tr>\n",
       "    <tr>\n",
       "      <th>max</th>\n",
       "      <td>238591.000000</td>\n",
       "      <td>5.000000</td>\n",
       "      <td>NaN</td>\n",
       "      <td>2786.000000</td>\n",
       "      <td>3.000000</td>\n",
       "      <td>7.800000</td>\n",
       "      <td>9.800000</td>\n",
       "    </tr>\n",
       "  </tbody>\n",
       "</table>\n",
       "</div>"
      ],
      "text/plain": [
       "                 QID    Severity  Port  Times Detected  Times Reopened  \\\n",
       "count     654.000000  654.000000   0.0      654.000000        3.000000   \n",
       "mean   237823.062691    3.412844   NaN      651.974006        1.666667   \n",
       "std       461.506721    0.702797   NaN      677.371764        1.154701   \n",
       "min    236763.000000    2.000000   NaN        1.000000        1.000000   \n",
       "25%    237428.000000    3.000000   NaN       61.000000        1.000000   \n",
       "50%    237861.000000    4.000000   NaN      406.000000        1.000000   \n",
       "75%    238232.000000    4.000000   NaN     1320.250000        2.000000   \n",
       "max    238591.000000    5.000000   NaN     2786.000000        3.000000   \n",
       "\n",
       "             CVSS       CVSS3  \n",
       "count  654.000000  647.000000  \n",
       "mean     4.562080    6.798145  \n",
       "std      1.266919    1.339133  \n",
       "min      1.400000    2.900000  \n",
       "25%      3.600000    5.900000  \n",
       "50%      5.000000    6.800000  \n",
       "75%      5.500000    7.700000  \n",
       "max      7.800000    9.800000  "
      ]
     },
     "execution_count": 63,
     "metadata": {},
     "output_type": "execute_result"
    }
   ],
   "source": [
    "# condition mask\n",
    "mask = data['Category'] == 'RedHat'\n",
    " \n",
    "# new dataframe with selected rows\n",
    "data_redhat = pd.DataFrame(data[mask])\n",
    " \n",
    "print(data_redhat)\n",
    "data_redhat.describe()"
   ]
  },
  {
   "cell_type": "code",
   "execution_count": 64,
   "id": "d79466da",
   "metadata": {},
   "outputs": [
    {
     "data": {
      "text/plain": [
       "count                              654\n",
       "unique                               6\n",
       "top       Red Hat Enterprise Linux 8.2\n",
       "freq                               240\n",
       "Name: OS, dtype: object"
      ]
     },
     "execution_count": 64,
     "metadata": {},
     "output_type": "execute_result"
    }
   ],
   "source": [
    "data_redhat['OS'].describe() # We have 6 unique OS in RedHat Category "
   ]
  },
  {
   "cell_type": "code",
   "execution_count": 65,
   "id": "9915295e",
   "metadata": {},
   "outputs": [
    {
     "data": {
      "text/plain": [
       "Text(0, 0.5, 'O S')"
      ]
     },
     "execution_count": 65,
     "metadata": {},
     "output_type": "execute_result"
    },
    {
     "data": {
      "image/png": "[encoded data removed]",
      "text/plain": [
       "<Figure size 720x720 with 1 Axes>"
      ]
     },
     "metadata": {},
     "output_type": "display_data"
    }
   ],
   "source": [
    "OS=data_redhat['OS']\n",
    "Severity=data_redhat['Severity']\n",
    "plt.barh(OS, Severity, color ='maroon',height=0.4)\n",
    "plt.xlabel(\"Severity\",fontweight ='bold', fontsize = 15)\n",
    "plt.ylabel(\"O S\",fontweight ='bold', fontsize = 15)\n"
   ]
  },
  {
   "cell_type": "code",
   "execution_count": 66,
   "id": "98040259",
   "metadata": {},
   "outputs": [
    {
     "data": {
      "text/plain": [
       "Text(0, 0.5, 'Category')"
      ]
     },
     "execution_count": 66,
     "metadata": {},
     "output_type": "execute_result"
    },
    {
     "data": {
      "image/png": "[encoded data removed]",
      "text/plain": [
       "<Figure size 720x720 with 1 Axes>"
      ]
     },
     "metadata": {},
     "output_type": "display_data"
    }
   ],
   "source": [
    "plt.scatter(x=data_redhat['CVSS'],y=data_redhat['OS'], s=110,label='CVSS')\n",
    "plt.scatter(x=data_redhat['CVSS3'],y=data_redhat['OS'] ,marker =\"^\",label='CVSS3')\n",
    "plt.legend()\n",
    "plt.xlabel('CVSS scores',fontweight ='bold', fontsize = 15)\n",
    "plt.ylabel('Category',fontweight ='bold', fontsize = 15)"
   ]
  },
  {
   "cell_type": "code",
   "execution_count": 67,
   "id": "966bc1c1",
   "metadata": {
    "scrolled": false
   },
   "outputs": [
    {
     "data": {
      "text/plain": [
       "Text(0, 0.5, 'O S')"
      ]
     },
     "execution_count": 67,
     "metadata": {},
     "output_type": "execute_result"
    },
    {
     "data": {
      "image/png": "[encoded data removed]",
      "text/plain": [
       "<Figure size 720x720 with 1 Axes>"
      ]
     },
     "metadata": {},
     "output_type": "display_data"
    }
   ],
   "source": [
    "OS=data_redhat['OS']\n",
    "Times_Detected=data_redhat['Times Detected']\n",
    "plt.barh(OS, Times_Detected, color ='blue',height=0.4)\n",
    "plt.xlabel('Times Detected',fontweight ='bold', fontsize = 15)\n",
    "plt.ylabel('O S',fontweight ='bold', fontsize = 15)"
   ]
  },
  {
   "cell_type": "code",
   "execution_count": 68,
   "id": "dac32596",
   "metadata": {},
   "outputs": [
    {
     "data": {
      "text/plain": [
       "<matplotlib.collections.PathCollection at 0x1d5c42ff460>"
      ]
     },
     "execution_count": 68,
     "metadata": {},
     "output_type": "execute_result"
    },
    {
     "data": {
      "image/png": "[encoded data removed]",
      "text/plain": [
       "<Figure size 720x720 with 1 Axes>"
      ]
     },
     "metadata": {},
     "output_type": "display_data"
    }
   ],
   "source": [
    "plt.scatter(x=data_redhat['Vuln Status'] ,y=data_redhat['OS'])"
   ]
  },
  {
   "cell_type": "markdown",
   "id": "80bbf12a",
   "metadata": {},
   "source": [
    "# Observation:-\n",
    "## 1) Red Hat Enterprise Linux Server 7.5 is satisfying all the criteria to be considered Highly vulnerable and can be considered the most critical staged OS in RedHat category\n",
    "\n",
    "## 2) Red Hat Enterprise Linux Server 7.5 is the most detected and high is CVSS score in the High to critical range. Its vulnerability status is still active and has not been fixed\n"
   ]
  },
  {
   "cell_type": "markdown",
   "id": "4b96832b",
   "metadata": {},
   "source": [
    "### -------------------------------------------------------------------------------------------------------------------------------------------------------------"
   ]
  },
  {
   "cell_type": "markdown",
   "id": "a463e928",
   "metadata": {},
   "source": [
    "### Red Hat Enterprise Linux Server 7.6"
   ]
  },
  {
   "cell_type": "code",
   "execution_count": 69,
   "id": "b56649b3",
   "metadata": {},
   "outputs": [],
   "source": [
    "mask = (data_redhat['OS'] == 'Red Hat Enterprise Linux Server 7.6') & (data_redhat['Severity'] >= 3) & (data_redhat['CVSS'] >= 7) \n",
    " \n",
    "# new dataframe with selected rows\n",
    "data_redhat_d1 = pd.DataFrame(data_redhat[mask])"
   ]
  },
  {
   "cell_type": "code",
   "execution_count": 70,
   "id": "f9c924be",
   "metadata": {},
   "outputs": [
    {
     "name": "stdout",
     "output_type": "stream",
     "text": [
      "          First Detected       Last Detected  Times Detected  Times Reopened  \\\n",
      "1914 2019-11-01 03:09:40 2020-02-05 02:22:05             397             NaN   \n",
      "1945 2019-08-12 23:35:51 2020-02-05 02:22:05             727             NaN   \n",
      "2174 2020-02-08 01:44:23 2020-09-24 02:30:52             734             NaN   \n",
      "2185 2019-11-01 02:27:42 2020-02-26 14:32:16             432             NaN   \n",
      "2197 2019-07-02 20:10:46 2020-09-24 02:30:52            1578             NaN   \n",
      "2235 2019-08-13 02:37:34 2020-09-24 02:30:52            1425             NaN   \n",
      "\n",
      "     Associated Malware                                     Exploitability  \n",
      "1914                NaN  Source: The Exploit-DB_x000D_\\nReference:CVE-2...  \n",
      "1945                NaN  Source: The Exploit-DB_x000D_\\nReference:CVE-2...  \n",
      "2174                NaN                                                NaN  \n",
      "2185                NaN  Source: The Exploit-DB_x000D_\\nReference:CVE-2...  \n",
      "2197                NaN  Source: The Exploit-DB_x000D_\\nReference:CVE-2...  \n",
      "2235                NaN  Source: The Exploit-DB_x000D_\\nReference:CVE-2...  \n"
     ]
    }
   ],
   "source": [
    "print(data_redhat_d1[['First Detected','Last Detected','Times Detected','Times Reopened','Associated Malware','Exploitability']])"
   ]
  },
  {
   "cell_type": "code",
   "execution_count": 71,
   "id": "97afb2ad",
   "metadata": {},
   "outputs": [
    {
     "name": "stdout",
     "output_type": "stream",
     "text": [
      "      Severity  CVSS  CVSS3 Vuln Status PCI Vuln  \\\n",
      "1914         4   7.0    7.9      Active      yes   \n",
      "1945         3   7.8    8.8      Active      yes   \n",
      "2174         4   7.4    8.5      Active      yes   \n",
      "2185         4   7.0    7.9       Fixed      yes   \n",
      "2197         4   7.3    7.7      Active      yes   \n",
      "2235         3   7.8    8.8      Active      yes   \n",
      "\n",
      "                             CVSS Base           CVSS Temporal  \n",
      "1914    9 (AV:N/AC:L/Au:S/C:C/I:C/A:C)    7 (E:POC/RL:OF/RC:C)  \n",
      "1945   10 (AV:N/AC:L/Au:N/C:C/I:C/A:C)  7.8 (E:POC/RL:OF/RC:C)  \n",
      "2174   10 (AV:N/AC:L/Au:N/C:C/I:C/A:C)    7.4 (E:U/RL:OF/RC:C)  \n",
      "2185    9 (AV:N/AC:L/Au:S/C:C/I:C/A:C)    7 (E:POC/RL:OF/RC:C)  \n",
      "2197  9.3 (AV:N/AC:M/Au:N/C:C/I:C/A:C)  7.3 (E:POC/RL:OF/RC:C)  \n",
      "2235   10 (AV:N/AC:L/Au:N/C:C/I:C/A:C)  7.8 (E:POC/RL:OF/RC:C)  \n"
     ]
    }
   ],
   "source": [
    "print(data_redhat_d1[['Severity','CVSS','CVSS3','Vuln Status','PCI Vuln','CVSS Base','CVSS Temporal']])"
   ]
  },
  {
   "cell_type": "markdown",
   "id": "06302d63",
   "metadata": {},
   "source": [
    "### --------------------------------------------------------------------------------------------------------------------------------------------------------------"
   ]
  },
  {
   "cell_type": "markdown",
   "id": "0257307a",
   "metadata": {},
   "source": [
    "### Red Hat Enterprise Linux Server 7.5"
   ]
  },
  {
   "cell_type": "code",
   "execution_count": 72,
   "id": "ad366c3e",
   "metadata": {},
   "outputs": [],
   "source": [
    "mask = (data_redhat['OS'] == 'Red Hat Enterprise Linux Server 7.5') & (data_redhat['Severity'] >= 3) & (data_redhat['CVSS'] >= 7) \n",
    " \n",
    "# new dataframe with selected rows\n",
    "data_redhat_d2 = pd.DataFrame(data_redhat[mask])"
   ]
  },
  {
   "cell_type": "code",
   "execution_count": 73,
   "id": "00af9d78",
   "metadata": {},
   "outputs": [
    {
     "name": "stdout",
     "output_type": "stream",
     "text": [
      "          First Detected       Last Detected  Times Detected  Times Reopened  \\\n",
      "1770 2020-02-08 02:29:04 2020-09-24 02:04:13             776             NaN   \n",
      "1780 2019-11-01 03:07:48 2020-09-24 02:04:13            1180             NaN   \n",
      "1792 2019-07-02 12:10:51 2020-09-24 02:04:13            1663             NaN   \n",
      "1819 2019-05-23 19:17:06 2020-09-24 02:04:13            1783             NaN   \n",
      "1852 2019-08-13 00:05:59 2020-09-24 02:04:13            1501             NaN   \n",
      "\n",
      "     Associated Malware                                     Exploitability  \n",
      "1770                NaN                                                NaN  \n",
      "1780                NaN  Source: The Exploit-DB_x000D_\\nReference:CVE-2...  \n",
      "1792                NaN  Source: The Exploit-DB_x000D_\\nReference:CVE-2...  \n",
      "1819                NaN  Source: Metasploit_x000D_\\nReference:CVE-2018-...  \n",
      "1852                NaN  Source: The Exploit-DB_x000D_\\nReference:CVE-2...  \n"
     ]
    }
   ],
   "source": [
    "print(data_redhat_d2[['First Detected','Last Detected','Times Detected','Times Reopened','Associated Malware','Exploitability']])"
   ]
  },
  {
   "cell_type": "code",
   "execution_count": 74,
   "id": "a4e6e276",
   "metadata": {},
   "outputs": [
    {
     "name": "stdout",
     "output_type": "stream",
     "text": [
      "      Severity  CVSS  CVSS3 Vuln Status PCI Vuln  \\\n",
      "1770         4   7.4    8.5      Active      yes   \n",
      "1780         4   7.0    7.9      Active      yes   \n",
      "1792         4   7.3    7.7      Active      yes   \n",
      "1819         4   7.3    7.0      Active      yes   \n",
      "1852         3   7.8    8.8      Active      yes   \n",
      "\n",
      "                             CVSS Base           CVSS Temporal  \n",
      "1770   10 (AV:N/AC:L/Au:N/C:C/I:C/A:C)    7.4 (E:U/RL:OF/RC:C)  \n",
      "1780    9 (AV:N/AC:L/Au:S/C:C/I:C/A:C)    7 (E:POC/RL:OF/RC:C)  \n",
      "1792  9.3 (AV:N/AC:M/Au:N/C:C/I:C/A:C)  7.3 (E:POC/RL:OF/RC:C)  \n",
      "1819  9.3 (AV:N/AC:M/Au:N/C:C/I:C/A:C)  7.3 (E:POC/RL:OF/RC:C)  \n",
      "1852   10 (AV:N/AC:L/Au:N/C:C/I:C/A:C)  7.8 (E:POC/RL:OF/RC:C)  \n"
     ]
    }
   ],
   "source": [
    "print(data_redhat_d2[['Severity','CVSS','CVSS3','Vuln Status','PCI Vuln','CVSS Base','CVSS Temporal']])"
   ]
  },
  {
   "cell_type": "markdown",
   "id": "ac691f07",
   "metadata": {},
   "source": [
    "### --------------------------------------------------------------------------------------------------------------------------------------------------------------"
   ]
  },
  {
   "cell_type": "markdown",
   "id": "1216262a",
   "metadata": {},
   "source": [
    "### Severity == 5"
   ]
  },
  {
   "cell_type": "code",
   "execution_count": 75,
   "id": "5a000f14",
   "metadata": {},
   "outputs": [
    {
     "name": "stdout",
     "output_type": "stream",
     "text": [
      "         masked Ip                 Network Tracking Method  \\\n",
      "1733  lab_2_IP9011  Global Default Network          QAGENT   \n",
      "1734  lab_2_IP9011  Global Default Network          QAGENT   \n",
      "\n",
      "                                       OS                 IP Status     QID  \\\n",
      "1733  Red Hat Enterprise Linux Server 7.5  host scanned, found vuln  237142   \n",
      "1734  Red Hat Enterprise Linux Server 7.5  host scanned, found vuln  237055   \n",
      "\n",
      "                                                  Title Vuln Status  Type  \\\n",
      "1733  Red Hat Update for java-1.8.0-ibm (RHSA-2019:0...      Active  Vuln   \n",
      "1734  Red Hat Update for java-1.8.0-ibm (RHSA-2018:3...      Active  Vuln   \n",
      "\n",
      "      Severity  ...       CVSS3 Temporal  \\\n",
      "1733         5  ...  8.5 (E:U/RL:O/RC:C)   \n",
      "1734         5  ...  7.8 (E:U/RL:O/RC:C)   \n",
      "\n",
      "                                                 Threat  \\\n",
      "1733  IBM Java SE version 8 includes the IBM Java Ru...   \n",
      "1734  IBM Java SE version 8 includes the IBM Java Ru...   \n",
      "\n",
      "                                                 Impact  \\\n",
      "1733  On successful exploitation it could allow an a...   \n",
      "1734  On successful exploitation it could allow an a...   \n",
      "\n",
      "                                               Solution Exploitability  \\\n",
      "1733  Upgrade to the latest packages which contain a...            NaN   \n",
      "1734  Upgrade to the latest packages which contain a...            NaN   \n",
      "\n",
      "      Associated Malware PCI Vuln OS CPE Category  Non-running Kernel  \n",
      "1733                 NaN      yes    NaN   RedHat                  No  \n",
      "1734                 NaN      yes    NaN   RedHat                  No  \n",
      "\n",
      "[2 rows x 39 columns]\n"
     ]
    }
   ],
   "source": [
    "# condition mask\n",
    "mask = data_redhat['Severity'] == 5\n",
    " \n",
    "# new dataframe with selected rows\n",
    "data_redhat_S5 = pd.DataFrame(data_redhat[mask])\n",
    " \n",
    "print(data_redhat_S5)"
   ]
  },
  {
   "cell_type": "markdown",
   "id": "37541236",
   "metadata": {},
   "source": [
    "### --------------------------------------------------------------------------------------------------------------------------------------------------------------"
   ]
  },
  {
   "cell_type": "markdown",
   "id": "97622450",
   "metadata": {},
   "source": [
    "### CVSS3 > 9      ( RedHat OS )"
   ]
  },
  {
   "cell_type": "code",
   "execution_count": 76,
   "id": "f1894aa5",
   "metadata": {},
   "outputs": [
    {
     "name": "stdout",
     "output_type": "stream",
     "text": [
      "         masked Ip                 Network Tracking Method  \\\n",
      "1817  lab_2_IP9011  Global Default Network          QAGENT   \n",
      "\n",
      "                                       OS                 IP Status     QID  \\\n",
      "1817  Red Hat Enterprise Linux Server 7.5  host scanned, found vuln  237065   \n",
      "\n",
      "                                                  Title Vuln Status  Type  \\\n",
      "1817  Red Hat Update for NetworkManager (RHSA-2018:3...      Active  Vuln   \n",
      "\n",
      "      Severity  ...       CVSS3 Temporal  \\\n",
      "1817         4  ...  9.8 (E:X/RL:X/RC:X)   \n",
      "\n",
      "                                                 Threat  \\\n",
      "1817  NetworkManager is a system network service tha...   \n",
      "\n",
      "                                                 Impact  \\\n",
      "1817  On successful exploitation it could allow an a...   \n",
      "\n",
      "                                               Solution Exploitability  \\\n",
      "1817  Upgrade to the latest packages which contain a...            NaN   \n",
      "\n",
      "      Associated Malware PCI Vuln OS CPE Category  Non-running Kernel  \n",
      "1817                 NaN      yes    NaN   RedHat                  No  \n",
      "\n",
      "[1 rows x 39 columns]\n"
     ]
    }
   ],
   "source": [
    "# condition mask\n",
    "mask = data_redhat['CVSS3'] >= 9\n",
    " \n",
    "# new dataframe with selected rows\n",
    "data_redhat_cvss7 = pd.DataFrame(data_redhat[mask])\n",
    " \n",
    "print(data_redhat_cvss7)"
   ]
  },
  {
   "cell_type": "markdown",
   "id": "8150521e",
   "metadata": {},
   "source": [
    "### --------------------------------------------------------------------------------------------------------------------------------------------------------------"
   ]
  },
  {
   "cell_type": "markdown",
   "id": "1ac35f97",
   "metadata": {},
   "source": [
    "# CVSS > 9 (critical)\n",
    "\n",
    "## Now we finally consider the OS and Categories with CVSS score above 9 (Critical) "
   ]
  },
  {
   "cell_type": "code",
   "execution_count": 77,
   "id": "f9d7b555",
   "metadata": {},
   "outputs": [
    {
     "name": "stdout",
     "output_type": "stream",
     "text": [
      "          masked Ip                 Network Tracking Method  \\\n",
      "12229  lab_2_IP7752  Global Default Network              IP   \n",
      "15293  lab_2_IP7380  Global Default Network              IP   \n",
      "16501  lab_2_IP7264  Global Default Network              IP   \n",
      "27465  lab_2_IP5807  Global Default Network              IP   \n",
      "38405  lab_2_IP4424  Global Default Network              IP   \n",
      "45042  lab_2_IP3533  Global Default Network              IP   \n",
      "45043  lab_2_IP3533  Global Default Network              IP   \n",
      "45057  lab_2_IP3532  Global Default Network              IP   \n",
      "45058  lab_2_IP3532  Global Default Network              IP   \n",
      "47937  lab_2_IP2992  Global Default Network              IP   \n",
      "53921  lab_2_IP2178  Global Default Network              IP   \n",
      "69350    lab_2_IP87  Global Default Network              IP   \n",
      "\n",
      "                                                      OS  \\\n",
      "12229  EulerOS / Ubuntu / Fedora / Tiny Core Linux / ...   \n",
      "15293  EulerOS / Ubuntu / Fedora / Tiny Core Linux / ...   \n",
      "16501  EulerOS / Ubuntu / Fedora / Tiny Core Linux / ...   \n",
      "27465  Windows Vista / Windows 2008 / Windows 7 / Win...   \n",
      "38405                                    Cisco IOS 11-15   \n",
      "45042  Linux 2.4-2.6 / Embedded Device / F5 Networks ...   \n",
      "45043  Linux 2.4-2.6 / Embedded Device / F5 Networks ...   \n",
      "45057  Linux 2.4-2.6 / Embedded Device / F5 Networks ...   \n",
      "45058  Linux 2.4-2.6 / Embedded Device / F5 Networks ...   \n",
      "47937                                 Ubuntu / Linux 2.x   \n",
      "53921  EulerOS / Ubuntu / Fedora / Tiny Core Linux / ...   \n",
      "69350            Windows 2008 R2 Standard Service Pack 1   \n",
      "\n",
      "                      IP Status    QID  \\\n",
      "12229  host scanned, found vuln  13687   \n",
      "15293  host scanned, found vuln  13687   \n",
      "16501  host scanned, found vuln  13687   \n",
      "27465  host scanned, found vuln  70077   \n",
      "38405  host scanned, found vuln  42045   \n",
      "45042  host scanned, found vuln  11950   \n",
      "45043  host scanned, found vuln  11950   \n",
      "45057  host scanned, found vuln  11950   \n",
      "45058  host scanned, found vuln  11950   \n",
      "47937  host scanned, found vuln  13687   \n",
      "53921  host scanned, found vuln  13580   \n",
      "69350  host scanned, found vuln  70077   \n",
      "\n",
      "                                                   Title Vuln Status  Type  \\\n",
      "12229  Couchbase Full Text Search (FTS) Accessible to...       Fixed  Vuln   \n",
      "15293  Couchbase Full Text Search (FTS) Accessible to...       Fixed  Vuln   \n",
      "16501  Couchbase Full Text Search (FTS) Accessible to...       Fixed  Vuln   \n",
      "27465   Double Pulsar Backdoor Detected (Shadow Brokers)       Fixed  Vuln   \n",
      "38405                   CAREL pCOWeb Default Credentials       Fixed  Vuln   \n",
      "45042  Supermicro IPMI Accessible Using Default Crede...      Active  Vuln   \n",
      "45043  Supermicro IPMI Accessible Using Default Crede...      Active  Vuln   \n",
      "45057  Supermicro IPMI Accessible Using Default Crede...      Active  Vuln   \n",
      "45058  Supermicro IPMI Accessible Using Default Crede...      Active  Vuln   \n",
      "47937  Couchbase Full Text Search (FTS) Accessible to...       Fixed  Vuln   \n",
      "53921  Webmin XXE Vulnerability authenticated Remote ...      Active  Vuln   \n",
      "69350   Double Pulsar Backdoor Detected (Shadow Brokers)       Fixed  Vuln   \n",
      "\n",
      "       Severity  ...       CVSS3 Temporal  \\\n",
      "12229         3  ...  9.3 (E:F/RL:W/RC:C)   \n",
      "15293         3  ...  9.3 (E:F/RL:W/RC:C)   \n",
      "16501         3  ...  9.3 (E:F/RL:W/RC:C)   \n",
      "27465         5  ...   10 (E:H/RL:U/RC:C)   \n",
      "38405         5  ...    9 (E:U/RL:U/RC:C)   \n",
      "45042         5  ...  9.3 (E:F/RL:W/RC:C)   \n",
      "45043         5  ...  9.3 (E:F/RL:W/RC:C)   \n",
      "45057         5  ...  9.3 (E:F/RL:W/RC:C)   \n",
      "45058         5  ...  9.3 (E:F/RL:W/RC:C)   \n",
      "47937         3  ...  9.3 (E:F/RL:W/RC:C)   \n",
      "53921         4  ...  9.3 (E:P/RL:U/RC:C)   \n",
      "69350         5  ...   10 (E:H/RL:U/RC:C)   \n",
      "\n",
      "                                                  Threat  \\\n",
      "12229   Couchbase Server, originally known as Membase...   \n",
      "15293   Couchbase Server, originally known as Membase...   \n",
      "16501   Couchbase Server, originally known as Membase...   \n",
      "27465  Double Pulsar Backdoor is detected on the remo...   \n",
      "38405  CAREL produce control solutions for air-condit...   \n",
      "45042  The web interface of remote Supermicro IPMI is...   \n",
      "45043  The web interface of remote Supermicro IPMI is...   \n",
      "45057  The web interface of remote Supermicro IPMI is...   \n",
      "45058  The web interface of remote Supermicro IPMI is...   \n",
      "47937   Couchbase Server, originally known as Membase...   \n",
      "53921  Webmin is a web-based interface for system adm...   \n",
      "69350  Double Pulsar Backdoor is detected on the remo...   \n",
      "\n",
      "                                                  Impact  \\\n",
      "12229   An unauthenticated, remote attacker could exp...   \n",
      "15293   An unauthenticated, remote attacker could exp...   \n",
      "16501   An unauthenticated, remote attacker could exp...   \n",
      "27465  Successful exploitation allows an unauthentica...   \n",
      "38405  Exploitation of this vulnerability allows a re...   \n",
      "45042   A remote attacker could gain access to the de...   \n",
      "45043   A remote attacker could gain access to the de...   \n",
      "45057   A remote attacker could gain access to the de...   \n",
      "45058   A remote attacker could gain access to the de...   \n",
      "47937   An unauthenticated, remote attacker could exp...   \n",
      "53921  Successful exploitation would allow an authent...   \n",
      "69350  Successful exploitation allows an unauthentica...   \n",
      "\n",
      "                                                Solution  \\\n",
      "12229   Customers are advised to configure authentica...   \n",
      "15293   Customers are advised to configure authentica...   \n",
      "16501   Customers are advised to configure authentica...   \n",
      "27465  Cleaning up Infected systems: \\n- Contact your...   \n",
      "38405  Customers are advised to disable remote logins...   \n",
      "45042   Customers are advised not to use default cred...   \n",
      "45043   Customers are advised not to use default cred...   \n",
      "45057   Customers are advised not to use default cred...   \n",
      "45058   Customers are advised not to use default cred...   \n",
      "47937   Customers are advised to configure authentica...   \n",
      "53921  For more information visit here (http://www.we...   \n",
      "69350  Cleaning up Infected systems: \\n- Contact your...   \n",
      "\n",
      "                                          Exploitability  Associated Malware  \\\n",
      "12229                                                NaN                 NaN   \n",
      "15293                                                NaN                 NaN   \n",
      "16501                                                NaN                 NaN   \n",
      "27465                                                NaN                 NaN   \n",
      "38405                                                NaN                 NaN   \n",
      "45042                                                NaN                 NaN   \n",
      "45043                                                NaN                 NaN   \n",
      "45057                                                NaN                 NaN   \n",
      "45058                                                NaN                 NaN   \n",
      "47937                                                NaN                 NaN   \n",
      "53921  Source: Metasploit_x000D_\\nReference:CVE-2019-...                 NaN   \n",
      "69350                                                NaN                 NaN   \n",
      "\n",
      "      PCI Vuln OS CPE                 Category  Non-running Kernel  \n",
      "12229      yes    NaN                      CGI                  No  \n",
      "15293      yes    NaN                      CGI                  No  \n",
      "16501      yes    NaN                      CGI                  No  \n",
      "27465      yes    NaN            SMB / NETBIOS                  No  \n",
      "38405      yes    NaN  General remote services                  No  \n",
      "45042      yes    NaN                      CGI                  No  \n",
      "45043      yes    NaN                      CGI                  No  \n",
      "45057      yes    NaN                      CGI                  No  \n",
      "45058      yes    NaN                      CGI                  No  \n",
      "47937      yes    NaN                      CGI                  No  \n",
      "53921      yes    NaN                      CGI                  No  \n",
      "69350      yes    NaN            SMB / NETBIOS                  No  \n",
      "\n",
      "[12 rows x 39 columns]\n"
     ]
    },
    {
     "data": {
      "text/html": [
       "<div>\n",
       "<style scoped>\n",
       "    .dataframe tbody tr th:only-of-type {\n",
       "        vertical-align: middle;\n",
       "    }\n",
       "\n",
       "    .dataframe tbody tr th {\n",
       "        vertical-align: top;\n",
       "    }\n",
       "\n",
       "    .dataframe thead th {\n",
       "        text-align: right;\n",
       "    }\n",
       "</style>\n",
       "<table border=\"1\" class=\"dataframe\">\n",
       "  <thead>\n",
       "    <tr style=\"text-align: right;\">\n",
       "      <th></th>\n",
       "      <th>QID</th>\n",
       "      <th>Severity</th>\n",
       "      <th>Port</th>\n",
       "      <th>Times Detected</th>\n",
       "      <th>Times Reopened</th>\n",
       "      <th>CVSS</th>\n",
       "      <th>CVSS3</th>\n",
       "    </tr>\n",
       "  </thead>\n",
       "  <tbody>\n",
       "    <tr>\n",
       "      <th>count</th>\n",
       "      <td>12.000000</td>\n",
       "      <td>12.000000</td>\n",
       "      <td>9.000000</td>\n",
       "      <td>12.000000</td>\n",
       "      <td>2.0</td>\n",
       "      <td>12.000000</td>\n",
       "      <td>12.000000</td>\n",
       "    </tr>\n",
       "    <tr>\n",
       "      <th>mean</th>\n",
       "      <td>24860.583333</td>\n",
       "      <td>4.250000</td>\n",
       "      <td>5371.666667</td>\n",
       "      <td>27.666667</td>\n",
       "      <td>2.0</td>\n",
       "      <td>9.166667</td>\n",
       "      <td>9.391667</td>\n",
       "    </tr>\n",
       "    <tr>\n",
       "      <th>std</th>\n",
       "      <td>22719.100724</td>\n",
       "      <td>0.965307</td>\n",
       "      <td>4862.124973</td>\n",
       "      <td>31.904213</td>\n",
       "      <td>0.0</td>\n",
       "      <td>0.389249</td>\n",
       "      <td>0.296827</td>\n",
       "    </tr>\n",
       "    <tr>\n",
       "      <th>min</th>\n",
       "      <td>11950.000000</td>\n",
       "      <td>3.000000</td>\n",
       "      <td>80.000000</td>\n",
       "      <td>1.000000</td>\n",
       "      <td>2.0</td>\n",
       "      <td>9.000000</td>\n",
       "      <td>9.000000</td>\n",
       "    </tr>\n",
       "    <tr>\n",
       "      <th>25%</th>\n",
       "      <td>11950.000000</td>\n",
       "      <td>3.000000</td>\n",
       "      <td>443.000000</td>\n",
       "      <td>1.000000</td>\n",
       "      <td>2.0</td>\n",
       "      <td>9.000000</td>\n",
       "      <td>9.300000</td>\n",
       "    </tr>\n",
       "    <tr>\n",
       "      <th>50%</th>\n",
       "      <td>13687.000000</td>\n",
       "      <td>5.000000</td>\n",
       "      <td>9100.000000</td>\n",
       "      <td>9.500000</td>\n",
       "      <td>2.0</td>\n",
       "      <td>9.000000</td>\n",
       "      <td>9.300000</td>\n",
       "    </tr>\n",
       "    <tr>\n",
       "      <th>75%</th>\n",
       "      <td>20776.500000</td>\n",
       "      <td>5.000000</td>\n",
       "      <td>9100.000000</td>\n",
       "      <td>67.000000</td>\n",
       "      <td>2.0</td>\n",
       "      <td>9.000000</td>\n",
       "      <td>9.300000</td>\n",
       "    </tr>\n",
       "    <tr>\n",
       "      <th>max</th>\n",
       "      <td>70077.000000</td>\n",
       "      <td>5.000000</td>\n",
       "      <td>10000.000000</td>\n",
       "      <td>71.000000</td>\n",
       "      <td>2.0</td>\n",
       "      <td>10.000000</td>\n",
       "      <td>10.000000</td>\n",
       "    </tr>\n",
       "  </tbody>\n",
       "</table>\n",
       "</div>"
      ],
      "text/plain": [
       "                QID   Severity          Port  Times Detected  Times Reopened  \\\n",
       "count     12.000000  12.000000      9.000000       12.000000             2.0   \n",
       "mean   24860.583333   4.250000   5371.666667       27.666667             2.0   \n",
       "std    22719.100724   0.965307   4862.124973       31.904213             0.0   \n",
       "min    11950.000000   3.000000     80.000000        1.000000             2.0   \n",
       "25%    11950.000000   3.000000    443.000000        1.000000             2.0   \n",
       "50%    13687.000000   5.000000   9100.000000        9.500000             2.0   \n",
       "75%    20776.500000   5.000000   9100.000000       67.000000             2.0   \n",
       "max    70077.000000   5.000000  10000.000000       71.000000             2.0   \n",
       "\n",
       "            CVSS      CVSS3  \n",
       "count  12.000000  12.000000  \n",
       "mean    9.166667   9.391667  \n",
       "std     0.389249   0.296827  \n",
       "min     9.000000   9.000000  \n",
       "25%     9.000000   9.300000  \n",
       "50%     9.000000   9.300000  \n",
       "75%     9.000000   9.300000  \n",
       "max    10.000000  10.000000  "
      ]
     },
     "execution_count": 77,
     "metadata": {},
     "output_type": "execute_result"
    }
   ],
   "source": [
    "data_cvss = data.loc[(data['CVSS'] >= 9) & (data['CVSS3'] >= 9)]\n",
    "print(data_cvss)\n",
    "data_cvss.describe()"
   ]
  },
  {
   "cell_type": "code",
   "execution_count": 78,
   "id": "2f5d955a",
   "metadata": {},
   "outputs": [
    {
     "data": {
      "text/plain": [
       "count                                                    12\n",
       "unique                                                    6\n",
       "top       EulerOS / Ubuntu / Fedora / Tiny Core Linux / ...\n",
       "freq                                                      4\n",
       "Name: OS, dtype: object"
      ]
     },
     "execution_count": 78,
     "metadata": {},
     "output_type": "execute_result"
    }
   ],
   "source": [
    "data_cvss['OS'].describe() # we can see we have 6 OS with critical CVSS score \n"
   ]
  },
  {
   "cell_type": "code",
   "execution_count": 79,
   "id": "656f433d",
   "metadata": {},
   "outputs": [],
   "source": [
    "# Lets start plotting \n",
    "# 1. plotting of OS vs cvss \n",
    "# 2. plotting of times detected vs OS\n",
    "# 3. plotting of pair plot"
   ]
  },
  {
   "cell_type": "code",
   "execution_count": 80,
   "id": "1be51b96",
   "metadata": {},
   "outputs": [],
   "source": [
    "\n",
    "# plotting of OS vs CVSS\n"
   ]
  },
  {
   "cell_type": "code",
   "execution_count": 81,
   "id": "d84ce248",
   "metadata": {},
   "outputs": [
    {
     "data": {
      "text/plain": [
       "Text(0, 0.5, 'O S')"
      ]
     },
     "execution_count": 81,
     "metadata": {},
     "output_type": "execute_result"
    },
    {
     "data": {
      "image/png": "[encoded data removed]",
      "text/plain": [
       "<Figure size 720x720 with 1 Axes>"
      ]
     },
     "metadata": {},
     "output_type": "display_data"
    }
   ],
   "source": [
    "OS=data_cvss['OS']\n",
    "CVSS=data_cvss['CVSS']\n",
    "CVSS3=data_cvss['CVSS3']\n",
    "plt.barh(OS, CVSS, color ='blue',height=0.4,label='CVSS')\n",
    "plt.barh(OS, CVSS3, color ='red',height=0.1,label='CVSS3')\n",
    "plt.legend()\n",
    "#plt.xticks(rotation=90)\n",
    "plt.xlabel('CVSS scores',fontweight ='bold', fontsize = 15)\n",
    "plt.ylabel('O S',fontweight ='bold', fontsize = 15)\n"
   ]
  },
  {
   "cell_type": "code",
   "execution_count": 82,
   "id": "9129bfa0",
   "metadata": {},
   "outputs": [],
   "source": [
    "# plotting of Time Dectected vs OS"
   ]
  },
  {
   "cell_type": "code",
   "execution_count": 83,
   "id": "ceea2a82",
   "metadata": {},
   "outputs": [
    {
     "data": {
      "text/plain": [
       "Text(0, 0.5, 'O S')"
      ]
     },
     "execution_count": 83,
     "metadata": {},
     "output_type": "execute_result"
    },
    {
     "data": {
      "image/png": "[encoded data removed]",
      "text/plain": [
       "<Figure size 720x720 with 1 Axes>"
      ]
     },
     "metadata": {},
     "output_type": "display_data"
    }
   ],
   "source": [
    "\n",
    "x=data_cvss['OS'].tolist()\n",
    "y=data_cvss['Times Detected'].tolist()\n",
    "Times=data_cvss['Times Detected']\n",
    "plt.barh(x, y, color ='g',height=0.3,label='CVSS')\n",
    "\n",
    "plt.xlabel('Times Detected',fontweight ='bold', fontsize = 15)\n",
    "plt.ylabel('O S',fontweight ='bold', fontsize = 15)\n",
    "\n"
   ]
  },
  {
   "cell_type": "code",
   "execution_count": 84,
   "id": "fab9eb19",
   "metadata": {},
   "outputs": [
    {
     "data": {
      "text/plain": [
       "<AxesSubplot:xlabel='Vuln Status', ylabel='Count'>"
      ]
     },
     "execution_count": 84,
     "metadata": {},
     "output_type": "execute_result"
    },
    {
     "data": {
      "image/png": "[encoded data removed]",
      "text/plain": [
       "<Figure size 720x720 with 1 Axes>"
      ]
     },
     "metadata": {},
     "output_type": "display_data"
    }
   ],
   "source": [
    "sns.histplot(data = data_cvss, x = \"Vuln Status\")"
   ]
  },
  {
   "cell_type": "code",
   "execution_count": null,
   "id": "f0306b8a",
   "metadata": {},
   "outputs": [],
   "source": []
  }
 ],
 "metadata": {
  "kernelspec": {
   "display_name": "Python 3 (ipykernel)",
   "language": "python",
   "name": "python3"
  },
  "language_info": {
   "codemirror_mode": {
    "name": "ipython",
    "version": 3
   },
   "file_extension": ".py",
   "mimetype": "text/x-python",
   "name": "python",
   "nbconvert_exporter": "python",
   "pygments_lexer": "ipython3",
   "version": "3.9.13"
  }
 },
 "nbformat": 4,
 "nbformat_minor": 5
}
