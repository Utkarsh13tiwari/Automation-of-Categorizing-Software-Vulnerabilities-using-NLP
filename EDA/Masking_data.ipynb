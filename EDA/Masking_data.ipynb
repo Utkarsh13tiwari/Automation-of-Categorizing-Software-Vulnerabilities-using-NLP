{
 "cells": [
  {
   "cell_type": "code",
   "execution_count": 8,
   "id": "395e2322",
   "metadata": {},
   "outputs": [],
   "source": [
    "import pandas as pd\n",
    "import seaborn as sns\n",
    "import matplotlib.pyplot as plt\n",
    "import numpy as np"
   ]
  },
  {
   "cell_type": "code",
   "execution_count": 9,
   "id": "4ff9cd58",
   "metadata": {},
   "outputs": [],
   "source": [
    "data=pd.read_excel(r'C:\\Users\\utkar\\OneDrive\\Desktop\\EDA_project\\Text Mined Datasets\\text_preprocessed.xlsx')"
   ]
  },
  {
   "cell_type": "code",
   "execution_count": 10,
   "id": "f0916724",
   "metadata": {},
   "outputs": [],
   "source": [
    "data_a=data.loc[data['AV'] == 'A']"
   ]
  },
  {
   "cell_type": "code",
   "execution_count": 11,
   "id": "087bb26e",
   "metadata": {},
   "outputs": [
    {
     "data": {
      "text/plain": [
       "8        A\n",
       "50       A\n",
       "79       A\n",
       "101      A\n",
       "216      A\n",
       "        ..\n",
       "67879    A\n",
       "67903    A\n",
       "67975    A\n",
       "68046    A\n",
       "68166    A\n",
       "Name: AV, Length: 294, dtype: object"
      ]
     },
     "execution_count": 11,
     "metadata": {},
     "output_type": "execute_result"
    }
   ],
   "source": [
    "data_a['AV']"
   ]
  },
  {
   "cell_type": "code",
   "execution_count": 12,
   "id": "9c04718e",
   "metadata": {},
   "outputs": [],
   "source": [
    "data_l=data.loc[data['AV'] == 'L']"
   ]
  },
  {
   "cell_type": "code",
   "execution_count": 13,
   "id": "63eb854d",
   "metadata": {},
   "outputs": [
    {
     "data": {
      "text/plain": [
       "L    7094\n",
       "Name: AV, dtype: int64"
      ]
     },
     "execution_count": 13,
     "metadata": {},
     "output_type": "execute_result"
    }
   ],
   "source": [
    "data_l['AV'].value_counts()"
   ]
  },
  {
   "cell_type": "code",
   "execution_count": 14,
   "id": "781c13a4",
   "metadata": {},
   "outputs": [
    {
     "data": {
      "text/plain": [
       "A    294\n",
       "Name: AV, dtype: int64"
      ]
     },
     "execution_count": 14,
     "metadata": {},
     "output_type": "execute_result"
    }
   ],
   "source": [
    "data_a['AV'].value_counts()"
   ]
  },
  {
   "cell_type": "code",
   "execution_count": 15,
   "id": "221b9ff8",
   "metadata": {},
   "outputs": [],
   "source": [
    "data_n=data.loc[data['AV'] == 'N']"
   ]
  },
  {
   "cell_type": "code",
   "execution_count": 16,
   "id": "3f844f91",
   "metadata": {},
   "outputs": [
    {
     "data": {
      "text/plain": [
       "N    62521\n",
       "Name: AV, dtype: int64"
      ]
     },
     "execution_count": 16,
     "metadata": {},
     "output_type": "execute_result"
    }
   ],
   "source": [
    "data_n['AV'].value_counts()"
   ]
  },
  {
   "cell_type": "code",
   "execution_count": 17,
   "id": "8a5d3444",
   "metadata": {},
   "outputs": [],
   "source": [
    "#data_a.to_excel(r'C:\\Users\\utkar\\OneDrive\\Desktop\\EDA_project\\data_A.xlsx')"
   ]
  },
  {
   "cell_type": "code",
   "execution_count": 18,
   "id": "72638cf8",
   "metadata": {},
   "outputs": [],
   "source": [
    "#data_l.to_excel(r'C:\\Users\\utkar\\OneDrive\\Desktop\\EDA_project\\data_L.xlsx')"
   ]
  },
  {
   "cell_type": "code",
   "execution_count": 19,
   "id": "06f78482",
   "metadata": {},
   "outputs": [],
   "source": [
    "#data_n.to_excel(r'C:\\Users\\utkar\\OneDrive\\Desktop\\EDA_project\\data_N.xlsx')"
   ]
  },
  {
   "cell_type": "code",
   "execution_count": 20,
   "id": "eeecaa2c",
   "metadata": {},
   "outputs": [
    {
     "data": {
      "text/plain": [
       "294"
      ]
     },
     "execution_count": 20,
     "metadata": {},
     "output_type": "execute_result"
    }
   ],
   "source": [
    "data_a['Impact'].value_counts().sum()"
   ]
  },
  {
   "cell_type": "code",
   "execution_count": 21,
   "id": "589026c2",
   "metadata": {},
   "outputs": [
    {
     "data": {
      "text/plain": [
       "27"
      ]
     },
     "execution_count": 21,
     "metadata": {},
     "output_type": "execute_result"
    }
   ],
   "source": [
    "data_a['Threat'].nunique()"
   ]
  },
  {
   "cell_type": "code",
   "execution_count": 22,
   "id": "6594f9b0",
   "metadata": {},
   "outputs": [
    {
     "data": {
      "text/plain": [
       "221"
      ]
     },
     "execution_count": 22,
     "metadata": {},
     "output_type": "execute_result"
    }
   ],
   "source": [
    "data_l['Threat'].nunique()"
   ]
  },
  {
   "cell_type": "code",
   "execution_count": 23,
   "id": "26d1bae7",
   "metadata": {},
   "outputs": [
    {
     "data": {
      "text/plain": [
       "879"
      ]
     },
     "execution_count": 23,
     "metadata": {},
     "output_type": "execute_result"
    }
   ],
   "source": [
    "data_n['Threat'].nunique()"
   ]
  }
 ],
 "metadata": {
  "kernelspec": {
   "display_name": "Python 3 (ipykernel)",
   "language": "python",
   "name": "python3"
  },
  "language_info": {
   "codemirror_mode": {
    "name": "ipython",
    "version": 3
   },
   "file_extension": ".py",
   "mimetype": "text/x-python",
   "name": "python",
   "nbconvert_exporter": "python",
   "pygments_lexer": "ipython3",
   "version": "3.9.13"
  }
 },
 "nbformat": 4,
 "nbformat_minor": 5
}
