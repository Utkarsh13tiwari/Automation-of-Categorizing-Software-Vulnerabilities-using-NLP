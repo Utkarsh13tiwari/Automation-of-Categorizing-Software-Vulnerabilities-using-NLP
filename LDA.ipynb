{
 "cells": [
  {
   "cell_type": "code",
   "execution_count": 2,
   "id": "3e157bcb",
   "metadata": {},
   "outputs": [],
   "source": [
    "import pandas as pd\n",
    "import seaborn as sns\n",
    "import matplotlib.pyplot as plt\n",
    "import numpy as np\n",
    "from nltk.tokenize import RegexpTokenizer\n",
    "from sklearn.feature_extraction.text import TfidfVectorizer\n",
    "from sklearn.decomposition import LatentDirichletAllocation"
   ]
  },
  {
   "cell_type": "code",
   "execution_count": 3,
   "id": "59e87e45",
   "metadata": {},
   "outputs": [],
   "source": [
    "data=pd.read_excel(r'C:\\Users\\utkar\\OneDrive\\Desktop\\EDA_project\\Data_set\\Split_data_final.xlsx', sheet_name ='Sheet1') # Reading data "
   ]
  },
  {
   "cell_type": "code",
   "execution_count": 4,
   "id": "44ab285d",
   "metadata": {},
   "outputs": [
    {
     "name": "stderr",
     "output_type": "stream",
     "text": [
      "C:\\Users\\utkar\\AppData\\Local\\Temp\\ipykernel_20888\\77678499.py:1: FutureWarning: The default value of regex will change from True to False in a future version.\n",
      "  data[\"Impact\"] = data['Impact'].str.replace('[^\\w\\s]','')\n"
     ]
    }
   ],
   "source": [
    "data[\"Impact\"] = data['Impact'].str.replace('[^\\w\\s]','')"
   ]
  },
  {
   "cell_type": "code",
   "execution_count": 5,
   "id": "195dc469",
   "metadata": {},
   "outputs": [
    {
     "name": "stderr",
     "output_type": "stream",
     "text": [
      "C:\\Users\\utkar\\AppData\\Local\\Temp\\ipykernel_20888\\1039804244.py:1: FutureWarning: The default value of regex will change from True to False in a future version.\n",
      "  data[\"Threat\"] = data['Threat'].str.replace('[^\\w\\s]','')\n"
     ]
    }
   ],
   "source": [
    "data[\"Threat\"] = data['Threat'].str.replace('[^\\w\\s]','')"
   ]
  },
  {
   "cell_type": "code",
   "execution_count": 6,
   "id": "2c00fdbe",
   "metadata": {},
   "outputs": [],
   "source": [
    "data['Threat'] = data['Threat'].str.lower()"
   ]
  },
  {
   "cell_type": "code",
   "execution_count": 7,
   "id": "2585b42b",
   "metadata": {},
   "outputs": [],
   "source": [
    "data['Impact'] = data['Impact'].str.lower()"
   ]
  },
  {
   "cell_type": "code",
   "execution_count": 8,
   "id": "1e9e2a85",
   "metadata": {},
   "outputs": [
    {
     "data": {
      "text/plain": [
       "0    successful exploitation allows attacker to exe...\n",
       "1       a physically proximate attacker could use t...\n",
       "2      if a user or automated system were tricked i...\n",
       "3       a local attacker could use this to gain adm...\n",
       "4    successful exploitation of this vulnerability ...\n",
       "Name: Impact, dtype: object"
      ]
     },
     "execution_count": 8,
     "metadata": {},
     "output_type": "execute_result"
    }
   ],
   "source": [
    "data['Impact'].head()"
   ]
  },
  {
   "cell_type": "markdown",
   "id": "c4a33bf4",
   "metadata": {},
   "source": [
    "from nltk.corpus import stopwords\n",
    "\n",
    "stop = stopwords.words('english')\n",
    "\n",
    "data['Threat']=data['Threat'].apply(lambda x: [item for item in x if item not in stop])"
   ]
  },
  {
   "cell_type": "code",
   "execution_count": 9,
   "id": "bbaa2f9d",
   "metadata": {},
   "outputs": [],
   "source": [
    "tokenizer = RegexpTokenizer(r'\\w+')"
   ]
  },
  {
   "cell_type": "code",
   "execution_count": 10,
   "id": "d426f9a9",
   "metadata": {},
   "outputs": [],
   "source": [
    "vectorizer = TfidfVectorizer(lowercase=True,\n",
    "                        stop_words='english',\n",
    "                        ngram_range = (1,1),\n",
    "                        tokenizer = tokenizer.tokenize)"
   ]
  },
  {
   "cell_type": "code",
   "execution_count": 11,
   "id": "878ba8ef",
   "metadata": {},
   "outputs": [],
   "source": [
    "df_A=data.loc[data['AV'] == 'A']"
   ]
  },
  {
   "cell_type": "code",
   "execution_count": 12,
   "id": "49389acd",
   "metadata": {},
   "outputs": [],
   "source": [
    "df_L=data.loc[data['AV'] == 'L']"
   ]
  },
  {
   "cell_type": "code",
   "execution_count": 13,
   "id": "b055232b",
   "metadata": {},
   "outputs": [],
   "source": [
    "df_N=data.loc[data['AV'] == 'N']"
   ]
  },
  {
   "cell_type": "code",
   "execution_count": 14,
   "id": "e6d0cb6d",
   "metadata": {},
   "outputs": [
    {
     "data": {
      "text/plain": [
       "27"
      ]
     },
     "execution_count": 14,
     "metadata": {},
     "output_type": "execute_result"
    }
   ],
   "source": [
    "df_A['Threat'].nunique()"
   ]
  },
  {
   "cell_type": "code",
   "execution_count": 15,
   "id": "c63771a1",
   "metadata": {},
   "outputs": [
    {
     "data": {
      "text/plain": [
       "222"
      ]
     },
     "execution_count": 15,
     "metadata": {},
     "output_type": "execute_result"
    }
   ],
   "source": [
    "df_L['Threat'].nunique()"
   ]
  },
  {
   "cell_type": "code",
   "execution_count": 16,
   "id": "dba34e92",
   "metadata": {},
   "outputs": [
    {
     "data": {
      "text/plain": [
       "883"
      ]
     },
     "execution_count": 16,
     "metadata": {},
     "output_type": "execute_result"
    }
   ],
   "source": [
    "df_N['Threat'].nunique()"
   ]
  },
  {
   "cell_type": "code",
   "execution_count": null,
   "id": "d696b2af",
   "metadata": {},
   "outputs": [],
   "source": []
  },
  {
   "cell_type": "code",
   "execution_count": 17,
   "id": "16da6f8f",
   "metadata": {},
   "outputs": [],
   "source": [
    "X_A = vectorizer.fit_transform(df_A['Threat'])"
   ]
  },
  {
   "cell_type": "code",
   "execution_count": 18,
   "id": "c8efe757",
   "metadata": {},
   "outputs": [],
   "source": [
    "X_L = vectorizer.fit_transform(df_L['Threat'])"
   ]
  },
  {
   "cell_type": "code",
   "execution_count": 19,
   "id": "f0a50d22",
   "metadata": {},
   "outputs": [],
   "source": [
    "X_N = vectorizer.fit_transform(df_N['Threat'])"
   ]
  },
  {
   "cell_type": "code",
   "execution_count": 20,
   "id": "33b8b3da",
   "metadata": {},
   "outputs": [
    {
     "name": "stdout",
     "output_type": "stream",
     "text": [
      "  (0, 2232)\t0.04190842350803308\n",
      "  (0, 5218)\t0.05565885846316027\n",
      "  (0, 5139)\t0.04541573337569766\n",
      "  (0, 5621)\t0.10863402379096998\n",
      "  (0, 4488)\t0.10863402379096998\n",
      "  (0, 6040)\t0.023909657129264825\n",
      "  (0, 5887)\t0.08666586760657038\n",
      "  (0, 1347)\t0.08366646168711518\n",
      "  (0, 2234)\t0.06229392705167285\n",
      "  (0, 3449)\t0.0628521465746675\n",
      "  (0, 2869)\t0.10863402379096998\n",
      "  (0, 4005)\t0.10863402379096998\n",
      "  (0, 1301)\t0.08980241791923586\n",
      "  (0, 2787)\t0.0453744815841422\n",
      "  (0, 1136)\t0.0519707353787864\n",
      "  (0, 4004)\t0.10141002603203637\n",
      "  (0, 2138)\t0.1051619751457533\n",
      "  (0, 3486)\t0.07364872733129917\n",
      "  (0, 5884)\t0.18217317396372382\n",
      "  (0, 5164)\t0.0874180855351671\n",
      "  (0, 2955)\t0.10863402379096998\n",
      "  (0, 5319)\t0.08887395634323529\n",
      "  (0, 5586)\t0.04860476102197959\n",
      "  (0, 837)\t0.09136262287757259\n",
      "  (0, 4613)\t0.09712005520273582\n",
      "  :\t:\n",
      "  (62520, 1262)\t0.0997192274703549\n",
      "  (62520, 5410)\t0.11565574650924498\n",
      "  (62520, 5303)\t0.09062965650271551\n",
      "  (62520, 3359)\t0.11578349891753703\n",
      "  (62520, 4745)\t0.1140198017549858\n",
      "  (62520, 4733)\t0.12120171083777885\n",
      "  (62520, 3103)\t0.05958177184950234\n",
      "  (62520, 5241)\t0.14331272576127785\n",
      "  (62520, 5439)\t0.11703302585309745\n",
      "  (62520, 5189)\t0.060851937604539705\n",
      "  (62520, 2321)\t0.08965706729482578\n",
      "  (62520, 1325)\t0.13610971776310613\n",
      "  (62520, 888)\t0.08489478058680437\n",
      "  (62520, 3693)\t0.12288778438313053\n",
      "  (62520, 5758)\t0.11498986067401146\n",
      "  (62520, 1208)\t0.19925642720983558\n",
      "  (62520, 1089)\t0.10826205460016153\n",
      "  (62520, 1425)\t0.11562742656397403\n",
      "  (62520, 1138)\t0.08803084316361044\n",
      "  (62520, 5909)\t0.05191400789881387\n",
      "  (62520, 5236)\t0.33469676348840494\n",
      "  (62520, 1137)\t0.5176177872730503\n",
      "  (62520, 5888)\t0.08199824056870496\n",
      "  (62520, 4931)\t0.10898905542223095\n",
      "  (62520, 6040)\t0.06982149859888485\n"
     ]
    }
   ],
   "source": [
    "print(X_N)"
   ]
  },
  {
   "cell_type": "code",
   "execution_count": 21,
   "id": "1bbfb053",
   "metadata": {},
   "outputs": [],
   "source": [
    "model_A=LatentDirichletAllocation(n_components=2)"
   ]
  },
  {
   "cell_type": "code",
   "execution_count": 22,
   "id": "4b4b6c61",
   "metadata": {},
   "outputs": [],
   "source": [
    "model_L=LatentDirichletAllocation(n_components=5)"
   ]
  },
  {
   "cell_type": "code",
   "execution_count": 23,
   "id": "4e2214dc",
   "metadata": {},
   "outputs": [],
   "source": [
    "model_N=LatentDirichletAllocation(n_components=10)"
   ]
  },
  {
   "cell_type": "code",
   "execution_count": 24,
   "id": "56f458ab",
   "metadata": {},
   "outputs": [],
   "source": [
    "lda_matrix_A = model_A.fit_transform(X_A)"
   ]
  },
  {
   "cell_type": "code",
   "execution_count": 25,
   "id": "dd9950e9",
   "metadata": {},
   "outputs": [],
   "source": [
    "lda_matrix_L = model_L.fit_transform(X_L)"
   ]
  },
  {
   "cell_type": "code",
   "execution_count": 26,
   "id": "97856dd3",
   "metadata": {},
   "outputs": [],
   "source": [
    "lda_matrix_N = model_N.fit_transform(X_N)"
   ]
  },
  {
   "cell_type": "code",
   "execution_count": 27,
   "id": "a69df4c7",
   "metadata": {},
   "outputs": [],
   "source": [
    "lda_components_A=model_A.components_"
   ]
  },
  {
   "cell_type": "code",
   "execution_count": 28,
   "id": "58602570",
   "metadata": {},
   "outputs": [],
   "source": [
    "lda_components_L=model_L.components_"
   ]
  },
  {
   "cell_type": "code",
   "execution_count": 29,
   "id": "df5dddc3",
   "metadata": {},
   "outputs": [],
   "source": [
    "lda_components_N=model_N.components_"
   ]
  },
  {
   "cell_type": "code",
   "execution_count": 54,
   "id": "b51d561f",
   "metadata": {},
   "outputs": [
    {
     "name": "stdout",
     "output_type": "stream",
     "text": [
      "Topic 0:  ['injection', 'insecurities', 'pair', 'lure', 'daemon', 'namespaced', 'critical', '9948', '7544', 'determined']\n",
      "Topic 1:  ['manage', '19075', 'exhaustion', 'hijack', 'length', 'exploitiaton', 'distribution', '15212', 'redirection', 'end']\n",
      "Topic 2:  ['matching', 'communicates', 'iis', 'party', 'common', 'issues', 'python', 'gathered', 'recent', 'heavily']\n",
      "Topic 3:  ['librsvg', 'opening', 'field', 'peng', 'mishandles', 'code', 'possess', 'executing', 'fi', 'financial']\n",
      "Topic 4:  ['librsvg', 'low', 'gather', 'older', 'received', 'mishandles', 'failed', 'comments', 'redirecting', 'peng']\n",
      "Topic 5:  ['include', 'recovering', 'exploitiaton', 'expose', 'dhcp', '0737', 'mimic', '0', 'including', 'mime']\n",
      "Topic 6:  ['libsndfile', 'hashes', 'hijack', '15117', 'gnu', '1549', 'application', 'contents', '14901', '19725']\n",
      "Topic 7:  ['libsndfile', '18313', 'license', 'filtered', 'boot', 'librsvg', '15216', '0737', 'launch', '14896']\n",
      "Topic 8:  ['manage', 'hijack', 'length', 'exhaustion', 'exploitiaton', 'management', 'completed', 'fix', 'described', 'knowing']\n",
      "Topic 9:  ['librsvg', 'occurring', 'launching', 'peng', 'offline', 'consequently', 'execute', 'passing', 'field', 'executing']\n"
     ]
    }
   ],
   "source": [
    "terms = vectorizer.get_feature_names()\n",
    "\n",
    "for index, component in enumerate(lda_components_A):\n",
    "    zipped = zip(terms, component)\n",
    "    top_terms_key=sorted(zipped, key = lambda t: t[1], reverse=True)[:10]\n",
    "    top_terms_list=list(dict(top_terms_key).keys())\n",
    "    print(\"Topic \"+str(index)+\": \",top_terms_list)"
   ]
  },
  {
   "cell_type": "code",
   "execution_count": 56,
   "id": "958662c3",
   "metadata": {},
   "outputs": [
    {
     "name": "stdout",
     "output_type": "stream",
     "text": [
      "Topic 0:  ['computer', 'type', 'unserialize', 'using', 'connected', 'elevate', 'escalated', 'intruder', 'validation', 'x']\n",
      "Topic 1:  ['x', 'connected', 'workflow', '509', 'queries', 'xr', '10317', 'devices', '13144', 'prone']\n",
      "Topic 2:  ['snapd', 'crashes', 'connected', 'x', 'poisoning', '11490', 'legitimate', '13144', 'wap', 'prone']\n",
      "Topic 3:  ['vpns', 'elevate', 'overflow', 'reflected', 'snaps', 'wireless', 'works', 'map', 'leak', 'repo']\n",
      "Topic 4:  ['6350', '19075', 'connected', 'rsync', 'x', 'individual', 'carried', 'crashes', 'prone', 'host']\n"
     ]
    }
   ],
   "source": [
    "terms = vectorizer.get_feature_names()\n",
    "\n",
    "for index, component in enumerate(lda_components_L):\n",
    "    zipped = zip(terms, component)\n",
    "    top_terms_key=sorted(zipped, key = lambda t: t[1], reverse=True)[:10]\n",
    "    top_terms_list=list(dict(top_terms_key).keys())\n",
    "    print(\"Topic \"+str(index)+\": \",top_terms_list)"
   ]
  },
  {
   "cell_type": "code",
   "execution_count": 57,
   "id": "e8ec0a81",
   "metadata": {},
   "outputs": [
    {
     "name": "stdout",
     "output_type": "stream",
     "text": [
      "Topic 0:  ['injection', 'insecurities', 'pair', 'lure', 'daemon', 'namespaced', 'critical', '9948', '7544', 'determined']\n",
      "Topic 1:  ['manage', '19075', 'exhaustion', 'hijack', 'length', 'exploitiaton', 'distribution', '15212', 'redirection', 'end']\n",
      "Topic 2:  ['matching', 'communicates', 'iis', 'party', 'common', 'issues', 'python', 'gathered', 'recent', 'heavily']\n",
      "Topic 3:  ['librsvg', 'opening', 'field', 'peng', 'mishandles', 'code', 'possess', 'executing', 'fi', 'financial']\n",
      "Topic 4:  ['librsvg', 'low', 'gather', 'older', 'received', 'mishandles', 'failed', 'comments', 'redirecting', 'peng']\n",
      "Topic 5:  ['include', 'recovering', 'exploitiaton', 'expose', 'dhcp', '0737', 'mimic', '0', 'including', 'mime']\n",
      "Topic 6:  ['libsndfile', 'hashes', 'hijack', '15117', 'gnu', '1549', 'application', 'contents', '14901', '19725']\n",
      "Topic 7:  ['libsndfile', '18313', 'license', 'filtered', 'boot', 'librsvg', '15216', '0737', 'launch', '14896']\n",
      "Topic 8:  ['manage', 'hijack', 'length', 'exhaustion', 'exploitiaton', 'management', 'completed', 'fix', 'described', 'knowing']\n",
      "Topic 9:  ['librsvg', 'occurring', 'launching', 'peng', 'offline', 'consequently', 'execute', 'passing', 'field', 'executing']\n"
     ]
    }
   ],
   "source": [
    "terms = vectorizer.get_feature_names()\n",
    "\n",
    "for index, component in enumerate(lda_components_N):\n",
    "    zipped = zip(terms, component)\n",
    "    top_terms_key=sorted(zipped, key = lambda t: t[1], reverse=True)[:10]\n",
    "    top_terms_list=list(dict(top_terms_key).keys())\n",
    "    print(\"Topic \"+str(index)+\": \",top_terms_list)"
   ]
  },
  {
   "cell_type": "markdown",
   "id": "580ee6d6",
   "metadata": {},
   "source": [
    "# Impact "
   ]
  },
  {
   "cell_type": "code",
   "execution_count": 31,
   "id": "1cd53e6e",
   "metadata": {},
   "outputs": [],
   "source": [
    "data2=pd.read_excel(r'C:\\Users\\utkar\\OneDrive\\Desktop\\EDA_project\\Data_set\\Split_data_final.xlsx', sheet_name ='Sheet1') # Reading data "
   ]
  },
  {
   "cell_type": "code",
   "execution_count": 32,
   "id": "a561ed14",
   "metadata": {},
   "outputs": [],
   "source": [
    "data2=data2.dropna(subset=['Impact'])"
   ]
  },
  {
   "cell_type": "code",
   "execution_count": 33,
   "id": "86fe1caf",
   "metadata": {},
   "outputs": [],
   "source": [
    "data_A=data2.loc[data2['AV'] == 'A']"
   ]
  },
  {
   "cell_type": "code",
   "execution_count": 34,
   "id": "1f2ef338",
   "metadata": {},
   "outputs": [],
   "source": [
    "data_L=data2.loc[data2['AV'] == 'L']"
   ]
  },
  {
   "cell_type": "code",
   "execution_count": 35,
   "id": "acb216af",
   "metadata": {},
   "outputs": [],
   "source": [
    "data_N=data2.loc[data2['AV'] == 'N']"
   ]
  },
  {
   "cell_type": "code",
   "execution_count": 36,
   "id": "894f2f91",
   "metadata": {},
   "outputs": [
    {
     "data": {
      "text/plain": [
       "7043"
      ]
     },
     "execution_count": 36,
     "metadata": {},
     "output_type": "execute_result"
    }
   ],
   "source": [
    "data_L['Impact'].value_counts().sum()"
   ]
  },
  {
   "cell_type": "code",
   "execution_count": 37,
   "id": "88516eba",
   "metadata": {},
   "outputs": [
    {
     "data": {
      "text/plain": [
       "62082"
      ]
     },
     "execution_count": 37,
     "metadata": {},
     "output_type": "execute_result"
    }
   ],
   "source": [
    "data_N['Impact'].value_counts().sum()"
   ]
  },
  {
   "cell_type": "code",
   "execution_count": 38,
   "id": "42334006",
   "metadata": {},
   "outputs": [
    {
     "data": {
      "text/plain": [
       "284"
      ]
     },
     "execution_count": 38,
     "metadata": {},
     "output_type": "execute_result"
    }
   ],
   "source": [
    "data_A['Impact'].value_counts().sum()"
   ]
  },
  {
   "cell_type": "code",
   "execution_count": 39,
   "id": "a6a3f8c3",
   "metadata": {},
   "outputs": [],
   "source": [
    "Y_A = vectorizer.fit_transform(data_A['Impact'])"
   ]
  },
  {
   "cell_type": "code",
   "execution_count": 40,
   "id": "683a9b4b",
   "metadata": {},
   "outputs": [],
   "source": [
    "Y_L = vectorizer.fit_transform(data_L['Impact'])"
   ]
  },
  {
   "cell_type": "code",
   "execution_count": 41,
   "id": "2e72d827",
   "metadata": {},
   "outputs": [],
   "source": [
    "Y_N = vectorizer.fit_transform(data_N['Impact'])"
   ]
  },
  {
   "cell_type": "code",
   "execution_count": 42,
   "id": "2546659f",
   "metadata": {},
   "outputs": [],
   "source": [
    "model_Y_A=LatentDirichletAllocation(n_components=2)"
   ]
  },
  {
   "cell_type": "code",
   "execution_count": 43,
   "id": "5cd77279",
   "metadata": {},
   "outputs": [],
   "source": [
    "model_Y_L=LatentDirichletAllocation(n_components=5)"
   ]
  },
  {
   "cell_type": "code",
   "execution_count": 44,
   "id": "90686b64",
   "metadata": {},
   "outputs": [],
   "source": [
    "model_Y_N=LatentDirichletAllocation(n_components=7)"
   ]
  },
  {
   "cell_type": "code",
   "execution_count": 45,
   "id": "eacc0565",
   "metadata": {},
   "outputs": [],
   "source": [
    "lda_matrix_YA = model_Y_A.fit_transform(Y_A)"
   ]
  },
  {
   "cell_type": "code",
   "execution_count": 46,
   "id": "fc078d08",
   "metadata": {},
   "outputs": [],
   "source": [
    "lda_matrix_YL = model_Y_L.fit_transform(Y_L)"
   ]
  },
  {
   "cell_type": "code",
   "execution_count": 47,
   "id": "90718b84",
   "metadata": {},
   "outputs": [],
   "source": [
    "lda_matrix_YN = model_Y_N.fit_transform(Y_N)"
   ]
  },
  {
   "cell_type": "code",
   "execution_count": 48,
   "id": "5ac0dc52",
   "metadata": {},
   "outputs": [],
   "source": [
    "lda_components_YA=model_Y_A.components_"
   ]
  },
  {
   "cell_type": "code",
   "execution_count": 49,
   "id": "d93d6563",
   "metadata": {},
   "outputs": [],
   "source": [
    "lda_components_YL=model_Y_L.components_"
   ]
  },
  {
   "cell_type": "code",
   "execution_count": 50,
   "id": "34d63438",
   "metadata": {},
   "outputs": [],
   "source": [
    "lda_components_YN=model_Y_N.components_"
   ]
  },
  {
   "cell_type": "code",
   "execution_count": 51,
   "id": "68abca04",
   "metadata": {},
   "outputs": [
    {
     "name": "stdout",
     "output_type": "stream",
     "text": [
      "Topic 0:  ['11984', '11884', '15796', '13112', '14567', '13164', '13750', '14378', '16231', '14283']\n",
      "Topic 1:  ['14350', '15298', '14647', '14284', '11815', '12762', '13636', '15686', '14600', '14895']\n"
     ]
    },
    {
     "name": "stderr",
     "output_type": "stream",
     "text": [
      "C:\\Users\\utkar\\anaconda3\\lib\\site-packages\\sklearn\\utils\\deprecation.py:87: FutureWarning: Function get_feature_names is deprecated; get_feature_names is deprecated in 1.0 and will be removed in 1.2. Please use get_feature_names_out instead.\n",
      "  warnings.warn(msg, category=FutureWarning)\n"
     ]
    }
   ],
   "source": [
    "terms = vectorizer.get_feature_names()\n",
    "\n",
    "for index, component in enumerate(lda_components_YA):\n",
    "    zipped = zip(terms, component)\n",
    "    top_terms_key=sorted(zipped, key = lambda t: t[1], reverse=True)[:10]\n",
    "    top_terms_list=list(dict(top_terms_key).keys())\n",
    "    print(\"Topic \"+str(index)+\": \",top_terms_list)"
   ]
  },
  {
   "cell_type": "code",
   "execution_count": 52,
   "id": "48cd11d7",
   "metadata": {},
   "outputs": [
    {
     "name": "stdout",
     "output_type": "stream",
     "text": [
      "Topic 0:  ['18269', 'cgi', '5481', 'bzip2', '8323', '9515', '18258', '8865', 'average', 'administrators']\n",
      "Topic 1:  ['9169', '9261', 'active', 'chen', '6350', 'attacks', '8777', 'alter', 'atlassian', 'box']\n",
      "Topic 2:  ['18660', '7610', '2015', '19052', '18232', '8322', 'class', '19924', '8622', '8624']\n",
      "Topic 3:  ['18232', 'bzip2', '8323', 'attempts', 'citrix', '5481', '2015', '7610', 'activities', '9515']\n",
      "Topic 4:  ['additionally', 'circumstances', 'broken', '3900', '2520', '16840', '16935', '19923', 'attempt', '17514']\n"
     ]
    }
   ],
   "source": [
    "terms = vectorizer.get_feature_names()\n",
    "\n",
    "for index, component in enumerate(lda_components_YL):\n",
    "    zipped = zip(terms, component)\n",
    "    top_terms_key=sorted(zipped, key = lambda t: t[1], reverse=True)[:10]\n",
    "    top_terms_list=list(dict(top_terms_key).keys())\n",
    "    print(\"Topic \"+str(index)+\": \",top_terms_list)"
   ]
  },
  {
   "cell_type": "code",
   "execution_count": 53,
   "id": "aa76f160",
   "metadata": {},
   "outputs": [
    {
     "name": "stdout",
     "output_type": "stream",
     "text": [
      "Topic 0:  ['gain', 'code', 'exploitation', 'access', 'successful', 'cause', 'easily', 'transmission', 'intercept', 'sniffer']\n",
      "Topic 1:  ['launch', 'exploiting', 'attack', 'middle', 'man', 'attacker', 'vulnerability', 'poodle', 'tls', 'communications']\n",
      "Topic 2:  ['communication', 'exploit', 'decrypt', 'key', 'record', 'man', 'middle', 'vulnerability', 'attacker', 'session']\n",
      "Topic 3:  ['certificate', 'server', 'ca', 'trusted', 'signature', 'clients', 'occur', 'available', 'restricted', 'exception']\n",
      "Topic 4:  ['remote', 'sniffing', 'mime', 'clickjacking', 'cross', 'scripting', 'site', 'attacks', 'unauthenticated', 'depending']\n",
      "Topic 5:  ['obtain', 'duration', 'birthday', 'long', 'attackers', 'cleartext', 'encrypted', 'session', 'data', 'validation']\n",
      "Topic 6:  ['cookie', 'recovered', 'http', 'guest', 'user', 'attacker', 'local', 'crash', 'recover', 'practical']\n"
     ]
    }
   ],
   "source": [
    "terms = vectorizer.get_feature_names()\n",
    "\n",
    "for index, component in enumerate(lda_components_YN):\n",
    "    zipped = zip(terms, component)\n",
    "    top_terms_key=sorted(zipped, key = lambda t: t[1], reverse=True)[:10]\n",
    "    top_terms_list=list(dict(top_terms_key).keys())\n",
    "    print(\"Topic \"+str(index)+\": \",top_terms_list)"
   ]
  },
  {
   "cell_type": "code",
   "execution_count": null,
   "id": "e2feac79",
   "metadata": {},
   "outputs": [],
   "source": []
  }
 ],
 "metadata": {
  "kernelspec": {
   "display_name": "Python 3 (ipykernel)",
   "language": "python",
   "name": "python3"
  },
  "language_info": {
   "codemirror_mode": {
    "name": "ipython",
    "version": 3
   },
   "file_extension": ".py",
   "mimetype": "text/x-python",
   "name": "python",
   "nbconvert_exporter": "python",
   "pygments_lexer": "ipython3",
   "version": "3.9.13"
  }
 },
 "nbformat": 4,
 "nbformat_minor": 5
}
