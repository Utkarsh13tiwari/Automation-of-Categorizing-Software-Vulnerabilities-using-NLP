{
 "cells": [
  {
   "cell_type": "code",
   "execution_count": 1,
   "id": "398ea530",
   "metadata": {},
   "outputs": [],
   "source": [
    "import numpy as np\n",
    "import pandas as pd\n",
    "import matplotlib.pyplot as plt\n",
    "import seaborn as sns"
   ]
  },
  {
   "cell_type": "code",
   "execution_count": 2,
   "id": "fc6d1a37",
   "metadata": {},
   "outputs": [],
   "source": [
    "df=pd.read_excel(r'C:\\Users\\utkar\\OneDrive\\Desktop\\EDA_project\\Data_set\\Split_data_final.xlsx', sheet_name ='Sheet1') # Readi"
   ]
  },
  {
   "cell_type": "code",
   "execution_count": 3,
   "id": "9696b7f7",
   "metadata": {},
   "outputs": [],
   "source": [
    "#df=pd.DataFrame()"
   ]
  },
  {
   "cell_type": "code",
   "execution_count": 4,
   "id": "5ab007d2",
   "metadata": {
    "scrolled": true
   },
   "outputs": [
    {
     "name": "stderr",
     "output_type": "stream",
     "text": [
      "C:\\Users\\utkar\\AppData\\Local\\Temp\\ipykernel_9616\\3388471120.py:1: FutureWarning: The default value of regex will change from True to False in a future version.\n",
      "  df['Threat'] = df['Threat'].str.replace(\"[^a-zA-Z#]\", \" \")\n"
     ]
    }
   ],
   "source": [
    "df['Threat'] = df['Threat'].str.replace(\"[^a-zA-Z#]\", \" \")"
   ]
  },
  {
   "cell_type": "code",
   "execution_count": 5,
   "id": "2126fa98",
   "metadata": {},
   "outputs": [],
   "source": [
    "df['Threat'] = df['Threat'].apply(lambda x: x.lower())"
   ]
  },
  {
   "cell_type": "code",
   "execution_count": 6,
   "id": "b3a01192",
   "metadata": {},
   "outputs": [
    {
     "data": {
      "text/plain": [
       "1078"
      ]
     },
     "execution_count": 6,
     "metadata": {},
     "output_type": "execute_result"
    }
   ],
   "source": [
    "df['Threat'].nunique()"
   ]
  },
  {
   "cell_type": "code",
   "execution_count": null,
   "id": "d6ee0d0c",
   "metadata": {},
   "outputs": [],
   "source": []
  },
  {
   "cell_type": "code",
   "execution_count": 9,
   "id": "27bc53ce",
   "metadata": {},
   "outputs": [
    {
     "name": "stderr",
     "output_type": "stream",
     "text": [
      "[nltk_data] Downloading package stopwords to\n",
      "[nltk_data]     C:\\Users\\utkar\\AppData\\Roaming\\nltk_data...\n",
      "[nltk_data]   Unzipping corpora\\stopwords.zip.\n"
     ]
    }
   ],
   "source": [
    "import nltk\n",
    "from nltk.corpus import stopwords\n",
    "nltk.download('stopwords')\n",
    "stop_words = stopwords.words('english')"
   ]
  },
  {
   "cell_type": "code",
   "execution_count": 10,
   "id": "2ebfc525",
   "metadata": {},
   "outputs": [],
   "source": [
    "tokenized_doc = df['Threat'].apply(lambda x: x.split())"
   ]
  },
  {
   "cell_type": "markdown",
   "id": "57d1650b",
   "metadata": {},
   "source": [
    "tokenized_doc_A = df_A['Threat'].apply(lambda x: x.split())"
   ]
  },
  {
   "cell_type": "markdown",
   "id": "b3b01aa7",
   "metadata": {},
   "source": [
    "tokenized_doc_L = df_L['Threat'].apply(lambda x: x.split())"
   ]
  },
  {
   "cell_type": "markdown",
   "id": "1e901bde",
   "metadata": {},
   "source": [
    "tokenized_doc_N = df_N['Threat'].apply(lambda x: x.split())"
   ]
  },
  {
   "cell_type": "code",
   "execution_count": 11,
   "id": "df4caa60",
   "metadata": {},
   "outputs": [],
   "source": [
    "tokenized_doc = tokenized_doc.apply(lambda x: [item for item in x if item not in stop_words])"
   ]
  },
  {
   "cell_type": "markdown",
   "id": "3600c7d6",
   "metadata": {},
   "source": [
    "tokenized_doc_A = tokenized_doc_A.apply(lambda x: [item for item in x if item not in stop_words])"
   ]
  },
  {
   "cell_type": "markdown",
   "id": "135297f6",
   "metadata": {},
   "source": [
    "tokenized_doc_L = tokenized_doc_L.apply(lambda x: [item for item in x if item not in stop_words])"
   ]
  },
  {
   "cell_type": "markdown",
   "id": "3849fd9a",
   "metadata": {},
   "source": [
    "tokenized_doc_N = tokenized_doc_N.apply(lambda x: [item for item in x if item not in stop_words])"
   ]
  },
  {
   "cell_type": "code",
   "execution_count": 12,
   "id": "a314362a",
   "metadata": {},
   "outputs": [],
   "source": [
    "detokenized_doc = []\n",
    "for i in range(len(df)):\n",
    "    t = ' '.join(tokenized_doc[i])\n",
    "    detokenized_doc.append(t)"
   ]
  },
  {
   "cell_type": "markdown",
   "id": "f24fbe58",
   "metadata": {},
   "source": [
    "detokenized_doc = []\n",
    "for i in range(len(df)):\n",
    "    t = ' '.join(tokenized_doc[i])\n",
    "    detokenized_doc.append(t)"
   ]
  },
  {
   "cell_type": "markdown",
   "id": "1b2ed788",
   "metadata": {},
   "source": [
    "detokenized_doc = []\n",
    "for i in range(len(df)):\n",
    "    t = ' '.join(tokenized_doc[i])\n",
    "    detokenized_doc.append(t)"
   ]
  },
  {
   "cell_type": "markdown",
   "id": "381584e8",
   "metadata": {},
   "source": [
    "detokenized_doc = []\n",
    "for i in range(len(df)):\n",
    "    t = ' '.join(tokenized_doc[i])\n",
    "    detokenized_doc.append(t)"
   ]
  },
  {
   "cell_type": "code",
   "execution_count": 13,
   "id": "a8b2f4db",
   "metadata": {},
   "outputs": [],
   "source": [
    "df['Threat'] = detokenized_doc"
   ]
  },
  {
   "cell_type": "code",
   "execution_count": 14,
   "id": "f7b6f97f",
   "metadata": {},
   "outputs": [],
   "source": [
    "df_A=df.loc[df['AV'] == 'A']"
   ]
  },
  {
   "cell_type": "code",
   "execution_count": 15,
   "id": "b103c4d3",
   "metadata": {},
   "outputs": [],
   "source": [
    "df_L=df.loc[df['AV'] == 'L']"
   ]
  },
  {
   "cell_type": "code",
   "execution_count": 16,
   "id": "6dd13fda",
   "metadata": {},
   "outputs": [],
   "source": [
    "df_N=df.loc[df['AV'] == 'N']"
   ]
  },
  {
   "cell_type": "code",
   "execution_count": 17,
   "id": "7952dc07",
   "metadata": {},
   "outputs": [
    {
     "data": {
      "text/plain": [
       "27"
      ]
     },
     "execution_count": 17,
     "metadata": {},
     "output_type": "execute_result"
    }
   ],
   "source": [
    "df_A['Threat'].nunique()"
   ]
  },
  {
   "cell_type": "code",
   "execution_count": 18,
   "id": "8157c0c0",
   "metadata": {},
   "outputs": [
    {
     "data": {
      "text/plain": [
       "211"
      ]
     },
     "execution_count": 18,
     "metadata": {},
     "output_type": "execute_result"
    }
   ],
   "source": [
    "df_L['Threat'].nunique()"
   ]
  },
  {
   "cell_type": "code",
   "execution_count": 19,
   "id": "69985f90",
   "metadata": {},
   "outputs": [
    {
     "data": {
      "text/plain": [
       "834"
      ]
     },
     "execution_count": 19,
     "metadata": {},
     "output_type": "execute_result"
    }
   ],
   "source": [
    "df_N['Threat'].nunique()"
   ]
  },
  {
   "cell_type": "code",
   "execution_count": 20,
   "id": "0be8cd7a",
   "metadata": {},
   "outputs": [
    {
     "data": {
      "text/plain": [
       "1057"
      ]
     },
     "execution_count": 20,
     "metadata": {},
     "output_type": "execute_result"
    }
   ],
   "source": [
    "df['Threat'].nunique()"
   ]
  },
  {
   "cell_type": "code",
   "execution_count": 21,
   "id": "d06c9a6e",
   "metadata": {},
   "outputs": [
    {
     "data": {
      "text/plain": [
       "0    grub boot loader vulnerable buffer overflow re...\n",
       "1    discovered heap based buffer overflow existed ...\n",
       "2    discovered libtiff incorrectly handled certain...\n",
       "3    discovered race condition existed memory manag...\n",
       "4    docker engine enables containerized applicatio...\n",
       "Name: Threat, dtype: object"
      ]
     },
     "execution_count": 21,
     "metadata": {},
     "output_type": "execute_result"
    }
   ],
   "source": [
    "df['Threat'].head()"
   ]
  },
  {
   "cell_type": "code",
   "execution_count": 22,
   "id": "230a0b90",
   "metadata": {},
   "outputs": [
    {
     "name": "stdout",
     "output_type": "stream",
     "text": [
      "362\n"
     ]
    }
   ],
   "source": [
    "print(len(df['Threat'][0]))"
   ]
  },
  {
   "cell_type": "code",
   "execution_count": 23,
   "id": "978d4862",
   "metadata": {},
   "outputs": [],
   "source": [
    "from sklearn.feature_extraction.text import TfidfVectorizer"
   ]
  },
  {
   "cell_type": "code",
   "execution_count": 24,
   "id": "41f2780d",
   "metadata": {},
   "outputs": [],
   "source": [
    "vectorizer = TfidfVectorizer(stop_words='english',max_df = 0.5, smooth_idf=True)"
   ]
  },
  {
   "cell_type": "code",
   "execution_count": 25,
   "id": "377dea9b",
   "metadata": {},
   "outputs": [],
   "source": [
    "X = vectorizer.fit_transform(df['Threat'])"
   ]
  },
  {
   "cell_type": "code",
   "execution_count": 26,
   "id": "4913bbf9",
   "metadata": {},
   "outputs": [],
   "source": [
    "A = vectorizer.fit_transform(df_A['Threat'])"
   ]
  },
  {
   "cell_type": "code",
   "execution_count": 27,
   "id": "96a61ea0",
   "metadata": {},
   "outputs": [],
   "source": [
    "L = vectorizer.fit_transform(df_L['Threat'])"
   ]
  },
  {
   "cell_type": "code",
   "execution_count": 28,
   "id": "7e22946f",
   "metadata": {},
   "outputs": [],
   "source": [
    "N = vectorizer.fit_transform(df_N['Threat'])"
   ]
  },
  {
   "cell_type": "code",
   "execution_count": 29,
   "id": "e7e70612",
   "metadata": {},
   "outputs": [
    {
     "name": "stdout",
     "output_type": "stream",
     "text": [
      "(1, 4660)\n"
     ]
    }
   ],
   "source": [
    "print(X[3].shape)"
   ]
  },
  {
   "cell_type": "code",
   "execution_count": 30,
   "id": "fa4f63da",
   "metadata": {},
   "outputs": [
    {
     "data": {
      "text/plain": [
       "(62521, 4189)"
      ]
     },
     "execution_count": 30,
     "metadata": {},
     "output_type": "execute_result"
    }
   ],
   "source": [
    "N.shape"
   ]
  },
  {
   "cell_type": "code",
   "execution_count": 31,
   "id": "dbcfbf6a",
   "metadata": {},
   "outputs": [
    {
     "data": {
      "text/plain": [
       "(294, 507)"
      ]
     },
     "execution_count": 31,
     "metadata": {},
     "output_type": "execute_result"
    }
   ],
   "source": [
    "A.shape"
   ]
  },
  {
   "cell_type": "code",
   "execution_count": 32,
   "id": "cc168343",
   "metadata": {},
   "outputs": [
    {
     "data": {
      "text/plain": [
       "(7094, 1562)"
      ]
     },
     "execution_count": 32,
     "metadata": {},
     "output_type": "execute_result"
    }
   ],
   "source": [
    "L.shape"
   ]
  },
  {
   "cell_type": "code",
   "execution_count": null,
   "id": "892d972d",
   "metadata": {},
   "outputs": [],
   "source": []
  },
  {
   "cell_type": "code",
   "execution_count": 33,
   "id": "4603501d",
   "metadata": {},
   "outputs": [
    {
     "name": "stdout",
     "output_type": "stream",
     "text": [
      "  (0, 2853)\t0.1158835712611501\n",
      "  (0, 3371)\t0.13839122113819902\n",
      "  (0, 2616)\t0.11286443050758803\n",
      "  (0, 946)\t0.17474602051963375\n",
      "  (0, 4327)\t0.2885005872601033\n",
      "  (0, 1020)\t0.0497268222973531\n",
      "  (0, 3208)\t0.0414018402887522\n",
      "  (0, 1016)\t0.06069526398640074\n",
      "  (0, 463)\t0.14005665563272993\n",
      "  (0, 3839)\t0.11081900925201162\n",
      "  (0, 4246)\t0.15930758790665545\n",
      "  (0, 2628)\t0.14079541633672693\n",
      "  (0, 2184)\t0.1899469228747129\n",
      "  (0, 465)\t0.18212984128402765\n",
      "  (0, 1815)\t0.060173035906501866\n",
      "  (0, 2289)\t0.08044377835087496\n",
      "  (0, 3333)\t0.06667977441580486\n",
      "  (0, 4048)\t0.07979018032184569\n",
      "  (0, 416)\t0.17474602051963375\n",
      "  (0, 4359)\t0.06546798021633435\n",
      "  (0, 3098)\t0.08131214963901334\n",
      "  (0, 1510)\t0.11376972805529122\n",
      "  (0, 415)\t0.17474602051963375\n",
      "  (0, 2068)\t0.0882970961332308\n",
      "  (0, 2150)\t0.05509998140230979\n",
      "  (0, 93)\t0.08039775784556195\n",
      "  (0, 4401)\t0.34777804371660137\n",
      "  (0, 3172)\t0.10161108925714543\n",
      "  (0, 1507)\t0.10182938520677381\n",
      "  (0, 2702)\t0.054650894262956114\n",
      "  (0, 1251)\t0.12027893388115204\n",
      "  (0, 3643)\t0.03669199827593959\n",
      "  (0, 3130)\t0.08573507380108285\n",
      "  (0, 1371)\t0.07531835645154077\n",
      "  (0, 638)\t0.06992655754265481\n",
      "  (0, 213)\t0.0716659027602809\n",
      "  (0, 3464)\t0.0947307014260387\n",
      "  (0, 2833)\t0.08825756911704202\n",
      "  (0, 461)\t0.095462558174584\n",
      "  (0, 4477)\t0.04460594723995616\n",
      "  (0, 2314)\t0.17971678407872788\n",
      "  (0, 413)\t0.4447187376989632\n",
      "  (0, 1696)\t0.3494920410392675\n"
     ]
    }
   ],
   "source": [
    "print(X[0])"
   ]
  },
  {
   "cell_type": "code",
   "execution_count": 34,
   "id": "23af2312",
   "metadata": {},
   "outputs": [],
   "source": [
    "from sklearn.decomposition import TruncatedSVD"
   ]
  },
  {
   "cell_type": "code",
   "execution_count": 35,
   "id": "f5c3357a",
   "metadata": {},
   "outputs": [],
   "source": [
    "svd_model = TruncatedSVD(n_components=40, algorithm='randomized', n_iter=100)"
   ]
  },
  {
   "cell_type": "code",
   "execution_count": 36,
   "id": "1f0438f5",
   "metadata": {},
   "outputs": [],
   "source": [
    "svd_model_A = TruncatedSVD(n_components=8, algorithm='randomized', n_iter=100)"
   ]
  },
  {
   "cell_type": "code",
   "execution_count": 37,
   "id": "32e3a122",
   "metadata": {},
   "outputs": [],
   "source": [
    "svd_model_L = TruncatedSVD(n_components=8, algorithm='randomized', n_iter=100)"
   ]
  },
  {
   "cell_type": "code",
   "execution_count": 38,
   "id": "c188cfaf",
   "metadata": {},
   "outputs": [],
   "source": [
    "svd_model_N = TruncatedSVD(n_components=5, algorithm='randomized', n_iter=100)"
   ]
  },
  {
   "cell_type": "code",
   "execution_count": 39,
   "id": "71fd120c",
   "metadata": {},
   "outputs": [
    {
     "data": {
      "text/plain": [
       "TruncatedSVD(n_components=40, n_iter=100)"
      ]
     },
     "execution_count": 39,
     "metadata": {},
     "output_type": "execute_result"
    }
   ],
   "source": [
    "svd_model.fit(X)"
   ]
  },
  {
   "cell_type": "code",
   "execution_count": 40,
   "id": "bc560b90",
   "metadata": {},
   "outputs": [
    {
     "data": {
      "text/plain": [
       "TruncatedSVD(n_components=8, n_iter=100)"
      ]
     },
     "execution_count": 40,
     "metadata": {},
     "output_type": "execute_result"
    }
   ],
   "source": [
    "svd_model_A.fit(A)"
   ]
  },
  {
   "cell_type": "code",
   "execution_count": 41,
   "id": "676b20a6",
   "metadata": {},
   "outputs": [
    {
     "data": {
      "text/plain": [
       "TruncatedSVD(n_components=8, n_iter=100)"
      ]
     },
     "execution_count": 41,
     "metadata": {},
     "output_type": "execute_result"
    }
   ],
   "source": [
    "svd_model_L.fit(L)"
   ]
  },
  {
   "cell_type": "code",
   "execution_count": 42,
   "id": "6775bf05",
   "metadata": {},
   "outputs": [
    {
     "data": {
      "text/plain": [
       "TruncatedSVD(n_components=5, n_iter=100)"
      ]
     },
     "execution_count": 42,
     "metadata": {},
     "output_type": "execute_result"
    }
   ],
   "source": [
    "svd_model_N.fit(N)"
   ]
  },
  {
   "cell_type": "code",
   "execution_count": 43,
   "id": "38c01608",
   "metadata": {},
   "outputs": [
    {
     "data": {
      "text/plain": [
       "40"
      ]
     },
     "execution_count": 43,
     "metadata": {},
     "output_type": "execute_result"
    }
   ],
   "source": [
    "len(svd_model.components_)"
   ]
  },
  {
   "cell_type": "code",
   "execution_count": 44,
   "id": "b8737394",
   "metadata": {},
   "outputs": [
    {
     "data": {
      "text/plain": [
       "array([[ 1.59353417e-06,  2.76469039e-05,  5.49759869e-07, ...,\n",
       "         2.34386476e-07,  8.19690480e-08,  2.02965305e-08],\n",
       "       [ 1.44214105e-05,  2.34801873e-04,  3.61499989e-06, ...,\n",
       "         1.69751543e-06,  5.94488991e-07,  2.18510106e-07],\n",
       "       [-3.29652181e-06, -9.28224022e-05, -1.44122690e-06, ...,\n",
       "        -4.47307822e-07, -2.18830811e-07,  1.34274051e-07],\n",
       "       ...,\n",
       "       [-6.76526638e-05,  5.90546188e-04,  4.69138976e-06, ...,\n",
       "        -2.50583946e-05, -1.85166279e-07, -3.31356824e-05],\n",
       "       [ 4.46816211e-05, -6.73266137e-03, -1.24669114e-04, ...,\n",
       "         2.05915136e-05, -1.60996081e-05, -2.17081553e-05],\n",
       "       [ 2.68255194e-05, -7.13226963e-03, -9.92645250e-05, ...,\n",
       "         1.88532172e-05, -1.63345673e-05,  5.79013552e-05]])"
      ]
     },
     "execution_count": 44,
     "metadata": {},
     "output_type": "execute_result"
    }
   ],
   "source": [
    "svd_model.components_"
   ]
  },
  {
   "cell_type": "code",
   "execution_count": 79,
   "id": "b50210f7",
   "metadata": {},
   "outputs": [
    {
     "name": "stdout",
     "output_type": "stream",
     "text": [
      "Topic 0:  ['personal', 'credential', 'furthermore', 'usernamepassword', 'receiving', 'cve201814622', 'librsvg', 'brokers', 'cve20198321', 'cve202011993', 'spotlight', 'problem', 'hostname', 'bzip2', 'cve20193822', 'cve20208624', 'existing', 'reported', 'connection', 'hijack']\n",
      "Topic 1:  ['cve201913753', 'cve20200093', 'context', 'commonly', 'receives', 'performing', 'consumption', 'pair', 'described', 'discovering', '1606', 'cve201919524', 'cve20185407', 'refreshed', 'cve20170901', 'credentials', '401', 'establish', 'events', 'squid']\n",
      "Topic 2:  ['phantom', 'cve201915221', 'significant', 'construct', '64kb', 'cve20163977', 'webapp', 'evaluate', 'cve201819591', 'virtual', 'impersonate', 'packet', 'cve20208621', 'cve20191549', 'exposing', 'impersonation', 'indicates', 'ability', 'zip', 'improve']\n",
      "Topic 3:  ['phantom', 'cve201819591', 'packet', 'cve20191549', 'exposing', 'cve20208621', 'impersonation', 'architecture', 'trust', 'jpeg', 'readable', 'cve201919956', 'numbers', 'preg_replace', 'cve20198322', 'cve201820330', 'ypserv', 'cve201920446', 'base64', 'ipbased']\n",
      "Topic 4:  ['cve201914283', 'cve20200093', 'cve20199936', 'context', 'cve201911487', 'cve201913753', 'cve201919524', 'high', 'exchanges', 'cve201915221', 'cve20185407', 'refreshed', 'cve20170901', 'credentials', '401', 'establish', 'impersonate', 'squid', 'protection', 'events']\n",
      "Topic 5:  ['phantom', 'cve201913753', 'cve201915221', 'cve20200093', 'cve201919524', 'compared', 'context', 'cve201819591', 'cve201916201', 'cve20163977', '64kb', 'construct', 'virtual', 'evaluate', '1606', 'discovering', 'described', 'impersonate', 'packet', 'significant']\n",
      "Topic 6:  ['cve20200093', 'cve201919524', 'context', 'described', 'contain', '1606', 'discovering', 'compared', 'cve201916201', 'wifi', 'cve20199936', 'consumption', 'commonly', 'receives', 'performing', 'pair', 'cve20185407', 'virtual', 'refreshed', 'cve20170901']\n",
      "Topic 7:  ['ability', 'improve', 'zip', 'cve201814598', 'cve201917133', 'decrypt', 'indicates', 'cve201916201', 'compared', 'significant', 'phantom', 'cve201913117', 'exchanges', 'leverage', 'try', 'mapnames', 'cve20199936', 'cve20208621', 'high', 'cve201819591']\n",
      "Topic 8:  ['cve201915221', '64kb', 'construct', 'cve20163977', 'evaluate', 'virtual', 'impersonate', 'phantom', 'ldap', 'cve20199636', 'cve20198322', 'compared', 'cve201916201', 'exchanges', 'cve20208621', 'high', 'cve201911810', 'degradation', 'affected', 'comments']\n",
      "Topic 9:  ['cve201819591', 'exposing', 'phantom', 'architecture', 'cve20191549', 'impersonation', 'trust', 'cve201920446', 'preg_replace', 'passwords', 'virtual', 'chosenciphertext', 'potentially', 'base64', 'loginpassword', 'ipbased', 'ephemeral', '7124', 'handling', 'filled']\n",
      "Topic 10:  ['exchanges', 'cve20199936', 'high', 'cve20208621', 'protection', 'cve201911487', 'refreshed', 'cve20170901', '401', 'establish', 'credentials', 'squid', 'events', 'cve20185407', 'configurations', 'loginpassword', 'jpeg', 'readable', 'cve201919956', 'numbers']\n",
      "Topic 11:  ['cve20200093', 'contain', '1606', 'discovering', 'exchanges', 'high', 'described', 'context', 'cve20208621', 'consumption', 'commonly', 'receives', 'performing', 'pair', 'virtual', 'implementing', 'consume', 'cve201919065', 'cve20163977', 'unsuspecting']\n",
      "Topic 12:  ['compared', 'wifi', 'leverage', 'try', 'mapnames', 'like', 'phantom', 'accepting', 'redirect', 'cookiebased', 'imagemagick', 'cve201713685', 'especially', 'cve20176349', 'intercept', 'cve201910906', 'cve201810194', 'passwords', 'trust', 'cve201819591']\n",
      "Topic 13:  ['cve201819591', 'phantom', 'cve20191549', 'architecture', 'exchanges', 'cgi', 'high', 'cve201913753', 'cve20199936', 'cve20200093', 'hostdirectory', 'clickjacking', 'program', 'cve201916201', 'update', 'ipbased', '1606', 'discovering', 'cve201919534', 'impersonation']\n",
      "Topic 14:  ['trust', 'passwords', 'phantom', 'cve201913753', 'hostdirectory', 'exchanges', 'potentially', 'dns', 'cve20208621', 'cve201916201', 'high', 'daemons', 'ypserver', 'cve20195827', 'chosenciphertext', 'ability', 'improve', 'zip', 'cve201814598', 'cve20181000301']\n",
      "Topic 15:  ['cve201916201', 'ypserver', 'cve20195827', 'hostdirectory', 'cve20177544', 'virtual', 'cve20181000301', 'cve201913753', 'trust', 'passwords', 'cve201913117', 'ability', 'improve', 'zip', 'cve201814598', 'cve201917133', 'potentially', 'cve20208621', 'handling', 'sessions']\n",
      "Topic 16:  ['contain', 'loginpassword', '7124', 'cve20180732', 'architecture', 'cve201916201', 'access', 'ypserver', 'cve20195827', 'gdkpixbuf', 'cve20163977', 'exposing', 'flaw', 'base64', 'cve20181000301', 'configured', 'cve20177544', 'implementing', 'consume', 'cve201919065']\n",
      "Topic 17:  ['loginpassword', 'flaw', 'cve201913753', 'ephemeral', 'base64', 'cve201915221', 'exposing', 'clear', 'preg_replace', 'section', 'impersonation', 'chosenciphertext', 'fix', 'consumed', 'cve20199278', 'option', 'described', 'cve201920446', 'discloses', 'configured']\n",
      "Topic 18:  ['7124', 'trust', 'cve20180732', 'cve201913753', 'access', 'passwords', 'gdkpixbuf', 'virtual', 'phantom', 'cve20208621', 'cve20185407', 'option', 'cve20164429', 'eventual', 'exchanges', 'ransomware', 'sqlite', 'cve201816643', 'packages', 'preg_replace']\n",
      "Topic 19:  ['cve201819591', 'cve201913753', 'loginpassword', 'cve20185407', 'passwords', 'cve20164429', 'eventual', 'ransomware', 'cve201920446', 'sqlite', 'potentially', 'architecture', 'cgi', 'required', 'update', 'option', 'severe', 'flaw', 'fix', '7124']\n",
      "Topic 20:  ['cve20200093', '1606', 'discovering', 'contain', 'passwords', 'cve201819591', 'hostdirectory', 'refreshed', 'cve20170901', 'establish', 'credentials', '401', 'squid', 'events', 'cve201911487', 'cve20199636', 'cve201914283', 'libjpegturbo', 'cve201919524', 'architecture']\n",
      "Topic 21:  ['hostdirectory', 'preg_replace', 'bounce', 'ypserver', 'cve20195827', 'httpsblogqualyscomssllabs20141208poodlebitestls', 'cve20163977', 'confidentiality', 'cve20177544', 'ciphers', 'cve201713144', 'cve201916254', 'databases', 'ephemeral', 'required', 'implementing', 'cve201919065', 'consume', 'compared', 'cve201913750']\n",
      "Topic 22:  ['exposing', 'contain', 'cve20180732', 'access', 'gdkpixbuf', 'trust', 'cve201816643', 'packages', 'reverse', 'area', 'anonymous', 'dhcp', 'indicates', 'configured', 'snapd', 'filled', 'cve201914283', 'beacon', 'ciphers', 'cve201713144']\n",
      "Topic 23:  ['filled', 'cve20181000301', 'openssl', 'httpsblogqualyscomssllabs20141208poodlebitestls', 'cve201913750', 'paterson', 'cve201818311', 'tricking', 'lts', 'ephemeral', 'passwords', 'unmounted', 'likely', 'deploy', 'rhosts', 'matching', 'ypserv', 'inode', 'commenting', 'cve20181000802']\n",
      "Topic 24:  ['trust', 'libjpegturbo', 'failed', 'snapd', 'distribution', 'cve201814551', 'unserialize', 'cve20181000301', 'exposing', 'rest', 'cve201919524', 'vm', 'kind', 'restart', 'trigger', 'visits', 'function', 'cve201812020', 'cve201913648', 'aout']\n",
      "Topic 25:  ['cve201916201', '7124', 'ephemeral', 'architecture', 'cve201819591', 'alter', 'saved', 'like', 'bounce', 'autocomplete', 'especially', 'cve20176349', 'intercept', 'cve201910906', 'cve201810194', 'cve201820679', 'ipbased', 'attacks', 'degradation', 'cve201915090']\n",
      "Topic 26:  ['ephemeral', 'exposing', 'unserialize', 'cve201913638', 'cve20186485', 'cve201913751', 'dump', 'cve201818311', 'contain', 'discovered', 'mount', 'cve201813785', '1910', 'libjpegturbo', 'reverts', 'failed', 'base64', 'directly', 'cve20180735', 'code']\n",
      "Topic 27:  ['ephemeral', 'cgi', 'update', 'consumed', 'cve20186485', 'risk', 'cve201920446', 'administration', '1910', 'cve201813785', 'discovered', 'mount', '16', 'cve20191549', 'map', 'chosenciphertext', 'virtual', 'cve201912735', 'cookiebased', 'screen']\n",
      "Topic 28:  ['attacks', 'sandbox', 'users', 'libjpegturbo', 'failed', 'cve20180732', 'matching', 'access', 'render', 'contain', 'scan', 'hostdirectory', 'saved', 'ipbased', 'gdkpixbuf', 'alter', 'cve201913753', 'configurations', 'base64', 'phantom']\n",
      "Topic 29:  ['preg_replace', 'cgi', 'update', 'unserialize', 'openssl', 'likely', 'risk', 'deploy', 'configurations', 'administration', 'packet', 'matching', '16', 'compared', 'cve201820679', 'consumed', 'conflict', 'alter', 'saved', 'cve201915090']\n",
      "Topic 30:  ['dump', 'filled', 'cve20209490', 'monitoring', 'x509', 'sustained', 'cve20186485', 'option', 'unserialize', 'fix', 'exposing', 'exchanges', 'base64', 'ephemeral', 'cve201814434', 'directly', 'hostdirectory', 'cve20163977', 'compared', 'likely']\n",
      "Topic 31:  ['cve201913638', 'sandbox', 'users', 'render', 'attacks', 'reverts', 'dump', 'unmounted', 'scan', 'sustained', 'phantom', '7124', 'passwords', 'ephemeral', 'severe', 'analysis', 'cve20209490', 'monitoring', 'x509', 'cve201920446']\n",
      "Topic 32:  ['cve201913750', 'paterson', 'dump', 'httpsblogqualyscomssllabs20141208poodlebitestls', 'ypserv', 'unserialize', 'cve20209490', 'monitoring', 'cve202012767', 'implement', 'x509', 'esm', 'routers', 'previously', 'packet', 'recovered', 'trust', 'cve201819591', 'sustained', 'cve201818311']\n",
      "Topic 33:  ['ipbased', 'cve201919534', 'cve201919524', 'map', 'base64', 'clickjacking', 'program', 'dump', 'handling', 'architecture', 'cve20181000301', 'cve201819591', 'cve201919126', 'modify', 'httpwwwernwdedownloadpskattackpdf', 'httpwwwsecurityfocuscomarchive1archive14844101000threaded', 'validation', 'valueto', 'overflow', 'cve20200198']\n",
      "Topic 34:  ['cgi', 'dump', 'fix', 'update', 'option', 'cve201913638', 'cve20181000301', 'risk', 'cve20209490', 'monitoring', 'x509', 'cve20163977', 'base64', 'tricking', 'architecture', 'cve201919065', 'described', 'administration', 'cve201920446', 'consume']\n",
      "Topic 35:  ['dump', 'unmounted', 'sustained', 'cve20209490', 'monitoring', 'x509', 'cve201913753', 'cve20185407', 'cve20200093', 'context', 'cgi', 'discovering', 'architecture', 'cve201913638', 'trust', 'base64', 'update', 'cve20186485', 'cve20164429', 'eventual']\n",
      "Topic 36:  ['cve201913638', 'fix', 'unmounted', 'option', 'reverts', 'identity', 'architecture', 'cve20175953', 'lts', 'sustained', '7124', 'nonesxi', 'sru', 'dump', 'filled', 'certifications', 'described', 'default', 'autocomplete', 'cve20180732']\n",
      "Topic 37:  ['7124', 'cve20200093', 'severe', 'context', 'cve20185407', 'cve201919524', 'cve201913638', 'exposing', 'loginpassword', '1606', 'cve201819591', 'sqlite', 'cve20164429', 'eventual', 'ransomware', 'passwords', 'cve201913753', 'required', 'clickjacking', 'program']\n",
      "Topic 38:  ['identity', 'cve20175953', 'sandbox', 'users', 'lts', 'default', 'unserialize', 'cve201916201', 'attacks', 'openssl', 'render', 'check_bad', 'oracle', 'determined', 'bruteforcing', 'globbing', 'execute', 'utilization', 'phantom', 'cachetiming']\n",
      "Topic 39:  ['unmounted', 'fix', 'option', 'sandbox', 'users', 'unserialize', 'attacks', 'httpsblogqualyscomssllabs20141208poodlebitestls', 'certifications', 'passwords', 'render', 'cve20180732', 'described', 'sru', 'hostdirectory', 'cve20195953', 'vcenter', 'exchanges', 'processes', 'insecurities']\n"
     ]
    }
   ],
   "source": [
    "terms = vectorizer.get_feature_names()\n",
    "\n",
    "for i, comp in enumerate(svd_model.components_):\n",
    "    terms_comp = zip(terms, comp)\n",
    "    sorted_terms = sorted(terms_comp, key= lambda x:x[1], reverse=False)[:20]\n",
    "    top_terms_list=list(dict(sorted_terms).keys())\n",
    "    print(\"Topic \"+str(i)+\": \",top_terms_list)"
   ]
  },
  {
   "cell_type": "markdown",
   "id": "74aa65cf",
   "metadata": {},
   "source": [
    "# (based on A,N,L)"
   ]
  },
  {
   "cell_type": "code",
   "execution_count": 104,
   "id": "8fb093b8",
   "metadata": {},
   "outputs": [
    {
     "name": "stdout",
     "output_type": "stream",
     "text": [
      "Topic 0:  ['allows', 'amplifier', 'blind', 'comments', 'create', 'cve20180732', 'cve201816842', '1604', '2004', 'add', 'adi', 'administrator', 'affect', 'alter', 'altered', 'architecture', 'authorized', 'based', 'bind', 'binds']\n",
      "Topic 1:  ['broken', 'compromising', 'cve201820976', 'anybody', 'clicking', 'andor', 'automatically', 'binutils', 'bzip2', 'configurations', 'controller', 'cve201810925', 'cve20181122', 'administrative', '1904', 'apis', 'authentication', 'causes', 'cve20172520', 'cve20180734']\n",
      "Topic 2:  ['certificates', 'accepting', 'alternate', 'consumption', 'cve201816749', 'cve20181123', 'analysis', 'cve20177544', 'aslr', 'aout', 'broken', 'compromising', 'anybody', 'clicking', 'andor', 'automatically', 'binutils', 'bzip2', 'configurations', 'controller']\n",
      "Topic 3:  ['agent', 'cve20176350', 'cve201821008', 'carry', 'certificates', 'cve201712133', '1910', 'accepting', 'alternate', 'consumption', 'cve201816749', 'cve20181123', 'cve20177544', 'analysis', 'aslr', 'aout', 'broken', 'compromising', 'cve201820976', 'andor']\n",
      "Topic 4:  ['ciphersuite', 'cve20172519', 'cve20169841', 'bmp', 'connect', 'cve20169318', 'assumptions', 'bypassing', 'clientside', 'agent', 'considered', 'cve201712133', 'cp', 'achieve', 'cve201816323', '1910', 'cve201811235', 'cve201811237', 'application', 'cve20149653']\n",
      "Topic 5:  ['autocomplete', 'certificates', 'cve201713685', 'consequently', 'aggressive', 'computer', 'aslr', 'accepting', 'alternate', 'consumption', 'cve201816749', 'balancer', 'cve20177544', 'cve20181123', 'aout', 'codecve20169843', 'authenticationdenial', 'cve201814404', 'contents', 'attack']\n",
      "Topic 6:  ['cve201820961', 'actual', 'credentials', 'cve201715298', '1810', 'cli', 'cve201910160', 'anybody', 'clicking', 'actor', 'atlassian', 'automated', 'available', 'chances', 'cryptographic', 'cve201716932', 'cve20181000300', 'cve201810360', 'cve201820330', 'cve201820483']\n",
      "Topic 7:  ['administrative', 'clone', 'andor', 'automatically', 'binutils', 'bzip2', 'configurations', 'controller', 'cve201810925', 'cve20181122', 'complex', 'cve201811490', 'broken', 'compromising', 'actual', 'credentials', 'cve201715298', 'cve20162147', 'cve201811235', 'agent']\n"
     ]
    },
    {
     "name": "stderr",
     "output_type": "stream",
     "text": [
      "C:\\Users\\utkar\\anaconda3\\lib\\site-packages\\sklearn\\utils\\deprecation.py:87: FutureWarning: Function get_feature_names is deprecated; get_feature_names is deprecated in 1.0 and will be removed in 1.2. Please use get_feature_names_out instead.\n",
      "  warnings.warn(msg, category=FutureWarning)\n"
     ]
    }
   ],
   "source": [
    "terms = vectorizer.get_feature_names()\n",
    "Terms_list=[]\n",
    "for i, comp in enumerate(svd_model_A.components_):\n",
    "    terms_comp = zip(terms, comp)\n",
    "    sorted_terms = sorted(terms_comp, key= lambda x:x[1], reverse=False)[:20]\n",
    "    top_terms_list=list(dict(sorted_terms).keys())\n",
    "    print(\"Topic \"+str(i)+\": \",top_terms_list)\n",
    "    Terms_list.append(top_terms_list)\n",
    "    \n",
    "#top_terms_list.to_csv(LSA_Threat_A)\n",
    "Terms_list\n",
    "df_termslist_A = pd.DataFrame(Terms_list)"
   ]
  },
  {
   "cell_type": "code",
   "execution_count": 112,
   "id": "4c985d60",
   "metadata": {},
   "outputs": [
    {
     "data": {
      "text/html": [
       "<div>\n",
       "<style scoped>\n",
       "    .dataframe tbody tr th:only-of-type {\n",
       "        vertical-align: middle;\n",
       "    }\n",
       "\n",
       "    .dataframe tbody tr th {\n",
       "        vertical-align: top;\n",
       "    }\n",
       "\n",
       "    .dataframe thead th {\n",
       "        text-align: right;\n",
       "    }\n",
       "</style>\n",
       "<table border=\"1\" class=\"dataframe\">\n",
       "  <thead>\n",
       "    <tr style=\"text-align: right;\">\n",
       "      <th></th>\n",
       "      <th>0</th>\n",
       "      <th>1</th>\n",
       "      <th>2</th>\n",
       "      <th>3</th>\n",
       "      <th>4</th>\n",
       "      <th>5</th>\n",
       "      <th>6</th>\n",
       "      <th>7</th>\n",
       "      <th>8</th>\n",
       "      <th>9</th>\n",
       "      <th>10</th>\n",
       "      <th>11</th>\n",
       "      <th>12</th>\n",
       "      <th>13</th>\n",
       "      <th>14</th>\n",
       "      <th>15</th>\n",
       "      <th>16</th>\n",
       "      <th>17</th>\n",
       "      <th>18</th>\n",
       "      <th>19</th>\n",
       "    </tr>\n",
       "  </thead>\n",
       "  <tbody>\n",
       "    <tr>\n",
       "      <th>0</th>\n",
       "      <td>allows</td>\n",
       "      <td>amplifier</td>\n",
       "      <td>blind</td>\n",
       "      <td>comments</td>\n",
       "      <td>create</td>\n",
       "      <td>cve20180732</td>\n",
       "      <td>cve201816842</td>\n",
       "      <td>1604</td>\n",
       "      <td>2004</td>\n",
       "      <td>add</td>\n",
       "      <td>adi</td>\n",
       "      <td>administrator</td>\n",
       "      <td>affect</td>\n",
       "      <td>alter</td>\n",
       "      <td>altered</td>\n",
       "      <td>architecture</td>\n",
       "      <td>authorized</td>\n",
       "      <td>based</td>\n",
       "      <td>bind</td>\n",
       "      <td>binds</td>\n",
       "    </tr>\n",
       "    <tr>\n",
       "      <th>1</th>\n",
       "      <td>broken</td>\n",
       "      <td>compromising</td>\n",
       "      <td>cve201820976</td>\n",
       "      <td>anybody</td>\n",
       "      <td>clicking</td>\n",
       "      <td>andor</td>\n",
       "      <td>automatically</td>\n",
       "      <td>binutils</td>\n",
       "      <td>bzip2</td>\n",
       "      <td>configurations</td>\n",
       "      <td>controller</td>\n",
       "      <td>cve201810925</td>\n",
       "      <td>cve20181122</td>\n",
       "      <td>administrative</td>\n",
       "      <td>1904</td>\n",
       "      <td>apis</td>\n",
       "      <td>authentication</td>\n",
       "      <td>causes</td>\n",
       "      <td>cve20172520</td>\n",
       "      <td>cve20180734</td>\n",
       "    </tr>\n",
       "    <tr>\n",
       "      <th>2</th>\n",
       "      <td>certificates</td>\n",
       "      <td>accepting</td>\n",
       "      <td>alternate</td>\n",
       "      <td>consumption</td>\n",
       "      <td>cve201816749</td>\n",
       "      <td>cve20181123</td>\n",
       "      <td>analysis</td>\n",
       "      <td>cve20177544</td>\n",
       "      <td>aslr</td>\n",
       "      <td>aout</td>\n",
       "      <td>broken</td>\n",
       "      <td>compromising</td>\n",
       "      <td>anybody</td>\n",
       "      <td>clicking</td>\n",
       "      <td>andor</td>\n",
       "      <td>automatically</td>\n",
       "      <td>binutils</td>\n",
       "      <td>bzip2</td>\n",
       "      <td>configurations</td>\n",
       "      <td>controller</td>\n",
       "    </tr>\n",
       "    <tr>\n",
       "      <th>3</th>\n",
       "      <td>agent</td>\n",
       "      <td>cve20176350</td>\n",
       "      <td>cve201821008</td>\n",
       "      <td>carry</td>\n",
       "      <td>certificates</td>\n",
       "      <td>cve201712133</td>\n",
       "      <td>1910</td>\n",
       "      <td>accepting</td>\n",
       "      <td>alternate</td>\n",
       "      <td>consumption</td>\n",
       "      <td>cve201816749</td>\n",
       "      <td>cve20181123</td>\n",
       "      <td>cve20177544</td>\n",
       "      <td>analysis</td>\n",
       "      <td>aslr</td>\n",
       "      <td>aout</td>\n",
       "      <td>broken</td>\n",
       "      <td>compromising</td>\n",
       "      <td>cve201820976</td>\n",
       "      <td>andor</td>\n",
       "    </tr>\n",
       "    <tr>\n",
       "      <th>4</th>\n",
       "      <td>ciphersuite</td>\n",
       "      <td>cve20172519</td>\n",
       "      <td>cve20169841</td>\n",
       "      <td>bmp</td>\n",
       "      <td>connect</td>\n",
       "      <td>cve20169318</td>\n",
       "      <td>assumptions</td>\n",
       "      <td>bypassing</td>\n",
       "      <td>clientside</td>\n",
       "      <td>agent</td>\n",
       "      <td>considered</td>\n",
       "      <td>cve201712133</td>\n",
       "      <td>cp</td>\n",
       "      <td>achieve</td>\n",
       "      <td>cve201816323</td>\n",
       "      <td>1910</td>\n",
       "      <td>cve201811235</td>\n",
       "      <td>cve201811237</td>\n",
       "      <td>application</td>\n",
       "      <td>cve20149653</td>\n",
       "    </tr>\n",
       "    <tr>\n",
       "      <th>5</th>\n",
       "      <td>autocomplete</td>\n",
       "      <td>certificates</td>\n",
       "      <td>cve201713685</td>\n",
       "      <td>consequently</td>\n",
       "      <td>aggressive</td>\n",
       "      <td>computer</td>\n",
       "      <td>aslr</td>\n",
       "      <td>accepting</td>\n",
       "      <td>alternate</td>\n",
       "      <td>consumption</td>\n",
       "      <td>cve201816749</td>\n",
       "      <td>balancer</td>\n",
       "      <td>cve20177544</td>\n",
       "      <td>cve20181123</td>\n",
       "      <td>aout</td>\n",
       "      <td>codecve20169843</td>\n",
       "      <td>authenticationdenial</td>\n",
       "      <td>cve201814404</td>\n",
       "      <td>contents</td>\n",
       "      <td>attack</td>\n",
       "    </tr>\n",
       "    <tr>\n",
       "      <th>6</th>\n",
       "      <td>cve201820961</td>\n",
       "      <td>actual</td>\n",
       "      <td>credentials</td>\n",
       "      <td>cve201715298</td>\n",
       "      <td>1810</td>\n",
       "      <td>cli</td>\n",
       "      <td>cve201910160</td>\n",
       "      <td>anybody</td>\n",
       "      <td>clicking</td>\n",
       "      <td>actor</td>\n",
       "      <td>atlassian</td>\n",
       "      <td>automated</td>\n",
       "      <td>available</td>\n",
       "      <td>chances</td>\n",
       "      <td>cryptographic</td>\n",
       "      <td>cve201716932</td>\n",
       "      <td>cve20181000300</td>\n",
       "      <td>cve201810360</td>\n",
       "      <td>cve201820330</td>\n",
       "      <td>cve201820483</td>\n",
       "    </tr>\n",
       "    <tr>\n",
       "      <th>7</th>\n",
       "      <td>administrative</td>\n",
       "      <td>clone</td>\n",
       "      <td>andor</td>\n",
       "      <td>automatically</td>\n",
       "      <td>binutils</td>\n",
       "      <td>bzip2</td>\n",
       "      <td>configurations</td>\n",
       "      <td>controller</td>\n",
       "      <td>cve201810925</td>\n",
       "      <td>cve20181122</td>\n",
       "      <td>complex</td>\n",
       "      <td>cve201811490</td>\n",
       "      <td>broken</td>\n",
       "      <td>compromising</td>\n",
       "      <td>actual</td>\n",
       "      <td>credentials</td>\n",
       "      <td>cve201715298</td>\n",
       "      <td>cve20162147</td>\n",
       "      <td>cve201811235</td>\n",
       "      <td>agent</td>\n",
       "    </tr>\n",
       "  </tbody>\n",
       "</table>\n",
       "</div>"
      ],
      "text/plain": [
       "               0             1             2              3             4   \\\n",
       "0          allows     amplifier         blind       comments        create   \n",
       "1          broken  compromising  cve201820976        anybody      clicking   \n",
       "2    certificates     accepting     alternate    consumption  cve201816749   \n",
       "3           agent   cve20176350  cve201821008          carry  certificates   \n",
       "4     ciphersuite   cve20172519   cve20169841            bmp       connect   \n",
       "5    autocomplete  certificates  cve201713685   consequently    aggressive   \n",
       "6    cve201820961        actual   credentials   cve201715298          1810   \n",
       "7  administrative         clone         andor  automatically      binutils   \n",
       "\n",
       "             5               6            7             8               9   \\\n",
       "0   cve20180732    cve201816842         1604          2004             add   \n",
       "1         andor   automatically     binutils         bzip2  configurations   \n",
       "2   cve20181123        analysis  cve20177544          aslr            aout   \n",
       "3  cve201712133            1910    accepting     alternate     consumption   \n",
       "4   cve20169318     assumptions    bypassing    clientside           agent   \n",
       "5      computer            aslr    accepting     alternate     consumption   \n",
       "6           cli    cve201910160      anybody      clicking           actor   \n",
       "7         bzip2  configurations   controller  cve201810925     cve20181122   \n",
       "\n",
       "             10             11           12              13             14  \\\n",
       "0           adi  administrator       affect           alter        altered   \n",
       "1    controller   cve201810925  cve20181122  administrative           1904   \n",
       "2        broken   compromising      anybody        clicking          andor   \n",
       "3  cve201816749    cve20181123  cve20177544        analysis           aslr   \n",
       "4    considered   cve201712133           cp         achieve   cve201816323   \n",
       "5  cve201816749       balancer  cve20177544     cve20181123           aout   \n",
       "6     atlassian      automated    available         chances  cryptographic   \n",
       "7       complex   cve201811490       broken    compromising         actual   \n",
       "\n",
       "                15                    16            17              18  \\\n",
       "0     architecture            authorized         based            bind   \n",
       "1             apis        authentication        causes     cve20172520   \n",
       "2    automatically              binutils         bzip2  configurations   \n",
       "3             aout                broken  compromising    cve201820976   \n",
       "4             1910          cve201811235  cve201811237     application   \n",
       "5  codecve20169843  authenticationdenial  cve201814404        contents   \n",
       "6     cve201716932        cve20181000300  cve201810360    cve201820330   \n",
       "7      credentials          cve201715298   cve20162147    cve201811235   \n",
       "\n",
       "             19  \n",
       "0         binds  \n",
       "1   cve20180734  \n",
       "2    controller  \n",
       "3         andor  \n",
       "4   cve20149653  \n",
       "5        attack  \n",
       "6  cve201820483  \n",
       "7         agent  "
      ]
     },
     "execution_count": 112,
     "metadata": {},
     "output_type": "execute_result"
    }
   ],
   "source": [
    "df_termslist_A"
   ]
  },
  {
   "cell_type": "code",
   "execution_count": 113,
   "id": "1391e8d8",
   "metadata": {},
   "outputs": [],
   "source": [
    "df_termslist_A.to_csv('LSA_Threat_A.csv')"
   ]
  },
  {
   "cell_type": "code",
   "execution_count": 106,
   "id": "04654353",
   "metadata": {},
   "outputs": [
    {
     "name": "stdout",
     "output_type": "stream",
     "text": [
      "Topic 0:  ['anonymous', 'cgi', 'cve201715298', 'cve201718509', 'negotiating', 'sent', '401', 'certificates', 'hashes', 'note', 'lucky', 'preshared', 'sensitive', 'failed', 'malicious', 'control', 'cve201913164', 'cve201916231', 'identity', 'ip']\n",
      "Topic 1:  ['records', 'relay', 'queries', 'cve201814567', 'partner', 'cve201915794', 'affected', 'cve201816640', 'chosenciphertext', 'cve201919060', 'firewall', 'secure', 'destructive', 'conduct', 'imagemagick', 'combination', 'multipart', 'current', 'remotely', 'differing']\n",
      "Topic 2:  ['acl', 'injection', 'elf', 'map', 'endpoint', 'actual', 'peng', 'crafted', 'address', 'parent', 'receive', 'required', 'cve201910209', 'know', 'entering', 'reply', 'abused', 'scheme', 'cve20170903', 'cve20207039']\n",
      "Topic 3:  ['packets', 'cve201816644', 'elf', 'cve20170903', 'address', 'parent', 'receive', 'required', 'know', 'reply', 'abused', 'entering', 'scheme', 'cve20207039', 'aout', 'cve201910209', 'causing', 'portsmash', 'brokers', 'acting']\n",
      "Topic 4:  ['reveal', 'configured', 'kibana', 'actual', 'collisions', 'cve20181060', 'cve201913751', 'listing', 'navigator', 'cve201916233', 'manipulating', 'insecure', 'construct', 'cve202010711', 'dotnet', 'browserbased', 'root', 'balancer', 'completed', 'cve201920367']\n",
      "Topic 5:  ['crafted', 'map', 'endpoint', 'reveal', 'configured', 'cve202010711', 'records', 'relay', 'resetting', 'elf', 'packets', 'construct', 'actual', 'cve201816644', 'birthday', 'kibana', 'cve201914853', 'browserbased', 'collisions', 'cve20181060']\n",
      "Topic 6:  ['cve201820852', 'cve201910208', 'cve201915216', 'lists', 'protect', 'hashed', 'redirection', 'notifyaccess', 'leveraging', 'mitm', 'reflected', 'acting', 'records', 'relay', 'reveal', 'configured', 'cve201910638', 'partner', 'elf', 'cve202010711']\n",
      "Topic 7:  ['bound', 'information', 'row', 'repeatable', 'responding', 'cve201911884', 'cve201911477', 'injection', 'root', 'possibly', 'appadmincontrollerthemecontrollerphp', 'exploited', 'noticed', 'resulting', 'revealed', 'middle', 'evaluated', 'length', 'risk', 'cve201814567']\n"
     ]
    }
   ],
   "source": [
    "terms = vectorizer.get_feature_names()\n",
    "Terms_list_threat_L=[]\n",
    "\n",
    "for i, comp in enumerate(svd_model_L.components_):\n",
    "    terms_comp = zip(terms, comp)\n",
    "    sorted_terms = sorted(terms_comp, key= lambda x:x[1], reverse=False)[:20]\n",
    "    top_terms_list=list(dict(sorted_terms).keys())\n",
    "    print(\"Topic \"+str(i)+\": \",top_terms_list)\n",
    "    Terms_list_threat_L.append(top_terms_list)\n",
    "    \n",
    "df_termslist_Threat_L = pd.DataFrame(Terms_list_threat_L)"
   ]
  },
  {
   "cell_type": "code",
   "execution_count": 114,
   "id": "f38a5157",
   "metadata": {},
   "outputs": [],
   "source": [
    "df_termslist_Threat_L.to_csv('LSA_Threat_L.csv')"
   ]
  },
  {
   "cell_type": "code",
   "execution_count": 115,
   "id": "63bcee39",
   "metadata": {},
   "outputs": [
    {
     "name": "stdout",
     "output_type": "stream",
     "text": [
      "Topic 0:  ['mimetype', 'context', 'established', 'signing', 'destination', 'page', 'cve20180732', 'impersonation', 'birthday', 'cve201919244', 'remote', 'scenario', 'cve201916167', 'numbers', 'extremely', 'browserbased', 'cve20191551', 'cve20193819', 'distributed', 'personinthemiddle']\n",
      "Topic 1:  ['cve201820961', 'cve201914859', 'cve201919052', 'connected', 'clusterscoped', 'padding', 'method', 'lucky', 'confidentiality', 'cve20201927', '1604', 'cve201814598', 'configuration', 'passwdbyname', 'threeway', 'custom', 'dictionary', '2004', 'contrary', 'directories']\n",
      "Topic 2:  ['collected', 'cve201913117', 'stored', 'imagemagick', 'seccomp', 'interruptions', 'cve201710784', 'cve201820346', 'improve', 'communication', 'abused', 'particular', 'cve201913118', 'consequently', 'cve20159261', 'cve20166328', 'git', 'cve201816642', 'cve201711464', 'trivially']\n",
      "Topic 3:  ['cve201911324', 'collected', 'conduct', '5726', 'reconfigure', 'critical', 'direct', 'cve201913117', 'flapping', 'imagemagick', 'stored', 'seccomp', 'interruptions', 'cve201820346', 'improve', 'cve201820961', 'cve201710784', 'abused', 'particular', 'cve201919052']\n",
      "Topic 4:  ['cve201820976', 'cve201919052', 'connected', 'cve201918660', 'cve201820961', 'cve201816890', 'cve201914859', 'exploting', 'cve201814598', 'cve201920907', 'passwdbyname', 'threeway', 'custom', 'contrary', 'cve201911324', 'dictionary', '2004', 'render', 'directories', 'opening']\n"
     ]
    },
    {
     "name": "stderr",
     "output_type": "stream",
     "text": [
      "C:\\Users\\utkar\\anaconda3\\lib\\site-packages\\sklearn\\utils\\deprecation.py:87: FutureWarning: Function get_feature_names is deprecated; get_feature_names is deprecated in 1.0 and will be removed in 1.2. Please use get_feature_names_out instead.\n",
      "  warnings.warn(msg, category=FutureWarning)\n"
     ]
    }
   ],
   "source": [
    "terms = vectorizer.get_feature_names()\n",
    "Terms_list_threat_N=[]\n",
    "\n",
    "for i, comp in enumerate(svd_model_N.components_):\n",
    "    terms_comp = zip(terms, comp)\n",
    "    sorted_terms = sorted(terms_comp, key= lambda x:x[1], reverse=False)[:20]\n",
    "    top_terms_list=list(dict(sorted_terms).keys())\n",
    "    print(\"Topic \"+str(i)+\": \",top_terms_list)\n",
    "    Terms_list_threat_N.append(top_terms_list)\n",
    "    \n",
    "df_termslist_Threat_N = pd.DataFrame(Terms_list_threat_N)\n",
    "df_termslist_Threat_N.to_csv('LSA_Threat_N.csv')"
   ]
  },
  {
   "cell_type": "markdown",
   "id": "a9095f2f",
   "metadata": {},
   "source": [
    "# Impact"
   ]
  },
  {
   "cell_type": "code",
   "execution_count": 49,
   "id": "5cdac20a",
   "metadata": {},
   "outputs": [],
   "source": [
    "data=pd.read_excel(r'C:\\Users\\utkar\\OneDrive\\Desktop\\EDA_project\\Data_set\\Split_data_final.xlsx', sheet_name ='Sheet1') # Reading data "
   ]
  },
  {
   "cell_type": "code",
   "execution_count": 50,
   "id": "578a9f6e",
   "metadata": {},
   "outputs": [],
   "source": [
    "data = data.dropna(subset=['Impact'])"
   ]
  },
  {
   "cell_type": "code",
   "execution_count": 51,
   "id": "92fb64d9",
   "metadata": {},
   "outputs": [
    {
     "name": "stderr",
     "output_type": "stream",
     "text": [
      "C:\\Users\\utkar\\AppData\\Local\\Temp\\ipykernel_9616\\77678499.py:1: FutureWarning: The default value of regex will change from True to False in a future version.\n",
      "  data[\"Impact\"] = data['Impact'].str.replace('[^\\w\\s]','')\n"
     ]
    }
   ],
   "source": [
    "data[\"Impact\"] = data['Impact'].str.replace('[^\\w\\s]','')"
   ]
  },
  {
   "cell_type": "code",
   "execution_count": 52,
   "id": "7b71ed9b",
   "metadata": {},
   "outputs": [],
   "source": [
    "data['Impact'] = data['Impact'].str.lower()"
   ]
  },
  {
   "cell_type": "code",
   "execution_count": 53,
   "id": "501ac138",
   "metadata": {},
   "outputs": [],
   "source": [
    "tokenized_doc2 = data['Impact'].apply(lambda x: x.split())"
   ]
  },
  {
   "cell_type": "code",
   "execution_count": 54,
   "id": "e991cd36",
   "metadata": {},
   "outputs": [],
   "source": [
    "tokenized_doc2 = tokenized_doc2.apply(lambda x: [item for item in x if item not in stop_words])"
   ]
  },
  {
   "cell_type": "code",
   "execution_count": 55,
   "id": "9f74ee62",
   "metadata": {},
   "outputs": [],
   "source": [
    "data_A=data.loc[data['AV'] == 'A']"
   ]
  },
  {
   "cell_type": "code",
   "execution_count": 56,
   "id": "e6b227d9",
   "metadata": {},
   "outputs": [],
   "source": [
    "data_L=data.loc[data['AV'] == 'L']"
   ]
  },
  {
   "cell_type": "code",
   "execution_count": 57,
   "id": "554f4757",
   "metadata": {},
   "outputs": [],
   "source": [
    "data_N=data.loc[data['AV'] == 'N']"
   ]
  },
  {
   "cell_type": "code",
   "execution_count": 58,
   "id": "26a4a6f1",
   "metadata": {},
   "outputs": [
    {
     "data": {
      "text/plain": [
       "7043"
      ]
     },
     "execution_count": 58,
     "metadata": {},
     "output_type": "execute_result"
    }
   ],
   "source": [
    "data_L['Impact'].value_counts().sum()"
   ]
  },
  {
   "cell_type": "code",
   "execution_count": 59,
   "id": "30222013",
   "metadata": {},
   "outputs": [
    {
     "data": {
      "text/plain": [
       "284"
      ]
     },
     "execution_count": 59,
     "metadata": {},
     "output_type": "execute_result"
    }
   ],
   "source": [
    "data_A['Impact'].value_counts().sum()"
   ]
  },
  {
   "cell_type": "code",
   "execution_count": 60,
   "id": "4ee15b82",
   "metadata": {},
   "outputs": [
    {
     "data": {
      "text/plain": [
       "62082"
      ]
     },
     "execution_count": 60,
     "metadata": {},
     "output_type": "execute_result"
    }
   ],
   "source": [
    "data_N['Impact'].value_counts().sum()"
   ]
  },
  {
   "cell_type": "code",
   "execution_count": 61,
   "id": "54eb4360",
   "metadata": {},
   "outputs": [
    {
     "data": {
      "text/plain": [
       "124"
      ]
     },
     "execution_count": 61,
     "metadata": {},
     "output_type": "execute_result"
    }
   ],
   "source": [
    "data_L['Impact'].nunique()"
   ]
  },
  {
   "cell_type": "code",
   "execution_count": 62,
   "id": "bb5d2b3f",
   "metadata": {},
   "outputs": [
    {
     "data": {
      "text/plain": [
       "22"
      ]
     },
     "execution_count": 62,
     "metadata": {},
     "output_type": "execute_result"
    }
   ],
   "source": [
    "data_A['Impact'].nunique()"
   ]
  },
  {
   "cell_type": "code",
   "execution_count": 63,
   "id": "4cfd0423",
   "metadata": {},
   "outputs": [
    {
     "data": {
      "text/plain": [
       "590"
      ]
     },
     "execution_count": 63,
     "metadata": {},
     "output_type": "execute_result"
    }
   ],
   "source": [
    "data_N['Impact'].nunique()"
   ]
  },
  {
   "cell_type": "code",
   "execution_count": null,
   "id": "2cdc19ab",
   "metadata": {},
   "outputs": [],
   "source": []
  },
  {
   "cell_type": "code",
   "execution_count": 64,
   "id": "6fdbe6cf",
   "metadata": {},
   "outputs": [],
   "source": [
    "svd_model_IA = TruncatedSVD(n_components=8, algorithm='randomized', n_iter=100)"
   ]
  },
  {
   "cell_type": "code",
   "execution_count": 65,
   "id": "99954365",
   "metadata": {},
   "outputs": [],
   "source": [
    "svd_model_IN = TruncatedSVD(n_components=35, algorithm='randomized', n_iter=100)"
   ]
  },
  {
   "cell_type": "code",
   "execution_count": 66,
   "id": "d7807430",
   "metadata": {},
   "outputs": [],
   "source": [
    "svd_model_IL = TruncatedSVD(n_components=20, algorithm='randomized', n_iter=100)"
   ]
  },
  {
   "cell_type": "code",
   "execution_count": 67,
   "id": "415b0c43",
   "metadata": {},
   "outputs": [],
   "source": [
    "impactA = vectorizer.fit_transform(data_A['Impact'])"
   ]
  },
  {
   "cell_type": "code",
   "execution_count": 68,
   "id": "2e6fdfff",
   "metadata": {},
   "outputs": [],
   "source": [
    "impactL = vectorizer.fit_transform(data_L['Impact'])"
   ]
  },
  {
   "cell_type": "code",
   "execution_count": 69,
   "id": "394268b1",
   "metadata": {},
   "outputs": [],
   "source": [
    "impactN = vectorizer.fit_transform(data_N['Impact'])"
   ]
  },
  {
   "cell_type": "code",
   "execution_count": 70,
   "id": "52c7aa6b",
   "metadata": {},
   "outputs": [
    {
     "data": {
      "text/plain": [
       "(62082, 1850)"
      ]
     },
     "execution_count": 70,
     "metadata": {},
     "output_type": "execute_result"
    }
   ],
   "source": [
    "impactN.shape"
   ]
  },
  {
   "cell_type": "code",
   "execution_count": 71,
   "id": "1c057391",
   "metadata": {},
   "outputs": [
    {
     "data": {
      "text/plain": [
       "TruncatedSVD(n_components=8, n_iter=100)"
      ]
     },
     "execution_count": 71,
     "metadata": {},
     "output_type": "execute_result"
    }
   ],
   "source": [
    "svd_model_IA.fit(impactA)"
   ]
  },
  {
   "cell_type": "code",
   "execution_count": 72,
   "id": "752bdb7f",
   "metadata": {},
   "outputs": [
    {
     "data": {
      "text/plain": [
       "TruncatedSVD(n_components=20, n_iter=100)"
      ]
     },
     "execution_count": 72,
     "metadata": {},
     "output_type": "execute_result"
    }
   ],
   "source": [
    "svd_model_IL.fit(impactL)"
   ]
  },
  {
   "cell_type": "code",
   "execution_count": 73,
   "id": "6fcff95d",
   "metadata": {},
   "outputs": [
    {
     "data": {
      "text/plain": [
       "TruncatedSVD(n_components=35, n_iter=100)"
      ]
     },
     "execution_count": 73,
     "metadata": {},
     "output_type": "execute_result"
    }
   ],
   "source": [
    "svd_model_IN.fit(impactN)"
   ]
  },
  {
   "cell_type": "code",
   "execution_count": null,
   "id": "4b94da3b",
   "metadata": {},
   "outputs": [],
   "source": []
  },
  {
   "cell_type": "code",
   "execution_count": 121,
   "id": "cdc8461f",
   "metadata": {},
   "outputs": [
    {
     "name": "stdout",
     "output_type": "stream",
     "text": [
      "Topic 0:  ['7124', 'ability', 'able', 'activity', 'actor', 'actual', 'actually', 'add', 'addition', 'additional', 'additionally', 'address', 'addressed', 'addresses', 'adi', 'adjacent', 'admin', 'administration', 'administrative', 'administrator']\n",
      "Topic 1:  ['attackers', 'browsers', 'available', 'attacking', 'attacked', 'binutils', 'bound', 'authentication', 'automatically', 'causes', '7124', 'ability', 'able', 'activity', 'actor', 'actual', 'actually', 'add', 'addition', 'additional']\n",
      "Topic 2:  ['attackers', 'browsers', 'available', 'accessing', 'actions', 'assumes', 'authorized', 'bypassing', 'attacks', 'case', '2035', '1404', '5x', 'accepted', 'average', 'behalf', 'better', 'bgp', 'birthday', 'blind']\n",
      "Topic 3:  ['bypass', '1810', '401', 'attacking', 'attacked', 'binutils', 'bound', 'automatically', 'authentication', 'access', 'accessing', 'actions', 'assumes', 'authorized', '1910', 'bypassing', 'attacks', 'case', 'browsers', 'available']\n",
      "Topic 4:  ['attacked', 'binutils', 'bound', 'automatically', 'authentication', '5726', 'acl', 'aslr', 'atlassian', 'causing', 'bypass', 'brokers', 'accessing', 'actions', 'assumes', 'authorized', 'bypassing', 'attackercontrolled', 'boot', 'browsers']\n",
      "Topic 5:  ['1810', '401', 'attackercontrolled', 'attackers', 'attacking', 'accessing', 'actions', 'assumes', 'authorized', '2035', 'bypassing', '1910', 'access', '5726', 'carried', '1904', 'achieve', 'associated', 'attachments', 'base64']\n",
      "Topic 6:  ['1810', 'case', 'attackercontrolled', 'accepting', 'bypass', 'accept', 'accessible', 'accounts', '16', 'browser', 'calculate', '1604', 'authenticated', 'cap_net_admin', 'attacking', 'based', 'accepts', 'browse', 'caches', '60']\n",
      "Topic 7:  ['case', '60', 'authenticate', 'autocomplete', 'authenticated', 'browser', 'calculate', '1604', 'accept', 'accessible', 'accounts', '16', 'causing', 'acl', 'aslr', 'atlassian', 'attacks', 'attackercontrolled', 'abort', '5726']\n"
     ]
    }
   ],
   "source": [
    "terms = vectorizer.get_feature_names()\n",
    "Terms_list_Impact_A=[]\n",
    "\n",
    "for i, comp in enumerate(svd_model_IA.components_):\n",
    "    terms_comp = zip(terms, comp)\n",
    "    sorted_terms = sorted(terms_comp, key= lambda x:x[1], reverse=False)[:20]\n",
    "    top_terms_list=list(dict(sorted_terms).keys())\n",
    "    print(\"Topic \"+str(i)+\": \",top_terms_list)\n",
    "    Terms_list_Impact_A.append(top_terms_list)\n",
    "    \n",
    "df_termslist_Impact_A = pd.DataFrame(Terms_list_Impact_A)\n",
    "df_termslist_Impact_A.to_csv('LSA_Impact_A.csv')"
   ]
  },
  {
   "cell_type": "code",
   "execution_count": 122,
   "id": "e2a26bf4",
   "metadata": {},
   "outputs": [
    {
     "name": "stdout",
     "output_type": "stream",
     "text": [
      "Topic 1:  ['5726', 'updated', 'fragmented', 'situations', 'heapbased', 'cap_net_admin', 'cve201819985', 'cve201910638', 'cve201910639', 'cve201911599', 'cve201913648', 'cve201914283', 'cve201914284', 'cve201914763', 'cve201915090', 'cve201915212', 'cve201915214', 'cve201915216', 'cve201915218', 'cve201915220']\n",
      "Topic 2:  ['launch', 'exploiting', 'attack', 'maninthemiddle', 'recovered', 'cleartext', 'cookie', 'hashes', 'chances', 'improve', 'base64', 'carried', 'cihpertext', 'ciphertext', 'digits', 'efforts', 'encoded', 'examples', 'hex', 'millions']\n",
      "Topic 3:  ['certificate', 'ca', 'server', 'exploiting', 'launch', 'communicates', 'exception', 'publicly', 'restricted', 'unable', 'verify', 'occur', 'available', 'set', 'scan', 'clients', 'signature', 'trusted', 'tandem', 'cache']\n",
      "Topic 4:  ['record', 'key', 'decrypt', 'communication', 'messages', 'session', 'maninthemiddle', 'able', 'encryption', 'lure', 'steal', 'tandem', 'cache', 'poisoning', 'dns', 'exploit', 'client', 'authorization', 'abort', 'basicconstraint']\n",
      "Topic 5:  ['communication', 'record', 'key', 'decrypt', 'session', 'encryption', 'lure', 'steal', 'client', 'able', 'tandem', 'cache', 'poisoning', 'dns', 'maninthemiddle', 'individual', 'intercept', 'sniffer', 'transmission', 'unencrypted']\n",
      "Topic 6:  ['certificate', 'record', 'key', 'decrypt', 'ca', 'session', 'messages', 'exploiting', 'able', 'communicates', 'exception', 'publicly', 'restricted', 'unable', 'verify', 'occur', 'available', 'clients', 'set', 'scan']\n",
      "Topic 7:  ['communications', 'downgrade', 'protocol', 'tls', 'secure', 'maliciously', 'read', 'modify', 'certificate', 'messages', 'decryption', 'directly', 'flaws', 'httpsblogqualyscomssllabs20141208poodlebitestls', 'negotiating', 'older', 'poodletype', 'sslv30', 'cryptographic', 'type']\n",
      "Topic 8:  ['depending', 'unauthenticated', 'exploited', 'clickjacking', 'mimetype', 'sniffing', 'crosssite', 'scripting', 'remote', 'conduct', 'code', 'execute', 'condition', 'gain', 'targeted', 'information', 'arbitrary', 'cause', 'denialofservice', 'sensitive']\n",
      "Topic 9:  ['clickjacking', 'mimetype', 'sniffing', 'crosssite', 'scripting', 'attacks', 'conduct', 'depending', 'unauthenticated', 'exploited', 'deploy', 'range', 'known', 'guessing', 'accessible', 'brute', 'services', 'malicious', 'possible', 'force']\n",
      "Topic 10:  ['code', 'exploitation', 'successful', 'cause', 'execution', 'execute', 'allows', 'service', 'allow', 'condition', 'denial', 'arbitrary', 'result', 'decrypt', 'launch', 'key', 'record', 'maninthemiddle', 'messages', 'exploited']\n",
      "Topic 11:  ['tandem', 'cache', 'poisoning', 'dns', 'server', 'encryption', 'lure', 'steal', 'information', 'ca', 'decrypt', 'record', 'key', 'cookie', 'sensitive', 'messages', 'user', 'exploit', 'session', 'able']\n",
      "Topic 12:  ['attackers', 'birthday', 'longduration', 'exploitation', 'encrypted', 'data', 'successful', 'allows', 'session', 'execution', 'cleartext', 'service', 'crosssite', 'scripting', 'clickjacking', 'mimetype', 'denial', 'sniffing', 'conduct', 'result']\n",
      "Topic 13:  ['cookie', 'authentication', 'exploitation', 'successful', 'http', 'compromise', 'allows', 'cookies', 'web', 'recovered', 'impersonate', 'used', 'help', 'scripting', 'crosssite', 'sniffing', 'clickjacking', 'mimetype', 'legitimate', 'execution']\n",
      "Topic 14:  ['cause', 'cookie', 'execute', 'condition', 'code', 'denial', 'arbitrary', 'service', 'encrypted', 'exploited', 'targeted', 'cleartext', 'denialofservice', 'depending', 'unauthenticated', 'gain', 'recovered', 'http', 'authentication', 'birthday']\n",
      "Topic 15:  ['cause', 'execute', 'condition', 'arbitrary', 'code', 'encrypted', 'targeted', 'cookie', 'gain', 'denial', 'obsolete', 'updates', 'longer', 'vendor', 'high', 'exposed', 'viruses', 'risk', 'software', 'service']\n",
      "Topic 16:  ['cookie', 'recovered', 'http', 'attack', 'use', 'service', 'cleartext', 'cause', 'base64', 'carried', 'cihpertext', 'ciphertext', 'digits', 'efforts', 'encoded', 'examples', 'hex', 'millions', 'recovering', 'requires']\n",
      "Topic 17:  ['authentication', 'using', 'cause', 'data', 'confidentiality', 'attackers', 'used', '401', 'eavesdropping', 'readable', 'scheme', 'wwwauthenticate', 'basic', 'required', 'clear', 'text', 'header', 'error', 'birthday', 'longduration']\n",
      "Topic 18:  ['downgrade', 'protocol', 'tls', 'poodle', 'decryption', 'directly', 'flaws', 'httpsblogqualyscomssllabs20141208poodlebitestls', 'negotiating', 'older', 'poodletype', 'sslv30', 'cryptographic', 'type', 'example', 'launched', 'force', 'conduct', 'key', 'record']\n",
      "Topic 19:  ['allow', 'ssh', 'compromise', 'password', 'exploitation', 'execute', 'administrative', 'entering', 'telnet', 'unspecified', 'complete', 'allows', 'lead', 'successfully', 'oracle', 'gain', 'act', 'chosenciphertext', 'carry', 'sending']\n",
      "Topic 20:  ['allows', 'service', 'denial', 'cause', 'position', 'mitm', 'authentication', 'encrypted', 'maninthemiddle', 'communication', 'reflection', 'perform', 'distributed', 'obtained', 'querying', 'variables', 'aid', 'legitimate', 'various', 'ypserv']\n",
      "Topic 21:  ['execution', 'information', 'result', 'allow', 'obtained', 'successful', 'querying', 'variables', 'aid', 'various', 'encrypted', 'attacks', 'using', 'code', 'exploits', 'help', 'issue', 'attackersupplied', 'html', 'context']\n",
      "Topic 22:  ['web', 'authentication', 'allow', 'successful', 'user', 'legitimate', 'position', 'site', 'mitm', 'recently', 'accepts', 'guessed', 'described', 'control', 'mimic', 'physical', 'timed', 'logged', 'socket', 'vm']\n",
      "Topic 23:  ['ssh', 'code', 'arbitrary', 'denialofservice', 'session', 'targeted', 'password', 'execute', 'compromise', 'execution', 'virtual', 'machine', 'lead', 'javascript', 'injecting', 'authenticated', 'vnc', 'possible', 'executed', 'entering']\n",
      "Topic 24:  ['denial', 'service', 'successfully', 'help', 'users', 'confidentiality', 'browser', 'using', 'cause', 'recovered', 'returned', 'target', 'http', 'able', '401', 'eavesdropping', 'readable', 'scheme', 'wwwauthenticate', 'required']\n",
      "Topic 25:  ['successful', 'exploits', 'successfully', 'affected', 'application', 'commands', 'context', 'tricking', 'providing', 'executing', 'admin', 'attackersupplied', 'html', 'target', 'file', 'arbitrary', 'able', 'allows', 'control', 'script']\n",
      "Topic 26:  ['exploitation', 'allows', 'esxi', 'successful', 'execute', 'malicious', 'tricking', 'providing', 'executing', 'admin', 'commands', 'password', 'host', 'file', 'allow', 'exploited', 'target', 'unauthenticated', 'depending', 'users']\n",
      "Topic 27:  ['denialofservice', 'targeted', 'condition', 'act', 'chosenciphertext', 'oracle', 'sending', 'carry', 'successful', 'device', 'allows', 'crafted', 'using', 'possible', 'exploitation', 'lead', 'browser', 'help', 'returned', 'attack']\n",
      "Topic 28:  ['guest', 'local', 'crash', 'host', 'lead', 'result', 'user', 'denial', 'service', 'complete', 'execute', 'obtained', 'querying', 'variables', 'aid', 'obtain', 'arbitrary', 'administrative', 'entering', 'unspecified']\n",
      "Topic 29:  ['execution', 'cause', 'code', 'remote', 'querying', 'variables', 'aid', 'obtained', 'allows', 'various', 'shell', 'obtain', 'ssh', 'mimic', 'physical', 'timed', 'console', 'vm', 'socket', 'logged']\n",
      "Topic 30:  ['guest', 'ypserver', 'local', 'shared', 'crash', 'user', 'browser', 'execute', 'map', 'list', 'unauthorized', 'ypbind', 'allow', 'compromise', 'encrypted', 'nis', 'subsequently', 'domain', 'names', 'successful']\n",
      "Topic 31:  ['able', 'information', 'guest', 'successful', 'allow', 'snmp', 'section', 'gathered', 'ssh', 'actor', 'consequences', 'protected', 'include', 'network', 'present', 'running', 'version', 'vcenter', 'exhaust', 'degradation']\n",
      "Topic 32:  ['certificates', 'issue', 'signed', 'browser', 'executed', 'execute', 'legitimate', 'scripts', 'authority', 'second', 'likely', 'guest', 'ssh', 'allows', 'reflection', 'perform', 'successful', 'sensitive', 'ypserv', 'block']\n",
      "Topic 33:  ['allow', 'service', 'denial', 'result', 'execute', 'exploitation', 'authorization', 'compromise', 'executed', 'successful', 'scripts', 'various', 'host', 'redirection', 'decrypt', 'http', 'condition', 'secure', 'browser', 'querying']\n",
      "Topic 34:  ['information', 'snmp', 'section', 'gathered', 'result', 'lead', 'providing', 'executing', 'tricking', 'admin', 'commands', 'valuable', 'note', 'actually', 'demonstration', 'extract', 'incredible', 'portion', 'readaccess', 'report']\n",
      "Topic 35:  ['authorization', 'decrypt', 'users', 'communications', 'guest', 'secure', 'result', 'issue', 'console', 'mimic', 'physical', 'timed', 'socket', 'vm', 'logged', 'connection', 'ability', 'control', 'vnc', 'injecting']\n"
     ]
    }
   ],
   "source": [
    "terms = vectorizer.get_feature_names()\n",
    "Terms_list_Impact_N=[]\n",
    "for i, comp in enumerate(svd_model_IN.components_):\n",
    "    terms_comp = zip(terms, comp)\n",
    "    sorted_terms = sorted(terms_comp, key= lambda x:x[1], reverse=False)[:20]\n",
    "    top_terms_list=list(dict(sorted_terms).keys())\n",
    "    print(\"Topic \"+str(i+1)+\": \",top_terms_list)\n",
    "    Terms_list_Impact_N.append(top_terms_list)\n",
    "    \n",
    "df_termslist_Impact_N = pd.DataFrame(Terms_list_Impact_N)\n",
    "df_termslist_Impact_N.to_csv('LSA_Impact_N.csv')"
   ]
  },
  {
   "cell_type": "code",
   "execution_count": 123,
   "id": "1bd7f052",
   "metadata": {},
   "outputs": [
    {
     "name": "stdout",
     "output_type": "stream",
     "text": [
      "Topic 1:  ['1804', 'altered', 'cve20180732', 'cve201819664', 'cve201911478', 'cve201915918', 'accepted', 'applied', 'cve201610708', 'cve201814567', 'cve201816644', 'cve201915212', 'cve20191549', 'actual', 'addition', 'additional', 'assumes', 'cve20181060', 'cve201911324', 'allows']\n",
      "Topic 2:  ['cve201915794', 'access', 'cve20159261', 'cve201910129', 'cve201918197', 'cve201816323', 'cve20181000222', 'cve201814680', 'cve201816645', 'andor', 'aslr', 'crosssitescripting', 'cve201610745', 'cve20180734', 'cve201814551', 'cve201820406', 'cve201820505', 'cve201912387', 'cve201914811', '1804']\n",
      "Topic 3:  ['cve20172519', 'cve20175953', 'cve201915794', 'access', 'cve20163189', 'cve20189234', 'cve201718269', 'cve201814435', 'cve20186954', 'cve201816840', 'cve201913648', 'cve20159261', 'cve201916233', 'cve20149653', 'actually', 'cve20181000300', 'cve201914812', 'cve201816323', 'application', '1810']\n",
      "Topic 4:  ['access', 'cve201915794', 'anybody', 'cve20170898', 'acting', 'actor', 'cve201919052', 'cve201814647', 'cve201814436', 'allowing', 'cve201716932', 'cve201816435', 'cve201910142', 'cve201916201', 'cve201918224', 'cve201710989', 'cve201916233', 'cve201916168', 'cve201913751', 'critical']\n",
      "Topic 5:  ['acting', 'actor', 'cve20175953', 'allowing', 'cve201716932', 'cve201816435', 'cve201910142', 'cve201916201', 'cve201918224', 'cve20172519', 'cve201710989', 'cve20170898', 'anybody', 'cve20163189', 'cve20189234', 'cve201718269', 'cve201816840', 'cve20186954', 'cve201913648', 'cve201810846']\n",
      "Topic 6:  ['cve201814436', 'cve201919052', 'cve201916233', 'cve201814647', 'accepting', 'anybody', 'cve20170898', 'cve201915794', 'access', 'api', 'apparently', 'cve201718232', 'cve201816842', 'cve201711464', 'cve201911599', 'cve201915795', '7124', 'cryptographic', 'apis', 'cve201816323']\n",
      "Topic 7:  ['acting', 'allowing', 'cve201716932', 'cve201816435', 'cve201910142', 'cve201916201', 'cve201918224', 'cve201710989', 'cve201814435', 'cve201917133', 'cve201814622', 'cve201816749', 'cve201918660', 'cve201820330', 'cve20190136', 'cve201811236', '401', 'cve201910129', 'cve201918197', 'cve201814600']\n",
      "Topic 8:  ['actor', 'accepting', 'cve20170898', 'anybody', 'cve201916168', 'critical', 'cve201913751', 'cve20172519', 'cve20186485', 'cve201917133', 'cve20175953', 'allowed', 'attacked', 'cve201810846', 'cve201913648', 'cve20189234', 'cve20163189', 'cve201718269', 'cve20186954', 'cve201816840']\n",
      "Topic 9:  ['cve201917133', 'accepting', 'anybody', 'cve20170898', 'cve201814600', '401', 'cve201814622', 'cve201816749', 'cve201918660', '1910', 'cve20190136', 'cve201820330', 'cve201811236', 'cve20163189', 'cve20172519', 'acting', 'cve20189234', 'cve201718269', 'cve20175953', 'cve201911190']\n",
      "Topic 10:  ['cve201913734', 'cve201916168', 'cve201912290', 'cve201715873', '5x', 'cve20169840', 'cve20188740', 'cve201917023', 'cve201710784', 'cve201919126', 'cve201915845', 'cve201610087', 'cve201911191', 'cve20186485', 'cve201810846', 'acting', 'allowed', 'cve201916233', 'cve201814436', 'cve201913751']\n",
      "Topic 11:  ['cve201916168', 'cve20186485', 'cve201810846', 'allowed', 'cve201913751', 'critical', 'cve201814435', 'attacked', 'cve20189234', 'cve20170898', 'cve201712133', 'cve20191563', 'cve201718269', 'cve201814647', 'cve20163189', 'anybody', 'cve20172519', 'cve201814436', 'allowing', 'cve201716932']\n",
      "Topic 12:  ['cve201911487', 'apparently', 'cve201718232', 'cve201816842', 'cve201711464', 'cryptographic', 'acting', 'cve201913648', 'cve201913734', 'cve201816840', 'cve20172519', 'cve20186485', 'cve201916233', 'cve20186954', 'cve201814647', 'cve201916168', 'critical', 'cve201911190', 'attacked', 'cve201912290']\n",
      "Topic 13:  ['acting', 'cve201913648', 'cve20175953', 'cve20186954', 'cve201816840', 'critical', 'cve201913751', 'allowed', 'cve201916255', 'ann', 'cve20170901', 'cve201810915', 'cve20181000074', 'cve201918197', 'cve201910129', 'anybody', 'cve201919052', 'access', 'cve20170898', 'cve20181122']\n",
      "Topic 14:  ['cve201913648', 'cve20186954', 'cve201816840', 'allowed', 'critical', 'cve201913751', 'accessing', 'cve201914813', 'alto', 'apple', 'assist', 'cve201911884', 'cve20149653', 'cve20171110', 'actually', 'accepts', 'api', 'cve201916231', 'accepting', '7124']\n",
      "Topic 15:  ['cve20186954', 'cve201816840', 'cve201810846', 'cve20186485', 'cve201913648', 'cve20181122', 'cve201911477', 'cve20191563', 'cve201916168', 'apache', 'cve201914283', 'ann', 'cve20170901', 'cve201810915', 'cve20181000074', 'cve201814436', 'adult', 'arbitrarily', 'arbitrary', 'cve201816640']\n",
      "Topic 16:  ['cve20166153', 'cve201816643', 'cve201810846', 'cve201915221', 'administrators', 'cve201815686', 'cve201820030', 'cve20185711', 'cve201914284', 'cve20186954', 'cve201816840', 'cve20186485', 'cve201913648', 'cve201814436', 'cve20191563', 'apache', 'acting', 'cve201910129', 'cve201916168', 'cve20172519']\n",
      "Topic 17:  ['acting', 'accessing', 'cve201914813', 'cve201814436', 'cve201919052', '2004', 'api', 'cve20171110', 'cve201911884', 'alto', 'apple', 'assist', '7124', 'cve201810846', 'cve201916231', 'apache', 'cve201913648', 'cve20186954', 'apis', 'cve201911599']\n",
      "Topic 18:  ['acting', 'attacked', 'allowed', 'critical', 'cve201913751', 'cve201814436', 'cve20172519', 'cve201911487', 'cve201916233', 'cve20149653', 'actually', 'ann', 'cve20170901', 'cve201810915', 'cve20181000074', 'accepts', 'cve201712133', 'cve201810925', 'accessing', 'cve201914813']\n",
      "Topic 19:  ['cve20175953', 'cve20189234', 'cve20163189', 'cve20149653', 'actually', 'critical', 'cve201718269', 'cve20186954', 'cve201913648', 'cve201913751', 'allowed', 'cve201816840', 'accepts', 'cve201911487', 'cve201810846', 'cve201917133', 'cve201814436', 'accessing', 'cve201914813', 'cve201912290']\n",
      "Topic 20:  ['cve201916168', 'cve201815473', 'cve201712133', 'cve20188777', 'area', '5726', 'cve20176349', 'cve20187183', 'cve201919036', 'cve201814600', 'cve201810925', 'cve201814435', 'cve201911191', 'activity', 'cve201917133', 'cve20186485', 'cve201816643', 'actor', 'cve201913648', 'cve20170903']\n"
     ]
    }
   ],
   "source": [
    "terms = vectorizer.get_feature_names()\n",
    "Terms_list_Impact_L=[]\n",
    "\n",
    "for i, comp in enumerate(svd_model_IL.components_):\n",
    "    terms_comp = zip(terms, comp)\n",
    "    sorted_terms = sorted(terms_comp, key= lambda x:x[1], reverse=False)[:20]\n",
    "    top_terms_list=list(dict(sorted_terms).keys())\n",
    "    print(\"Topic \"+str(i+1)+\": \",top_terms_list)\n",
    "    Terms_list_Impact_L.append(top_terms_list)\n",
    "    \n",
    "df_termslist_Impact_L = pd.DataFrame(Terms_list_Impact_L)\n",
    "df_termslist_Impact_L.to_csv('LSA_Impact_L.csv')"
   ]
  },
  {
   "cell_type": "code",
   "execution_count": null,
   "id": "2804837a",
   "metadata": {},
   "outputs": [],
   "source": []
  }
 ],
 "metadata": {
  "kernelspec": {
   "display_name": "Python 3 (ipykernel)",
   "language": "python",
   "name": "python3"
  },
  "language_info": {
   "codemirror_mode": {
    "name": "ipython",
    "version": 3
   },
   "file_extension": ".py",
   "mimetype": "text/x-python",
   "name": "python",
   "nbconvert_exporter": "python",
   "pygments_lexer": "ipython3",
   "version": "3.9.13"
  }
 },
 "nbformat": 4,
 "nbformat_minor": 5
}
