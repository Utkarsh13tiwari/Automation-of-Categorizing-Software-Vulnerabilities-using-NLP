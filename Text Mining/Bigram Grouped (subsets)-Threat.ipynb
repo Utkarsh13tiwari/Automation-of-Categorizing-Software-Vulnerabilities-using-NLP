{
 "cells": [
  {
   "cell_type": "code",
   "execution_count": 1,
   "id": "da4dde03",
   "metadata": {},
   "outputs": [],
   "source": [
    "import pandas as pd\n",
    "import seaborn as sns\n",
    "import matplotlib.pyplot as plt\n",
    "import numpy as np"
   ]
  },
  {
   "cell_type": "code",
   "execution_count": 2,
   "id": "1ec824c5",
   "metadata": {},
   "outputs": [],
   "source": [
    "data=pd.read_excel(r'C:\\Users\\utkar\\OneDrive\\Desktop\\EDA_project\\Data_set\\Split_data_final.xlsx', sheet_name ='Sheet1') "
   ]
  },
  {
   "cell_type": "code",
   "execution_count": 3,
   "id": "4efc6805",
   "metadata": {},
   "outputs": [],
   "source": [
    "data['Threat'] = data['Threat'].str.lower()"
   ]
  },
  {
   "cell_type": "code",
   "execution_count": 4,
   "id": "f23abd28",
   "metadata": {},
   "outputs": [],
   "source": [
    "data['Threat'] = data['Threat'].replace(r'http\\S+', '', regex=True).replace(r'www\\S+', '', regex=True)"
   ]
  },
  {
   "cell_type": "code",
   "execution_count": 5,
   "id": "f54dec1b",
   "metadata": {},
   "outputs": [
    {
     "name": "stderr",
     "output_type": "stream",
     "text": [
      "C:\\Users\\utkar\\AppData\\Local\\Temp\\ipykernel_16196\\1039804244.py:1: FutureWarning: The default value of regex will change from True to False in a future version.\n",
      "  data[\"Threat\"] = data['Threat'].str.replace('[^\\w\\s]','')\n"
     ]
    }
   ],
   "source": [
    "data[\"Threat\"] = data['Threat'].str.replace('[^\\w\\s]','')"
   ]
  },
  {
   "cell_type": "code",
   "execution_count": 6,
   "id": "bebd3b0a",
   "metadata": {},
   "outputs": [],
   "source": [
    "from nltk.tokenize import sent_tokenize, word_tokenize\n",
    "\n",
    "data['Threat']=data['Threat'].apply(word_tokenize)"
   ]
  },
  {
   "cell_type": "code",
   "execution_count": 7,
   "id": "b04e6516",
   "metadata": {},
   "outputs": [],
   "source": [
    "from nltk.corpus import stopwords\n",
    "\n",
    "stop = stopwords.words('english')\n",
    "new_stopwords = [\"id\", \"from\", \"could\", \"use\", \"also\",\"Many\",\"like\",\"May\",\"may\",\"ca\",\"even\",\"ect\",\"i.e\",\"cause\",\"result\",\"used\",\"form\",\"Its\",\"cause\",\"take\",\"following\"]\n",
    "stop.extend(new_stopwords)\n",
    "\n",
    "data['Threat']=data['Threat'].apply(lambda x: [item for item in x if item not in stop])"
   ]
  },
  {
   "cell_type": "code",
   "execution_count": 8,
   "id": "bbdba248",
   "metadata": {},
   "outputs": [
    {
     "data": {
      "text/plain": [
       "0    [grub2, boot, loader, vulnerable, buffer, over...\n",
       "1    [discovered, heapbased, buffer, overflow, exis...\n",
       "2    [discovered, libtiff, incorrectly, handled, ce...\n",
       "3    [discovered, race, condition, existed, memory,...\n",
       "4    [docker, engine, enables, containerized, appli...\n",
       "Name: Threat, dtype: object"
      ]
     },
     "execution_count": 8,
     "metadata": {},
     "output_type": "execute_result"
    }
   ],
   "source": [
    "data['Threat'].head()"
   ]
  },
  {
   "cell_type": "code",
   "execution_count": 9,
   "id": "57c5d910",
   "metadata": {},
   "outputs": [],
   "source": [
    "df=pd.DataFrame()"
   ]
  },
  {
   "cell_type": "code",
   "execution_count": 10,
   "id": "cb65bc8e",
   "metadata": {},
   "outputs": [
    {
     "data": {
      "text/plain": [
       "0    ((grub2, boot), (boot, loader), (loader, vulne...\n",
       "1    ((discovered, heapbased), (heapbased, buffer),...\n",
       "2    ((discovered, libtiff), (libtiff, incorrectly)...\n",
       "3    ((discovered, race), (race, condition), (condi...\n",
       "4    ((docker, engine), (engine, enables), (enables...\n",
       "Name: Threat-bigrams, dtype: object"
      ]
     },
     "execution_count": 10,
     "metadata": {},
     "output_type": "execute_result"
    }
   ],
   "source": [
    "import nltk, re, string, collections\n",
    "from nltk.util import ngrams\n",
    "data['Threat-bigrams'] = data['Threat'].apply(lambda row: tuple(nltk.bigrams(row)))\n",
    "data['Threat-bigrams'].head()"
   ]
  },
  {
   "cell_type": "code",
   "execution_count": null,
   "id": "e17a842c",
   "metadata": {},
   "outputs": [],
   "source": []
  },
  {
   "cell_type": "code",
   "execution_count": null,
   "id": "23d9eef7",
   "metadata": {},
   "outputs": [],
   "source": []
  },
  {
   "cell_type": "code",
   "execution_count": 11,
   "id": "263ef80f",
   "metadata": {},
   "outputs": [],
   "source": [
    "data_a=pd.DataFrame()"
   ]
  },
  {
   "cell_type": "code",
   "execution_count": 12,
   "id": "dae9df16",
   "metadata": {},
   "outputs": [],
   "source": [
    "data_l=pd.DataFrame()"
   ]
  },
  {
   "cell_type": "code",
   "execution_count": 13,
   "id": "5fcc2b6f",
   "metadata": {},
   "outputs": [],
   "source": [
    "data_n=pd.DataFrame()"
   ]
  },
  {
   "cell_type": "markdown",
   "id": "ae85483a",
   "metadata": {},
   "source": [
    "# Filtering / Masking"
   ]
  },
  {
   "cell_type": "code",
   "execution_count": null,
   "id": "28248e3d",
   "metadata": {},
   "outputs": [],
   "source": []
  },
  {
   "cell_type": "code",
   "execution_count": 14,
   "id": "844984de",
   "metadata": {},
   "outputs": [],
   "source": [
    "data_a=data.loc[data['AV'] == 'A']"
   ]
  },
  {
   "cell_type": "code",
   "execution_count": 15,
   "id": "530c4ccb",
   "metadata": {},
   "outputs": [],
   "source": [
    "data_l=data.loc[data['AV'] == 'L']"
   ]
  },
  {
   "cell_type": "code",
   "execution_count": 16,
   "id": "e2855356",
   "metadata": {},
   "outputs": [],
   "source": [
    "data_n=data.loc[data['AV'] == 'N']"
   ]
  },
  {
   "cell_type": "code",
   "execution_count": 17,
   "id": "8e34e12e",
   "metadata": {},
   "outputs": [
    {
     "ename": "TypeError",
     "evalue": "unhashable type: 'list'",
     "output_type": "error",
     "traceback": [
      "\u001b[1;31m---------------------------------------------------------------------------\u001b[0m",
      "\u001b[1;31mTypeError\u001b[0m                                 Traceback (most recent call last)",
      "\u001b[1;32m~\\AppData\\Local\\Temp\\ipykernel_16196\\4040628668.py\u001b[0m in \u001b[0;36m<module>\u001b[1;34m\u001b[0m\n\u001b[1;32m----> 1\u001b[1;33m \u001b[0mdata_a\u001b[0m\u001b[1;33m[\u001b[0m\u001b[1;34m\"Threat\"\u001b[0m\u001b[1;33m]\u001b[0m\u001b[1;33m.\u001b[0m\u001b[0mnunique\u001b[0m\u001b[1;33m(\u001b[0m\u001b[1;33m)\u001b[0m\u001b[1;33m\u001b[0m\u001b[1;33m\u001b[0m\u001b[0m\n\u001b[0m",
      "\u001b[1;32m~\\anaconda3\\lib\\site-packages\\pandas\\core\\base.py\u001b[0m in \u001b[0;36mnunique\u001b[1;34m(self, dropna)\u001b[0m\n\u001b[0;32m   1025\u001b[0m         \u001b[1;36m4\u001b[0m\u001b[1;33m\u001b[0m\u001b[1;33m\u001b[0m\u001b[0m\n\u001b[0;32m   1026\u001b[0m         \"\"\"\n\u001b[1;32m-> 1027\u001b[1;33m         \u001b[0muniqs\u001b[0m \u001b[1;33m=\u001b[0m \u001b[0mself\u001b[0m\u001b[1;33m.\u001b[0m\u001b[0munique\u001b[0m\u001b[1;33m(\u001b[0m\u001b[1;33m)\u001b[0m\u001b[1;33m\u001b[0m\u001b[1;33m\u001b[0m\u001b[0m\n\u001b[0m\u001b[0;32m   1028\u001b[0m         \u001b[1;32mif\u001b[0m \u001b[0mdropna\u001b[0m\u001b[1;33m:\u001b[0m\u001b[1;33m\u001b[0m\u001b[1;33m\u001b[0m\u001b[0m\n\u001b[0;32m   1029\u001b[0m             \u001b[0muniqs\u001b[0m \u001b[1;33m=\u001b[0m \u001b[0mremove_na_arraylike\u001b[0m\u001b[1;33m(\u001b[0m\u001b[0muniqs\u001b[0m\u001b[1;33m)\u001b[0m\u001b[1;33m\u001b[0m\u001b[1;33m\u001b[0m\u001b[0m\n",
      "\u001b[1;32m~\\anaconda3\\lib\\site-packages\\pandas\\core\\series.py\u001b[0m in \u001b[0;36munique\u001b[1;34m(self)\u001b[0m\n\u001b[0;32m   2086\u001b[0m         \u001b[0mCategories\u001b[0m \u001b[1;33m(\u001b[0m\u001b[1;36m3\u001b[0m\u001b[1;33m,\u001b[0m \u001b[0mobject\u001b[0m\u001b[1;33m)\u001b[0m\u001b[1;33m:\u001b[0m \u001b[1;33m[\u001b[0m\u001b[1;34m'a'\u001b[0m \u001b[1;33m<\u001b[0m \u001b[1;34m'b'\u001b[0m \u001b[1;33m<\u001b[0m \u001b[1;34m'c'\u001b[0m\u001b[1;33m]\u001b[0m\u001b[1;33m\u001b[0m\u001b[1;33m\u001b[0m\u001b[0m\n\u001b[0;32m   2087\u001b[0m         \"\"\"\n\u001b[1;32m-> 2088\u001b[1;33m         \u001b[1;32mreturn\u001b[0m \u001b[0msuper\u001b[0m\u001b[1;33m(\u001b[0m\u001b[1;33m)\u001b[0m\u001b[1;33m.\u001b[0m\u001b[0munique\u001b[0m\u001b[1;33m(\u001b[0m\u001b[1;33m)\u001b[0m\u001b[1;33m\u001b[0m\u001b[1;33m\u001b[0m\u001b[0m\n\u001b[0m\u001b[0;32m   2089\u001b[0m \u001b[1;33m\u001b[0m\u001b[0m\n\u001b[0;32m   2090\u001b[0m     \u001b[1;33m@\u001b[0m\u001b[0moverload\u001b[0m\u001b[1;33m\u001b[0m\u001b[1;33m\u001b[0m\u001b[0m\n",
      "\u001b[1;32m~\\anaconda3\\lib\\site-packages\\pandas\\core\\base.py\u001b[0m in \u001b[0;36munique\u001b[1;34m(self)\u001b[0m\n\u001b[0;32m    987\u001b[0m                     \u001b[0mresult\u001b[0m \u001b[1;33m=\u001b[0m \u001b[0mnp\u001b[0m\u001b[1;33m.\u001b[0m\u001b[0masarray\u001b[0m\u001b[1;33m(\u001b[0m\u001b[0mresult\u001b[0m\u001b[1;33m)\u001b[0m\u001b[1;33m\u001b[0m\u001b[1;33m\u001b[0m\u001b[0m\n\u001b[0;32m    988\u001b[0m         \u001b[1;32melse\u001b[0m\u001b[1;33m:\u001b[0m\u001b[1;33m\u001b[0m\u001b[1;33m\u001b[0m\u001b[0m\n\u001b[1;32m--> 989\u001b[1;33m             \u001b[0mresult\u001b[0m \u001b[1;33m=\u001b[0m \u001b[0munique1d\u001b[0m\u001b[1;33m(\u001b[0m\u001b[0mvalues\u001b[0m\u001b[1;33m)\u001b[0m\u001b[1;33m\u001b[0m\u001b[1;33m\u001b[0m\u001b[0m\n\u001b[0m\u001b[0;32m    990\u001b[0m \u001b[1;33m\u001b[0m\u001b[0m\n\u001b[0;32m    991\u001b[0m         \u001b[1;32mreturn\u001b[0m \u001b[0mresult\u001b[0m\u001b[1;33m\u001b[0m\u001b[1;33m\u001b[0m\u001b[0m\n",
      "\u001b[1;32m~\\anaconda3\\lib\\site-packages\\pandas\\core\\algorithms.py\u001b[0m in \u001b[0;36munique\u001b[1;34m(values)\u001b[0m\n\u001b[0;32m    438\u001b[0m \u001b[1;33m\u001b[0m\u001b[0m\n\u001b[0;32m    439\u001b[0m     \u001b[0mtable\u001b[0m \u001b[1;33m=\u001b[0m \u001b[0mhtable\u001b[0m\u001b[1;33m(\u001b[0m\u001b[0mlen\u001b[0m\u001b[1;33m(\u001b[0m\u001b[0mvalues\u001b[0m\u001b[1;33m)\u001b[0m\u001b[1;33m)\u001b[0m\u001b[1;33m\u001b[0m\u001b[1;33m\u001b[0m\u001b[0m\n\u001b[1;32m--> 440\u001b[1;33m     \u001b[0muniques\u001b[0m \u001b[1;33m=\u001b[0m \u001b[0mtable\u001b[0m\u001b[1;33m.\u001b[0m\u001b[0munique\u001b[0m\u001b[1;33m(\u001b[0m\u001b[0mvalues\u001b[0m\u001b[1;33m)\u001b[0m\u001b[1;33m\u001b[0m\u001b[1;33m\u001b[0m\u001b[0m\n\u001b[0m\u001b[0;32m    441\u001b[0m     \u001b[0muniques\u001b[0m \u001b[1;33m=\u001b[0m \u001b[0m_reconstruct_data\u001b[0m\u001b[1;33m(\u001b[0m\u001b[0muniques\u001b[0m\u001b[1;33m,\u001b[0m \u001b[0moriginal\u001b[0m\u001b[1;33m.\u001b[0m\u001b[0mdtype\u001b[0m\u001b[1;33m,\u001b[0m \u001b[0moriginal\u001b[0m\u001b[1;33m)\u001b[0m\u001b[1;33m\u001b[0m\u001b[1;33m\u001b[0m\u001b[0m\n\u001b[0;32m    442\u001b[0m     \u001b[1;32mreturn\u001b[0m \u001b[0muniques\u001b[0m\u001b[1;33m\u001b[0m\u001b[1;33m\u001b[0m\u001b[0m\n",
      "\u001b[1;32mpandas\\_libs\\hashtable_class_helper.pxi\u001b[0m in \u001b[0;36mpandas._libs.hashtable.PyObjectHashTable.unique\u001b[1;34m()\u001b[0m\n",
      "\u001b[1;32mpandas\\_libs\\hashtable_class_helper.pxi\u001b[0m in \u001b[0;36mpandas._libs.hashtable.PyObjectHashTable._unique\u001b[1;34m()\u001b[0m\n",
      "\u001b[1;31mTypeError\u001b[0m: unhashable type: 'list'"
     ]
    }
   ],
   "source": [
    "data_a[\"Threat\"].nunique()"
   ]
  },
  {
   "cell_type": "code",
   "execution_count": null,
   "id": "8bfdeba1",
   "metadata": {},
   "outputs": [],
   "source": [
    "data_l[\"Threat\"].nunique()"
   ]
  },
  {
   "cell_type": "code",
   "execution_count": null,
   "id": "2516fd23",
   "metadata": {},
   "outputs": [],
   "source": [
    "data_n[\"Threat\"].nunique()"
   ]
  },
  {
   "cell_type": "code",
   "execution_count": 17,
   "id": "cfa38ccb",
   "metadata": {},
   "outputs": [
    {
     "data": {
      "text/html": [
       "<div>\n",
       "<style scoped>\n",
       "    .dataframe tbody tr th:only-of-type {\n",
       "        vertical-align: middle;\n",
       "    }\n",
       "\n",
       "    .dataframe tbody tr th {\n",
       "        vertical-align: top;\n",
       "    }\n",
       "\n",
       "    .dataframe thead th {\n",
       "        text-align: right;\n",
       "    }\n",
       "</style>\n",
       "<table border=\"1\" class=\"dataframe\">\n",
       "  <thead>\n",
       "    <tr style=\"text-align: right;\">\n",
       "      <th></th>\n",
       "      <th>Unnamed: 0</th>\n",
       "      <th>masked Ip</th>\n",
       "      <th>Network</th>\n",
       "      <th>Tracking Method</th>\n",
       "      <th>OS</th>\n",
       "      <th>IP Status</th>\n",
       "      <th>QID</th>\n",
       "      <th>Title</th>\n",
       "      <th>Vuln Status</th>\n",
       "      <th>Type</th>\n",
       "      <th>...</th>\n",
       "      <th>CVSS3 PR</th>\n",
       "      <th>CVSS3 UI</th>\n",
       "      <th>CVSS3 S</th>\n",
       "      <th>CVSS3 C</th>\n",
       "      <th>CVSS3 I</th>\n",
       "      <th>CVSS3 A</th>\n",
       "      <th>CVSS3 E</th>\n",
       "      <th>CVSS3 RL</th>\n",
       "      <th>CVSS3 RC</th>\n",
       "      <th>Threat-bigrams</th>\n",
       "    </tr>\n",
       "  </thead>\n",
       "  <tbody>\n",
       "    <tr>\n",
       "      <th>0</th>\n",
       "      <td>0</td>\n",
       "      <td>lab_2_IP9036</td>\n",
       "      <td>Global Default Network</td>\n",
       "      <td>QAGENT</td>\n",
       "      <td>Ubuntu Linux 16.04.4</td>\n",
       "      <td>host scanned, found vuln</td>\n",
       "      <td>197967</td>\n",
       "      <td>Ubuntu Security Notification for Grub2 Vulnera...</td>\n",
       "      <td>Active</td>\n",
       "      <td>Vuln</td>\n",
       "      <td>...</td>\n",
       "      <td>H</td>\n",
       "      <td>N</td>\n",
       "      <td>C</td>\n",
       "      <td>H</td>\n",
       "      <td>H</td>\n",
       "      <td>H</td>\n",
       "      <td>U</td>\n",
       "      <td>O</td>\n",
       "      <td>C</td>\n",
       "      <td>((grub2, boot), (boot, loader), (loader, vulne...</td>\n",
       "    </tr>\n",
       "    <tr>\n",
       "      <th>3</th>\n",
       "      <td>3</td>\n",
       "      <td>lab_2_IP9036</td>\n",
       "      <td>Global Default Network</td>\n",
       "      <td>QAGENT</td>\n",
       "      <td>Ubuntu Linux 16.04.4</td>\n",
       "      <td>host scanned, found vuln</td>\n",
       "      <td>196604</td>\n",
       "      <td>Ubuntu Security Notification for Linux Vulnera...</td>\n",
       "      <td>Active</td>\n",
       "      <td>Vuln</td>\n",
       "      <td>...</td>\n",
       "      <td>L</td>\n",
       "      <td>N</td>\n",
       "      <td>U</td>\n",
       "      <td>H</td>\n",
       "      <td>H</td>\n",
       "      <td>H</td>\n",
       "      <td>P</td>\n",
       "      <td>O</td>\n",
       "      <td>U</td>\n",
       "      <td>((discovered, race), (race, condition), (condi...</td>\n",
       "    </tr>\n",
       "    <tr>\n",
       "      <th>4</th>\n",
       "      <td>4</td>\n",
       "      <td>lab_2_IP9036</td>\n",
       "      <td>Global Default Network</td>\n",
       "      <td>QAGENT</td>\n",
       "      <td>Ubuntu Linux 16.04.4</td>\n",
       "      <td>host scanned, found vuln</td>\n",
       "      <td>372015</td>\n",
       "      <td>Docker Build Remote Code Execution Vulnerability</td>\n",
       "      <td>Active</td>\n",
       "      <td>Vuln</td>\n",
       "      <td>...</td>\n",
       "      <td>N</td>\n",
       "      <td>N</td>\n",
       "      <td>U</td>\n",
       "      <td>H</td>\n",
       "      <td>H</td>\n",
       "      <td>H</td>\n",
       "      <td>P</td>\n",
       "      <td>O</td>\n",
       "      <td>C</td>\n",
       "      <td>((docker, engine), (engine, enables), (enables...</td>\n",
       "    </tr>\n",
       "    <tr>\n",
       "      <th>6</th>\n",
       "      <td>6</td>\n",
       "      <td>lab_2_IP9036</td>\n",
       "      <td>Global Default Network</td>\n",
       "      <td>QAGENT</td>\n",
       "      <td>Ubuntu Linux 16.04.4</td>\n",
       "      <td>host scanned, found vuln</td>\n",
       "      <td>198010</td>\n",
       "      <td>Ubuntu Security Notification for Libx11 Vulner...</td>\n",
       "      <td>Active</td>\n",
       "      <td>Vuln</td>\n",
       "      <td>...</td>\n",
       "      <td>L</td>\n",
       "      <td>N</td>\n",
       "      <td>U</td>\n",
       "      <td>H</td>\n",
       "      <td>H</td>\n",
       "      <td>H</td>\n",
       "      <td>U</td>\n",
       "      <td>O</td>\n",
       "      <td>U</td>\n",
       "      <td>((discovered, libx11), (libx11, incorrectly), ...</td>\n",
       "    </tr>\n",
       "    <tr>\n",
       "      <th>7</th>\n",
       "      <td>7</td>\n",
       "      <td>lab_2_IP9036</td>\n",
       "      <td>Global Default Network</td>\n",
       "      <td>QAGENT</td>\n",
       "      <td>Ubuntu Linux 16.04.4</td>\n",
       "      <td>host scanned, found vuln</td>\n",
       "      <td>198009</td>\n",
       "      <td>Ubuntu Security Notification for Linux, Linux-...</td>\n",
       "      <td>Active</td>\n",
       "      <td>Vuln</td>\n",
       "      <td>...</td>\n",
       "      <td>L</td>\n",
       "      <td>N</td>\n",
       "      <td>U</td>\n",
       "      <td>N</td>\n",
       "      <td>N</td>\n",
       "      <td>H</td>\n",
       "      <td>U</td>\n",
       "      <td>O</td>\n",
       "      <td>U</td>\n",
       "      <td>((discovered, xfs), (xfs, filesystem), (filesy...</td>\n",
       "    </tr>\n",
       "  </tbody>\n",
       "</table>\n",
       "<p>5 rows × 54 columns</p>\n",
       "</div>"
      ],
      "text/plain": [
       "   Unnamed: 0     masked Ip                 Network Tracking Method  \\\n",
       "0           0  lab_2_IP9036  Global Default Network          QAGENT   \n",
       "3           3  lab_2_IP9036  Global Default Network          QAGENT   \n",
       "4           4  lab_2_IP9036  Global Default Network          QAGENT   \n",
       "6           6  lab_2_IP9036  Global Default Network          QAGENT   \n",
       "7           7  lab_2_IP9036  Global Default Network          QAGENT   \n",
       "\n",
       "                     OS                 IP Status     QID  \\\n",
       "0  Ubuntu Linux 16.04.4  host scanned, found vuln  197967   \n",
       "3  Ubuntu Linux 16.04.4  host scanned, found vuln  196604   \n",
       "4  Ubuntu Linux 16.04.4  host scanned, found vuln  372015   \n",
       "6  Ubuntu Linux 16.04.4  host scanned, found vuln  198010   \n",
       "7  Ubuntu Linux 16.04.4  host scanned, found vuln  198009   \n",
       "\n",
       "                                               Title Vuln Status  Type  ...  \\\n",
       "0  Ubuntu Security Notification for Grub2 Vulnera...      Active  Vuln  ...   \n",
       "3  Ubuntu Security Notification for Linux Vulnera...      Active  Vuln  ...   \n",
       "4   Docker Build Remote Code Execution Vulnerability      Active  Vuln  ...   \n",
       "6  Ubuntu Security Notification for Libx11 Vulner...      Active  Vuln  ...   \n",
       "7  Ubuntu Security Notification for Linux, Linux-...      Active  Vuln  ...   \n",
       "\n",
       "   CVSS3 PR  CVSS3 UI CVSS3 S CVSS3 C CVSS3 I CVSS3 A CVSS3 E  CVSS3 RL  \\\n",
       "0         H         N       C       H       H       H       U         O   \n",
       "3         L         N       U       H       H       H       P         O   \n",
       "4         N         N       U       H       H       H       P         O   \n",
       "6         L         N       U       H       H       H       U         O   \n",
       "7         L         N       U       N       N       H       U         O   \n",
       "\n",
       "  CVSS3 RC                                     Threat-bigrams  \n",
       "0        C  ((grub2, boot), (boot, loader), (loader, vulne...  \n",
       "3        U  ((discovered, race), (race, condition), (condi...  \n",
       "4        C  ((docker, engine), (engine, enables), (enables...  \n",
       "6        U  ((discovered, libx11), (libx11, incorrectly), ...  \n",
       "7        U  ((discovered, xfs), (xfs, filesystem), (filesy...  \n",
       "\n",
       "[5 rows x 54 columns]"
      ]
     },
     "execution_count": 17,
     "metadata": {},
     "output_type": "execute_result"
    }
   ],
   "source": [
    "data_l.head()"
   ]
  },
  {
   "cell_type": "code",
   "execution_count": 18,
   "id": "328fd426",
   "metadata": {},
   "outputs": [
    {
     "data": {
      "text/plain": [
       "8      ((discovered, sanebackends), (sanebackends, in...\n",
       "50     ((discovered, kvm), (kvm, hypervisor), (hyperv...\n",
       "79     ((discovered, intel), (intel, processors), (pr...\n",
       "101    ((discovered, bluetooth), (bluetooth, implemen...\n",
       "216    ((kernel, packages), (packages, contain), (con...\n",
       "Name: Threat-bigrams, dtype: object"
      ]
     },
     "execution_count": 18,
     "metadata": {},
     "output_type": "execute_result"
    }
   ],
   "source": [
    "data_a['Threat-bigrams'].head()"
   ]
  },
  {
   "cell_type": "code",
   "execution_count": 19,
   "id": "f8173801",
   "metadata": {},
   "outputs": [
    {
     "data": {
      "text/plain": [
       "0    ((grub2, boot), (boot, loader), (loader, vulne...\n",
       "3    ((discovered, race), (race, condition), (condi...\n",
       "4    ((docker, engine), (engine, enables), (enables...\n",
       "6    ((discovered, libx11), (libx11, incorrectly), ...\n",
       "7    ((discovered, xfs), (xfs, filesystem), (filesy...\n",
       "Name: Threat-bigrams, dtype: object"
      ]
     },
     "execution_count": 19,
     "metadata": {},
     "output_type": "execute_result"
    }
   ],
   "source": [
    "data_l['Threat-bigrams'].head()"
   ]
  },
  {
   "cell_type": "code",
   "execution_count": 20,
   "id": "4605e435",
   "metadata": {},
   "outputs": [
    {
     "data": {
      "text/plain": [
       "1     ((discovered, heapbased), (heapbased, buffer),...\n",
       "2     ((discovered, libtiff), (libtiff, incorrectly)...\n",
       "5     ((nokogiri, html), (html, xml), (xml, sax), (s...\n",
       "9     ((discovered, ghostscript), (ghostscript, inco...\n",
       "10    ((discovered, bind), (bind, incorrectly), (inc...\n",
       "Name: Threat-bigrams, dtype: object"
      ]
     },
     "execution_count": 20,
     "metadata": {},
     "output_type": "execute_result"
    }
   ],
   "source": [
    "data_n['Threat-bigrams'].head()"
   ]
  },
  {
   "cell_type": "code",
   "execution_count": null,
   "id": "77fdb3d0",
   "metadata": {},
   "outputs": [],
   "source": []
  },
  {
   "cell_type": "code",
   "execution_count": 21,
   "id": "a1002dc4",
   "metadata": {},
   "outputs": [],
   "source": [
    "df_A_Threat=pd.DataFrame()\n",
    "df_L_Threat=pd.DataFrame()\n",
    "df_N_Threat=pd.DataFrame()"
   ]
  },
  {
   "cell_type": "markdown",
   "id": "295b4562",
   "metadata": {},
   "source": [
    "# Bigram freq of Threat for 'A' --['AV']"
   ]
  },
  {
   "cell_type": "code",
   "execution_count": 22,
   "id": "a0e6d111",
   "metadata": {},
   "outputs": [],
   "source": [
    "from collections import Counter\n",
    "from itertools import chain\n",
    "df_A_Threat['A']=list(chain.from_iterable(data_a['Threat-bigrams']))"
   ]
  },
  {
   "cell_type": "code",
   "execution_count": 23,
   "id": "18499474",
   "metadata": {},
   "outputs": [
    {
     "data": {
      "text/html": [
       "<div>\n",
       "<style scoped>\n",
       "    .dataframe tbody tr th:only-of-type {\n",
       "        vertical-align: middle;\n",
       "    }\n",
       "\n",
       "    .dataframe tbody tr th {\n",
       "        vertical-align: top;\n",
       "    }\n",
       "\n",
       "    .dataframe thead th {\n",
       "        text-align: right;\n",
       "    }\n",
       "</style>\n",
       "<table border=\"1\" class=\"dataframe\">\n",
       "  <thead>\n",
       "    <tr style=\"text-align: right;\">\n",
       "      <th></th>\n",
       "      <th>A</th>\n",
       "    </tr>\n",
       "  </thead>\n",
       "  <tbody>\n",
       "    <tr>\n",
       "      <th>0</th>\n",
       "      <td>(discovered, sanebackends)</td>\n",
       "    </tr>\n",
       "    <tr>\n",
       "      <th>1</th>\n",
       "      <td>(sanebackends, incorrectly)</td>\n",
       "    </tr>\n",
       "    <tr>\n",
       "      <th>2</th>\n",
       "      <td>(incorrectly, handled)</td>\n",
       "    </tr>\n",
       "    <tr>\n",
       "      <th>3</th>\n",
       "      <td>(handled, certain)</td>\n",
       "    </tr>\n",
       "    <tr>\n",
       "      <th>4</th>\n",
       "      <td>(certain, packets)</td>\n",
       "    </tr>\n",
       "  </tbody>\n",
       "</table>\n",
       "</div>"
      ],
      "text/plain": [
       "                             A\n",
       "0   (discovered, sanebackends)\n",
       "1  (sanebackends, incorrectly)\n",
       "2       (incorrectly, handled)\n",
       "3           (handled, certain)\n",
       "4           (certain, packets)"
      ]
     },
     "execution_count": 23,
     "metadata": {},
     "output_type": "execute_result"
    }
   ],
   "source": [
    "df_A_Threat.head()"
   ]
  },
  {
   "cell_type": "code",
   "execution_count": 24,
   "id": "ec883d69",
   "metadata": {},
   "outputs": [],
   "source": [
    "dataBi_A_Threat=pd.DataFrame()"
   ]
  },
  {
   "cell_type": "code",
   "execution_count": 25,
   "id": "8704b79e",
   "metadata": {},
   "outputs": [],
   "source": [
    "dataBi_A_Threat['Freq_A']=df_A_Threat['A'].value_counts()"
   ]
  },
  {
   "cell_type": "code",
   "execution_count": 26,
   "id": "54b6a35a",
   "metadata": {},
   "outputs": [
    {
     "data": {
      "text/html": [
       "<div>\n",
       "<style scoped>\n",
       "    .dataframe tbody tr th:only-of-type {\n",
       "        vertical-align: middle;\n",
       "    }\n",
       "\n",
       "    .dataframe tbody tr th {\n",
       "        vertical-align: top;\n",
       "    }\n",
       "\n",
       "    .dataframe thead th {\n",
       "        text-align: right;\n",
       "    }\n",
       "</style>\n",
       "<table border=\"1\" class=\"dataframe\">\n",
       "  <thead>\n",
       "    <tr style=\"text-align: right;\">\n",
       "      <th></th>\n",
       "      <th>Freq_A</th>\n",
       "    </tr>\n",
       "  </thead>\n",
       "  <tbody>\n",
       "    <tr>\n",
       "      <th>(red, hat)</th>\n",
       "      <td>311</td>\n",
       "    </tr>\n",
       "    <tr>\n",
       "      <th>(hat, enterprise)</th>\n",
       "      <td>280</td>\n",
       "    </tr>\n",
       "    <tr>\n",
       "      <th>(enterprise, linux)</th>\n",
       "      <td>280</td>\n",
       "    </tr>\n",
       "    <tr>\n",
       "      <th>(linux, kernel)</th>\n",
       "      <td>189</td>\n",
       "    </tr>\n",
       "    <tr>\n",
       "      <th>(x86_64, red)</th>\n",
       "      <td>155</td>\n",
       "    </tr>\n",
       "  </tbody>\n",
       "</table>\n",
       "</div>"
      ],
      "text/plain": [
       "                     Freq_A\n",
       "(red, hat)              311\n",
       "(hat, enterprise)       280\n",
       "(enterprise, linux)     280\n",
       "(linux, kernel)         189\n",
       "(x86_64, red)           155"
      ]
     },
     "execution_count": 26,
     "metadata": {},
     "output_type": "execute_result"
    }
   ],
   "source": [
    "dataBi_A_Threat.head()"
   ]
  },
  {
   "cell_type": "markdown",
   "id": "e311e092",
   "metadata": {},
   "source": [
    "# Bigram freq of Threat for 'N' --['AV']"
   ]
  },
  {
   "cell_type": "code",
   "execution_count": 27,
   "id": "bb8dad1d",
   "metadata": {},
   "outputs": [],
   "source": [
    "from collections import Counter\n",
    "from itertools import chain\n",
    "df_N_Threat['N']=list(chain.from_iterable(data_n['Threat-bigrams']))"
   ]
  },
  {
   "cell_type": "code",
   "execution_count": 28,
   "id": "4af755f6",
   "metadata": {},
   "outputs": [
    {
     "data": {
      "text/html": [
       "<div>\n",
       "<style scoped>\n",
       "    .dataframe tbody tr th:only-of-type {\n",
       "        vertical-align: middle;\n",
       "    }\n",
       "\n",
       "    .dataframe tbody tr th {\n",
       "        vertical-align: top;\n",
       "    }\n",
       "\n",
       "    .dataframe thead th {\n",
       "        text-align: right;\n",
       "    }\n",
       "</style>\n",
       "<table border=\"1\" class=\"dataframe\">\n",
       "  <thead>\n",
       "    <tr style=\"text-align: right;\">\n",
       "      <th></th>\n",
       "      <th>N</th>\n",
       "    </tr>\n",
       "  </thead>\n",
       "  <tbody>\n",
       "    <tr>\n",
       "      <th>0</th>\n",
       "      <td>(discovered, heapbased)</td>\n",
       "    </tr>\n",
       "    <tr>\n",
       "      <th>1</th>\n",
       "      <td>(heapbased, buffer)</td>\n",
       "    </tr>\n",
       "    <tr>\n",
       "      <th>2</th>\n",
       "      <td>(buffer, overflow)</td>\n",
       "    </tr>\n",
       "    <tr>\n",
       "      <th>3</th>\n",
       "      <td>(overflow, existed)</td>\n",
       "    </tr>\n",
       "    <tr>\n",
       "      <th>4</th>\n",
       "      <td>(existed, marvell)</td>\n",
       "    </tr>\n",
       "  </tbody>\n",
       "</table>\n",
       "</div>"
      ],
      "text/plain": [
       "                         N\n",
       "0  (discovered, heapbased)\n",
       "1      (heapbased, buffer)\n",
       "2       (buffer, overflow)\n",
       "3      (overflow, existed)\n",
       "4       (existed, marvell)"
      ]
     },
     "execution_count": 28,
     "metadata": {},
     "output_type": "execute_result"
    }
   ],
   "source": [
    "df_N_Threat.head()"
   ]
  },
  {
   "cell_type": "code",
   "execution_count": 29,
   "id": "eb39a02a",
   "metadata": {},
   "outputs": [],
   "source": [
    "dataBi_N_Threat=pd.DataFrame()"
   ]
  },
  {
   "cell_type": "code",
   "execution_count": 30,
   "id": "c58b4cd8",
   "metadata": {},
   "outputs": [],
   "source": [
    "dataBi_N_Threat['Freq_N']=df_N_Threat['N'].value_counts()"
   ]
  },
  {
   "cell_type": "code",
   "execution_count": 31,
   "id": "9cfc6206",
   "metadata": {},
   "outputs": [
    {
     "data": {
      "text/html": [
       "<div>\n",
       "<style scoped>\n",
       "    .dataframe tbody tr th:only-of-type {\n",
       "        vertical-align: middle;\n",
       "    }\n",
       "\n",
       "    .dataframe tbody tr th {\n",
       "        vertical-align: top;\n",
       "    }\n",
       "\n",
       "    .dataframe thead th {\n",
       "        text-align: right;\n",
       "    }\n",
       "</style>\n",
       "<table border=\"1\" class=\"dataframe\">\n",
       "  <thead>\n",
       "    <tr style=\"text-align: right;\">\n",
       "      <th></th>\n",
       "      <th>Freq_N</th>\n",
       "    </tr>\n",
       "  </thead>\n",
       "  <tbody>\n",
       "    <tr>\n",
       "      <th>(public, key)</th>\n",
       "      <td>42117</td>\n",
       "    </tr>\n",
       "    <tr>\n",
       "      <th>(key, certificate)</th>\n",
       "      <td>23173</td>\n",
       "    </tr>\n",
       "    <tr>\n",
       "      <th>(remote, server)</th>\n",
       "      <td>20870</td>\n",
       "    </tr>\n",
       "    <tr>\n",
       "      <th>(connection, client)</th>\n",
       "      <td>20860</td>\n",
       "    </tr>\n",
       "    <tr>\n",
       "      <th>(server, using)</th>\n",
       "      <td>19407</td>\n",
       "    </tr>\n",
       "  </tbody>\n",
       "</table>\n",
       "</div>"
      ],
      "text/plain": [
       "                      Freq_N\n",
       "(public, key)          42117\n",
       "(key, certificate)     23173\n",
       "(remote, server)       20870\n",
       "(connection, client)   20860\n",
       "(server, using)        19407"
      ]
     },
     "execution_count": 31,
     "metadata": {},
     "output_type": "execute_result"
    }
   ],
   "source": [
    "dataBi_N_Threat.head()"
   ]
  },
  {
   "cell_type": "markdown",
   "id": "128e96d5",
   "metadata": {},
   "source": [
    "# Bigram freq of Threat for 'L' --['AV']"
   ]
  },
  {
   "cell_type": "code",
   "execution_count": 32,
   "id": "e42ff564",
   "metadata": {},
   "outputs": [],
   "source": [
    "from collections import Counter\n",
    "from itertools import chain\n",
    "df_L_Threat['L']=list(chain.from_iterable(data_l['Threat-bigrams']))"
   ]
  },
  {
   "cell_type": "code",
   "execution_count": 33,
   "id": "af4e3822",
   "metadata": {},
   "outputs": [
    {
     "data": {
      "text/html": [
       "<div>\n",
       "<style scoped>\n",
       "    .dataframe tbody tr th:only-of-type {\n",
       "        vertical-align: middle;\n",
       "    }\n",
       "\n",
       "    .dataframe tbody tr th {\n",
       "        vertical-align: top;\n",
       "    }\n",
       "\n",
       "    .dataframe thead th {\n",
       "        text-align: right;\n",
       "    }\n",
       "</style>\n",
       "<table border=\"1\" class=\"dataframe\">\n",
       "  <thead>\n",
       "    <tr style=\"text-align: right;\">\n",
       "      <th></th>\n",
       "      <th>L</th>\n",
       "    </tr>\n",
       "  </thead>\n",
       "  <tbody>\n",
       "    <tr>\n",
       "      <th>0</th>\n",
       "      <td>(grub2, boot)</td>\n",
       "    </tr>\n",
       "    <tr>\n",
       "      <th>1</th>\n",
       "      <td>(boot, loader)</td>\n",
       "    </tr>\n",
       "    <tr>\n",
       "      <th>2</th>\n",
       "      <td>(loader, vulnerable)</td>\n",
       "    </tr>\n",
       "    <tr>\n",
       "      <th>3</th>\n",
       "      <td>(vulnerable, buffer)</td>\n",
       "    </tr>\n",
       "    <tr>\n",
       "      <th>4</th>\n",
       "      <td>(buffer, overflow)</td>\n",
       "    </tr>\n",
       "  </tbody>\n",
       "</table>\n",
       "</div>"
      ],
      "text/plain": [
       "                      L\n",
       "0         (grub2, boot)\n",
       "1        (boot, loader)\n",
       "2  (loader, vulnerable)\n",
       "3  (vulnerable, buffer)\n",
       "4    (buffer, overflow)"
      ]
     },
     "execution_count": 33,
     "metadata": {},
     "output_type": "execute_result"
    }
   ],
   "source": [
    "df_L_Threat.head()"
   ]
  },
  {
   "cell_type": "code",
   "execution_count": 34,
   "id": "6e02cc73",
   "metadata": {},
   "outputs": [],
   "source": [
    "dataBi_L_Threat=pd.DataFrame()"
   ]
  },
  {
   "cell_type": "code",
   "execution_count": 35,
   "id": "9c6687eb",
   "metadata": {},
   "outputs": [],
   "source": [
    "dataBi_L_Threat['Freq_L']=df_L_Threat['L'].value_counts()"
   ]
  },
  {
   "cell_type": "code",
   "execution_count": 36,
   "id": "79191b95",
   "metadata": {},
   "outputs": [
    {
     "data": {
      "text/html": [
       "<div>\n",
       "<style scoped>\n",
       "    .dataframe tbody tr th:only-of-type {\n",
       "        vertical-align: middle;\n",
       "    }\n",
       "\n",
       "    .dataframe tbody tr th {\n",
       "        vertical-align: top;\n",
       "    }\n",
       "\n",
       "    .dataframe thead th {\n",
       "        text-align: right;\n",
       "    }\n",
       "</style>\n",
       "<table border=\"1\" class=\"dataframe\">\n",
       "  <thead>\n",
       "    <tr style=\"text-align: right;\">\n",
       "      <th></th>\n",
       "      <th>Freq_L</th>\n",
       "    </tr>\n",
       "  </thead>\n",
       "  <tbody>\n",
       "    <tr>\n",
       "      <th>(vmware, esxi)</th>\n",
       "      <td>12814</td>\n",
       "    </tr>\n",
       "    <tr>\n",
       "      <th>(versions, vmware)</th>\n",
       "      <td>6906</td>\n",
       "    </tr>\n",
       "    <tr>\n",
       "      <th>(virtualization, product)</th>\n",
       "      <td>5248</td>\n",
       "    </tr>\n",
       "    <tr>\n",
       "      <th>(computer, virtualization)</th>\n",
       "      <td>5248</td>\n",
       "    </tr>\n",
       "    <tr>\n",
       "      <th>(level, computer)</th>\n",
       "      <td>5231</td>\n",
       "    </tr>\n",
       "  </tbody>\n",
       "</table>\n",
       "</div>"
      ],
      "text/plain": [
       "                            Freq_L\n",
       "(vmware, esxi)               12814\n",
       "(versions, vmware)            6906\n",
       "(virtualization, product)     5248\n",
       "(computer, virtualization)    5248\n",
       "(level, computer)             5231"
      ]
     },
     "execution_count": 36,
     "metadata": {},
     "output_type": "execute_result"
    }
   ],
   "source": [
    "dataBi_L_Threat.head()"
   ]
  },
  {
   "cell_type": "markdown",
   "id": "2a93404c",
   "metadata": {},
   "source": [
    "# Downloading the dataset"
   ]
  },
  {
   "cell_type": "code",
   "execution_count": 37,
   "id": "eb9c01c1",
   "metadata": {},
   "outputs": [],
   "source": [
    "dataBi_A_Threat.to_excel(r'C:\\Users\\utkar\\OneDrive\\Desktop\\EDA_project\\Grouped Bigrams\\Threat-Bigram_A_freq.xlsx')"
   ]
  },
  {
   "cell_type": "code",
   "execution_count": 38,
   "id": "f6e40408",
   "metadata": {},
   "outputs": [],
   "source": [
    "dataBi_L_Threat.to_excel(r'C:\\Users\\utkar\\OneDrive\\Desktop\\EDA_project\\Grouped Bigrams\\Threat-Bigram_L_freq.xlsx')"
   ]
  },
  {
   "cell_type": "code",
   "execution_count": 39,
   "id": "fa513bce",
   "metadata": {},
   "outputs": [],
   "source": [
    "dataBi_N_Threat.to_excel(r'C:\\Users\\utkar\\OneDrive\\Desktop\\EDA_project\\Grouped Bigrams\\Threat-Bigram_N_freq.xlsx')"
   ]
  },
  {
   "cell_type": "markdown",
   "id": "952c999e",
   "metadata": {},
   "source": [
    "# ---------------------------------------------------------------------------------------------------------------"
   ]
  },
  {
   "cell_type": "code",
   "execution_count": null,
   "id": "99caca55",
   "metadata": {},
   "outputs": [],
   "source": []
  }
 ],
 "metadata": {
  "kernelspec": {
   "display_name": "Python 3 (ipykernel)",
   "language": "python",
   "name": "python3"
  },
  "language_info": {
   "codemirror_mode": {
    "name": "ipython",
    "version": 3
   },
   "file_extension": ".py",
   "mimetype": "text/x-python",
   "name": "python",
   "nbconvert_exporter": "python",
   "pygments_lexer": "ipython3",
   "version": "3.9.13"
  }
 },
 "nbformat": 4,
 "nbformat_minor": 5
}
