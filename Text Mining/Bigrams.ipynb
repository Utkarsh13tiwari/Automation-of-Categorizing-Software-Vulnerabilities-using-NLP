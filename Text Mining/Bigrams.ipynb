{
 "cells": [
  {
   "cell_type": "code",
   "execution_count": 55,
   "id": "deaa04f1",
   "metadata": {},
   "outputs": [],
   "source": [
    "import pandas as pd\n",
    "import seaborn as sns\n",
    "import matplotlib.pyplot as plt\n",
    "import numpy as np"
   ]
  },
  {
   "cell_type": "code",
   "execution_count": 56,
   "id": "9ebdd3ed",
   "metadata": {},
   "outputs": [],
   "source": [
    "data=pd.read_excel(r'C:\\Users\\utkar\\OneDrive\\Desktop\\EDA_project\\Data_set\\Split_data_final.xlsx', sheet_name ='Sheet1') # Reading data "
   ]
  },
  {
   "cell_type": "code",
   "execution_count": 57,
   "id": "2270d1c1",
   "metadata": {},
   "outputs": [
    {
     "data": {
      "text/plain": [
       "N    62521\n",
       "L     7094\n",
       "A      294\n",
       "Name: AV, dtype: int64"
      ]
     },
     "execution_count": 57,
     "metadata": {},
     "output_type": "execute_result"
    }
   ],
   "source": [
    "data['AV'].value_counts()"
   ]
  },
  {
   "cell_type": "code",
   "execution_count": 58,
   "id": "2b62ffe1",
   "metadata": {},
   "outputs": [],
   "source": [
    "avg=data.groupby('AV')"
   ]
  },
  {
   "cell_type": "code",
   "execution_count": 59,
   "id": "83a3d0d2",
   "metadata": {},
   "outputs": [
    {
     "data": {
      "text/plain": [
       "AV\n",
       "A    5.477551\n",
       "L    4.057119\n",
       "N    4.289658\n",
       "Name: CVSS, dtype: float64"
      ]
     },
     "execution_count": 59,
     "metadata": {},
     "output_type": "execute_result"
    }
   ],
   "source": [
    "avg['CVSS'].mean()"
   ]
  },
  {
   "cell_type": "code",
   "execution_count": 60,
   "id": "96b5c704",
   "metadata": {},
   "outputs": [
    {
     "data": {
      "text/plain": [
       "AV\n",
       "A    7.466667\n",
       "L    6.129652\n",
       "N    5.975095\n",
       "Name: CVSS3, dtype: float64"
      ]
     },
     "execution_count": 60,
     "metadata": {},
     "output_type": "execute_result"
    }
   ],
   "source": [
    "avg['CVSS3'].mean()"
   ]
  },
  {
   "cell_type": "code",
   "execution_count": 61,
   "id": "5bf44178",
   "metadata": {},
   "outputs": [
    {
     "data": {
      "text/plain": [
       "AV  AV\n",
       "A   A       294\n",
       "L   L      7094\n",
       "N   N     62521\n",
       "Name: AV, dtype: int64"
      ]
     },
     "execution_count": 61,
     "metadata": {},
     "output_type": "execute_result"
    }
   ],
   "source": [
    "avg['AV'].value_counts()"
   ]
  },
  {
   "cell_type": "code",
   "execution_count": 62,
   "id": "b07d2b3b",
   "metadata": {},
   "outputs": [
    {
     "data": {
      "text/html": [
       "<div>\n",
       "<style scoped>\n",
       "    .dataframe tbody tr th:only-of-type {\n",
       "        vertical-align: middle;\n",
       "    }\n",
       "\n",
       "    .dataframe tbody tr th {\n",
       "        vertical-align: top;\n",
       "    }\n",
       "\n",
       "    .dataframe thead th {\n",
       "        text-align: right;\n",
       "    }\n",
       "</style>\n",
       "<table border=\"1\" class=\"dataframe\">\n",
       "  <thead>\n",
       "    <tr style=\"text-align: right;\">\n",
       "      <th></th>\n",
       "      <th>Unnamed: 0</th>\n",
       "      <th>masked Ip</th>\n",
       "      <th>Network</th>\n",
       "      <th>Tracking Method</th>\n",
       "      <th>OS</th>\n",
       "      <th>IP Status</th>\n",
       "      <th>QID</th>\n",
       "      <th>Title</th>\n",
       "      <th>Vuln Status</th>\n",
       "      <th>Type</th>\n",
       "      <th>...</th>\n",
       "      <th>CVSS3 AC</th>\n",
       "      <th>CVSS3 PR</th>\n",
       "      <th>CVSS3 UI</th>\n",
       "      <th>CVSS3 S</th>\n",
       "      <th>CVSS3 C</th>\n",
       "      <th>CVSS3 I</th>\n",
       "      <th>CVSS3 A</th>\n",
       "      <th>CVSS3 E</th>\n",
       "      <th>CVSS3 RL</th>\n",
       "      <th>CVSS3 RC</th>\n",
       "    </tr>\n",
       "    <tr>\n",
       "      <th>AV</th>\n",
       "      <th></th>\n",
       "      <th></th>\n",
       "      <th></th>\n",
       "      <th></th>\n",
       "      <th></th>\n",
       "      <th></th>\n",
       "      <th></th>\n",
       "      <th></th>\n",
       "      <th></th>\n",
       "      <th></th>\n",
       "      <th></th>\n",
       "      <th></th>\n",
       "      <th></th>\n",
       "      <th></th>\n",
       "      <th></th>\n",
       "      <th></th>\n",
       "      <th></th>\n",
       "      <th></th>\n",
       "      <th></th>\n",
       "      <th></th>\n",
       "      <th></th>\n",
       "    </tr>\n",
       "  </thead>\n",
       "  <tbody>\n",
       "    <tr>\n",
       "      <th>A</th>\n",
       "      <td>8</td>\n",
       "      <td>lab_2_IP9036</td>\n",
       "      <td>Global Default Network</td>\n",
       "      <td>QAGENT</td>\n",
       "      <td>Ubuntu Linux 16.04.4</td>\n",
       "      <td>host scanned, found vuln</td>\n",
       "      <td>197995</td>\n",
       "      <td>Ubuntu Security Notification for Sane-backends...</td>\n",
       "      <td>Active</td>\n",
       "      <td>Vuln</td>\n",
       "      <td>...</td>\n",
       "      <td>L</td>\n",
       "      <td>N</td>\n",
       "      <td>N</td>\n",
       "      <td>U</td>\n",
       "      <td>H</td>\n",
       "      <td>H</td>\n",
       "      <td>H</td>\n",
       "      <td>U</td>\n",
       "      <td>O</td>\n",
       "      <td>U</td>\n",
       "    </tr>\n",
       "    <tr>\n",
       "      <th>L</th>\n",
       "      <td>0</td>\n",
       "      <td>lab_2_IP9036</td>\n",
       "      <td>Global Default Network</td>\n",
       "      <td>QAGENT</td>\n",
       "      <td>Ubuntu Linux 16.04.4</td>\n",
       "      <td>host scanned, found vuln</td>\n",
       "      <td>197967</td>\n",
       "      <td>Ubuntu Security Notification for Grub2 Vulnera...</td>\n",
       "      <td>Active</td>\n",
       "      <td>Vuln</td>\n",
       "      <td>...</td>\n",
       "      <td>L</td>\n",
       "      <td>H</td>\n",
       "      <td>N</td>\n",
       "      <td>C</td>\n",
       "      <td>H</td>\n",
       "      <td>H</td>\n",
       "      <td>H</td>\n",
       "      <td>U</td>\n",
       "      <td>O</td>\n",
       "      <td>C</td>\n",
       "    </tr>\n",
       "    <tr>\n",
       "      <th>N</th>\n",
       "      <td>1</td>\n",
       "      <td>lab_2_IP9036</td>\n",
       "      <td>Global Default Network</td>\n",
       "      <td>QAGENT</td>\n",
       "      <td>Ubuntu Linux 16.04.4</td>\n",
       "      <td>host scanned, found vuln</td>\n",
       "      <td>197742</td>\n",
       "      <td>Ubuntu Security Notification for Linux, Linux-...</td>\n",
       "      <td>Active</td>\n",
       "      <td>Vuln</td>\n",
       "      <td>...</td>\n",
       "      <td>L</td>\n",
       "      <td>N</td>\n",
       "      <td>N</td>\n",
       "      <td>U</td>\n",
       "      <td>H</td>\n",
       "      <td>H</td>\n",
       "      <td>H</td>\n",
       "      <td>U</td>\n",
       "      <td>O</td>\n",
       "      <td>U</td>\n",
       "    </tr>\n",
       "  </tbody>\n",
       "</table>\n",
       "<p>3 rows × 52 columns</p>\n",
       "</div>"
      ],
      "text/plain": [
       "    Unnamed: 0     masked Ip                 Network Tracking Method  \\\n",
       "AV                                                                     \n",
       "A            8  lab_2_IP9036  Global Default Network          QAGENT   \n",
       "L            0  lab_2_IP9036  Global Default Network          QAGENT   \n",
       "N            1  lab_2_IP9036  Global Default Network          QAGENT   \n",
       "\n",
       "                      OS                 IP Status     QID  \\\n",
       "AV                                                           \n",
       "A   Ubuntu Linux 16.04.4  host scanned, found vuln  197995   \n",
       "L   Ubuntu Linux 16.04.4  host scanned, found vuln  197967   \n",
       "N   Ubuntu Linux 16.04.4  host scanned, found vuln  197742   \n",
       "\n",
       "                                                Title Vuln Status  Type  ...  \\\n",
       "AV                                                                       ...   \n",
       "A   Ubuntu Security Notification for Sane-backends...      Active  Vuln  ...   \n",
       "L   Ubuntu Security Notification for Grub2 Vulnera...      Active  Vuln  ...   \n",
       "N   Ubuntu Security Notification for Linux, Linux-...      Active  Vuln  ...   \n",
       "\n",
       "    CVSS3 AC  CVSS3 PR CVSS3 UI CVSS3 S CVSS3 C CVSS3 I CVSS3 A  CVSS3 E  \\\n",
       "AV                                                                         \n",
       "A          L         N        N       U       H       H       H        U   \n",
       "L          L         H        N       C       H       H       H        U   \n",
       "N          L         N        N       U       H       H       H        U   \n",
       "\n",
       "   CVSS3 RL CVSS3 RC  \n",
       "AV                    \n",
       "A         O        U  \n",
       "L         O        C  \n",
       "N         O        U  \n",
       "\n",
       "[3 rows x 52 columns]"
      ]
     },
     "execution_count": 62,
     "metadata": {},
     "output_type": "execute_result"
    }
   ],
   "source": [
    "avg.first()"
   ]
  },
  {
   "cell_type": "code",
   "execution_count": null,
   "id": "b49622ae",
   "metadata": {},
   "outputs": [],
   "source": []
  },
  {
   "cell_type": "code",
   "execution_count": 63,
   "id": "c057f793",
   "metadata": {},
   "outputs": [],
   "source": [
    "data['Threat'] = data['Threat'].str.lower()"
   ]
  },
  {
   "cell_type": "code",
   "execution_count": 64,
   "id": "e2637fe7",
   "metadata": {},
   "outputs": [
    {
     "data": {
      "text/plain": [
       "0    the grub2 boot loader is vulnerable to buffer ...\n",
       "1      it was discovered that a heap-based buffer o...\n",
       "2     it was discovered that libtiff incorrectly ha...\n",
       "3      it was discovered that a race condition exis...\n",
       "4    docker engine enables containerized applicatio...\n",
       "Name: Threat, dtype: object"
      ]
     },
     "execution_count": 64,
     "metadata": {},
     "output_type": "execute_result"
    }
   ],
   "source": [
    "data['Threat'].head()"
   ]
  },
  {
   "cell_type": "code",
   "execution_count": 65,
   "id": "657b53a7",
   "metadata": {},
   "outputs": [],
   "source": [
    "data['Impact'] = data['Impact'].str.lower()"
   ]
  },
  {
   "cell_type": "code",
   "execution_count": 66,
   "id": "74e1f1d0",
   "metadata": {},
   "outputs": [
    {
     "data": {
      "text/plain": [
       "0    successful exploitation allows attacker to exe...\n",
       "1       a physically proximate attacker could use t...\n",
       "2      if a user or automated system were tricked i...\n",
       "3       a local attacker could use this to gain adm...\n",
       "4    successful exploitation of this vulnerability ...\n",
       "Name: Impact, dtype: object"
      ]
     },
     "execution_count": 66,
     "metadata": {},
     "output_type": "execute_result"
    }
   ],
   "source": [
    "data['Impact'].head()"
   ]
  },
  {
   "cell_type": "code",
   "execution_count": 67,
   "id": "be149d79",
   "metadata": {},
   "outputs": [],
   "source": [
    "data['Exploitability'] = data['Exploitability'].str.lower()"
   ]
  },
  {
   "cell_type": "code",
   "execution_count": 68,
   "id": "59d81f04",
   "metadata": {},
   "outputs": [
    {
     "data": {
      "text/plain": [
       "0                                                      NaN\n",
       "1                                                      NaN\n",
       "2                                                      NaN\n",
       "3        source: the exploit-db_x005f_x000d_\\nreference...\n",
       "4        source: qualys_x005f_x000d_\\nreference:cve-201...\n",
       "                               ...                        \n",
       "69904                                                  NaN\n",
       "69905                                                  NaN\n",
       "69906                                                  NaN\n",
       "69907                                                  NaN\n",
       "69908                                                  NaN\n",
       "Name: Exploitability, Length: 69909, dtype: object"
      ]
     },
     "execution_count": 68,
     "metadata": {},
     "output_type": "execute_result"
    }
   ],
   "source": [
    "data['Exploitability']"
   ]
  },
  {
   "cell_type": "code",
   "execution_count": 69,
   "id": "88f0cb18",
   "metadata": {},
   "outputs": [
    {
     "data": {
      "text/plain": [
       "9702"
      ]
     },
     "execution_count": 69,
     "metadata": {},
     "output_type": "execute_result"
    }
   ],
   "source": [
    "data['Exploitability'].count()"
   ]
  },
  {
   "cell_type": "code",
   "execution_count": 70,
   "id": "4080ba6a",
   "metadata": {},
   "outputs": [
    {
     "name": "stderr",
     "output_type": "stream",
     "text": [
      "C:\\Users\\utkar\\AppData\\Local\\Temp\\ipykernel_13432\\77678499.py:1: FutureWarning: The default value of regex will change from True to False in a future version.\n",
      "  data[\"Impact\"] = data['Impact'].str.replace('[^\\w\\s]','')\n"
     ]
    }
   ],
   "source": [
    "data[\"Impact\"] = data['Impact'].str.replace('[^\\w\\s]','')"
   ]
  },
  {
   "cell_type": "code",
   "execution_count": 71,
   "id": "284fd905",
   "metadata": {},
   "outputs": [],
   "source": [
    "data['Impact'] = data['Impact'].replace(r'http\\S+', '', regex=True).replace(r'www\\S+', '', regex=True)"
   ]
  },
  {
   "cell_type": "code",
   "execution_count": 72,
   "id": "df4da279",
   "metadata": {},
   "outputs": [],
   "source": [
    "data['Threat'] = data['Threat'].replace(r'http\\S+', '', regex=True).replace(r'www\\S+', '', regex=True)"
   ]
  },
  {
   "cell_type": "code",
   "execution_count": 73,
   "id": "8fecd400",
   "metadata": {},
   "outputs": [
    {
     "data": {
      "text/plain": [
       "0    successful exploitation allows attacker to exe...\n",
       "1       a physically proximate attacker could use t...\n",
       "2      if a user or automated system were tricked i...\n",
       "3       a local attacker could use this to gain adm...\n",
       "4    successful exploitation of this vulnerability ...\n",
       "Name: Impact, dtype: object"
      ]
     },
     "execution_count": 73,
     "metadata": {},
     "output_type": "execute_result"
    }
   ],
   "source": [
    "data['Impact'].head()"
   ]
  },
  {
   "cell_type": "code",
   "execution_count": 74,
   "id": "4bde857a",
   "metadata": {},
   "outputs": [
    {
     "name": "stderr",
     "output_type": "stream",
     "text": [
      "C:\\Users\\utkar\\AppData\\Local\\Temp\\ipykernel_13432\\1039804244.py:1: FutureWarning: The default value of regex will change from True to False in a future version.\n",
      "  data[\"Threat\"] = data['Threat'].str.replace('[^\\w\\s]','')\n"
     ]
    }
   ],
   "source": [
    "data[\"Threat\"] = data['Threat'].str.replace('[^\\w\\s]','')"
   ]
  },
  {
   "cell_type": "code",
   "execution_count": 75,
   "id": "73784c72",
   "metadata": {},
   "outputs": [
    {
     "data": {
      "text/plain": [
       "0    the grub2 boot loader is vulnerable to buffer ...\n",
       "1      it was discovered that a heapbased buffer ov...\n",
       "2     it was discovered that libtiff incorrectly ha...\n",
       "3      it was discovered that a race condition exis...\n",
       "4    docker engine enables containerized applicatio...\n",
       "Name: Threat, dtype: object"
      ]
     },
     "execution_count": 75,
     "metadata": {},
     "output_type": "execute_result"
    }
   ],
   "source": [
    "data['Threat'].head()"
   ]
  },
  {
   "cell_type": "code",
   "execution_count": 76,
   "id": "979c3e10",
   "metadata": {},
   "outputs": [
    {
     "data": {
      "text/plain": [
       "count                                                 69909\n",
       "unique                                                 1124\n",
       "top       an ssl certificate associates an entity person...\n",
       "freq                                                   5391\n",
       "Name: Threat, dtype: object"
      ]
     },
     "execution_count": 76,
     "metadata": {},
     "output_type": "execute_result"
    }
   ],
   "source": [
    "data['Threat'].describe()"
   ]
  },
  {
   "cell_type": "code",
   "execution_count": 77,
   "id": "311f475b",
   "metadata": {},
   "outputs": [
    {
     "data": {
      "text/plain": [
       "count                                                 69409\n",
       "unique                                                  714\n",
       "top       by exploiting this vulnerability an attacker c...\n",
       "freq                                                   8128\n",
       "Name: Impact, dtype: object"
      ]
     },
     "execution_count": 77,
     "metadata": {},
     "output_type": "execute_result"
    }
   ],
   "source": [
    "data['Impact'].describe()"
   ]
  },
  {
   "cell_type": "code",
   "execution_count": 78,
   "id": "5499a7d4",
   "metadata": {},
   "outputs": [
    {
     "data": {
      "text/plain": [
       "count                                                  9702\n",
       "unique                                                  160\n",
       "top       source: the exploit-db_x005f_x000d_\\nreference...\n",
       "freq                                                   1180\n",
       "Name: Exploitability, dtype: object"
      ]
     },
     "execution_count": 78,
     "metadata": {},
     "output_type": "execute_result"
    }
   ],
   "source": [
    "data['Exploitability'].describe()"
   ]
  },
  {
   "cell_type": "code",
   "execution_count": 79,
   "id": "10402a1e",
   "metadata": {},
   "outputs": [
    {
     "data": {
      "text/plain": [
       "<bound method NDFrame.head of 0        successful exploitation allows attacker to exe...\n",
       "1           a physically proximate attacker could use t...\n",
       "2          if a user or automated system were tricked i...\n",
       "3           a local attacker could use this to gain adm...\n",
       "4        successful exploitation of this vulnerability ...\n",
       "                               ...                        \n",
       "69904    an attacker can exploit cryptographic flaws to...\n",
       "69905    an attacker can exploit cryptographic flaws to...\n",
       "69906    by exploiting this vulnerability an attacker c...\n",
       "69907    by exploiting this vulnerability an attacker c...\n",
       "69908    by exploiting this vulnerability an attacker c...\n",
       "Name: Impact, Length: 69909, dtype: object>"
      ]
     },
     "execution_count": 79,
     "metadata": {},
     "output_type": "execute_result"
    }
   ],
   "source": [
    "data['Impact'].dropna(inplace=True)\n",
    "data['Impact'] = data['Impact'].astype(str)\n",
    "data['Impact'].head"
   ]
  },
  {
   "cell_type": "code",
   "execution_count": 80,
   "id": "fc1e177e",
   "metadata": {},
   "outputs": [],
   "source": [
    "\n",
    "from nltk.tokenize import sent_tokenize, word_tokenize\n",
    "\n",
    "data['Impact']=data['Impact'].apply(word_tokenize)"
   ]
  },
  {
   "cell_type": "code",
   "execution_count": 81,
   "id": "af3bef12",
   "metadata": {},
   "outputs": [
    {
     "data": {
      "text/plain": [
       "0    [successful, exploitation, allows, attacker, t...\n",
       "1    [a, physically, proximate, attacker, could, us...\n",
       "2    [if, a, user, or, automated, system, were, tri...\n",
       "3    [a, local, attacker, could, use, this, to, gai...\n",
       "4    [successful, exploitation, of, this, vulnerabi...\n",
       "Name: Impact, dtype: object"
      ]
     },
     "execution_count": 81,
     "metadata": {},
     "output_type": "execute_result"
    }
   ],
   "source": [
    "data['Impact'].head()"
   ]
  },
  {
   "cell_type": "code",
   "execution_count": 82,
   "id": "cd060a73",
   "metadata": {},
   "outputs": [],
   "source": [
    "data['Threat']=data['Threat'].apply(word_tokenize)"
   ]
  },
  {
   "cell_type": "code",
   "execution_count": 83,
   "id": "a743993a",
   "metadata": {},
   "outputs": [
    {
     "data": {
      "text/plain": [
       "0    [the, grub2, boot, loader, is, vulnerable, to,...\n",
       "1    [it, was, discovered, that, a, heapbased, buff...\n",
       "2    [it, was, discovered, that, libtiff, incorrect...\n",
       "3    [it, was, discovered, that, a, race, condition...\n",
       "4    [docker, engine, enables, containerized, appli...\n",
       "Name: Threat, dtype: object"
      ]
     },
     "execution_count": 83,
     "metadata": {},
     "output_type": "execute_result"
    }
   ],
   "source": [
    "data['Threat'].head()"
   ]
  },
  {
   "cell_type": "code",
   "execution_count": 84,
   "id": "d9f5626c",
   "metadata": {},
   "outputs": [
    {
     "data": {
      "text/plain": [
       "[by, exploiting, this, vulnerability, an, attacker, can, launch, a, maninthemiddle, attack]                                                                                                                                                                                                                                                                                                                                                                                   8128\n",
       "[by, exploiting, this, vulnerability, maninthemiddle, attacks, in, tandem, with, dns, cache, poisoning, can, occur, exception, if, the, server, communicates, only, with, a, restricted, set, of, clients, who, have, the, server, certificate, or, the, trusted, ca, certificate, then, the, server, or, ca, certificate, may, not, be, available, publicly, and, the, scan, will, be, unable, to, verify, the, signature]                                                   5391\n",
       "[a, maninthemiddle, attacker, can, exploit, this, vulnerability, in, tandem, with, a, dns, cache, poisoning, attack, to, lure, the, client, to, another, server, and, then, steal, all, the, encryption, communication]                                                                                                                                                                                                                                                       4296\n",
       "[a, malicious, individual, can, easily, intercept, unencrypted, passwords, during, transmission, using, a, network, sniffer, and, use, this, data, to, gain, unauthorized, access]                                                                                                                                                                                                                                                                                            3989\n",
       "[an, attacker, can, exploit, cryptographic, flaws, to, conduct, maninthemiddle, type, attacks, or, to, decryption, communications, for, example, an, attacker, could, force, a, downgrade, from, the, tls, protocol, to, the, older, sslv30, protocol, and, exploit, the, poodle, vulnerability, read, secure, communications, or, maliciously, modify, messages, a, poodletype, attack, could, also, be, launched, directly, at, tls, without, negotiating, a, downgrade]    3389\n",
       "                                                                                                                                                                                                                                                                                                                                                                                                                                                                              ... \n",
       "[a, local, attacker, could, possibly, use, this, issue, to, escalate, privileges]                                                                                                                                                                                                                                                                                                                                                                                                1\n",
       "[a, successful, exploit, may, allow, an, attacker, to, bypass, the, secure, boot, process, and, execute, malicious, code, on, an, affected, device, with, rootlevel, privileges]                                                                                                                                                                                                                                                                                                 1\n",
       "[if, a, user, or, automated, system, were, tricked, into, using, a, speciallycrafted, scp, command, a, remote, attacker, could, execute, arbitrary, commands, on, the, server]                                                                                                                                                                                                                                                                                                   1\n",
       "[a, remote, attacker, could, possibly, use, this, issue, to, perform, http, request, smuggling, attacks, and, access, resources, contrary, to, expectations]                                                                                                                                                                                                                                                                                                                     1\n",
       "[a, remote, attacker, could, use, this, issue, to, cause, zeromq, to, crash, or, possibly, execute, arbitrary, code]                                                                                                                                                                                                                                                                                                                                                             1\n",
       "Name: Impact, Length: 706, dtype: int64"
      ]
     },
     "execution_count": 84,
     "metadata": {},
     "output_type": "execute_result"
    }
   ],
   "source": [
    "data['Impact'].value_counts()"
   ]
  },
  {
   "cell_type": "markdown",
   "id": "69ca13fd",
   "metadata": {},
   "source": [
    "# Removing stop words"
   ]
  },
  {
   "cell_type": "code",
   "execution_count": null,
   "id": "380696fb",
   "metadata": {},
   "outputs": [],
   "source": [
    "from nltk.corpus import stopwords\n",
    "\n",
    "stop = stopwords.words('english')\n",
    "new_stopwords = [\"id\", \"from\", \"could\", \"use\", \"also\",\"Many\",\"like\",\"May\",\"may\",\"ca\",\"even\",\"ect\",\"i.e\"]\n",
    "stop.extend(new_stopwords)\n",
    "\n",
    "data['Impact']=data['Impact'].apply(lambda x: [item for item in x if item not in stop])"
   ]
  },
  {
   "cell_type": "code",
   "execution_count": null,
   "id": "bad0407b",
   "metadata": {},
   "outputs": [],
   "source": [
    "data['Impact'].head()"
   ]
  },
  {
   "cell_type": "markdown",
   "id": "a3e37a1a",
   "metadata": {},
   "source": [
    "# Removing stop words"
   ]
  },
  {
   "cell_type": "code",
   "execution_count": null,
   "id": "84b79487",
   "metadata": {},
   "outputs": [],
   "source": [
    "from nltk.corpus import stopwords\n",
    "\n",
    "stop = stopwords.words('english')\n",
    "new_stopwords = [\"id\", \"from\", \"could\", \"use\", \"also\",\"Many\",\"like\",\"May\",\"may\",\"ca\",\"even\",\"ect\",\"i.e\"]\n",
    "stop.extend(new_stopwords)\n",
    "\n",
    "data['Threat']=data['Threat'].apply(lambda x: [item for item in x if item not in stop])"
   ]
  },
  {
   "cell_type": "code",
   "execution_count": null,
   "id": "79c62283",
   "metadata": {},
   "outputs": [],
   "source": [
    "data['Threat'].head()"
   ]
  },
  {
   "cell_type": "code",
   "execution_count": null,
   "id": "db29b2b1",
   "metadata": {},
   "outputs": [],
   "source": [
    "result = data['Impact'].value_counts()"
   ]
  },
  {
   "cell_type": "code",
   "execution_count": null,
   "id": "8bc21412",
   "metadata": {},
   "outputs": [],
   "source": [
    "print(result)"
   ]
  },
  {
   "cell_type": "code",
   "execution_count": null,
   "id": "6c18b6b8",
   "metadata": {},
   "outputs": [],
   "source": [
    "avg['Impact'].first()"
   ]
  },
  {
   "cell_type": "code",
   "execution_count": null,
   "id": "1f97f1d5",
   "metadata": {},
   "outputs": [],
   "source": [
    "data['CVSS_range'] = pd.cut(data['CVSS'], [0.0,3.9,6.9,10], right=True,labels=('LOW','MEDIEM','HIGH'))"
   ]
  },
  {
   "cell_type": "code",
   "execution_count": null,
   "id": "20794fa2",
   "metadata": {},
   "outputs": [],
   "source": [
    "data['CVSS_range'].head(10)"
   ]
  },
  {
   "cell_type": "code",
   "execution_count": null,
   "id": "19a0d7a1",
   "metadata": {},
   "outputs": [],
   "source": [
    "avg=data.groupby(['AV','CVSS_range'])"
   ]
  },
  {
   "cell_type": "code",
   "execution_count": null,
   "id": "1f779078",
   "metadata": {},
   "outputs": [],
   "source": [
    "avg.first()"
   ]
  },
  {
   "cell_type": "code",
   "execution_count": null,
   "id": "706838ef",
   "metadata": {},
   "outputs": [],
   "source": [
    "avg['Threat'].first()"
   ]
  },
  {
   "cell_type": "markdown",
   "id": "d628119f",
   "metadata": {},
   "source": [
    "array = np.array(data['Impact'])\n",
    "tuple(data['Threat'])"
   ]
  },
  {
   "cell_type": "markdown",
   "id": "819a2c23",
   "metadata": {},
   "source": [
    "strr=data['Threat'].to_string(index = False)"
   ]
  },
  {
   "cell_type": "markdown",
   "id": "a95b90d2",
   "metadata": {},
   "source": [
    "# Term frequency using self defined function"
   ]
  },
  {
   "cell_type": "code",
   "execution_count": null,
   "id": "244dd03a",
   "metadata": {},
   "outputs": [],
   "source": [
    "def unnesting(df, explode):\n",
    "    idx=df.index.repeat(df[explode[0]].str.len())\n",
    "    df1=pd.concat([pd.DataFrame({x:np.concatenate(df[x].values)})for x in explode],axis=1)\n",
    "    df1.index=idx\n",
    "    return df1.join(df.drop(explode,1),how='left')"
   ]
  },
  {
   "cell_type": "code",
   "execution_count": null,
   "id": "33ac6145",
   "metadata": {},
   "outputs": [],
   "source": [
    "df = pd.DataFrame()"
   ]
  },
  {
   "cell_type": "markdown",
   "id": "00c9354a",
   "metadata": {},
   "source": [
    "## ----------------------------------------------------------------------------------------------------------------------------------"
   ]
  },
  {
   "cell_type": "code",
   "execution_count": null,
   "id": "4c18eb75",
   "metadata": {},
   "outputs": [],
   "source": [
    "data['Threat'].head()"
   ]
  },
  {
   "cell_type": "code",
   "execution_count": null,
   "id": "7bcd1cb6",
   "metadata": {},
   "outputs": [],
   "source": [
    "import nltk, re, string, collections"
   ]
  },
  {
   "cell_type": "markdown",
   "id": "42e4ffa5",
   "metadata": {},
   "source": [
    "# Bigrams"
   ]
  },
  {
   "cell_type": "code",
   "execution_count": null,
   "id": "d5d54341",
   "metadata": {},
   "outputs": [],
   "source": [
    "from nltk.util import ngrams\n",
    "\n",
    "data['Threat-bigrams'] = data['Threat'].apply(lambda row: tuple(nltk.bigrams(row)))\n",
    "data['Threat-bigrams'].head()"
   ]
  },
  {
   "cell_type": "code",
   "execution_count": null,
   "id": "4f828555",
   "metadata": {},
   "outputs": [],
   "source": [
    "from nltk.util import ngrams\n",
    "\n",
    "data['Impact-bigrams'] = data['Impact'].apply(lambda row: tuple(nltk.ngrams(row, 2)))  \n",
    "data['Impact-bigrams'].head()"
   ]
  },
  {
   "cell_type": "markdown",
   "id": "3f9b0051",
   "metadata": {},
   "source": [
    "df['Threat-bigrams-Tf']=unnesting(data,['Threat-bigrams'])['Threat-bigrams'].value_counts()"
   ]
  },
  {
   "cell_type": "markdown",
   "id": "39c9d3a2",
   "metadata": {},
   "source": [
    "word_dist = nltk.FreqDist([' '.join(x) for x in data['Threat-bigrams']])\n",
    "rslt = pd.DataFrame(word_dist.most_common(top_N),\n",
    "                columns=['Word', 'Frequency'])\n",
    "rslt['Comment Author'] = data['Threat-bigrams']\n",
    "rslt['Location'] = df['Location']\n",
    "print(rslt)"
   ]
  },
  {
   "cell_type": "code",
   "execution_count": null,
   "id": "7492a68a",
   "metadata": {},
   "outputs": [],
   "source": [
    "data['Impact-bigrams'].head()"
   ]
  },
  {
   "cell_type": "code",
   "execution_count": null,
   "id": "985be94f",
   "metadata": {},
   "outputs": [],
   "source": [
    "#df['Threat-bigrams-Tf']=unnesting(data,['Threat-bigrams'])['Threat-bigrams'].value_counts()"
   ]
  },
  {
   "cell_type": "code",
   "execution_count": null,
   "id": "beceb9bd",
   "metadata": {},
   "outputs": [],
   "source": [
    "df1=pd.DataFrame"
   ]
  },
  {
   "cell_type": "code",
   "execution_count": null,
   "id": "28044d01",
   "metadata": {},
   "outputs": [],
   "source": [
    "data['Impact'].head()"
   ]
  },
  {
   "cell_type": "code",
   "execution_count": null,
   "id": "40df4341",
   "metadata": {},
   "outputs": [],
   "source": [
    "data.to_excel(r'C:\\Users\\utkar\\OneDrive\\Desktop\\EDA_project\\Text Mined Datasets\\Bigram\\Bigram.xlsx')"
   ]
  },
  {
   "cell_type": "code",
   "execution_count": null,
   "id": "cce4f086",
   "metadata": {},
   "outputs": [],
   "source": [
    "#df1.to_excel(r'C:\\Users\\utkar\\OneDrive\\Desktop\\EDA_project\\Testing.xlsx')"
   ]
  },
  {
   "cell_type": "code",
   "execution_count": null,
   "id": "f4564235",
   "metadata": {},
   "outputs": [],
   "source": []
  },
  {
   "cell_type": "code",
   "execution_count": null,
   "id": "02d644c2",
   "metadata": {},
   "outputs": [],
   "source": []
  }
 ],
 "metadata": {
  "kernelspec": {
   "display_name": "Python 3 (ipykernel)",
   "language": "python",
   "name": "python3"
  },
  "language_info": {
   "codemirror_mode": {
    "name": "ipython",
    "version": 3
   },
   "file_extension": ".py",
   "mimetype": "text/x-python",
   "name": "python",
   "nbconvert_exporter": "python",
   "pygments_lexer": "ipython3",
   "version": "3.9.13"
  }
 },
 "nbformat": 4,
 "nbformat_minor": 5
}
