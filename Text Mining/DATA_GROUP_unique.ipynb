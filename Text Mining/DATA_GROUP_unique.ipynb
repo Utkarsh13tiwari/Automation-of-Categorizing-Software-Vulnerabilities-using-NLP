{
 "cells": [
  {
   "cell_type": "code",
   "execution_count": 1,
   "id": "83953159",
   "metadata": {},
   "outputs": [],
   "source": [
    "import pandas as pd\n",
    "import seaborn as sns\n",
    "import matplotlib.pyplot as plt\n",
    "import numpy as np"
   ]
  },
  {
   "cell_type": "code",
   "execution_count": 2,
   "id": "0d09671a",
   "metadata": {},
   "outputs": [],
   "source": [
    "data=pd.read_excel(r'C:\\Users\\utkar\\OneDrive\\Desktop\\EDA_project\\Data_set\\Split_data_final.xlsx', sheet_name ='Sheet1') "
   ]
  },
  {
   "cell_type": "code",
   "execution_count": 3,
   "id": "3a8ba2fb",
   "metadata": {},
   "outputs": [],
   "source": [
    "data_a=pd.DataFrame()"
   ]
  },
  {
   "cell_type": "code",
   "execution_count": 4,
   "id": "5c765ca9",
   "metadata": {},
   "outputs": [],
   "source": [
    "data_l=pd.DataFrame()"
   ]
  },
  {
   "cell_type": "code",
   "execution_count": 5,
   "id": "53595348",
   "metadata": {},
   "outputs": [],
   "source": [
    "data_n=pd.DataFrame()"
   ]
  },
  {
   "cell_type": "code",
   "execution_count": 7,
   "id": "45045091",
   "metadata": {},
   "outputs": [],
   "source": [
    "data_a=data.loc[data['AV'] == 'A']"
   ]
  },
  {
   "cell_type": "code",
   "execution_count": 9,
   "id": "75680858",
   "metadata": {},
   "outputs": [],
   "source": [
    "data_l=data.loc[data['AV'] == 'L']"
   ]
  },
  {
   "cell_type": "code",
   "execution_count": 10,
   "id": "3ba59d96",
   "metadata": {},
   "outputs": [],
   "source": [
    "data_n=data.loc[data['AV'] == 'N']"
   ]
  },
  {
   "cell_type": "code",
   "execution_count": 11,
   "id": "8da5514b",
   "metadata": {},
   "outputs": [
    {
     "data": {
      "text/plain": [
       "27"
      ]
     },
     "execution_count": 11,
     "metadata": {},
     "output_type": "execute_result"
    }
   ],
   "source": [
    "data_a[\"Threat\"].nunique()"
   ]
  },
  {
   "cell_type": "code",
   "execution_count": 12,
   "id": "e78b0e18",
   "metadata": {},
   "outputs": [
    {
     "data": {
      "text/plain": [
       "224"
      ]
     },
     "execution_count": 12,
     "metadata": {},
     "output_type": "execute_result"
    }
   ],
   "source": [
    "data_l[\"Threat\"].nunique()"
   ]
  },
  {
   "cell_type": "code",
   "execution_count": 13,
   "id": "5b6ee341",
   "metadata": {},
   "outputs": [
    {
     "data": {
      "text/plain": [
       "883"
      ]
     },
     "execution_count": 13,
     "metadata": {},
     "output_type": "execute_result"
    }
   ],
   "source": [
    "data_n[\"Threat\"].nunique()"
   ]
  },
  {
   "cell_type": "code",
   "execution_count": 16,
   "id": "abf3d405",
   "metadata": {},
   "outputs": [
    {
     "data": {
      "text/plain": [
       "(294, 53)"
      ]
     },
     "execution_count": 16,
     "metadata": {},
     "output_type": "execute_result"
    }
   ],
   "source": [
    "data_a.shape"
   ]
  },
  {
   "cell_type": "code",
   "execution_count": 18,
   "id": "c0447be3",
   "metadata": {},
   "outputs": [
    {
     "data": {
      "text/plain": [
       "(7094, 53)"
      ]
     },
     "execution_count": 18,
     "metadata": {},
     "output_type": "execute_result"
    }
   ],
   "source": [
    "data_l.shape"
   ]
  },
  {
   "cell_type": "code",
   "execution_count": 19,
   "id": "e7d09627",
   "metadata": {},
   "outputs": [
    {
     "data": {
      "text/plain": [
       "(62521, 53)"
      ]
     },
     "execution_count": 19,
     "metadata": {},
     "output_type": "execute_result"
    }
   ],
   "source": [
    "data_n.shape"
   ]
  },
  {
   "cell_type": "markdown",
   "id": "23bdcd1a",
   "metadata": {},
   "source": [
    "# Threat unique values"
   ]
  },
  {
   "cell_type": "code",
   "execution_count": 27,
   "id": "23e974eb",
   "metadata": {},
   "outputs": [
    {
     "data": {
      "text/plain": [
       "22"
      ]
     },
     "execution_count": 27,
     "metadata": {},
     "output_type": "execute_result"
    }
   ],
   "source": [
    "data_a[\"Impact\"].nunique()"
   ]
  },
  {
   "cell_type": "code",
   "execution_count": 28,
   "id": "0f1f9e48",
   "metadata": {},
   "outputs": [
    {
     "data": {
      "text/plain": [
       "125"
      ]
     },
     "execution_count": 28,
     "metadata": {},
     "output_type": "execute_result"
    }
   ],
   "source": [
    "data_l[\"Impact\"].nunique()"
   ]
  },
  {
   "cell_type": "code",
   "execution_count": 29,
   "id": "e1ea4233",
   "metadata": {},
   "outputs": [
    {
     "data": {
      "text/plain": [
       "590"
      ]
     },
     "execution_count": 29,
     "metadata": {},
     "output_type": "execute_result"
    }
   ],
   "source": [
    "data_n[\"Impact\"].nunique()"
   ]
  },
  {
   "cell_type": "code",
   "execution_count": null,
   "id": "3b4a4266",
   "metadata": {},
   "outputs": [],
   "source": []
  }
 ],
 "metadata": {
  "kernelspec": {
   "display_name": "Python 3",
   "language": "python",
   "name": "python3"
  },
  "language_info": {
   "codemirror_mode": {
    "name": "ipython",
    "version": 3
   },
   "file_extension": ".py",
   "mimetype": "text/x-python",
   "name": "python",
   "nbconvert_exporter": "python",
   "pygments_lexer": "ipython3",
   "version": "3.6.13"
  }
 },
 "nbformat": 4,
 "nbformat_minor": 5
}
