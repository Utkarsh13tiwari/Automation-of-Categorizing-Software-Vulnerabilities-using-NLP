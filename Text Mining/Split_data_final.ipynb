{
 "cells": [
  {
   "cell_type": "code",
   "execution_count": 175,
   "id": "cda266ab",
   "metadata": {},
   "outputs": [],
   "source": [
    "import pandas as pd\n",
    "import numpy as np"
   ]
  },
  {
   "cell_type": "code",
   "execution_count": 176,
   "id": "3153d960",
   "metadata": {},
   "outputs": [],
   "source": [
    "data=pd.read_excel('Software_Vuln_Data.xlsx', sheet_name ='vuln') # Reading data "
   ]
  },
  {
   "cell_type": "markdown",
   "id": "b37cb7fa",
   "metadata": {},
   "source": [
    "# Using replace() function to clean"
   ]
  },
  {
   "cell_type": "markdown",
   "id": "523321fa",
   "metadata": {},
   "source": [
    "CVSS BASE"
   ]
  },
  {
   "cell_type": "code",
   "execution_count": 177,
   "id": "e08af3ba",
   "metadata": {},
   "outputs": [
    {
     "name": "stderr",
     "output_type": "stream",
     "text": [
      "C:\\Users\\utkar\\AppData\\Local\\Temp\\ipykernel_24020\\358892925.py:1: FutureWarning: The default value of regex will change from True to False in a future version.\n",
      "  data['CVSS Base'] = data['CVSS Base'].str.replace('\\d+','')\n",
      "C:\\Users\\utkar\\AppData\\Local\\Temp\\ipykernel_24020\\358892925.py:2: FutureWarning: The default value of regex will change from True to False in a future version. In addition, single character regular expressions will *not* be treated as literal strings when regex=True.\n",
      "  data['CVSS Base'] = data['CVSS Base'].str.replace('.','')\n",
      "C:\\Users\\utkar\\AppData\\Local\\Temp\\ipykernel_24020\\358892925.py:3: FutureWarning: The default value of regex will change from True to False in a future version. In addition, single character regular expressions will *not* be treated as literal strings when regex=True.\n",
      "  data['CVSS Base'] = data['CVSS Base'].str.replace('(','')\n",
      "C:\\Users\\utkar\\AppData\\Local\\Temp\\ipykernel_24020\\358892925.py:4: FutureWarning: The default value of regex will change from True to False in a future version. In addition, single character regular expressions will *not* be treated as literal strings when regex=True.\n",
      "  data['CVSS Base'] = data['CVSS Base'].str.replace(')','')\n"
     ]
    }
   ],
   "source": [
    "data['CVSS Base'] = data['CVSS Base'].str.replace('\\d+','')\n",
    "data['CVSS Base'] = data['CVSS Base'].str.replace('.','')\n",
    "data['CVSS Base'] = data['CVSS Base'].str.replace('(','')\n",
    "data['CVSS Base'] = data['CVSS Base'].str.replace(')','')"
   ]
  },
  {
   "cell_type": "code",
   "execution_count": 178,
   "id": "ddb90d8d",
   "metadata": {},
   "outputs": [],
   "source": [
    "Cvss_split = data['CVSS Base'].str.split(\"/\",n=10, expand = True)"
   ]
  },
  {
   "cell_type": "code",
   "execution_count": 179,
   "id": "1a472494",
   "metadata": {},
   "outputs": [
    {
     "name": "stdout",
     "output_type": "stream",
     "text": [
      "           0     1     2    3    4    5\n",
      "0       AV:L  AC:L  Au:N  C:P  I:P  A:P\n",
      "1       AV:N  AC:L  Au:N  C:C  I:C  A:C\n",
      "2       AV:N  AC:M  Au:N  C:P  I:P  A:P\n",
      "3       AV:L  AC:L  Au:N  C:C  I:C  A:C\n",
      "4       AV:L  AC:L  Au:N  C:P  I:P  A:P\n",
      "...      ...   ...   ...  ...  ...  ...\n",
      "69904   AV:N  AC:M  Au:N  C:P  I:N  A:N\n",
      "69905   AV:N  AC:M  Au:N  C:P  I:N  A:N\n",
      "69906   AV:N  AC:L  Au:N  C:P  I:P  A:N\n",
      "69907   AV:N  AC:L  Au:N  C:P  I:P  A:N\n",
      "69908   AV:N  AC:L  Au:N  C:P  I:P  A:N\n",
      "\n",
      "[69909 rows x 6 columns]\n"
     ]
    }
   ],
   "source": [
    "print(Cvss_split)"
   ]
  },
  {
   "cell_type": "code",
   "execution_count": 180,
   "id": "f7902215",
   "metadata": {},
   "outputs": [],
   "source": [
    "data[\"AV\"]= Cvss_split[0]\n",
    "data[\"AC\"]= Cvss_split[1]\n",
    "data[\"AU\"]= Cvss_split[2]\n",
    "data[\"C\"]= Cvss_split[3]\n",
    "data[\"I\"]= Cvss_split[4]\n",
    "data[\"A\"]= Cvss_split[5]"
   ]
  },
  {
   "cell_type": "code",
   "execution_count": 181,
   "id": "1f58bfc5",
   "metadata": {},
   "outputs": [
    {
     "name": "stdout",
     "output_type": "stream",
     "text": [
      "0         AV:L\n",
      "1         AV:N\n",
      "2         AV:N\n",
      "3         AV:L\n",
      "4         AV:L\n",
      "         ...  \n",
      "69904     AV:N\n",
      "69905     AV:N\n",
      "69906     AV:N\n",
      "69907     AV:N\n",
      "69908     AV:N\n",
      "Name: AV, Length: 69909, dtype: object\n"
     ]
    }
   ],
   "source": [
    "print(data[\"AV\"])"
   ]
  },
  {
   "cell_type": "code",
   "execution_count": 182,
   "id": "412fc42f",
   "metadata": {},
   "outputs": [],
   "source": [
    "Cvss_AV = data['AV'].str.split(\":\",n=1, expand = True)"
   ]
  },
  {
   "cell_type": "code",
   "execution_count": 183,
   "id": "aabf3a8f",
   "metadata": {},
   "outputs": [
    {
     "name": "stdout",
     "output_type": "stream",
     "text": [
      "         0  1\n",
      "0       AV  L\n",
      "1       AV  N\n",
      "2       AV  N\n",
      "3       AV  L\n",
      "4       AV  L\n",
      "...    ... ..\n",
      "69904   AV  N\n",
      "69905   AV  N\n",
      "69906   AV  N\n",
      "69907   AV  N\n",
      "69908   AV  N\n",
      "\n",
      "[69909 rows x 2 columns]\n"
     ]
    }
   ],
   "source": [
    "print(Cvss_AV)"
   ]
  },
  {
   "cell_type": "code",
   "execution_count": 184,
   "id": "b4ad0e83",
   "metadata": {},
   "outputs": [],
   "source": [
    "data[\"AV\"] = Cvss_AV[1]"
   ]
  },
  {
   "cell_type": "code",
   "execution_count": 185,
   "id": "e3e5e65b",
   "metadata": {},
   "outputs": [],
   "source": [
    "Cvss_AC = data['AC'].str.split(\":\",n=1, expand = True)"
   ]
  },
  {
   "cell_type": "code",
   "execution_count": 186,
   "id": "8c3d3b79",
   "metadata": {},
   "outputs": [
    {
     "name": "stdout",
     "output_type": "stream",
     "text": [
      "        0  1\n",
      "0      AC  L\n",
      "1      AC  L\n",
      "2      AC  M\n",
      "3      AC  L\n",
      "4      AC  L\n",
      "...    .. ..\n",
      "69904  AC  M\n",
      "69905  AC  M\n",
      "69906  AC  L\n",
      "69907  AC  L\n",
      "69908  AC  L\n",
      "\n",
      "[69909 rows x 2 columns]\n"
     ]
    }
   ],
   "source": [
    "print(Cvss_AC)"
   ]
  },
  {
   "cell_type": "code",
   "execution_count": 187,
   "id": "282afd8e",
   "metadata": {},
   "outputs": [],
   "source": [
    "data[\"AC\"] = Cvss_AC[1]"
   ]
  },
  {
   "cell_type": "code",
   "execution_count": 188,
   "id": "1d109f09",
   "metadata": {},
   "outputs": [
    {
     "name": "stdout",
     "output_type": "stream",
     "text": [
      "0        L\n",
      "1        L\n",
      "2        M\n",
      "3        L\n",
      "4        L\n",
      "        ..\n",
      "69904    M\n",
      "69905    M\n",
      "69906    L\n",
      "69907    L\n",
      "69908    L\n",
      "Name: AC, Length: 69909, dtype: object\n"
     ]
    }
   ],
   "source": [
    "print(data[\"AC\"])"
   ]
  },
  {
   "cell_type": "code",
   "execution_count": 189,
   "id": "f8134b99",
   "metadata": {},
   "outputs": [],
   "source": [
    "Cvss_AU = data['AU'].str.split(\":\",n=1, expand = True)"
   ]
  },
  {
   "cell_type": "code",
   "execution_count": 190,
   "id": "9065cc73",
   "metadata": {},
   "outputs": [],
   "source": [
    "data[\"AU\"] = Cvss_AU[1]"
   ]
  },
  {
   "cell_type": "code",
   "execution_count": 191,
   "id": "b4531855",
   "metadata": {},
   "outputs": [
    {
     "name": "stdout",
     "output_type": "stream",
     "text": [
      "0        N\n",
      "1        N\n",
      "2        N\n",
      "3        N\n",
      "4        N\n",
      "        ..\n",
      "69904    N\n",
      "69905    N\n",
      "69906    N\n",
      "69907    N\n",
      "69908    N\n",
      "Name: AU, Length: 69909, dtype: object\n"
     ]
    }
   ],
   "source": [
    "print(data[\"AU\"])"
   ]
  },
  {
   "cell_type": "code",
   "execution_count": 192,
   "id": "4d89f878",
   "metadata": {},
   "outputs": [],
   "source": [
    "Cvss_C = data['C'].str.split(\":\",n=1, expand = True)\n",
    "Cvss_I = data['I'].str.split(\":\",n=1, expand = True)\n",
    "Cvss_A = data['A'].str.split(\":\",n=1, expand = True)"
   ]
  },
  {
   "cell_type": "code",
   "execution_count": 193,
   "id": "69f3f4f1",
   "metadata": {},
   "outputs": [],
   "source": [
    "data[\"C\"] = Cvss_C[1]\n",
    "data[\"I\"] = Cvss_I[1]\n",
    "data[\"A\"] = Cvss_A[1]"
   ]
  },
  {
   "cell_type": "code",
   "execution_count": 194,
   "id": "05944d95",
   "metadata": {},
   "outputs": [
    {
     "name": "stdout",
     "output_type": "stream",
     "text": [
      "0        P\n",
      "1        C\n",
      "2        P\n",
      "3        C\n",
      "4        P\n",
      "        ..\n",
      "69904    N\n",
      "69905    N\n",
      "69906    N\n",
      "69907    N\n",
      "69908    N\n",
      "Name: A, Length: 69909, dtype: object\n"
     ]
    }
   ],
   "source": [
    "print(data[\"A\"])"
   ]
  },
  {
   "cell_type": "markdown",
   "id": "a2393202",
   "metadata": {},
   "source": [
    "# CVSS Temporal"
   ]
  },
  {
   "cell_type": "code",
   "execution_count": 195,
   "id": "0eab0d3c",
   "metadata": {},
   "outputs": [
    {
     "name": "stderr",
     "output_type": "stream",
     "text": [
      "C:\\Users\\utkar\\AppData\\Local\\Temp\\ipykernel_24020\\1424091098.py:1: FutureWarning: The default value of regex will change from True to False in a future version.\n",
      "  data['CVSS Temporal'] = data['CVSS Temporal'].str.replace('\\d+','')\n",
      "C:\\Users\\utkar\\AppData\\Local\\Temp\\ipykernel_24020\\1424091098.py:2: FutureWarning: The default value of regex will change from True to False in a future version. In addition, single character regular expressions will *not* be treated as literal strings when regex=True.\n",
      "  data['CVSS Temporal'] = data['CVSS Temporal'].str.replace('.','')\n",
      "C:\\Users\\utkar\\AppData\\Local\\Temp\\ipykernel_24020\\1424091098.py:3: FutureWarning: The default value of regex will change from True to False in a future version. In addition, single character regular expressions will *not* be treated as literal strings when regex=True.\n",
      "  data['CVSS Temporal'] = data['CVSS Temporal'].str.replace('(','')\n",
      "C:\\Users\\utkar\\AppData\\Local\\Temp\\ipykernel_24020\\1424091098.py:4: FutureWarning: The default value of regex will change from True to False in a future version. In addition, single character regular expressions will *not* be treated as literal strings when regex=True.\n",
      "  data['CVSS Temporal'] = data['CVSS Temporal'].str.replace(')','')\n"
     ]
    }
   ],
   "source": [
    "data['CVSS Temporal'] = data['CVSS Temporal'].str.replace('\\d+','')\n",
    "data['CVSS Temporal'] = data['CVSS Temporal'].str.replace('.','')\n",
    "data['CVSS Temporal'] = data['CVSS Temporal'].str.replace('(','')\n",
    "data['CVSS Temporal'] = data['CVSS Temporal'].str.replace(')','')"
   ]
  },
  {
   "cell_type": "code",
   "execution_count": 196,
   "id": "c74bf0a3",
   "metadata": {},
   "outputs": [],
   "source": [
    "Temporal_split = data['CVSS Temporal'].str.split(\"/\",n=10, expand = True)\n",
    "data[\"E\"]=Temporal_split[0]\n",
    "data[\"RL\"]=Temporal_split[1]\n",
    "data[\"RC\"]=Temporal_split[2]"
   ]
  },
  {
   "cell_type": "code",
   "execution_count": 197,
   "id": "4aa4f731",
   "metadata": {},
   "outputs": [],
   "source": [
    "Cvss_E = data['E'].str.split(\":\",n=1, expand = True)\n",
    "Cvss_RL = data['RL'].str.split(\":\",n=1, expand = True)\n",
    "Cvss_RC = data['RC'].str.split(\":\",n=1, expand = True)"
   ]
  },
  {
   "cell_type": "code",
   "execution_count": 198,
   "id": "41fec493",
   "metadata": {},
   "outputs": [],
   "source": [
    "data[\"E\"] = Cvss_E[1]\n",
    "data[\"RL\"] = Cvss_RL[1]\n",
    "data[\"RC\"] = Cvss_RC[1]"
   ]
  },
  {
   "cell_type": "code",
   "execution_count": 199,
   "id": "48881e28",
   "metadata": {},
   "outputs": [
    {
     "name": "stdout",
     "output_type": "stream",
     "text": [
      "0         C\n",
      "1         C\n",
      "2         C\n",
      "3         C\n",
      "4         C\n",
      "         ..\n",
      "69904     C\n",
      "69905     C\n",
      "69906    UC\n",
      "69907    UC\n",
      "69908    UC\n",
      "Name: RC, Length: 69909, dtype: object\n"
     ]
    }
   ],
   "source": [
    "print(data[\"RC\"])"
   ]
  },
  {
   "cell_type": "markdown",
   "id": "36066d51",
   "metadata": {},
   "source": [
    "# CVSS3 \n"
   ]
  },
  {
   "cell_type": "code",
   "execution_count": 200,
   "id": "e5e2cecb",
   "metadata": {},
   "outputs": [
    {
     "name": "stderr",
     "output_type": "stream",
     "text": [
      "C:\\Users\\utkar\\AppData\\Local\\Temp\\ipykernel_24020\\3952777918.py:1: FutureWarning: The default value of regex will change from True to False in a future version.\n",
      "  data['CVSS3 Base'] = data['CVSS3 Base'].str.replace('\\d+','')\n",
      "C:\\Users\\utkar\\AppData\\Local\\Temp\\ipykernel_24020\\3952777918.py:2: FutureWarning: The default value of regex will change from True to False in a future version. In addition, single character regular expressions will *not* be treated as literal strings when regex=True.\n",
      "  data['CVSS3 Base'] = data['CVSS3 Base'].str.replace('.','')\n",
      "C:\\Users\\utkar\\AppData\\Local\\Temp\\ipykernel_24020\\3952777918.py:3: FutureWarning: The default value of regex will change from True to False in a future version. In addition, single character regular expressions will *not* be treated as literal strings when regex=True.\n",
      "  data['CVSS3 Base'] = data['CVSS3 Base'].str.replace('(','')\n",
      "C:\\Users\\utkar\\AppData\\Local\\Temp\\ipykernel_24020\\3952777918.py:4: FutureWarning: The default value of regex will change from True to False in a future version. In addition, single character regular expressions will *not* be treated as literal strings when regex=True.\n",
      "  data['CVSS3 Base'] = data['CVSS3 Base'].str.replace(')','')\n"
     ]
    }
   ],
   "source": [
    "data['CVSS3 Base'] = data['CVSS3 Base'].str.replace('\\d+','')\n",
    "data['CVSS3 Base'] = data['CVSS3 Base'].str.replace('.','')\n",
    "data['CVSS3 Base'] = data['CVSS3 Base'].str.replace('(','')\n",
    "data['CVSS3 Base'] = data['CVSS3 Base'].str.replace(')','')"
   ]
  },
  {
   "cell_type": "code",
   "execution_count": 201,
   "id": "e353b44a",
   "metadata": {},
   "outputs": [],
   "source": [
    "Cvss3_split = data['CVSS3 Base'].str.split(\"/\",n=10, expand = True)"
   ]
  },
  {
   "cell_type": "code",
   "execution_count": 202,
   "id": "70997701",
   "metadata": {},
   "outputs": [
    {
     "name": "stdout",
     "output_type": "stream",
     "text": [
      "           0     1     2     3    4    5    6    7\n",
      "0       AV:L  AC:L  PR:H  UI:N  S:C  C:H  I:H  A:H\n",
      "1       AV:N  AC:L  PR:N  UI:N  S:U  C:H  I:H  A:H\n",
      "2       AV:N  AC:L  PR:N  UI:R  S:U  C:H  I:H  A:H\n",
      "3       AV:L  AC:L  PR:L  UI:N  S:U  C:H  I:H  A:H\n",
      "4       AV:L  AC:L  PR:N  UI:N  S:U  C:H  I:H  A:H\n",
      "...      ...   ...   ...   ...  ...  ...  ...  ...\n",
      "69904   AV:N  AC:H  PR:N  UI:N  S:U  C:H  I:L  A:N\n",
      "69905   AV:N  AC:H  PR:N  UI:N  S:U  C:H  I:L  A:N\n",
      "69906   AV:N  AC:L  PR:N  UI:N  S:U  C:L  I:L  A:N\n",
      "69907   AV:N  AC:L  PR:N  UI:N  S:U  C:L  I:L  A:N\n",
      "69908   AV:N  AC:L  PR:N  UI:N  S:U  C:L  I:L  A:N\n",
      "\n",
      "[69909 rows x 8 columns]\n"
     ]
    }
   ],
   "source": [
    "print(Cvss3_split)"
   ]
  },
  {
   "cell_type": "code",
   "execution_count": 203,
   "id": "9ebc0675",
   "metadata": {},
   "outputs": [],
   "source": [
    "data[\"CVSS3 AV\"]= Cvss3_split[0]\n",
    "data[\"CVSS3 AC\"]= Cvss3_split[1]\n",
    "data[\"CVSS3 PR\"]= Cvss3_split[2]\n",
    "data[\"CVSS3 UI\"]= Cvss3_split[3]\n",
    "data[\"CVSS3 S\"]= Cvss3_split[4]\n",
    "data[\"CVSS3 C\"]= Cvss3_split[5]\n",
    "data[\"CVSS3 I\"]= Cvss3_split[6]\n",
    "data[\"CVSS3 A\"]= Cvss3_split[7]"
   ]
  },
  {
   "cell_type": "code",
   "execution_count": 204,
   "id": "bd001f85",
   "metadata": {},
   "outputs": [
    {
     "name": "stdout",
     "output_type": "stream",
     "text": [
      "0        PR:H\n",
      "1        PR:N\n",
      "2        PR:N\n",
      "3        PR:L\n",
      "4        PR:N\n",
      "         ... \n",
      "69904    PR:N\n",
      "69905    PR:N\n",
      "69906    PR:N\n",
      "69907    PR:N\n",
      "69908    PR:N\n",
      "Name: CVSS3 PR, Length: 69909, dtype: object\n"
     ]
    }
   ],
   "source": [
    "print(data[\"CVSS3 PR\"])"
   ]
  },
  {
   "cell_type": "code",
   "execution_count": 205,
   "id": "4b94abcf",
   "metadata": {},
   "outputs": [],
   "source": [
    "Cvss3_AV = data['CVSS3 AV'].str.split(\":\",n=1, expand = True)\n",
    "Cvss3_AC = data['CVSS3 AC'].str.split(\":\",n=1, expand = True)\n",
    "Cvss3_PR = data['CVSS3 PR'].str.split(\":\",n=1, expand = True)\n",
    "Cvss3_UI = data['CVSS3 UI'].str.split(\":\",n=1, expand = True)\n",
    "Cvss3_S = data['CVSS3 S'].str.split(\":\",n=1, expand = True)\n",
    "Cvss3_C = data['CVSS3 C'].str.split(\":\",n=1, expand = True)\n",
    "Cvss3_I = data['CVSS3 I'].str.split(\":\",n=1, expand = True)\n",
    "Cvss3_A = data['CVSS3 A'].str.split(\":\",n=1, expand = True)"
   ]
  },
  {
   "cell_type": "code",
   "execution_count": 206,
   "id": "1cc252e7",
   "metadata": {},
   "outputs": [
    {
     "name": "stdout",
     "output_type": "stream",
     "text": [
      "        0  1\n",
      "0      PR  H\n",
      "1      PR  N\n",
      "2      PR  N\n",
      "3      PR  L\n",
      "4      PR  N\n",
      "...    .. ..\n",
      "69904  PR  N\n",
      "69905  PR  N\n",
      "69906  PR  N\n",
      "69907  PR  N\n",
      "69908  PR  N\n",
      "\n",
      "[69909 rows x 2 columns]\n"
     ]
    }
   ],
   "source": [
    "print(Cvss3_PR)"
   ]
  },
  {
   "cell_type": "code",
   "execution_count": 207,
   "id": "a28b845d",
   "metadata": {},
   "outputs": [],
   "source": [
    "data[\"CVSS3 AV\"]=Cvss3_AV[1]\n",
    "data[\"CVSS3 AC\"]=Cvss3_AC[1]\n",
    "data[\"CVSS3 PR\"]=Cvss3_PR[1]\n",
    "data[\"CVSS3 UI\"]=Cvss3_UI[1]\n",
    "data[\"CVSS3 S\"]=Cvss3_S[1]\n",
    "data[\"CVSS3 C\"]=Cvss3_C[1]\n",
    "data[\"CVSS3 I\"]=Cvss3_I[1]\n",
    "data[\"CVSS3 A\"]=Cvss3_A[1]"
   ]
  },
  {
   "cell_type": "code",
   "execution_count": 208,
   "id": "abe9e9ae",
   "metadata": {},
   "outputs": [
    {
     "name": "stdout",
     "output_type": "stream",
     "text": [
      "0        H\n",
      "1        N\n",
      "2        N\n",
      "3        L\n",
      "4        N\n",
      "        ..\n",
      "69904    N\n",
      "69905    N\n",
      "69906    N\n",
      "69907    N\n",
      "69908    N\n",
      "Name: CVSS3 PR, Length: 69909, dtype: object\n"
     ]
    }
   ],
   "source": [
    "print(data[\"CVSS3 PR\"])"
   ]
  },
  {
   "cell_type": "markdown",
   "id": "250f2b7c",
   "metadata": {},
   "source": [
    "## CVSS3 Temporal\n"
   ]
  },
  {
   "cell_type": "code",
   "execution_count": 209,
   "id": "22893579",
   "metadata": {},
   "outputs": [
    {
     "name": "stderr",
     "output_type": "stream",
     "text": [
      "C:\\Users\\utkar\\AppData\\Local\\Temp\\ipykernel_24020\\1077297752.py:1: FutureWarning: The default value of regex will change from True to False in a future version.\n",
      "  data['CVSS3 Temporal'] = data['CVSS3 Temporal'].str.replace('\\d+','')\n",
      "C:\\Users\\utkar\\AppData\\Local\\Temp\\ipykernel_24020\\1077297752.py:2: FutureWarning: The default value of regex will change from True to False in a future version. In addition, single character regular expressions will *not* be treated as literal strings when regex=True.\n",
      "  data['CVSS3 Temporal'] = data['CVSS3 Temporal'].str.replace('.','')\n",
      "C:\\Users\\utkar\\AppData\\Local\\Temp\\ipykernel_24020\\1077297752.py:3: FutureWarning: The default value of regex will change from True to False in a future version. In addition, single character regular expressions will *not* be treated as literal strings when regex=True.\n",
      "  data['CVSS3 Temporal'] = data['CVSS3 Temporal'].str.replace('(','')\n",
      "C:\\Users\\utkar\\AppData\\Local\\Temp\\ipykernel_24020\\1077297752.py:4: FutureWarning: The default value of regex will change from True to False in a future version. In addition, single character regular expressions will *not* be treated as literal strings when regex=True.\n",
      "  data['CVSS3 Temporal'] = data['CVSS3 Temporal'].str.replace(')','')\n"
     ]
    }
   ],
   "source": [
    "data['CVSS3 Temporal'] = data['CVSS3 Temporal'].str.replace('\\d+','')\n",
    "data['CVSS3 Temporal'] = data['CVSS3 Temporal'].str.replace('.','')\n",
    "data['CVSS3 Temporal'] = data['CVSS3 Temporal'].str.replace('(','')\n",
    "data['CVSS3 Temporal'] = data['CVSS3 Temporal'].str.replace(')','')"
   ]
  },
  {
   "cell_type": "code",
   "execution_count": 210,
   "id": "d993023c",
   "metadata": {},
   "outputs": [],
   "source": [
    "Temporal3_split = data['CVSS3 Temporal'].str.split(\"/\",n=10, expand = True)\n",
    "data[\"CVSS3 E\"]=Temporal3_split[0]\n",
    "data[\"CVSS3 RL\"]=Temporal3_split[1]\n",
    "data[\"CVSS3 RC\"]=Temporal3_split[2]"
   ]
  },
  {
   "cell_type": "code",
   "execution_count": null,
   "id": "8d6b19a0",
   "metadata": {},
   "outputs": [],
   "source": []
  },
  {
   "cell_type": "code",
   "execution_count": 211,
   "id": "291fcd29",
   "metadata": {},
   "outputs": [
    {
     "name": "stdout",
     "output_type": "stream",
     "text": [
      "          0     1     2\n",
      "0       E:U  RL:O  RC:C\n",
      "1       E:U  RL:O  RC:U\n",
      "2       E:U  RL:O  RC:C\n",
      "3       E:P  RL:O  RC:U\n",
      "4       E:P  RL:O  RC:C\n",
      "...     ...   ...   ...\n",
      "69904   E:F  RL:W  RC:C\n",
      "69905   E:F  RL:W  RC:C\n",
      "69906   E:U  RL:W  RC:U\n",
      "69907   E:U  RL:W  RC:U\n",
      "69908   E:U  RL:W  RC:U\n",
      "\n",
      "[69909 rows x 3 columns]\n"
     ]
    }
   ],
   "source": [
    "print(Temporal3_split)"
   ]
  },
  {
   "cell_type": "code",
   "execution_count": 212,
   "id": "b3f407c0",
   "metadata": {},
   "outputs": [],
   "source": [
    "Cvss3_E = data['CVSS3 E'].str.split(\":\",n=1, expand = True)\n",
    "Cvss3_RL = data['CVSS3 RL'].str.split(\":\",n=1, expand = True)\n",
    "Cvss3_RC = data['CVSS3 RC'].str.split(\":\",n=1, expand = True)"
   ]
  },
  {
   "cell_type": "code",
   "execution_count": 213,
   "id": "c18f6949",
   "metadata": {},
   "outputs": [],
   "source": [
    "data[\"CVSS3 E\"] = Cvss3_E[1]\n",
    "data[\"CVSS3 RL\"] = Cvss3_RL[1]\n",
    "data[\"CVSS3 RC\"] = Cvss3_RC[1]"
   ]
  },
  {
   "cell_type": "code",
   "execution_count": 214,
   "id": "be94ab87",
   "metadata": {},
   "outputs": [
    {
     "name": "stdout",
     "output_type": "stream",
     "text": [
      "0        U\n",
      "1        U\n",
      "2        U\n",
      "3        P\n",
      "4        P\n",
      "        ..\n",
      "69904    F\n",
      "69905    F\n",
      "69906    U\n",
      "69907    U\n",
      "69908    U\n",
      "Name: CVSS3 E, Length: 69909, dtype: object\n"
     ]
    }
   ],
   "source": [
    "print(data[\"CVSS3 E\"])"
   ]
  },
  {
   "cell_type": "code",
   "execution_count": 215,
   "id": "4b6e1a99",
   "metadata": {},
   "outputs": [],
   "source": [
    "data.to_excel(r'C:\\Users\\utkar\\OneDrive\\Desktop\\EDA_project\\Split_data_final.xlsx')"
   ]
  },
  {
   "cell_type": "code",
   "execution_count": null,
   "id": "51635e7e",
   "metadata": {},
   "outputs": [],
   "source": []
  }
 ],
 "metadata": {
  "kernelspec": {
   "display_name": "Python 3 (ipykernel)",
   "language": "python",
   "name": "python3"
  },
  "language_info": {
   "codemirror_mode": {
    "name": "ipython",
    "version": 3
   },
   "file_extension": ".py",
   "mimetype": "text/x-python",
   "name": "python",
   "nbconvert_exporter": "python",
   "pygments_lexer": "ipython3",
   "version": "3.9.13"
  }
 },
 "nbformat": 4,
 "nbformat_minor": 5
}
