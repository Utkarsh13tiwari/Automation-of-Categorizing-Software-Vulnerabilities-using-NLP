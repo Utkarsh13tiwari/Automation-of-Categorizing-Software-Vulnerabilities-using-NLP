{
 "cells": [
  {
   "cell_type": "code",
   "execution_count": 41,
   "id": "da4dde03",
   "metadata": {},
   "outputs": [],
   "source": [
    "import pandas as pd\n",
    "import seaborn as sns\n",
    "import matplotlib.pyplot as plt\n",
    "import numpy as np"
   ]
  },
  {
   "cell_type": "code",
   "execution_count": 42,
   "id": "1ec824c5",
   "metadata": {},
   "outputs": [],
   "source": [
    "data=pd.read_excel(r'C:\\Users\\utkar\\OneDrive\\Desktop\\EDA_project\\Data_set\\Split_data_final.xlsx', sheet_name ='Sheet1') "
   ]
  },
  {
   "cell_type": "code",
   "execution_count": 43,
   "id": "4efc6805",
   "metadata": {},
   "outputs": [],
   "source": [
    "data['Impact'] = data['Impact'].str.lower()"
   ]
  },
  {
   "cell_type": "code",
   "execution_count": 44,
   "id": "696850e1",
   "metadata": {},
   "outputs": [],
   "source": [
    "data['Impact'] = data['Impact'].replace(r'http\\S+', '', regex=True).replace(r'www\\S+', '', regex=True)"
   ]
  },
  {
   "cell_type": "code",
   "execution_count": 45,
   "id": "f54dec1b",
   "metadata": {},
   "outputs": [
    {
     "name": "stderr",
     "output_type": "stream",
     "text": [
      "C:\\Users\\utkar\\AppData\\Local\\Temp\\ipykernel_20228\\77678499.py:1: FutureWarning: The default value of regex will change from True to False in a future version.\n",
      "  data[\"Impact\"] = data['Impact'].str.replace('[^\\w\\s]','')\n"
     ]
    }
   ],
   "source": [
    "data[\"Impact\"] = data['Impact'].str.replace('[^\\w\\s]','')"
   ]
  },
  {
   "cell_type": "code",
   "execution_count": 46,
   "id": "80a654d2",
   "metadata": {},
   "outputs": [
    {
     "data": {
      "text/plain": [
       "<bound method NDFrame.head of 0        successful exploitation allows attacker to exe...\n",
       "1           a physically proximate attacker could use t...\n",
       "2          if a user or automated system were tricked i...\n",
       "3           a local attacker could use this to gain adm...\n",
       "4        successful exploitation of this vulnerability ...\n",
       "                               ...                        \n",
       "69904    an attacker can exploit cryptographic flaws to...\n",
       "69905    an attacker can exploit cryptographic flaws to...\n",
       "69906    by exploiting this vulnerability an attacker c...\n",
       "69907    by exploiting this vulnerability an attacker c...\n",
       "69908    by exploiting this vulnerability an attacker c...\n",
       "Name: Impact, Length: 69909, dtype: object>"
      ]
     },
     "execution_count": 46,
     "metadata": {},
     "output_type": "execute_result"
    }
   ],
   "source": [
    "data['Impact'].dropna(inplace=True)\n",
    "data['Impact'] = data['Impact'].astype(str)\n",
    "data['Impact'].head"
   ]
  },
  {
   "cell_type": "code",
   "execution_count": 47,
   "id": "bebd3b0a",
   "metadata": {},
   "outputs": [],
   "source": [
    "from nltk.tokenize import sent_tokenize, word_tokenize\n",
    "\n",
    "data['Impact']=data['Impact'].apply(word_tokenize)"
   ]
  },
  {
   "cell_type": "code",
   "execution_count": 48,
   "id": "b04e6516",
   "metadata": {},
   "outputs": [],
   "source": [
    "from nltk.corpus import stopwords\n",
    "\n",
    "stop = stopwords.words('english')\n",
    "new_stopwords = [\"id\", \"from\", \"could\", \"use\", \"also\",\"Many\",\"like\",\"May\",\"may\",\"ca\",\"even\",\"ect\",\"i.e\",\"cause\",\"result\",\"used\",\"form\",\"Its\",\"cause\",\"take\",\"following\"]\n",
    "stop.extend(new_stopwords)\n",
    "\n",
    "data['Impact']=data['Impact'].apply(lambda x: [item for item in x if item not in stop])"
   ]
  },
  {
   "cell_type": "code",
   "execution_count": 49,
   "id": "bbdba248",
   "metadata": {},
   "outputs": [
    {
     "data": {
      "text/plain": [
       "0    [successful, exploitation, allows, attacker, e...\n",
       "1    [physically, proximate, attacker, denial, serv...\n",
       "2    [user, automated, system, tricked, opening, sp...\n",
       "3    [local, attacker, gain, administrative, privil...\n",
       "4    [successful, exploitation, vulnerability, allo...\n",
       "Name: Impact, dtype: object"
      ]
     },
     "execution_count": 49,
     "metadata": {},
     "output_type": "execute_result"
    }
   ],
   "source": [
    "data['Impact'].head()"
   ]
  },
  {
   "cell_type": "code",
   "execution_count": 50,
   "id": "57c5d910",
   "metadata": {},
   "outputs": [],
   "source": [
    "df=pd.DataFrame()"
   ]
  },
  {
   "cell_type": "code",
   "execution_count": 51,
   "id": "cb65bc8e",
   "metadata": {},
   "outputs": [
    {
     "data": {
      "text/plain": [
       "0    ((successful, exploitation), (exploitation, al...\n",
       "1    ((physically, proximate), (proximate, attacker...\n",
       "2    ((user, automated), (automated, system), (syst...\n",
       "3    ((local, attacker), (attacker, gain), (gain, a...\n",
       "4    ((successful, exploitation), (exploitation, vu...\n",
       "Name: Impact-bigrams, dtype: object"
      ]
     },
     "execution_count": 51,
     "metadata": {},
     "output_type": "execute_result"
    }
   ],
   "source": [
    "import nltk, re, string, collections\n",
    "from nltk.util import ngrams\n",
    "data['Impact-bigrams'] = data['Impact'].apply(lambda row: tuple(nltk.bigrams(row)))\n",
    "data['Impact-bigrams'].head()"
   ]
  },
  {
   "cell_type": "code",
   "execution_count": null,
   "id": "e17a842c",
   "metadata": {},
   "outputs": [],
   "source": []
  },
  {
   "cell_type": "code",
   "execution_count": null,
   "id": "23d9eef7",
   "metadata": {},
   "outputs": [],
   "source": []
  },
  {
   "cell_type": "code",
   "execution_count": 52,
   "id": "263ef80f",
   "metadata": {},
   "outputs": [],
   "source": [
    "data_a=pd.DataFrame()"
   ]
  },
  {
   "cell_type": "code",
   "execution_count": 53,
   "id": "dae9df16",
   "metadata": {},
   "outputs": [],
   "source": [
    "data_l=pd.DataFrame()"
   ]
  },
  {
   "cell_type": "code",
   "execution_count": 54,
   "id": "5fcc2b6f",
   "metadata": {},
   "outputs": [],
   "source": [
    "data_n=pd.DataFrame()"
   ]
  },
  {
   "cell_type": "markdown",
   "id": "ae85483a",
   "metadata": {},
   "source": [
    "# Filtering / Masking"
   ]
  },
  {
   "cell_type": "code",
   "execution_count": null,
   "id": "28248e3d",
   "metadata": {},
   "outputs": [],
   "source": []
  },
  {
   "cell_type": "code",
   "execution_count": 55,
   "id": "844984de",
   "metadata": {},
   "outputs": [],
   "source": [
    "data_a=data.loc[data['AV'] == 'A']"
   ]
  },
  {
   "cell_type": "code",
   "execution_count": 56,
   "id": "530c4ccb",
   "metadata": {},
   "outputs": [],
   "source": [
    "data_l=data.loc[data['AV'] == 'L']"
   ]
  },
  {
   "cell_type": "code",
   "execution_count": 57,
   "id": "e2855356",
   "metadata": {},
   "outputs": [],
   "source": [
    "data_n=data.loc[data['AV'] == 'N']"
   ]
  },
  {
   "cell_type": "code",
   "execution_count": 58,
   "id": "cfa38ccb",
   "metadata": {},
   "outputs": [
    {
     "data": {
      "text/html": [
       "<div>\n",
       "<style scoped>\n",
       "    .dataframe tbody tr th:only-of-type {\n",
       "        vertical-align: middle;\n",
       "    }\n",
       "\n",
       "    .dataframe tbody tr th {\n",
       "        vertical-align: top;\n",
       "    }\n",
       "\n",
       "    .dataframe thead th {\n",
       "        text-align: right;\n",
       "    }\n",
       "</style>\n",
       "<table border=\"1\" class=\"dataframe\">\n",
       "  <thead>\n",
       "    <tr style=\"text-align: right;\">\n",
       "      <th></th>\n",
       "      <th>Unnamed: 0</th>\n",
       "      <th>masked Ip</th>\n",
       "      <th>Network</th>\n",
       "      <th>Tracking Method</th>\n",
       "      <th>OS</th>\n",
       "      <th>IP Status</th>\n",
       "      <th>QID</th>\n",
       "      <th>Title</th>\n",
       "      <th>Vuln Status</th>\n",
       "      <th>Type</th>\n",
       "      <th>...</th>\n",
       "      <th>CVSS3 PR</th>\n",
       "      <th>CVSS3 UI</th>\n",
       "      <th>CVSS3 S</th>\n",
       "      <th>CVSS3 C</th>\n",
       "      <th>CVSS3 I</th>\n",
       "      <th>CVSS3 A</th>\n",
       "      <th>CVSS3 E</th>\n",
       "      <th>CVSS3 RL</th>\n",
       "      <th>CVSS3 RC</th>\n",
       "      <th>Impact-bigrams</th>\n",
       "    </tr>\n",
       "  </thead>\n",
       "  <tbody>\n",
       "    <tr>\n",
       "      <th>0</th>\n",
       "      <td>0</td>\n",
       "      <td>lab_2_IP9036</td>\n",
       "      <td>Global Default Network</td>\n",
       "      <td>QAGENT</td>\n",
       "      <td>Ubuntu Linux 16.04.4</td>\n",
       "      <td>host scanned, found vuln</td>\n",
       "      <td>197967</td>\n",
       "      <td>Ubuntu Security Notification for Grub2 Vulnera...</td>\n",
       "      <td>Active</td>\n",
       "      <td>Vuln</td>\n",
       "      <td>...</td>\n",
       "      <td>H</td>\n",
       "      <td>N</td>\n",
       "      <td>C</td>\n",
       "      <td>H</td>\n",
       "      <td>H</td>\n",
       "      <td>H</td>\n",
       "      <td>U</td>\n",
       "      <td>O</td>\n",
       "      <td>C</td>\n",
       "      <td>((successful, exploitation), (exploitation, al...</td>\n",
       "    </tr>\n",
       "    <tr>\n",
       "      <th>3</th>\n",
       "      <td>3</td>\n",
       "      <td>lab_2_IP9036</td>\n",
       "      <td>Global Default Network</td>\n",
       "      <td>QAGENT</td>\n",
       "      <td>Ubuntu Linux 16.04.4</td>\n",
       "      <td>host scanned, found vuln</td>\n",
       "      <td>196604</td>\n",
       "      <td>Ubuntu Security Notification for Linux Vulnera...</td>\n",
       "      <td>Active</td>\n",
       "      <td>Vuln</td>\n",
       "      <td>...</td>\n",
       "      <td>L</td>\n",
       "      <td>N</td>\n",
       "      <td>U</td>\n",
       "      <td>H</td>\n",
       "      <td>H</td>\n",
       "      <td>H</td>\n",
       "      <td>P</td>\n",
       "      <td>O</td>\n",
       "      <td>U</td>\n",
       "      <td>((local, attacker), (attacker, gain), (gain, a...</td>\n",
       "    </tr>\n",
       "    <tr>\n",
       "      <th>4</th>\n",
       "      <td>4</td>\n",
       "      <td>lab_2_IP9036</td>\n",
       "      <td>Global Default Network</td>\n",
       "      <td>QAGENT</td>\n",
       "      <td>Ubuntu Linux 16.04.4</td>\n",
       "      <td>host scanned, found vuln</td>\n",
       "      <td>372015</td>\n",
       "      <td>Docker Build Remote Code Execution Vulnerability</td>\n",
       "      <td>Active</td>\n",
       "      <td>Vuln</td>\n",
       "      <td>...</td>\n",
       "      <td>N</td>\n",
       "      <td>N</td>\n",
       "      <td>U</td>\n",
       "      <td>H</td>\n",
       "      <td>H</td>\n",
       "      <td>H</td>\n",
       "      <td>P</td>\n",
       "      <td>O</td>\n",
       "      <td>C</td>\n",
       "      <td>((successful, exploitation), (exploitation, vu...</td>\n",
       "    </tr>\n",
       "    <tr>\n",
       "      <th>6</th>\n",
       "      <td>6</td>\n",
       "      <td>lab_2_IP9036</td>\n",
       "      <td>Global Default Network</td>\n",
       "      <td>QAGENT</td>\n",
       "      <td>Ubuntu Linux 16.04.4</td>\n",
       "      <td>host scanned, found vuln</td>\n",
       "      <td>198010</td>\n",
       "      <td>Ubuntu Security Notification for Libx11 Vulner...</td>\n",
       "      <td>Active</td>\n",
       "      <td>Vuln</td>\n",
       "      <td>...</td>\n",
       "      <td>L</td>\n",
       "      <td>N</td>\n",
       "      <td>U</td>\n",
       "      <td>H</td>\n",
       "      <td>H</td>\n",
       "      <td>H</td>\n",
       "      <td>U</td>\n",
       "      <td>O</td>\n",
       "      <td>U</td>\n",
       "      <td>((local, attacker), (attacker, possibly), (pos...</td>\n",
       "    </tr>\n",
       "    <tr>\n",
       "      <th>7</th>\n",
       "      <td>7</td>\n",
       "      <td>lab_2_IP9036</td>\n",
       "      <td>Global Default Network</td>\n",
       "      <td>QAGENT</td>\n",
       "      <td>Ubuntu Linux 16.04.4</td>\n",
       "      <td>host scanned, found vuln</td>\n",
       "      <td>198009</td>\n",
       "      <td>Ubuntu Security Notification for Linux, Linux-...</td>\n",
       "      <td>Active</td>\n",
       "      <td>Vuln</td>\n",
       "      <td>...</td>\n",
       "      <td>L</td>\n",
       "      <td>N</td>\n",
       "      <td>U</td>\n",
       "      <td>N</td>\n",
       "      <td>N</td>\n",
       "      <td>H</td>\n",
       "      <td>U</td>\n",
       "      <td>O</td>\n",
       "      <td>U</td>\n",
       "      <td>((attacker, construct), (construct, malicious)...</td>\n",
       "    </tr>\n",
       "  </tbody>\n",
       "</table>\n",
       "<p>5 rows × 54 columns</p>\n",
       "</div>"
      ],
      "text/plain": [
       "   Unnamed: 0     masked Ip                 Network Tracking Method  \\\n",
       "0           0  lab_2_IP9036  Global Default Network          QAGENT   \n",
       "3           3  lab_2_IP9036  Global Default Network          QAGENT   \n",
       "4           4  lab_2_IP9036  Global Default Network          QAGENT   \n",
       "6           6  lab_2_IP9036  Global Default Network          QAGENT   \n",
       "7           7  lab_2_IP9036  Global Default Network          QAGENT   \n",
       "\n",
       "                     OS                 IP Status     QID  \\\n",
       "0  Ubuntu Linux 16.04.4  host scanned, found vuln  197967   \n",
       "3  Ubuntu Linux 16.04.4  host scanned, found vuln  196604   \n",
       "4  Ubuntu Linux 16.04.4  host scanned, found vuln  372015   \n",
       "6  Ubuntu Linux 16.04.4  host scanned, found vuln  198010   \n",
       "7  Ubuntu Linux 16.04.4  host scanned, found vuln  198009   \n",
       "\n",
       "                                               Title Vuln Status  Type  ...  \\\n",
       "0  Ubuntu Security Notification for Grub2 Vulnera...      Active  Vuln  ...   \n",
       "3  Ubuntu Security Notification for Linux Vulnera...      Active  Vuln  ...   \n",
       "4   Docker Build Remote Code Execution Vulnerability      Active  Vuln  ...   \n",
       "6  Ubuntu Security Notification for Libx11 Vulner...      Active  Vuln  ...   \n",
       "7  Ubuntu Security Notification for Linux, Linux-...      Active  Vuln  ...   \n",
       "\n",
       "   CVSS3 PR  CVSS3 UI CVSS3 S CVSS3 C CVSS3 I CVSS3 A CVSS3 E  CVSS3 RL  \\\n",
       "0         H         N       C       H       H       H       U         O   \n",
       "3         L         N       U       H       H       H       P         O   \n",
       "4         N         N       U       H       H       H       P         O   \n",
       "6         L         N       U       H       H       H       U         O   \n",
       "7         L         N       U       N       N       H       U         O   \n",
       "\n",
       "  CVSS3 RC                                     Impact-bigrams  \n",
       "0        C  ((successful, exploitation), (exploitation, al...  \n",
       "3        U  ((local, attacker), (attacker, gain), (gain, a...  \n",
       "4        C  ((successful, exploitation), (exploitation, vu...  \n",
       "6        U  ((local, attacker), (attacker, possibly), (pos...  \n",
       "7        U  ((attacker, construct), (construct, malicious)...  \n",
       "\n",
       "[5 rows x 54 columns]"
      ]
     },
     "execution_count": 58,
     "metadata": {},
     "output_type": "execute_result"
    }
   ],
   "source": [
    "data_l.head()"
   ]
  },
  {
   "cell_type": "code",
   "execution_count": 59,
   "id": "328fd426",
   "metadata": {},
   "outputs": [
    {
     "data": {
      "text/plain": [
       "8      ((remote, attacker), (attacker, possibly), (po...\n",
       "50     ((attacker, expose), (expose, sensitive), (sen...\n",
       "79     ((local, attacker), (attacker, expose), (expos...\n",
       "101    ((attacker, expose), (expose, sensitive), (sen...\n",
       "216    ((successful, exploitation), (exploitation, al...\n",
       "Name: Impact-bigrams, dtype: object"
      ]
     },
     "execution_count": 59,
     "metadata": {},
     "output_type": "execute_result"
    }
   ],
   "source": [
    "data_a['Impact-bigrams'].head()"
   ]
  },
  {
   "cell_type": "code",
   "execution_count": 60,
   "id": "f8173801",
   "metadata": {},
   "outputs": [
    {
     "data": {
      "text/plain": [
       "0    ((successful, exploitation), (exploitation, al...\n",
       "3    ((local, attacker), (attacker, gain), (gain, a...\n",
       "4    ((successful, exploitation), (exploitation, vu...\n",
       "6    ((local, attacker), (attacker, possibly), (pos...\n",
       "7    ((attacker, construct), (construct, malicious)...\n",
       "Name: Impact-bigrams, dtype: object"
      ]
     },
     "execution_count": 60,
     "metadata": {},
     "output_type": "execute_result"
    }
   ],
   "source": [
    "data_l['Impact-bigrams'].head()"
   ]
  },
  {
   "cell_type": "code",
   "execution_count": 61,
   "id": "4605e435",
   "metadata": {},
   "outputs": [
    {
     "data": {
      "text/plain": [
       "1     ((physically, proximate), (proximate, attacker...\n",
       "2     ((user, automated), (automated, system), (syst...\n",
       "5     ((successful, exploitation), (exploitation, al...\n",
       "9     ((user, automated), (automated, system), (syst...\n",
       "10    ((remote, attacker), (attacker, possibly), (po...\n",
       "Name: Impact-bigrams, dtype: object"
      ]
     },
     "execution_count": 61,
     "metadata": {},
     "output_type": "execute_result"
    }
   ],
   "source": [
    "data_n['Impact-bigrams'].head()"
   ]
  },
  {
   "cell_type": "code",
   "execution_count": null,
   "id": "77fdb3d0",
   "metadata": {},
   "outputs": [],
   "source": []
  },
  {
   "cell_type": "code",
   "execution_count": 62,
   "id": "a1002dc4",
   "metadata": {},
   "outputs": [],
   "source": [
    "df_A_Impact=pd.DataFrame()\n",
    "df_L_Impact=pd.DataFrame()\n",
    "df_N_Impact=pd.DataFrame()"
   ]
  },
  {
   "cell_type": "markdown",
   "id": "0381db3c",
   "metadata": {},
   "source": [
    "# Bigram freq of Impact for 'A' --['AV']"
   ]
  },
  {
   "cell_type": "code",
   "execution_count": 63,
   "id": "a0e6d111",
   "metadata": {},
   "outputs": [],
   "source": [
    "from collections import Counter\n",
    "from itertools import chain\n",
    "df_A_Impact['A']=list(chain.from_iterable(data_a['Impact-bigrams']))"
   ]
  },
  {
   "cell_type": "code",
   "execution_count": 64,
   "id": "18499474",
   "metadata": {},
   "outputs": [
    {
     "data": {
      "text/html": [
       "<div>\n",
       "<style scoped>\n",
       "    .dataframe tbody tr th:only-of-type {\n",
       "        vertical-align: middle;\n",
       "    }\n",
       "\n",
       "    .dataframe tbody tr th {\n",
       "        vertical-align: top;\n",
       "    }\n",
       "\n",
       "    .dataframe thead th {\n",
       "        text-align: right;\n",
       "    }\n",
       "</style>\n",
       "<table border=\"1\" class=\"dataframe\">\n",
       "  <thead>\n",
       "    <tr style=\"text-align: right;\">\n",
       "      <th></th>\n",
       "      <th>A</th>\n",
       "    </tr>\n",
       "  </thead>\n",
       "  <tbody>\n",
       "    <tr>\n",
       "      <th>0</th>\n",
       "      <td>(remote, attacker)</td>\n",
       "    </tr>\n",
       "    <tr>\n",
       "      <th>1</th>\n",
       "      <td>(attacker, possibly)</td>\n",
       "    </tr>\n",
       "    <tr>\n",
       "      <th>2</th>\n",
       "      <td>(possibly, issue)</td>\n",
       "    </tr>\n",
       "    <tr>\n",
       "      <th>3</th>\n",
       "      <td>(issue, obtain)</td>\n",
       "    </tr>\n",
       "    <tr>\n",
       "      <th>4</th>\n",
       "      <td>(obtain, sensitive)</td>\n",
       "    </tr>\n",
       "  </tbody>\n",
       "</table>\n",
       "</div>"
      ],
      "text/plain": [
       "                      A\n",
       "0    (remote, attacker)\n",
       "1  (attacker, possibly)\n",
       "2     (possibly, issue)\n",
       "3       (issue, obtain)\n",
       "4   (obtain, sensitive)"
      ]
     },
     "execution_count": 64,
     "metadata": {},
     "output_type": "execute_result"
    }
   ],
   "source": [
    "df_A_Impact.head()"
   ]
  },
  {
   "cell_type": "code",
   "execution_count": 65,
   "id": "d9ae3df0",
   "metadata": {},
   "outputs": [],
   "source": [
    "dataBi_A_Impact=pd.DataFrame()"
   ]
  },
  {
   "cell_type": "code",
   "execution_count": 66,
   "id": "8704b79e",
   "metadata": {},
   "outputs": [],
   "source": [
    "dataBi_A_Impact['Freq_A']=df_A_Impact['A'].value_counts()"
   ]
  },
  {
   "cell_type": "code",
   "execution_count": 67,
   "id": "54b6a35a",
   "metadata": {},
   "outputs": [
    {
     "data": {
      "text/html": [
       "<div>\n",
       "<style scoped>\n",
       "    .dataframe tbody tr th:only-of-type {\n",
       "        vertical-align: middle;\n",
       "    }\n",
       "\n",
       "    .dataframe tbody tr th {\n",
       "        vertical-align: top;\n",
       "    }\n",
       "\n",
       "    .dataframe thead th {\n",
       "        text-align: right;\n",
       "    }\n",
       "</style>\n",
       "<table border=\"1\" class=\"dataframe\">\n",
       "  <thead>\n",
       "    <tr style=\"text-align: right;\">\n",
       "      <th></th>\n",
       "      <th>Freq_A</th>\n",
       "    </tr>\n",
       "  </thead>\n",
       "  <tbody>\n",
       "    <tr>\n",
       "      <th>(denial, service)</th>\n",
       "      <td>274</td>\n",
       "    </tr>\n",
       "    <tr>\n",
       "      <th>(local, attacker)</th>\n",
       "      <td>132</td>\n",
       "    </tr>\n",
       "    <tr>\n",
       "      <th>(lead, denial)</th>\n",
       "      <td>81</td>\n",
       "    </tr>\n",
       "    <tr>\n",
       "      <th>(code, lead)</th>\n",
       "      <td>81</td>\n",
       "    </tr>\n",
       "    <tr>\n",
       "      <th>(execution, code)</th>\n",
       "      <td>81</td>\n",
       "    </tr>\n",
       "  </tbody>\n",
       "</table>\n",
       "</div>"
      ],
      "text/plain": [
       "                   Freq_A\n",
       "(denial, service)     274\n",
       "(local, attacker)     132\n",
       "(lead, denial)         81\n",
       "(code, lead)           81\n",
       "(execution, code)      81"
      ]
     },
     "execution_count": 67,
     "metadata": {},
     "output_type": "execute_result"
    }
   ],
   "source": [
    "dataBi_A_Impact.head()"
   ]
  },
  {
   "cell_type": "markdown",
   "id": "211a440d",
   "metadata": {},
   "source": [
    "# Bigram freq of Impact for 'N' --['AV']"
   ]
  },
  {
   "cell_type": "code",
   "execution_count": 68,
   "id": "bb8dad1d",
   "metadata": {},
   "outputs": [],
   "source": [
    "from collections import Counter\n",
    "from itertools import chain\n",
    "df_N_Impact['N']=list(chain.from_iterable(data_n['Impact-bigrams']))"
   ]
  },
  {
   "cell_type": "code",
   "execution_count": 69,
   "id": "4af755f6",
   "metadata": {},
   "outputs": [
    {
     "data": {
      "text/html": [
       "<div>\n",
       "<style scoped>\n",
       "    .dataframe tbody tr th:only-of-type {\n",
       "        vertical-align: middle;\n",
       "    }\n",
       "\n",
       "    .dataframe tbody tr th {\n",
       "        vertical-align: top;\n",
       "    }\n",
       "\n",
       "    .dataframe thead th {\n",
       "        text-align: right;\n",
       "    }\n",
       "</style>\n",
       "<table border=\"1\" class=\"dataframe\">\n",
       "  <thead>\n",
       "    <tr style=\"text-align: right;\">\n",
       "      <th></th>\n",
       "      <th>N</th>\n",
       "    </tr>\n",
       "  </thead>\n",
       "  <tbody>\n",
       "    <tr>\n",
       "      <th>0</th>\n",
       "      <td>(physically, proximate)</td>\n",
       "    </tr>\n",
       "    <tr>\n",
       "      <th>1</th>\n",
       "      <td>(proximate, attacker)</td>\n",
       "    </tr>\n",
       "    <tr>\n",
       "      <th>2</th>\n",
       "      <td>(attacker, denial)</td>\n",
       "    </tr>\n",
       "    <tr>\n",
       "      <th>3</th>\n",
       "      <td>(denial, service)</td>\n",
       "    </tr>\n",
       "    <tr>\n",
       "      <th>4</th>\n",
       "      <td>(service, system)</td>\n",
       "    </tr>\n",
       "  </tbody>\n",
       "</table>\n",
       "</div>"
      ],
      "text/plain": [
       "                         N\n",
       "0  (physically, proximate)\n",
       "1    (proximate, attacker)\n",
       "2       (attacker, denial)\n",
       "3        (denial, service)\n",
       "4        (service, system)"
      ]
     },
     "execution_count": 69,
     "metadata": {},
     "output_type": "execute_result"
    }
   ],
   "source": [
    "df_N_Impact.head()"
   ]
  },
  {
   "cell_type": "code",
   "execution_count": 70,
   "id": "eb39a02a",
   "metadata": {},
   "outputs": [],
   "source": [
    "dataBi_N_Impact=pd.DataFrame()"
   ]
  },
  {
   "cell_type": "code",
   "execution_count": 71,
   "id": "c58b4cd8",
   "metadata": {},
   "outputs": [],
   "source": [
    "dataBi_N_Impact['Freq_N']=df_N_Impact['N'].value_counts()"
   ]
  },
  {
   "cell_type": "code",
   "execution_count": 72,
   "id": "917fe052",
   "metadata": {},
   "outputs": [
    {
     "data": {
      "text/html": [
       "<div>\n",
       "<style scoped>\n",
       "    .dataframe tbody tr th:only-of-type {\n",
       "        vertical-align: middle;\n",
       "    }\n",
       "\n",
       "    .dataframe tbody tr th {\n",
       "        vertical-align: top;\n",
       "    }\n",
       "\n",
       "    .dataframe thead th {\n",
       "        text-align: right;\n",
       "    }\n",
       "</style>\n",
       "<table border=\"1\" class=\"dataframe\">\n",
       "  <thead>\n",
       "    <tr style=\"text-align: right;\">\n",
       "      <th></th>\n",
       "      <th>Freq_N</th>\n",
       "    </tr>\n",
       "  </thead>\n",
       "  <tbody>\n",
       "    <tr>\n",
       "      <th>(exploit, vulnerability)</th>\n",
       "      <td>15834</td>\n",
       "    </tr>\n",
       "    <tr>\n",
       "      <th>(exploiting, vulnerability)</th>\n",
       "      <td>14783</td>\n",
       "    </tr>\n",
       "    <tr>\n",
       "      <th>(attacker, exploit)</th>\n",
       "      <td>13114</td>\n",
       "    </tr>\n",
       "    <tr>\n",
       "      <th>(server, certificate)</th>\n",
       "      <td>10782</td>\n",
       "    </tr>\n",
       "    <tr>\n",
       "      <th>(cache, poisoning)</th>\n",
       "      <td>9690</td>\n",
       "    </tr>\n",
       "  </tbody>\n",
       "</table>\n",
       "</div>"
      ],
      "text/plain": [
       "                             Freq_N\n",
       "(exploit, vulnerability)      15834\n",
       "(exploiting, vulnerability)   14783\n",
       "(attacker, exploit)           13114\n",
       "(server, certificate)         10782\n",
       "(cache, poisoning)             9690"
      ]
     },
     "execution_count": 72,
     "metadata": {},
     "output_type": "execute_result"
    }
   ],
   "source": [
    "dataBi_N_Impact.head()"
   ]
  },
  {
   "cell_type": "markdown",
   "id": "7109a596",
   "metadata": {},
   "source": [
    "# Bigram freq of Impact for 'L' --['AV']"
   ]
  },
  {
   "cell_type": "code",
   "execution_count": 73,
   "id": "d94d3500",
   "metadata": {},
   "outputs": [],
   "source": [
    "from collections import Counter\n",
    "from itertools import chain\n",
    "df_L_Impact['L']=list(chain.from_iterable(data_l['Impact-bigrams']))"
   ]
  },
  {
   "cell_type": "code",
   "execution_count": 74,
   "id": "9bc61e5f",
   "metadata": {},
   "outputs": [
    {
     "data": {
      "text/html": [
       "<div>\n",
       "<style scoped>\n",
       "    .dataframe tbody tr th:only-of-type {\n",
       "        vertical-align: middle;\n",
       "    }\n",
       "\n",
       "    .dataframe tbody tr th {\n",
       "        vertical-align: top;\n",
       "    }\n",
       "\n",
       "    .dataframe thead th {\n",
       "        text-align: right;\n",
       "    }\n",
       "</style>\n",
       "<table border=\"1\" class=\"dataframe\">\n",
       "  <thead>\n",
       "    <tr style=\"text-align: right;\">\n",
       "      <th></th>\n",
       "      <th>L</th>\n",
       "    </tr>\n",
       "  </thead>\n",
       "  <tbody>\n",
       "    <tr>\n",
       "      <th>0</th>\n",
       "      <td>(successful, exploitation)</td>\n",
       "    </tr>\n",
       "    <tr>\n",
       "      <th>1</th>\n",
       "      <td>(exploitation, allows)</td>\n",
       "    </tr>\n",
       "    <tr>\n",
       "      <th>2</th>\n",
       "      <td>(allows, attacker)</td>\n",
       "    </tr>\n",
       "    <tr>\n",
       "      <th>3</th>\n",
       "      <td>(attacker, execute)</td>\n",
       "    </tr>\n",
       "    <tr>\n",
       "      <th>4</th>\n",
       "      <td>(execute, arbitrary)</td>\n",
       "    </tr>\n",
       "  </tbody>\n",
       "</table>\n",
       "</div>"
      ],
      "text/plain": [
       "                            L\n",
       "0  (successful, exploitation)\n",
       "1      (exploitation, allows)\n",
       "2          (allows, attacker)\n",
       "3         (attacker, execute)\n",
       "4        (execute, arbitrary)"
      ]
     },
     "execution_count": 74,
     "metadata": {},
     "output_type": "execute_result"
    }
   ],
   "source": [
    "df_L_Impact.head()"
   ]
  },
  {
   "cell_type": "code",
   "execution_count": 75,
   "id": "5203d7f7",
   "metadata": {},
   "outputs": [],
   "source": [
    "dataBi_L_Impact=pd.DataFrame()"
   ]
  },
  {
   "cell_type": "code",
   "execution_count": 76,
   "id": "2a9145f0",
   "metadata": {},
   "outputs": [],
   "source": [
    "dataBi_L_Impact['Freq_L']=df_L_Impact['L'].value_counts()"
   ]
  },
  {
   "cell_type": "code",
   "execution_count": 77,
   "id": "118bbe4e",
   "metadata": {},
   "outputs": [
    {
     "data": {
      "text/html": [
       "<div>\n",
       "<style scoped>\n",
       "    .dataframe tbody tr th:only-of-type {\n",
       "        vertical-align: middle;\n",
       "    }\n",
       "\n",
       "    .dataframe tbody tr th {\n",
       "        vertical-align: top;\n",
       "    }\n",
       "\n",
       "    .dataframe thead th {\n",
       "        text-align: right;\n",
       "    }\n",
       "</style>\n",
       "<table border=\"1\" class=\"dataframe\">\n",
       "  <thead>\n",
       "    <tr style=\"text-align: right;\">\n",
       "      <th></th>\n",
       "      <th>Freq_L</th>\n",
       "    </tr>\n",
       "  </thead>\n",
       "  <tbody>\n",
       "    <tr>\n",
       "      <th>(successful, exploitation)</th>\n",
       "      <td>3607</td>\n",
       "    </tr>\n",
       "    <tr>\n",
       "      <th>(local, user)</th>\n",
       "      <td>2671</td>\n",
       "    </tr>\n",
       "    <tr>\n",
       "      <th>(guest, system)</th>\n",
       "      <td>2645</td>\n",
       "    </tr>\n",
       "    <tr>\n",
       "      <th>(user, guest)</th>\n",
       "      <td>2610</td>\n",
       "    </tr>\n",
       "    <tr>\n",
       "      <th>(host, system)</th>\n",
       "      <td>2610</td>\n",
       "    </tr>\n",
       "  </tbody>\n",
       "</table>\n",
       "</div>"
      ],
      "text/plain": [
       "                            Freq_L\n",
       "(successful, exploitation)    3607\n",
       "(local, user)                 2671\n",
       "(guest, system)               2645\n",
       "(user, guest)                 2610\n",
       "(host, system)                2610"
      ]
     },
     "execution_count": 77,
     "metadata": {},
     "output_type": "execute_result"
    }
   ],
   "source": [
    "dataBi_L_Impact.head()"
   ]
  },
  {
   "cell_type": "markdown",
   "id": "b9bb0d5e",
   "metadata": {},
   "source": [
    "# Downloading the dataset"
   ]
  },
  {
   "cell_type": "code",
   "execution_count": 78,
   "id": "08e20989",
   "metadata": {},
   "outputs": [],
   "source": [
    "dataBi_A_Impact.to_excel(r'C:\\Users\\utkar\\OneDrive\\Desktop\\EDA_project\\Impact-Bigram_A_freq.xlsx')"
   ]
  },
  {
   "cell_type": "code",
   "execution_count": 79,
   "id": "36f1624d",
   "metadata": {},
   "outputs": [],
   "source": [
    "dataBi_L_Impact.to_excel(r'C:\\Users\\utkar\\OneDrive\\Desktop\\EDA_project\\Impact-Bigram_L_freq.xlsx')"
   ]
  },
  {
   "cell_type": "code",
   "execution_count": 80,
   "id": "6c5150f3",
   "metadata": {},
   "outputs": [],
   "source": [
    "dataBi_N_Impact.to_excel(r'C:\\Users\\utkar\\OneDrive\\Desktop\\EDA_project\\Impact-Bigram_N_freq.xlsx')"
   ]
  },
  {
   "cell_type": "markdown",
   "id": "ccd41717",
   "metadata": {},
   "source": [
    "# ---------------------------------------------------------------------------------------------------------------"
   ]
  },
  {
   "cell_type": "code",
   "execution_count": null,
   "id": "e733c97b",
   "metadata": {},
   "outputs": [],
   "source": []
  }
 ],
 "metadata": {
  "kernelspec": {
   "display_name": "Python 3 (ipykernel)",
   "language": "python",
   "name": "python3"
  },
  "language_info": {
   "codemirror_mode": {
    "name": "ipython",
    "version": 3
   },
   "file_extension": ".py",
   "mimetype": "text/x-python",
   "name": "python",
   "nbconvert_exporter": "python",
   "pygments_lexer": "ipython3",
   "version": "3.9.13"
  }
 },
 "nbformat": 4,
 "nbformat_minor": 5
}
