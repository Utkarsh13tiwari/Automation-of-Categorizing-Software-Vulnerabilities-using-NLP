{
 "cells": [
  {
   "cell_type": "code",
   "execution_count": 1,
   "id": "deaa04f1",
   "metadata": {},
   "outputs": [],
   "source": [
    "import pandas as pd\n",
    "import seaborn as sns\n",
    "import matplotlib.pyplot as plt\n",
    "import numpy as np"
   ]
  },
  {
   "cell_type": "code",
   "execution_count": 2,
   "id": "9ebdd3ed",
   "metadata": {},
   "outputs": [],
   "source": [
    "data=pd.read_excel(r'C:\\Users\\utkar\\OneDrive\\Desktop\\EDA_project\\Data_set\\Split_data_final.xlsx', sheet_name ='Sheet1') # Reading data "
   ]
  },
  {
   "cell_type": "code",
   "execution_count": 3,
   "id": "2270d1c1",
   "metadata": {},
   "outputs": [
    {
     "data": {
      "text/plain": [
       "N    62521\n",
       "L     7094\n",
       "A      294\n",
       "Name: AV, dtype: int64"
      ]
     },
     "execution_count": 3,
     "metadata": {},
     "output_type": "execute_result"
    }
   ],
   "source": [
    "data['AV'].value_counts()"
   ]
  },
  {
   "cell_type": "code",
   "execution_count": 4,
   "id": "2b62ffe1",
   "metadata": {},
   "outputs": [],
   "source": [
    "avg=data.groupby('AV')"
   ]
  },
  {
   "cell_type": "code",
   "execution_count": 5,
   "id": "83a3d0d2",
   "metadata": {},
   "outputs": [
    {
     "data": {
      "text/plain": [
       "AV\n",
       "A    5.477551\n",
       "L    4.057119\n",
       "N    4.289658\n",
       "Name: CVSS, dtype: float64"
      ]
     },
     "execution_count": 5,
     "metadata": {},
     "output_type": "execute_result"
    }
   ],
   "source": [
    "avg['CVSS'].mean()"
   ]
  },
  {
   "cell_type": "code",
   "execution_count": 6,
   "id": "96b5c704",
   "metadata": {},
   "outputs": [
    {
     "data": {
      "text/plain": [
       "AV\n",
       "A    7.466667\n",
       "L    6.129652\n",
       "N    5.975095\n",
       "Name: CVSS3, dtype: float64"
      ]
     },
     "execution_count": 6,
     "metadata": {},
     "output_type": "execute_result"
    }
   ],
   "source": [
    "avg['CVSS3'].mean()"
   ]
  },
  {
   "cell_type": "code",
   "execution_count": 7,
   "id": "5bf44178",
   "metadata": {},
   "outputs": [
    {
     "data": {
      "text/plain": [
       "AV  AV\n",
       "A   A       294\n",
       "L   L      7094\n",
       "N   N     62521\n",
       "Name: AV, dtype: int64"
      ]
     },
     "execution_count": 7,
     "metadata": {},
     "output_type": "execute_result"
    }
   ],
   "source": [
    "avg['AV'].value_counts()"
   ]
  },
  {
   "cell_type": "code",
   "execution_count": 8,
   "id": "b07d2b3b",
   "metadata": {},
   "outputs": [
    {
     "data": {
      "text/html": [
       "<div>\n",
       "<style scoped>\n",
       "    .dataframe tbody tr th:only-of-type {\n",
       "        vertical-align: middle;\n",
       "    }\n",
       "\n",
       "    .dataframe tbody tr th {\n",
       "        vertical-align: top;\n",
       "    }\n",
       "\n",
       "    .dataframe thead th {\n",
       "        text-align: right;\n",
       "    }\n",
       "</style>\n",
       "<table border=\"1\" class=\"dataframe\">\n",
       "  <thead>\n",
       "    <tr style=\"text-align: right;\">\n",
       "      <th></th>\n",
       "      <th>Unnamed: 0</th>\n",
       "      <th>masked Ip</th>\n",
       "      <th>Network</th>\n",
       "      <th>Tracking Method</th>\n",
       "      <th>OS</th>\n",
       "      <th>IP Status</th>\n",
       "      <th>QID</th>\n",
       "      <th>Title</th>\n",
       "      <th>Vuln Status</th>\n",
       "      <th>Type</th>\n",
       "      <th>...</th>\n",
       "      <th>CVSS3 AC</th>\n",
       "      <th>CVSS3 PR</th>\n",
       "      <th>CVSS3 UI</th>\n",
       "      <th>CVSS3 S</th>\n",
       "      <th>CVSS3 C</th>\n",
       "      <th>CVSS3 I</th>\n",
       "      <th>CVSS3 A</th>\n",
       "      <th>CVSS3 E</th>\n",
       "      <th>CVSS3 RL</th>\n",
       "      <th>CVSS3 RC</th>\n",
       "    </tr>\n",
       "    <tr>\n",
       "      <th>AV</th>\n",
       "      <th></th>\n",
       "      <th></th>\n",
       "      <th></th>\n",
       "      <th></th>\n",
       "      <th></th>\n",
       "      <th></th>\n",
       "      <th></th>\n",
       "      <th></th>\n",
       "      <th></th>\n",
       "      <th></th>\n",
       "      <th></th>\n",
       "      <th></th>\n",
       "      <th></th>\n",
       "      <th></th>\n",
       "      <th></th>\n",
       "      <th></th>\n",
       "      <th></th>\n",
       "      <th></th>\n",
       "      <th></th>\n",
       "      <th></th>\n",
       "      <th></th>\n",
       "    </tr>\n",
       "  </thead>\n",
       "  <tbody>\n",
       "    <tr>\n",
       "      <th>A</th>\n",
       "      <td>8</td>\n",
       "      <td>lab_2_IP9036</td>\n",
       "      <td>Global Default Network</td>\n",
       "      <td>QAGENT</td>\n",
       "      <td>Ubuntu Linux 16.04.4</td>\n",
       "      <td>host scanned, found vuln</td>\n",
       "      <td>197995</td>\n",
       "      <td>Ubuntu Security Notification for Sane-backends...</td>\n",
       "      <td>Active</td>\n",
       "      <td>Vuln</td>\n",
       "      <td>...</td>\n",
       "      <td>L</td>\n",
       "      <td>N</td>\n",
       "      <td>N</td>\n",
       "      <td>U</td>\n",
       "      <td>H</td>\n",
       "      <td>H</td>\n",
       "      <td>H</td>\n",
       "      <td>U</td>\n",
       "      <td>O</td>\n",
       "      <td>U</td>\n",
       "    </tr>\n",
       "    <tr>\n",
       "      <th>L</th>\n",
       "      <td>0</td>\n",
       "      <td>lab_2_IP9036</td>\n",
       "      <td>Global Default Network</td>\n",
       "      <td>QAGENT</td>\n",
       "      <td>Ubuntu Linux 16.04.4</td>\n",
       "      <td>host scanned, found vuln</td>\n",
       "      <td>197967</td>\n",
       "      <td>Ubuntu Security Notification for Grub2 Vulnera...</td>\n",
       "      <td>Active</td>\n",
       "      <td>Vuln</td>\n",
       "      <td>...</td>\n",
       "      <td>L</td>\n",
       "      <td>H</td>\n",
       "      <td>N</td>\n",
       "      <td>C</td>\n",
       "      <td>H</td>\n",
       "      <td>H</td>\n",
       "      <td>H</td>\n",
       "      <td>U</td>\n",
       "      <td>O</td>\n",
       "      <td>C</td>\n",
       "    </tr>\n",
       "    <tr>\n",
       "      <th>N</th>\n",
       "      <td>1</td>\n",
       "      <td>lab_2_IP9036</td>\n",
       "      <td>Global Default Network</td>\n",
       "      <td>QAGENT</td>\n",
       "      <td>Ubuntu Linux 16.04.4</td>\n",
       "      <td>host scanned, found vuln</td>\n",
       "      <td>197742</td>\n",
       "      <td>Ubuntu Security Notification for Linux, Linux-...</td>\n",
       "      <td>Active</td>\n",
       "      <td>Vuln</td>\n",
       "      <td>...</td>\n",
       "      <td>L</td>\n",
       "      <td>N</td>\n",
       "      <td>N</td>\n",
       "      <td>U</td>\n",
       "      <td>H</td>\n",
       "      <td>H</td>\n",
       "      <td>H</td>\n",
       "      <td>U</td>\n",
       "      <td>O</td>\n",
       "      <td>U</td>\n",
       "    </tr>\n",
       "  </tbody>\n",
       "</table>\n",
       "<p>3 rows × 52 columns</p>\n",
       "</div>"
      ],
      "text/plain": [
       "    Unnamed: 0     masked Ip                 Network Tracking Method  \\\n",
       "AV                                                                     \n",
       "A            8  lab_2_IP9036  Global Default Network          QAGENT   \n",
       "L            0  lab_2_IP9036  Global Default Network          QAGENT   \n",
       "N            1  lab_2_IP9036  Global Default Network          QAGENT   \n",
       "\n",
       "                      OS                 IP Status     QID  \\\n",
       "AV                                                           \n",
       "A   Ubuntu Linux 16.04.4  host scanned, found vuln  197995   \n",
       "L   Ubuntu Linux 16.04.4  host scanned, found vuln  197967   \n",
       "N   Ubuntu Linux 16.04.4  host scanned, found vuln  197742   \n",
       "\n",
       "                                                Title Vuln Status  Type  ...  \\\n",
       "AV                                                                       ...   \n",
       "A   Ubuntu Security Notification for Sane-backends...      Active  Vuln  ...   \n",
       "L   Ubuntu Security Notification for Grub2 Vulnera...      Active  Vuln  ...   \n",
       "N   Ubuntu Security Notification for Linux, Linux-...      Active  Vuln  ...   \n",
       "\n",
       "    CVSS3 AC  CVSS3 PR CVSS3 UI CVSS3 S CVSS3 C CVSS3 I CVSS3 A  CVSS3 E  \\\n",
       "AV                                                                         \n",
       "A          L         N        N       U       H       H       H        U   \n",
       "L          L         H        N       C       H       H       H        U   \n",
       "N          L         N        N       U       H       H       H        U   \n",
       "\n",
       "   CVSS3 RL CVSS3 RC  \n",
       "AV                    \n",
       "A         O        U  \n",
       "L         O        C  \n",
       "N         O        U  \n",
       "\n",
       "[3 rows x 52 columns]"
      ]
     },
     "execution_count": 8,
     "metadata": {},
     "output_type": "execute_result"
    }
   ],
   "source": [
    "avg.first()"
   ]
  },
  {
   "cell_type": "code",
   "execution_count": null,
   "id": "b49622ae",
   "metadata": {},
   "outputs": [],
   "source": []
  },
  {
   "cell_type": "code",
   "execution_count": 9,
   "id": "c057f793",
   "metadata": {},
   "outputs": [],
   "source": [
    "data['Threat'] = data['Threat'].str.lower()"
   ]
  },
  {
   "cell_type": "code",
   "execution_count": 10,
   "id": "e2637fe7",
   "metadata": {},
   "outputs": [
    {
     "data": {
      "text/plain": [
       "0    the grub2 boot loader is vulnerable to buffer ...\n",
       "1      it was discovered that a heap-based buffer o...\n",
       "2     it was discovered that libtiff incorrectly ha...\n",
       "3      it was discovered that a race condition exis...\n",
       "4    docker engine enables containerized applicatio...\n",
       "Name: Threat, dtype: object"
      ]
     },
     "execution_count": 10,
     "metadata": {},
     "output_type": "execute_result"
    }
   ],
   "source": [
    "data['Threat'].head()"
   ]
  },
  {
   "cell_type": "code",
   "execution_count": 11,
   "id": "657b53a7",
   "metadata": {},
   "outputs": [],
   "source": [
    "data['Impact'] = data['Impact'].str.lower()"
   ]
  },
  {
   "cell_type": "code",
   "execution_count": 12,
   "id": "74e1f1d0",
   "metadata": {},
   "outputs": [
    {
     "data": {
      "text/plain": [
       "0    successful exploitation allows attacker to exe...\n",
       "1       a physically proximate attacker could use t...\n",
       "2      if a user or automated system were tricked i...\n",
       "3       a local attacker could use this to gain adm...\n",
       "4    successful exploitation of this vulnerability ...\n",
       "Name: Impact, dtype: object"
      ]
     },
     "execution_count": 12,
     "metadata": {},
     "output_type": "execute_result"
    }
   ],
   "source": [
    "data['Impact'].head()"
   ]
  },
  {
   "cell_type": "code",
   "execution_count": 13,
   "id": "be149d79",
   "metadata": {},
   "outputs": [],
   "source": [
    "data['Exploitability'] = data['Exploitability'].str.lower()"
   ]
  },
  {
   "cell_type": "code",
   "execution_count": 14,
   "id": "59d81f04",
   "metadata": {},
   "outputs": [
    {
     "data": {
      "text/plain": [
       "0                                                      NaN\n",
       "1                                                      NaN\n",
       "2                                                      NaN\n",
       "3        source: the exploit-db_x005f_x000d_\\nreference...\n",
       "4        source: qualys_x005f_x000d_\\nreference:cve-201...\n",
       "                               ...                        \n",
       "69904                                                  NaN\n",
       "69905                                                  NaN\n",
       "69906                                                  NaN\n",
       "69907                                                  NaN\n",
       "69908                                                  NaN\n",
       "Name: Exploitability, Length: 69909, dtype: object"
      ]
     },
     "execution_count": 14,
     "metadata": {},
     "output_type": "execute_result"
    }
   ],
   "source": [
    "data['Exploitability']"
   ]
  },
  {
   "cell_type": "code",
   "execution_count": 15,
   "id": "88f0cb18",
   "metadata": {},
   "outputs": [
    {
     "data": {
      "text/plain": [
       "9702"
      ]
     },
     "execution_count": 15,
     "metadata": {},
     "output_type": "execute_result"
    }
   ],
   "source": [
    "data['Exploitability'].count()"
   ]
  },
  {
   "cell_type": "code",
   "execution_count": 16,
   "id": "4080ba6a",
   "metadata": {},
   "outputs": [
    {
     "name": "stderr",
     "output_type": "stream",
     "text": [
      "C:\\Users\\utkar\\AppData\\Local\\Temp\\ipykernel_28976\\77678499.py:1: FutureWarning: The default value of regex will change from True to False in a future version.\n",
      "  data[\"Impact\"] = data['Impact'].str.replace('[^\\w\\s]','')\n"
     ]
    }
   ],
   "source": [
    "data[\"Impact\"] = data['Impact'].str.replace('[^\\w\\s]','')"
   ]
  },
  {
   "cell_type": "code",
   "execution_count": 17,
   "id": "8fecd400",
   "metadata": {},
   "outputs": [
    {
     "data": {
      "text/plain": [
       "0    successful exploitation allows attacker to exe...\n",
       "1       a physically proximate attacker could use t...\n",
       "2      if a user or automated system were tricked i...\n",
       "3       a local attacker could use this to gain adm...\n",
       "4    successful exploitation of this vulnerability ...\n",
       "Name: Impact, dtype: object"
      ]
     },
     "execution_count": 17,
     "metadata": {},
     "output_type": "execute_result"
    }
   ],
   "source": [
    "data['Impact'].head()"
   ]
  },
  {
   "cell_type": "code",
   "execution_count": 18,
   "id": "4bde857a",
   "metadata": {},
   "outputs": [
    {
     "name": "stderr",
     "output_type": "stream",
     "text": [
      "C:\\Users\\utkar\\AppData\\Local\\Temp\\ipykernel_28976\\1039804244.py:1: FutureWarning: The default value of regex will change from True to False in a future version.\n",
      "  data[\"Threat\"] = data['Threat'].str.replace('[^\\w\\s]','')\n"
     ]
    }
   ],
   "source": [
    "data[\"Threat\"] = data['Threat'].str.replace('[^\\w\\s]','')"
   ]
  },
  {
   "cell_type": "code",
   "execution_count": 19,
   "id": "490ceaad",
   "metadata": {},
   "outputs": [],
   "source": [
    "data['Threat'] = data['Threat'].replace(r'http\\S+', '', regex=True).replace(r'www\\S+', '', regex=True)"
   ]
  },
  {
   "cell_type": "code",
   "execution_count": 20,
   "id": "73784c72",
   "metadata": {},
   "outputs": [
    {
     "data": {
      "text/plain": [
       "0    the grub2 boot loader is vulnerable to buffer ...\n",
       "1      it was discovered that a heapbased buffer ov...\n",
       "2     it was discovered that libtiff incorrectly ha...\n",
       "3      it was discovered that a race condition exis...\n",
       "4    docker engine enables containerized applicatio...\n",
       "Name: Threat, dtype: object"
      ]
     },
     "execution_count": 20,
     "metadata": {},
     "output_type": "execute_result"
    }
   ],
   "source": [
    "data['Threat'].head()"
   ]
  },
  {
   "cell_type": "code",
   "execution_count": 21,
   "id": "979c3e10",
   "metadata": {},
   "outputs": [
    {
     "data": {
      "text/plain": [
       "count                                                 69909\n",
       "unique                                                 1124\n",
       "top       an ssl certificate associates an entity person...\n",
       "freq                                                   5391\n",
       "Name: Threat, dtype: object"
      ]
     },
     "execution_count": 21,
     "metadata": {},
     "output_type": "execute_result"
    }
   ],
   "source": [
    "data['Threat'].describe()"
   ]
  },
  {
   "cell_type": "code",
   "execution_count": 22,
   "id": "311f475b",
   "metadata": {},
   "outputs": [
    {
     "data": {
      "text/plain": [
       "count                                                 69409\n",
       "unique                                                  714\n",
       "top       by exploiting this vulnerability an attacker c...\n",
       "freq                                                   8128\n",
       "Name: Impact, dtype: object"
      ]
     },
     "execution_count": 22,
     "metadata": {},
     "output_type": "execute_result"
    }
   ],
   "source": [
    "data['Impact'].describe()"
   ]
  },
  {
   "cell_type": "code",
   "execution_count": 23,
   "id": "5499a7d4",
   "metadata": {},
   "outputs": [
    {
     "data": {
      "text/plain": [
       "count                                                  9702\n",
       "unique                                                  160\n",
       "top       source: the exploit-db_x005f_x000d_\\nreference...\n",
       "freq                                                   1180\n",
       "Name: Exploitability, dtype: object"
      ]
     },
     "execution_count": 23,
     "metadata": {},
     "output_type": "execute_result"
    }
   ],
   "source": [
    "data['Exploitability'].describe()"
   ]
  },
  {
   "cell_type": "code",
   "execution_count": 24,
   "id": "10402a1e",
   "metadata": {},
   "outputs": [
    {
     "data": {
      "text/plain": [
       "<bound method NDFrame.head of 0        successful exploitation allows attacker to exe...\n",
       "1           a physically proximate attacker could use t...\n",
       "2          if a user or automated system were tricked i...\n",
       "3           a local attacker could use this to gain adm...\n",
       "4        successful exploitation of this vulnerability ...\n",
       "                               ...                        \n",
       "69904    an attacker can exploit cryptographic flaws to...\n",
       "69905    an attacker can exploit cryptographic flaws to...\n",
       "69906    by exploiting this vulnerability an attacker c...\n",
       "69907    by exploiting this vulnerability an attacker c...\n",
       "69908    by exploiting this vulnerability an attacker c...\n",
       "Name: Impact, Length: 69909, dtype: object>"
      ]
     },
     "execution_count": 24,
     "metadata": {},
     "output_type": "execute_result"
    }
   ],
   "source": [
    "data['Impact'].dropna(inplace=True)\n",
    "data['Impact'] = data['Impact'].astype(str)\n",
    "data['Impact'].head"
   ]
  },
  {
   "cell_type": "code",
   "execution_count": 25,
   "id": "fc1e177e",
   "metadata": {},
   "outputs": [],
   "source": [
    "\n",
    "from nltk.tokenize import sent_tokenize, word_tokenize\n",
    "\n",
    "data['Impact']=data['Impact'].apply(word_tokenize)"
   ]
  },
  {
   "cell_type": "code",
   "execution_count": 26,
   "id": "af3bef12",
   "metadata": {},
   "outputs": [
    {
     "data": {
      "text/plain": [
       "0    [successful, exploitation, allows, attacker, t...\n",
       "1    [a, physically, proximate, attacker, could, us...\n",
       "2    [if, a, user, or, automated, system, were, tri...\n",
       "3    [a, local, attacker, could, use, this, to, gai...\n",
       "4    [successful, exploitation, of, this, vulnerabi...\n",
       "Name: Impact, dtype: object"
      ]
     },
     "execution_count": 26,
     "metadata": {},
     "output_type": "execute_result"
    }
   ],
   "source": [
    "data['Impact'].head()"
   ]
  },
  {
   "cell_type": "code",
   "execution_count": null,
   "id": "cd060a73",
   "metadata": {},
   "outputs": [],
   "source": [
    "data['Threat']=data['Threat'].apply(word_tokenize)"
   ]
  },
  {
   "cell_type": "code",
   "execution_count": null,
   "id": "a743993a",
   "metadata": {},
   "outputs": [],
   "source": [
    "data['Threat'].head()"
   ]
  },
  {
   "cell_type": "code",
   "execution_count": null,
   "id": "d9f5626c",
   "metadata": {},
   "outputs": [],
   "source": [
    "data['Impact'].value_counts()"
   ]
  },
  {
   "cell_type": "markdown",
   "id": "69ca13fd",
   "metadata": {},
   "source": [
    "# Removing stop words"
   ]
  },
  {
   "cell_type": "code",
   "execution_count": null,
   "id": "380696fb",
   "metadata": {},
   "outputs": [],
   "source": [
    "from nltk.corpus import stopwords\n",
    "\n",
    "stop = stopwords.words('english')\n",
    "\n",
    "data['Impact']=data['Impact'].apply(lambda x: [item for item in x if item not in stop])"
   ]
  },
  {
   "cell_type": "code",
   "execution_count": null,
   "id": "bad0407b",
   "metadata": {},
   "outputs": [],
   "source": [
    "data['Impact'].head()"
   ]
  },
  {
   "cell_type": "markdown",
   "id": "a3e37a1a",
   "metadata": {},
   "source": [
    "# Removing stop words"
   ]
  },
  {
   "cell_type": "code",
   "execution_count": null,
   "id": "84b79487",
   "metadata": {},
   "outputs": [],
   "source": [
    "from nltk.corpus import stopwords\n",
    "\n",
    "stop = stopwords.words('english')\n",
    "new_stopwords = [\"id\", \"from\", \"could\", \"use\", \"also\",\"Many\",\"like\",\"May\",\"may\",\"ca\",\"even\",\"ect\",\"i.e\",\"cause\",\"result\",\"used\",\"form\",\"Its\",\"cause\",\"take\",\"following\"]\n",
    "stop.extend(new_stopwords)\n",
    "\n",
    "data['Threat']=data['Threat'].apply(lambda x: [item for item in x if item not in stop])"
   ]
  },
  {
   "cell_type": "code",
   "execution_count": null,
   "id": "79c62283",
   "metadata": {},
   "outputs": [],
   "source": [
    "data['Threat'].head()"
   ]
  },
  {
   "cell_type": "code",
   "execution_count": null,
   "id": "db29b2b1",
   "metadata": {},
   "outputs": [],
   "source": [
    "result = data['Impact'].value_counts()"
   ]
  },
  {
   "cell_type": "code",
   "execution_count": null,
   "id": "8bc21412",
   "metadata": {},
   "outputs": [],
   "source": [
    "print(result)"
   ]
  },
  {
   "cell_type": "code",
   "execution_count": null,
   "id": "6c18b6b8",
   "metadata": {},
   "outputs": [],
   "source": [
    "avg['Impact'].first()"
   ]
  },
  {
   "cell_type": "code",
   "execution_count": null,
   "id": "1f97f1d5",
   "metadata": {},
   "outputs": [],
   "source": [
    "data['CVSS_range'] = pd.cut(data['CVSS'], [0.0,3.9,6.9,10], right=True,labels=('LOW','MEDIEM','HIGH'))"
   ]
  },
  {
   "cell_type": "code",
   "execution_count": null,
   "id": "20794fa2",
   "metadata": {},
   "outputs": [],
   "source": [
    "data['CVSS_range'].head(10)"
   ]
  },
  {
   "cell_type": "code",
   "execution_count": null,
   "id": "19a0d7a1",
   "metadata": {},
   "outputs": [],
   "source": [
    "avg=data.groupby(['AV','CVSS_range'])"
   ]
  },
  {
   "cell_type": "code",
   "execution_count": null,
   "id": "1f779078",
   "metadata": {},
   "outputs": [],
   "source": [
    "avg.first()"
   ]
  },
  {
   "cell_type": "code",
   "execution_count": null,
   "id": "706838ef",
   "metadata": {},
   "outputs": [],
   "source": [
    "avg['Threat'].first()"
   ]
  },
  {
   "cell_type": "markdown",
   "id": "d628119f",
   "metadata": {},
   "source": [
    "array = np.array(data['Impact'])\n",
    "tuple(data['Threat'])"
   ]
  },
  {
   "cell_type": "markdown",
   "id": "819a2c23",
   "metadata": {},
   "source": [
    "strr=data['Threat'].to_string(index = False)"
   ]
  },
  {
   "cell_type": "code",
   "execution_count": null,
   "id": "0a0b13ac",
   "metadata": {},
   "outputs": [],
   "source": [
    "res = list(zip(*(data['Threat'][key] for key in data['Threat'].keys())))"
   ]
  },
  {
   "cell_type": "code",
   "execution_count": null,
   "id": "e6ef6c01",
   "metadata": {},
   "outputs": [],
   "source": [
    "len(res[3])"
   ]
  },
  {
   "cell_type": "code",
   "execution_count": null,
   "id": "8e14d6d1",
   "metadata": {},
   "outputs": [],
   "source": [
    "data['Threat'].head()"
   ]
  },
  {
   "cell_type": "markdown",
   "id": "a95b90d2",
   "metadata": {},
   "source": [
    "# Term frequency using self defined function"
   ]
  },
  {
   "cell_type": "markdown",
   "id": "85e4e59f",
   "metadata": {},
   "source": [
    "# Threat first"
   ]
  },
  {
   "cell_type": "code",
   "execution_count": null,
   "id": "244dd03a",
   "metadata": {},
   "outputs": [],
   "source": [
    "def unnesting(df, explode):\n",
    "    idx=df.index.repeat(df[explode[0]].str.len())\n",
    "    df1=pd.concat([pd.DataFrame({x:np.concatenate(df[x].values)} )for x in explode],axis=1)\n",
    "    df1.index=idx\n",
    "    return df1.join(df.drop(explode,1),how='left')"
   ]
  },
  {
   "cell_type": "code",
   "execution_count": null,
   "id": "33ac6145",
   "metadata": {},
   "outputs": [],
   "source": [
    "df = pd.DataFrame()"
   ]
  },
  {
   "cell_type": "code",
   "execution_count": null,
   "id": "a2e0236a",
   "metadata": {},
   "outputs": [],
   "source": [
    "df['Threat-TF']=unnesting(data,['Threat'])['Threat'].value_counts()"
   ]
  },
  {
   "cell_type": "code",
   "execution_count": null,
   "id": "2998c951",
   "metadata": {},
   "outputs": [],
   "source": [
    "df['Threat-TF'].head(30)"
   ]
  },
  {
   "cell_type": "code",
   "execution_count": null,
   "id": "089a3416",
   "metadata": {},
   "outputs": [],
   "source": [
    "df['Threat-TF'].isna().sum()"
   ]
  },
  {
   "cell_type": "code",
   "execution_count": null,
   "id": "c01253e0",
   "metadata": {},
   "outputs": [],
   "source": []
  },
  {
   "cell_type": "markdown",
   "id": "00c9354a",
   "metadata": {},
   "source": [
    "## -------------------------------------------------------------------------------------------------"
   ]
  },
  {
   "cell_type": "markdown",
   "id": "ce7c0c99",
   "metadata": {},
   "source": [
    "# Term freq of Grouped based on AV"
   ]
  },
  {
   "cell_type": "code",
   "execution_count": null,
   "id": "c6584644",
   "metadata": {},
   "outputs": [],
   "source": [
    "df_a = pd.DataFrame()"
   ]
  },
  {
   "cell_type": "code",
   "execution_count": null,
   "id": "fc62dddc",
   "metadata": {},
   "outputs": [],
   "source": [
    "df_l = pd.DataFrame()"
   ]
  },
  {
   "cell_type": "code",
   "execution_count": null,
   "id": "df0f9981",
   "metadata": {},
   "outputs": [],
   "source": [
    "df_n = pd.DataFrame()"
   ]
  },
  {
   "cell_type": "code",
   "execution_count": null,
   "id": "c34ea5ee",
   "metadata": {},
   "outputs": [],
   "source": [
    "data_a=data.loc[data['AV'] == 'A']"
   ]
  },
  {
   "cell_type": "code",
   "execution_count": null,
   "id": "082b4ae2",
   "metadata": {},
   "outputs": [],
   "source": [
    "print('Row count is:', len(data_a))"
   ]
  },
  {
   "cell_type": "code",
   "execution_count": null,
   "id": "e3c775d9",
   "metadata": {},
   "outputs": [],
   "source": [
    "data_l=data.loc[data['AV'] == 'L']"
   ]
  },
  {
   "cell_type": "code",
   "execution_count": null,
   "id": "a1564886",
   "metadata": {},
   "outputs": [],
   "source": [
    "print('Row count is:', len(data_l))"
   ]
  },
  {
   "cell_type": "code",
   "execution_count": null,
   "id": "9b79a5f6",
   "metadata": {},
   "outputs": [],
   "source": [
    "data_n=data.loc[data['AV'] == 'N']"
   ]
  },
  {
   "cell_type": "code",
   "execution_count": null,
   "id": "1a2acd67",
   "metadata": {},
   "outputs": [],
   "source": [
    "print('Row count is:', len(data_n))"
   ]
  },
  {
   "cell_type": "code",
   "execution_count": null,
   "id": "f2f96c26",
   "metadata": {},
   "outputs": [],
   "source": [
    "df_a['Threat-TF']=unnesting(data_a,['Threat'])['Threat'].value_counts()"
   ]
  },
  {
   "cell_type": "code",
   "execution_count": null,
   "id": "c04f500a",
   "metadata": {},
   "outputs": [],
   "source": [
    "df_l['Threat-TF']=unnesting(data_l,['Threat'])['Threat'].value_counts()"
   ]
  },
  {
   "cell_type": "code",
   "execution_count": null,
   "id": "9ae5528b",
   "metadata": {},
   "outputs": [],
   "source": [
    "df_n['Threat-TF']=unnesting(data_n,['Threat'])['Threat'].value_counts()"
   ]
  },
  {
   "cell_type": "code",
   "execution_count": null,
   "id": "54318967",
   "metadata": {},
   "outputs": [],
   "source": [
    "df_a['Threat-TF'].head()"
   ]
  },
  {
   "cell_type": "code",
   "execution_count": null,
   "id": "7b156307",
   "metadata": {},
   "outputs": [],
   "source": [
    "df_l['Threat-TF'].head()"
   ]
  },
  {
   "cell_type": "code",
   "execution_count": null,
   "id": "5003db40",
   "metadata": {},
   "outputs": [],
   "source": [
    "df_n['Threat-TF'].head()"
   ]
  },
  {
   "cell_type": "code",
   "execution_count": null,
   "id": "6a117036",
   "metadata": {},
   "outputs": [],
   "source": [
    "df_a.isnull().sum()"
   ]
  },
  {
   "cell_type": "code",
   "execution_count": null,
   "id": "a3de4cb0",
   "metadata": {},
   "outputs": [],
   "source": [
    "df_l.isnull().sum()"
   ]
  },
  {
   "cell_type": "code",
   "execution_count": null,
   "id": "5c7e078d",
   "metadata": {},
   "outputs": [],
   "source": [
    "df_n.isnull().sum()"
   ]
  },
  {
   "cell_type": "code",
   "execution_count": null,
   "id": "60f01b5c",
   "metadata": {},
   "outputs": [],
   "source": [
    "#Filtered TF\n",
    "#df_a.to_excel(r'C:\\Users\\utkar\\OneDrive\\Desktop\\EDA_project\\Text Mined Datasets\\Term Freq_Groups\\df_a_Threat.xlsx')"
   ]
  },
  {
   "cell_type": "code",
   "execution_count": null,
   "id": "d46e7c5b",
   "metadata": {},
   "outputs": [],
   "source": [
    "#Filtered TF\n",
    "#df_l.to_excel(r'C:\\Users\\utkar\\OneDrive\\Desktop\\EDA_project\\Text Mined Datasets\\Term Freq_Groups\\df_l_Threat.xlsx')"
   ]
  },
  {
   "cell_type": "code",
   "execution_count": null,
   "id": "b2609847",
   "metadata": {},
   "outputs": [],
   "source": [
    "#Filtered TF\n",
    "#df_n.to_excel(r'C:\\Users\\utkar\\OneDrive\\Desktop\\EDA_project\\Text Mined Datasets\\Term Freq_Groups\\df_n_Threat.xlsx')"
   ]
  },
  {
   "cell_type": "code",
   "execution_count": null,
   "id": "28044d01",
   "metadata": {},
   "outputs": [],
   "source": [
    "#data['Impact'].head()"
   ]
  },
  {
   "cell_type": "code",
   "execution_count": null,
   "id": "40df4341",
   "metadata": {},
   "outputs": [],
   "source": [
    "#df.to_excel(r'C:\\Users\\utkar\\OneDrive\\Desktop\\EDA_project\\Text Mined Datasets\\Term Freq\\text_minT.xlsx')"
   ]
  },
  {
   "cell_type": "code",
   "execution_count": null,
   "id": "8d3adcc8",
   "metadata": {},
   "outputs": [],
   "source": []
  },
  {
   "cell_type": "code",
   "execution_count": null,
   "id": "9d720405",
   "metadata": {},
   "outputs": [],
   "source": []
  }
 ],
 "metadata": {
  "kernelspec": {
   "display_name": "Python 3 (ipykernel)",
   "language": "python",
   "name": "python3"
  },
  "language_info": {
   "codemirror_mode": {
    "name": "ipython",
    "version": 3
   },
   "file_extension": ".py",
   "mimetype": "text/x-python",
   "name": "python",
   "nbconvert_exporter": "python",
   "pygments_lexer": "ipython3",
   "version": "3.9.13"
  }
 },
 "nbformat": 4,
 "nbformat_minor": 5
}
