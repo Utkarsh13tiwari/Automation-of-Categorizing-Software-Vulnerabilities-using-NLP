{
 "cells": [
  {
   "cell_type": "code",
   "execution_count": 77,
   "id": "deaa04f1",
   "metadata": {},
   "outputs": [],
   "source": [
    "import pandas as pd\n",
    "import seaborn as sns\n",
    "import matplotlib.pyplot as plt\n",
    "import numpy as np\n",
    "from wordcloud import WordCloud"
   ]
  },
  {
   "cell_type": "code",
   "execution_count": 5,
   "id": "9ebdd3ed",
   "metadata": {},
   "outputs": [],
   "source": [
    "data=pd.read_excel(r'C:\\Users\\utkar\\OneDrive\\Desktop\\EDA_project\\Data_set\\Split_data_final.xlsx', sheet_name ='Sheet1') # Reading data "
   ]
  },
  {
   "cell_type": "code",
   "execution_count": 6,
   "id": "2270d1c1",
   "metadata": {},
   "outputs": [
    {
     "data": {
      "text/plain": [
       "N    62521\n",
       "L     7094\n",
       "A      294\n",
       "Name: AV, dtype: int64"
      ]
     },
     "execution_count": 6,
     "metadata": {},
     "output_type": "execute_result"
    }
   ],
   "source": [
    "data['AV'].value_counts()"
   ]
  },
  {
   "cell_type": "code",
   "execution_count": 7,
   "id": "2b62ffe1",
   "metadata": {},
   "outputs": [],
   "source": [
    "avg=data.groupby('AV')"
   ]
  },
  {
   "cell_type": "code",
   "execution_count": 8,
   "id": "83a3d0d2",
   "metadata": {},
   "outputs": [
    {
     "data": {
      "text/plain": [
       "AV\n",
       "A    5.477551\n",
       "L    4.057119\n",
       "N    4.289658\n",
       "Name: CVSS, dtype: float64"
      ]
     },
     "execution_count": 8,
     "metadata": {},
     "output_type": "execute_result"
    }
   ],
   "source": [
    "avg['CVSS'].mean()"
   ]
  },
  {
   "cell_type": "code",
   "execution_count": 9,
   "id": "96b5c704",
   "metadata": {},
   "outputs": [
    {
     "data": {
      "text/plain": [
       "AV\n",
       "A    7.466667\n",
       "L    6.129652\n",
       "N    5.975095\n",
       "Name: CVSS3, dtype: float64"
      ]
     },
     "execution_count": 9,
     "metadata": {},
     "output_type": "execute_result"
    }
   ],
   "source": [
    "avg['CVSS3'].mean()"
   ]
  },
  {
   "cell_type": "code",
   "execution_count": 10,
   "id": "5bf44178",
   "metadata": {},
   "outputs": [
    {
     "data": {
      "text/plain": [
       "AV  AV\n",
       "A   A       294\n",
       "L   L      7094\n",
       "N   N     62521\n",
       "Name: AV, dtype: int64"
      ]
     },
     "execution_count": 10,
     "metadata": {},
     "output_type": "execute_result"
    }
   ],
   "source": [
    "avg['AV'].value_counts()"
   ]
  },
  {
   "cell_type": "code",
   "execution_count": 11,
   "id": "b07d2b3b",
   "metadata": {},
   "outputs": [
    {
     "data": {
      "text/html": [
       "<div>\n",
       "<style scoped>\n",
       "    .dataframe tbody tr th:only-of-type {\n",
       "        vertical-align: middle;\n",
       "    }\n",
       "\n",
       "    .dataframe tbody tr th {\n",
       "        vertical-align: top;\n",
       "    }\n",
       "\n",
       "    .dataframe thead th {\n",
       "        text-align: right;\n",
       "    }\n",
       "</style>\n",
       "<table border=\"1\" class=\"dataframe\">\n",
       "  <thead>\n",
       "    <tr style=\"text-align: right;\">\n",
       "      <th></th>\n",
       "      <th>Unnamed: 0</th>\n",
       "      <th>masked Ip</th>\n",
       "      <th>Network</th>\n",
       "      <th>Tracking Method</th>\n",
       "      <th>OS</th>\n",
       "      <th>IP Status</th>\n",
       "      <th>QID</th>\n",
       "      <th>Title</th>\n",
       "      <th>Vuln Status</th>\n",
       "      <th>Type</th>\n",
       "      <th>...</th>\n",
       "      <th>CVSS3 AC</th>\n",
       "      <th>CVSS3 PR</th>\n",
       "      <th>CVSS3 UI</th>\n",
       "      <th>CVSS3 S</th>\n",
       "      <th>CVSS3 C</th>\n",
       "      <th>CVSS3 I</th>\n",
       "      <th>CVSS3 A</th>\n",
       "      <th>CVSS3 E</th>\n",
       "      <th>CVSS3 RL</th>\n",
       "      <th>CVSS3 RC</th>\n",
       "    </tr>\n",
       "    <tr>\n",
       "      <th>AV</th>\n",
       "      <th></th>\n",
       "      <th></th>\n",
       "      <th></th>\n",
       "      <th></th>\n",
       "      <th></th>\n",
       "      <th></th>\n",
       "      <th></th>\n",
       "      <th></th>\n",
       "      <th></th>\n",
       "      <th></th>\n",
       "      <th></th>\n",
       "      <th></th>\n",
       "      <th></th>\n",
       "      <th></th>\n",
       "      <th></th>\n",
       "      <th></th>\n",
       "      <th></th>\n",
       "      <th></th>\n",
       "      <th></th>\n",
       "      <th></th>\n",
       "      <th></th>\n",
       "    </tr>\n",
       "  </thead>\n",
       "  <tbody>\n",
       "    <tr>\n",
       "      <th>A</th>\n",
       "      <td>8</td>\n",
       "      <td>lab_2_IP9036</td>\n",
       "      <td>Global Default Network</td>\n",
       "      <td>QAGENT</td>\n",
       "      <td>Ubuntu Linux 16.04.4</td>\n",
       "      <td>host scanned, found vuln</td>\n",
       "      <td>197995</td>\n",
       "      <td>Ubuntu Security Notification for Sane-backends...</td>\n",
       "      <td>Active</td>\n",
       "      <td>Vuln</td>\n",
       "      <td>...</td>\n",
       "      <td>L</td>\n",
       "      <td>N</td>\n",
       "      <td>N</td>\n",
       "      <td>U</td>\n",
       "      <td>H</td>\n",
       "      <td>H</td>\n",
       "      <td>H</td>\n",
       "      <td>U</td>\n",
       "      <td>O</td>\n",
       "      <td>U</td>\n",
       "    </tr>\n",
       "    <tr>\n",
       "      <th>L</th>\n",
       "      <td>0</td>\n",
       "      <td>lab_2_IP9036</td>\n",
       "      <td>Global Default Network</td>\n",
       "      <td>QAGENT</td>\n",
       "      <td>Ubuntu Linux 16.04.4</td>\n",
       "      <td>host scanned, found vuln</td>\n",
       "      <td>197967</td>\n",
       "      <td>Ubuntu Security Notification for Grub2 Vulnera...</td>\n",
       "      <td>Active</td>\n",
       "      <td>Vuln</td>\n",
       "      <td>...</td>\n",
       "      <td>L</td>\n",
       "      <td>H</td>\n",
       "      <td>N</td>\n",
       "      <td>C</td>\n",
       "      <td>H</td>\n",
       "      <td>H</td>\n",
       "      <td>H</td>\n",
       "      <td>U</td>\n",
       "      <td>O</td>\n",
       "      <td>C</td>\n",
       "    </tr>\n",
       "    <tr>\n",
       "      <th>N</th>\n",
       "      <td>1</td>\n",
       "      <td>lab_2_IP9036</td>\n",
       "      <td>Global Default Network</td>\n",
       "      <td>QAGENT</td>\n",
       "      <td>Ubuntu Linux 16.04.4</td>\n",
       "      <td>host scanned, found vuln</td>\n",
       "      <td>197742</td>\n",
       "      <td>Ubuntu Security Notification for Linux, Linux-...</td>\n",
       "      <td>Active</td>\n",
       "      <td>Vuln</td>\n",
       "      <td>...</td>\n",
       "      <td>L</td>\n",
       "      <td>N</td>\n",
       "      <td>N</td>\n",
       "      <td>U</td>\n",
       "      <td>H</td>\n",
       "      <td>H</td>\n",
       "      <td>H</td>\n",
       "      <td>U</td>\n",
       "      <td>O</td>\n",
       "      <td>U</td>\n",
       "    </tr>\n",
       "  </tbody>\n",
       "</table>\n",
       "<p>3 rows × 52 columns</p>\n",
       "</div>"
      ],
      "text/plain": [
       "    Unnamed: 0     masked Ip                 Network Tracking Method  \\\n",
       "AV                                                                     \n",
       "A            8  lab_2_IP9036  Global Default Network          QAGENT   \n",
       "L            0  lab_2_IP9036  Global Default Network          QAGENT   \n",
       "N            1  lab_2_IP9036  Global Default Network          QAGENT   \n",
       "\n",
       "                      OS                 IP Status     QID  \\\n",
       "AV                                                           \n",
       "A   Ubuntu Linux 16.04.4  host scanned, found vuln  197995   \n",
       "L   Ubuntu Linux 16.04.4  host scanned, found vuln  197967   \n",
       "N   Ubuntu Linux 16.04.4  host scanned, found vuln  197742   \n",
       "\n",
       "                                                Title Vuln Status  Type  ...  \\\n",
       "AV                                                                       ...   \n",
       "A   Ubuntu Security Notification for Sane-backends...      Active  Vuln  ...   \n",
       "L   Ubuntu Security Notification for Grub2 Vulnera...      Active  Vuln  ...   \n",
       "N   Ubuntu Security Notification for Linux, Linux-...      Active  Vuln  ...   \n",
       "\n",
       "    CVSS3 AC  CVSS3 PR CVSS3 UI CVSS3 S CVSS3 C CVSS3 I CVSS3 A  CVSS3 E  \\\n",
       "AV                                                                         \n",
       "A          L         N        N       U       H       H       H        U   \n",
       "L          L         H        N       C       H       H       H        U   \n",
       "N          L         N        N       U       H       H       H        U   \n",
       "\n",
       "   CVSS3 RL CVSS3 RC  \n",
       "AV                    \n",
       "A         O        U  \n",
       "L         O        C  \n",
       "N         O        U  \n",
       "\n",
       "[3 rows x 52 columns]"
      ]
     },
     "execution_count": 11,
     "metadata": {},
     "output_type": "execute_result"
    }
   ],
   "source": [
    "avg.first()"
   ]
  },
  {
   "cell_type": "code",
   "execution_count": null,
   "id": "b49622ae",
   "metadata": {},
   "outputs": [],
   "source": []
  },
  {
   "cell_type": "code",
   "execution_count": 12,
   "id": "c057f793",
   "metadata": {},
   "outputs": [],
   "source": [
    "data['Threat'] = data['Threat'].str.lower()"
   ]
  },
  {
   "cell_type": "code",
   "execution_count": 13,
   "id": "e2637fe7",
   "metadata": {},
   "outputs": [
    {
     "data": {
      "text/plain": [
       "0    the grub2 boot loader is vulnerable to buffer ...\n",
       "1      it was discovered that a heap-based buffer o...\n",
       "2     it was discovered that libtiff incorrectly ha...\n",
       "3      it was discovered that a race condition exis...\n",
       "4    docker engine enables containerized applicatio...\n",
       "Name: Threat, dtype: object"
      ]
     },
     "execution_count": 13,
     "metadata": {},
     "output_type": "execute_result"
    }
   ],
   "source": [
    "data['Threat'].head()"
   ]
  },
  {
   "cell_type": "code",
   "execution_count": 14,
   "id": "657b53a7",
   "metadata": {},
   "outputs": [],
   "source": [
    "data['Impact'] = data['Impact'].str.lower()"
   ]
  },
  {
   "cell_type": "code",
   "execution_count": 15,
   "id": "74e1f1d0",
   "metadata": {},
   "outputs": [
    {
     "data": {
      "text/plain": [
       "0    successful exploitation allows attacker to exe...\n",
       "1       a physically proximate attacker could use t...\n",
       "2      if a user or automated system were tricked i...\n",
       "3       a local attacker could use this to gain adm...\n",
       "4    successful exploitation of this vulnerability ...\n",
       "Name: Impact, dtype: object"
      ]
     },
     "execution_count": 15,
     "metadata": {},
     "output_type": "execute_result"
    }
   ],
   "source": [
    "data['Impact'].head()"
   ]
  },
  {
   "cell_type": "code",
   "execution_count": 16,
   "id": "be149d79",
   "metadata": {},
   "outputs": [],
   "source": [
    "data['Exploitability'] = data['Exploitability'].str.lower()"
   ]
  },
  {
   "cell_type": "code",
   "execution_count": 17,
   "id": "59d81f04",
   "metadata": {},
   "outputs": [
    {
     "data": {
      "text/plain": [
       "0                                                      NaN\n",
       "1                                                      NaN\n",
       "2                                                      NaN\n",
       "3        source: the exploit-db_x005f_x000d_\\nreference...\n",
       "4        source: qualys_x005f_x000d_\\nreference:cve-201...\n",
       "                               ...                        \n",
       "69904                                                  NaN\n",
       "69905                                                  NaN\n",
       "69906                                                  NaN\n",
       "69907                                                  NaN\n",
       "69908                                                  NaN\n",
       "Name: Exploitability, Length: 69909, dtype: object"
      ]
     },
     "execution_count": 17,
     "metadata": {},
     "output_type": "execute_result"
    }
   ],
   "source": [
    "data['Exploitability']"
   ]
  },
  {
   "cell_type": "code",
   "execution_count": 18,
   "id": "88f0cb18",
   "metadata": {},
   "outputs": [
    {
     "data": {
      "text/plain": [
       "9702"
      ]
     },
     "execution_count": 18,
     "metadata": {},
     "output_type": "execute_result"
    }
   ],
   "source": [
    "data['Exploitability'].count()"
   ]
  },
  {
   "cell_type": "code",
   "execution_count": 19,
   "id": "4080ba6a",
   "metadata": {},
   "outputs": [
    {
     "name": "stderr",
     "output_type": "stream",
     "text": [
      "C:\\Users\\utkar\\AppData\\Local\\Temp\\ipykernel_15056\\77678499.py:1: FutureWarning: The default value of regex will change from True to False in a future version.\n",
      "  data[\"Impact\"] = data['Impact'].str.replace('[^\\w\\s]','')\n"
     ]
    }
   ],
   "source": [
    "data[\"Impact\"] = data['Impact'].str.replace('[^\\w\\s]','')"
   ]
  },
  {
   "cell_type": "code",
   "execution_count": 20,
   "id": "fc43ca92",
   "metadata": {},
   "outputs": [],
   "source": [
    "data['Impact'] = data['Impact'].replace(r'http\\S+', '', regex=True).replace(r'www\\S+', '', regex=True)"
   ]
  },
  {
   "cell_type": "code",
   "execution_count": 21,
   "id": "229d9907",
   "metadata": {},
   "outputs": [],
   "source": [
    "data['Threat'] = data['Threat'].replace(r'http\\S+', '', regex=True).replace(r'www\\S+', '', regex=True)"
   ]
  },
  {
   "cell_type": "code",
   "execution_count": 22,
   "id": "8fecd400",
   "metadata": {},
   "outputs": [
    {
     "data": {
      "text/plain": [
       "0    successful exploitation allows attacker to exe...\n",
       "1       a physically proximate attacker could use t...\n",
       "2      if a user or automated system were tricked i...\n",
       "3       a local attacker could use this to gain adm...\n",
       "4    successful exploitation of this vulnerability ...\n",
       "Name: Impact, dtype: object"
      ]
     },
     "execution_count": 22,
     "metadata": {},
     "output_type": "execute_result"
    }
   ],
   "source": [
    "data['Impact'].head()"
   ]
  },
  {
   "cell_type": "code",
   "execution_count": 23,
   "id": "4bde857a",
   "metadata": {},
   "outputs": [],
   "source": [
    "#data[\"Threat\"] = data['Threat'].str.replace('[^\\w\\s]','')"
   ]
  },
  {
   "cell_type": "code",
   "execution_count": 24,
   "id": "73784c72",
   "metadata": {},
   "outputs": [
    {
     "data": {
      "text/plain": [
       "0    the grub2 boot loader is vulnerable to buffer ...\n",
       "1      it was discovered that a heap-based buffer o...\n",
       "2     it was discovered that libtiff incorrectly ha...\n",
       "3      it was discovered that a race condition exis...\n",
       "4    docker engine enables containerized applicatio...\n",
       "Name: Threat, dtype: object"
      ]
     },
     "execution_count": 24,
     "metadata": {},
     "output_type": "execute_result"
    }
   ],
   "source": [
    "data['Threat'].head()"
   ]
  },
  {
   "cell_type": "code",
   "execution_count": 25,
   "id": "979c3e10",
   "metadata": {},
   "outputs": [
    {
     "data": {
      "text/plain": [
       "count                                                 69909\n",
       "unique                                                 1126\n",
       "top       an ssl certificate associates an entity (perso...\n",
       "freq                                                   5391\n",
       "Name: Threat, dtype: object"
      ]
     },
     "execution_count": 25,
     "metadata": {},
     "output_type": "execute_result"
    }
   ],
   "source": [
    "data['Threat'].describe()"
   ]
  },
  {
   "cell_type": "code",
   "execution_count": 26,
   "id": "311f475b",
   "metadata": {},
   "outputs": [
    {
     "data": {
      "text/plain": [
       "count                                                 69409\n",
       "unique                                                  714\n",
       "top       by exploiting this vulnerability an attacker c...\n",
       "freq                                                   8128\n",
       "Name: Impact, dtype: object"
      ]
     },
     "execution_count": 26,
     "metadata": {},
     "output_type": "execute_result"
    }
   ],
   "source": [
    "data['Impact'].describe()"
   ]
  },
  {
   "cell_type": "code",
   "execution_count": 27,
   "id": "5499a7d4",
   "metadata": {},
   "outputs": [
    {
     "data": {
      "text/plain": [
       "count                                                  9702\n",
       "unique                                                  160\n",
       "top       source: the exploit-db_x005f_x000d_\\nreference...\n",
       "freq                                                   1180\n",
       "Name: Exploitability, dtype: object"
      ]
     },
     "execution_count": 27,
     "metadata": {},
     "output_type": "execute_result"
    }
   ],
   "source": [
    "data['Exploitability'].describe()"
   ]
  },
  {
   "cell_type": "code",
   "execution_count": 28,
   "id": "10402a1e",
   "metadata": {},
   "outputs": [
    {
     "data": {
      "text/plain": [
       "<bound method NDFrame.head of 0        successful exploitation allows attacker to exe...\n",
       "1           a physically proximate attacker could use t...\n",
       "2          if a user or automated system were tricked i...\n",
       "3           a local attacker could use this to gain adm...\n",
       "4        successful exploitation of this vulnerability ...\n",
       "                               ...                        \n",
       "69904    an attacker can exploit cryptographic flaws to...\n",
       "69905    an attacker can exploit cryptographic flaws to...\n",
       "69906    by exploiting this vulnerability an attacker c...\n",
       "69907    by exploiting this vulnerability an attacker c...\n",
       "69908    by exploiting this vulnerability an attacker c...\n",
       "Name: Impact, Length: 69909, dtype: object>"
      ]
     },
     "execution_count": 28,
     "metadata": {},
     "output_type": "execute_result"
    }
   ],
   "source": [
    "data['Impact'].dropna(inplace=True)\n",
    "data['Impact'] = data['Impact'].astype(str)\n",
    "data['Impact'].head"
   ]
  },
  {
   "cell_type": "code",
   "execution_count": 29,
   "id": "fc1e177e",
   "metadata": {},
   "outputs": [],
   "source": [
    "\n",
    "from nltk.tokenize import sent_tokenize, word_tokenize\n",
    "\n",
    "data['Impact']=data['Impact'].apply(word_tokenize)"
   ]
  },
  {
   "cell_type": "code",
   "execution_count": 30,
   "id": "af3bef12",
   "metadata": {},
   "outputs": [
    {
     "data": {
      "text/plain": [
       "0    [successful, exploitation, allows, attacker, t...\n",
       "1    [a, physically, proximate, attacker, could, us...\n",
       "2    [if, a, user, or, automated, system, were, tri...\n",
       "3    [a, local, attacker, could, use, this, to, gai...\n",
       "4    [successful, exploitation, of, this, vulnerabi...\n",
       "Name: Impact, dtype: object"
      ]
     },
     "execution_count": 30,
     "metadata": {},
     "output_type": "execute_result"
    }
   ],
   "source": [
    "data['Impact'].head()"
   ]
  },
  {
   "cell_type": "code",
   "execution_count": 31,
   "id": "cd060a73",
   "metadata": {},
   "outputs": [],
   "source": [
    "data['Threat']=data['Threat'].apply(word_tokenize)"
   ]
  },
  {
   "cell_type": "code",
   "execution_count": 32,
   "id": "a743993a",
   "metadata": {},
   "outputs": [
    {
     "data": {
      "text/plain": [
       "0    [the, grub2, boot, loader, is, vulnerable, to,...\n",
       "1    [it, was, discovered, that, a, heap-based, buf...\n",
       "2    [it, was, discovered, that, libtiff, incorrect...\n",
       "3    [it, was, discovered, that, a, race, condition...\n",
       "4    [docker, engine, enables, containerized, appli...\n",
       "Name: Threat, dtype: object"
      ]
     },
     "execution_count": 32,
     "metadata": {},
     "output_type": "execute_result"
    }
   ],
   "source": [
    "data['Threat'].head()"
   ]
  },
  {
   "cell_type": "code",
   "execution_count": 33,
   "id": "d9f5626c",
   "metadata": {},
   "outputs": [
    {
     "data": {
      "text/plain": [
       "[by, exploiting, this, vulnerability, an, attacker, can, launch, a, maninthemiddle, attack]                                                                                                                                                                                                                                                                                                                                                                                   8128\n",
       "[by, exploiting, this, vulnerability, maninthemiddle, attacks, in, tandem, with, dns, cache, poisoning, can, occur, exception, if, the, server, communicates, only, with, a, restricted, set, of, clients, who, have, the, server, certificate, or, the, trusted, ca, certificate, then, the, server, or, ca, certificate, may, not, be, available, publicly, and, the, scan, will, be, unable, to, verify, the, signature]                                                   5391\n",
       "[a, maninthemiddle, attacker, can, exploit, this, vulnerability, in, tandem, with, a, dns, cache, poisoning, attack, to, lure, the, client, to, another, server, and, then, steal, all, the, encryption, communication]                                                                                                                                                                                                                                                       4296\n",
       "[a, malicious, individual, can, easily, intercept, unencrypted, passwords, during, transmission, using, a, network, sniffer, and, use, this, data, to, gain, unauthorized, access]                                                                                                                                                                                                                                                                                            3989\n",
       "[an, attacker, can, exploit, cryptographic, flaws, to, conduct, maninthemiddle, type, attacks, or, to, decryption, communications, for, example, an, attacker, could, force, a, downgrade, from, the, tls, protocol, to, the, older, sslv30, protocol, and, exploit, the, poodle, vulnerability, read, secure, communications, or, maliciously, modify, messages, a, poodletype, attack, could, also, be, launched, directly, at, tls, without, negotiating, a, downgrade]    3389\n",
       "                                                                                                                                                                                                                                                                                                                                                                                                                                                                              ... \n",
       "[a, local, attacker, could, possibly, use, this, issue, to, escalate, privileges]                                                                                                                                                                                                                                                                                                                                                                                                1\n",
       "[a, successful, exploit, may, allow, an, attacker, to, bypass, the, secure, boot, process, and, execute, malicious, code, on, an, affected, device, with, rootlevel, privileges]                                                                                                                                                                                                                                                                                                 1\n",
       "[if, a, user, or, automated, system, were, tricked, into, using, a, speciallycrafted, scp, command, a, remote, attacker, could, execute, arbitrary, commands, on, the, server]                                                                                                                                                                                                                                                                                                   1\n",
       "[a, remote, attacker, could, possibly, use, this, issue, to, perform, http, request, smuggling, attacks, and, access, resources, contrary, to, expectations]                                                                                                                                                                                                                                                                                                                     1\n",
       "[a, remote, attacker, could, use, this, issue, to, cause, zeromq, to, crash, or, possibly, execute, arbitrary, code]                                                                                                                                                                                                                                                                                                                                                             1\n",
       "Name: Impact, Length: 706, dtype: int64"
      ]
     },
     "execution_count": 33,
     "metadata": {},
     "output_type": "execute_result"
    }
   ],
   "source": [
    "data['Impact'].value_counts()"
   ]
  },
  {
   "cell_type": "markdown",
   "id": "69ca13fd",
   "metadata": {},
   "source": [
    "# Removing stop words"
   ]
  },
  {
   "cell_type": "code",
   "execution_count": 34,
   "id": "380696fb",
   "metadata": {},
   "outputs": [],
   "source": [
    "from nltk.corpus import stopwords\n",
    "\n",
    "stop = stopwords.words('english')\n",
    "new_stopwords = [\"id\", \"from\", \"could\", \"use\", \"also\",\"Many\",\"like\",\"May\",\"may\",\"ca\",\"even\",\"ect\",\"i.e\",\"cause\",\"result\",\"used\",\"form\",\"Its\",\"cause\",\"take\",\"following\"]\n",
    "stop.extend(new_stopwords)\n",
    "#rint(stopwords.words('english'))\n",
    "data['Impact']=data['Impact'].apply(lambda x: [item for item in x if item not in stop])"
   ]
  },
  {
   "cell_type": "code",
   "execution_count": 35,
   "id": "bad0407b",
   "metadata": {},
   "outputs": [
    {
     "data": {
      "text/plain": [
       "0    [successful, exploitation, allows, attacker, e...\n",
       "1    [physically, proximate, attacker, denial, serv...\n",
       "2    [user, automated, system, tricked, opening, sp...\n",
       "3    [local, attacker, gain, administrative, privil...\n",
       "4    [successful, exploitation, vulnerability, allo...\n",
       "Name: Impact, dtype: object"
      ]
     },
     "execution_count": 35,
     "metadata": {},
     "output_type": "execute_result"
    }
   ],
   "source": [
    "data['Impact'].head()"
   ]
  },
  {
   "cell_type": "markdown",
   "id": "a3e37a1a",
   "metadata": {},
   "source": [
    "# Removing stop words"
   ]
  },
  {
   "cell_type": "code",
   "execution_count": 36,
   "id": "84b79487",
   "metadata": {},
   "outputs": [],
   "source": [
    "from nltk.corpus import stopwords\n",
    "\n",
    "stop = stopwords.words('english')\n",
    "\n",
    "data['Threat']=data['Threat'].apply(lambda x: [item for item in x if item not in stop])"
   ]
  },
  {
   "cell_type": "code",
   "execution_count": 37,
   "id": "79c62283",
   "metadata": {},
   "outputs": [
    {
     "data": {
      "text/plain": [
       "0    [grub2, boot, loader, vulnerable, buffer, over...\n",
       "1    [discovered, heap-based, buffer, overflow, exi...\n",
       "2    [discovered, libtiff, incorrectly, handled, ce...\n",
       "3    [discovered, race, condition, existed, memory,...\n",
       "4    [docker, engine, enables, containerized, appli...\n",
       "Name: Threat, dtype: object"
      ]
     },
     "execution_count": 37,
     "metadata": {},
     "output_type": "execute_result"
    }
   ],
   "source": [
    "data['Threat'].head()"
   ]
  },
  {
   "cell_type": "code",
   "execution_count": 38,
   "id": "db29b2b1",
   "metadata": {},
   "outputs": [],
   "source": [
    "result = data['Impact'].value_counts()"
   ]
  },
  {
   "cell_type": "code",
   "execution_count": 39,
   "id": "8bc21412",
   "metadata": {},
   "outputs": [
    {
     "name": "stdout",
     "output_type": "stream",
     "text": [
      "[exploiting, vulnerability, attacker, launch, maninthemiddle, attack]                                                                                                                                                                                                                                                                                                    8128\n",
      "[exploiting, vulnerability, maninthemiddle, attacks, tandem, dns, cache, poisoning, occur, exception, server, communicates, restricted, set, clients, server, certificate, trusted, certificate, server, certificate, available, publicly, scan, unable, verify, signature]                                                                                              5391\n",
      "[maninthemiddle, attacker, exploit, vulnerability, tandem, dns, cache, poisoning, attack, lure, client, another, server, steal, encryption, communication]                                                                                                                                                                                                               4296\n",
      "[malicious, individual, easily, intercept, unencrypted, passwords, transmission, using, network, sniffer, data, gain, unauthorized, access]                                                                                                                                                                                                                              3989\n",
      "[attacker, exploit, cryptographic, flaws, conduct, maninthemiddle, type, attacks, decryption, communications, example, attacker, force, downgrade, tls, protocol, older, sslv30, protocol, exploit, poodle, vulnerability, read, secure, communications, maliciously, modify, messages, poodletype, attack, launched, directly, tls, without, negotiating, downgrade]    3389\n",
      "                                                                                                                                                                                                                                                                                                                                                                         ... \n",
      "[successful, exploitation, vulnerabilities, described, advisory, reload, affected, device, repeated, exploitation, sustained, dos, condition]                                                                                                                                                                                                                               1\n",
      "[successful, exploitation, allow, attacker, device, restart, resulting, denial, service, condition]                                                                                                                                                                                                                                                                         1\n",
      "[vcenter, server, trigger, alarm, one, nics, team, loses, connectivity]                                                                                                                                                                                                                                                                                                     1\n",
      "[attacker, exploit, issue, affected, device, reload, denying, service, legitimate, users]                                                                                                                                                                                                                                                                                   1\n",
      "[remote, attacker, issue, libsndfile, crash, resulting, denial, service, possibly, execute, arbitrary, code]                                                                                                                                                                                                                                                                1\n",
      "Name: Impact, Length: 703, dtype: int64\n"
     ]
    }
   ],
   "source": [
    "print(result)"
   ]
  },
  {
   "cell_type": "code",
   "execution_count": 40,
   "id": "6c18b6b8",
   "metadata": {},
   "outputs": [
    {
     "data": {
      "text/plain": [
       "AV\n",
       "A    [remote, attacker, possibly, issue, obtain, se...\n",
       "L    [successful, exploitation, allows, attacker, e...\n",
       "N    [physically, proximate, attacker, denial, serv...\n",
       "Name: Impact, dtype: object"
      ]
     },
     "execution_count": 40,
     "metadata": {},
     "output_type": "execute_result"
    }
   ],
   "source": [
    "avg['Impact'].first()"
   ]
  },
  {
   "cell_type": "code",
   "execution_count": 41,
   "id": "1f97f1d5",
   "metadata": {},
   "outputs": [],
   "source": [
    "data['CVSS_range'] = pd.cut(data['CVSS'], [0.0,3.9,6.9,10], right=True,labels=('LOW','MEDIEM','HIGH'))"
   ]
  },
  {
   "cell_type": "code",
   "execution_count": 42,
   "id": "20794fa2",
   "metadata": {},
   "outputs": [
    {
     "data": {
      "text/plain": [
       "0       LOW\n",
       "1      HIGH\n",
       "2    MEDIEM\n",
       "3    MEDIEM\n",
       "4       LOW\n",
       "5       LOW\n",
       "6       LOW\n",
       "7       LOW\n",
       "8    MEDIEM\n",
       "9    MEDIEM\n",
       "Name: CVSS_range, dtype: category\n",
       "Categories (3, object): ['LOW' < 'MEDIEM' < 'HIGH']"
      ]
     },
     "execution_count": 42,
     "metadata": {},
     "output_type": "execute_result"
    }
   ],
   "source": [
    "data['CVSS_range'].head(10)"
   ]
  },
  {
   "cell_type": "code",
   "execution_count": 43,
   "id": "19a0d7a1",
   "metadata": {},
   "outputs": [],
   "source": [
    "avg=data.groupby(['AV','CVSS_range'])"
   ]
  },
  {
   "cell_type": "code",
   "execution_count": 44,
   "id": "1f779078",
   "metadata": {},
   "outputs": [
    {
     "data": {
      "text/html": [
       "<div>\n",
       "<style scoped>\n",
       "    .dataframe tbody tr th:only-of-type {\n",
       "        vertical-align: middle;\n",
       "    }\n",
       "\n",
       "    .dataframe tbody tr th {\n",
       "        vertical-align: top;\n",
       "    }\n",
       "\n",
       "    .dataframe thead th {\n",
       "        text-align: right;\n",
       "    }\n",
       "</style>\n",
       "<table border=\"1\" class=\"dataframe\">\n",
       "  <thead>\n",
       "    <tr style=\"text-align: right;\">\n",
       "      <th></th>\n",
       "      <th></th>\n",
       "      <th>Unnamed: 0</th>\n",
       "      <th>masked Ip</th>\n",
       "      <th>Network</th>\n",
       "      <th>Tracking Method</th>\n",
       "      <th>OS</th>\n",
       "      <th>IP Status</th>\n",
       "      <th>QID</th>\n",
       "      <th>Title</th>\n",
       "      <th>Vuln Status</th>\n",
       "      <th>Type</th>\n",
       "      <th>...</th>\n",
       "      <th>CVSS3 AC</th>\n",
       "      <th>CVSS3 PR</th>\n",
       "      <th>CVSS3 UI</th>\n",
       "      <th>CVSS3 S</th>\n",
       "      <th>CVSS3 C</th>\n",
       "      <th>CVSS3 I</th>\n",
       "      <th>CVSS3 A</th>\n",
       "      <th>CVSS3 E</th>\n",
       "      <th>CVSS3 RL</th>\n",
       "      <th>CVSS3 RC</th>\n",
       "    </tr>\n",
       "    <tr>\n",
       "      <th>AV</th>\n",
       "      <th>CVSS_range</th>\n",
       "      <th></th>\n",
       "      <th></th>\n",
       "      <th></th>\n",
       "      <th></th>\n",
       "      <th></th>\n",
       "      <th></th>\n",
       "      <th></th>\n",
       "      <th></th>\n",
       "      <th></th>\n",
       "      <th></th>\n",
       "      <th></th>\n",
       "      <th></th>\n",
       "      <th></th>\n",
       "      <th></th>\n",
       "      <th></th>\n",
       "      <th></th>\n",
       "      <th></th>\n",
       "      <th></th>\n",
       "      <th></th>\n",
       "      <th></th>\n",
       "      <th></th>\n",
       "    </tr>\n",
       "  </thead>\n",
       "  <tbody>\n",
       "    <tr>\n",
       "      <th rowspan=\"3\" valign=\"top\">A</th>\n",
       "      <th>LOW</th>\n",
       "      <td>50.0</td>\n",
       "      <td>lab_2_IP9036</td>\n",
       "      <td>Global Default Network</td>\n",
       "      <td>QAGENT</td>\n",
       "      <td>Ubuntu Linux 16.04.4</td>\n",
       "      <td>host scanned, found vuln</td>\n",
       "      <td>197820.0</td>\n",
       "      <td>Ubuntu Security Notification for Linux, Linux-...</td>\n",
       "      <td>Active</td>\n",
       "      <td>Vuln</td>\n",
       "      <td>...</td>\n",
       "      <td>L</td>\n",
       "      <td>L</td>\n",
       "      <td>N</td>\n",
       "      <td>C</td>\n",
       "      <td>H</td>\n",
       "      <td>N</td>\n",
       "      <td>N</td>\n",
       "      <td>U</td>\n",
       "      <td>O</td>\n",
       "      <td>U</td>\n",
       "    </tr>\n",
       "    <tr>\n",
       "      <th>MEDIEM</th>\n",
       "      <td>8.0</td>\n",
       "      <td>lab_2_IP9036</td>\n",
       "      <td>Global Default Network</td>\n",
       "      <td>QAGENT</td>\n",
       "      <td>Ubuntu Linux 16.04.4</td>\n",
       "      <td>host scanned, found vuln</td>\n",
       "      <td>197995.0</td>\n",
       "      <td>Ubuntu Security Notification for Sane-backends...</td>\n",
       "      <td>Active</td>\n",
       "      <td>Vuln</td>\n",
       "      <td>...</td>\n",
       "      <td>L</td>\n",
       "      <td>N</td>\n",
       "      <td>N</td>\n",
       "      <td>U</td>\n",
       "      <td>H</td>\n",
       "      <td>H</td>\n",
       "      <td>H</td>\n",
       "      <td>U</td>\n",
       "      <td>O</td>\n",
       "      <td>U</td>\n",
       "    </tr>\n",
       "    <tr>\n",
       "      <th>HIGH</th>\n",
       "      <td>NaN</td>\n",
       "      <td>NaN</td>\n",
       "      <td>NaN</td>\n",
       "      <td>NaN</td>\n",
       "      <td>NaN</td>\n",
       "      <td>NaN</td>\n",
       "      <td>NaN</td>\n",
       "      <td>NaN</td>\n",
       "      <td>NaN</td>\n",
       "      <td>NaN</td>\n",
       "      <td>...</td>\n",
       "      <td>NaN</td>\n",
       "      <td>NaN</td>\n",
       "      <td>NaN</td>\n",
       "      <td>NaN</td>\n",
       "      <td>NaN</td>\n",
       "      <td>NaN</td>\n",
       "      <td>NaN</td>\n",
       "      <td>NaN</td>\n",
       "      <td>NaN</td>\n",
       "      <td>NaN</td>\n",
       "    </tr>\n",
       "    <tr>\n",
       "      <th rowspan=\"3\" valign=\"top\">L</th>\n",
       "      <th>LOW</th>\n",
       "      <td>0.0</td>\n",
       "      <td>lab_2_IP9036</td>\n",
       "      <td>Global Default Network</td>\n",
       "      <td>QAGENT</td>\n",
       "      <td>Ubuntu Linux 16.04.4</td>\n",
       "      <td>host scanned, found vuln</td>\n",
       "      <td>197967.0</td>\n",
       "      <td>Ubuntu Security Notification for Grub2 Vulnera...</td>\n",
       "      <td>Active</td>\n",
       "      <td>Vuln</td>\n",
       "      <td>...</td>\n",
       "      <td>L</td>\n",
       "      <td>H</td>\n",
       "      <td>N</td>\n",
       "      <td>C</td>\n",
       "      <td>H</td>\n",
       "      <td>H</td>\n",
       "      <td>H</td>\n",
       "      <td>U</td>\n",
       "      <td>O</td>\n",
       "      <td>C</td>\n",
       "    </tr>\n",
       "    <tr>\n",
       "      <th>MEDIEM</th>\n",
       "      <td>3.0</td>\n",
       "      <td>lab_2_IP9036</td>\n",
       "      <td>Global Default Network</td>\n",
       "      <td>QAGENT</td>\n",
       "      <td>Ubuntu Linux 16.04.4</td>\n",
       "      <td>host scanned, found vuln</td>\n",
       "      <td>196604.0</td>\n",
       "      <td>Ubuntu Security Notification for Linux Vulnera...</td>\n",
       "      <td>Active</td>\n",
       "      <td>Vuln</td>\n",
       "      <td>...</td>\n",
       "      <td>L</td>\n",
       "      <td>L</td>\n",
       "      <td>N</td>\n",
       "      <td>U</td>\n",
       "      <td>H</td>\n",
       "      <td>H</td>\n",
       "      <td>H</td>\n",
       "      <td>P</td>\n",
       "      <td>O</td>\n",
       "      <td>U</td>\n",
       "    </tr>\n",
       "    <tr>\n",
       "      <th>HIGH</th>\n",
       "      <td>NaN</td>\n",
       "      <td>NaN</td>\n",
       "      <td>NaN</td>\n",
       "      <td>NaN</td>\n",
       "      <td>NaN</td>\n",
       "      <td>NaN</td>\n",
       "      <td>NaN</td>\n",
       "      <td>NaN</td>\n",
       "      <td>NaN</td>\n",
       "      <td>NaN</td>\n",
       "      <td>...</td>\n",
       "      <td>NaN</td>\n",
       "      <td>NaN</td>\n",
       "      <td>NaN</td>\n",
       "      <td>NaN</td>\n",
       "      <td>NaN</td>\n",
       "      <td>NaN</td>\n",
       "      <td>NaN</td>\n",
       "      <td>NaN</td>\n",
       "      <td>NaN</td>\n",
       "      <td>NaN</td>\n",
       "    </tr>\n",
       "    <tr>\n",
       "      <th rowspan=\"3\" valign=\"top\">N</th>\n",
       "      <th>LOW</th>\n",
       "      <td>5.0</td>\n",
       "      <td>lab_2_IP9036</td>\n",
       "      <td>Global Default Network</td>\n",
       "      <td>QAGENT</td>\n",
       "      <td>Ubuntu Linux 16.04.4</td>\n",
       "      <td>host scanned, found vuln</td>\n",
       "      <td>370248.0</td>\n",
       "      <td>Ruby Gem nokogiri libxml2 and libxslt Security...</td>\n",
       "      <td>Active</td>\n",
       "      <td>Vuln</td>\n",
       "      <td>...</td>\n",
       "      <td>L</td>\n",
       "      <td>N</td>\n",
       "      <td>N</td>\n",
       "      <td>U</td>\n",
       "      <td>N</td>\n",
       "      <td>N</td>\n",
       "      <td>H</td>\n",
       "      <td>U</td>\n",
       "      <td>O</td>\n",
       "      <td>C</td>\n",
       "    </tr>\n",
       "    <tr>\n",
       "      <th>MEDIEM</th>\n",
       "      <td>2.0</td>\n",
       "      <td>lab_2_IP9036</td>\n",
       "      <td>Global Default Network</td>\n",
       "      <td>QAGENT</td>\n",
       "      <td>Ubuntu Linux 16.04.4</td>\n",
       "      <td>host scanned, found vuln</td>\n",
       "      <td>197688.0</td>\n",
       "      <td>Ubuntu Security Notification for LibTIFF vulne...</td>\n",
       "      <td>Active</td>\n",
       "      <td>Vuln</td>\n",
       "      <td>...</td>\n",
       "      <td>L</td>\n",
       "      <td>N</td>\n",
       "      <td>R</td>\n",
       "      <td>U</td>\n",
       "      <td>H</td>\n",
       "      <td>H</td>\n",
       "      <td>H</td>\n",
       "      <td>U</td>\n",
       "      <td>O</td>\n",
       "      <td>C</td>\n",
       "    </tr>\n",
       "    <tr>\n",
       "      <th>HIGH</th>\n",
       "      <td>1.0</td>\n",
       "      <td>lab_2_IP9036</td>\n",
       "      <td>Global Default Network</td>\n",
       "      <td>QAGENT</td>\n",
       "      <td>Ubuntu Linux 16.04.4</td>\n",
       "      <td>host scanned, found vuln</td>\n",
       "      <td>197742.0</td>\n",
       "      <td>Ubuntu Security Notification for Linux, Linux-...</td>\n",
       "      <td>Active</td>\n",
       "      <td>Vuln</td>\n",
       "      <td>...</td>\n",
       "      <td>L</td>\n",
       "      <td>N</td>\n",
       "      <td>N</td>\n",
       "      <td>U</td>\n",
       "      <td>H</td>\n",
       "      <td>H</td>\n",
       "      <td>H</td>\n",
       "      <td>U</td>\n",
       "      <td>O</td>\n",
       "      <td>U</td>\n",
       "    </tr>\n",
       "  </tbody>\n",
       "</table>\n",
       "<p>9 rows × 52 columns</p>\n",
       "</div>"
      ],
      "text/plain": [
       "               Unnamed: 0     masked Ip                 Network  \\\n",
       "AV CVSS_range                                                     \n",
       "A  LOW               50.0  lab_2_IP9036  Global Default Network   \n",
       "   MEDIEM             8.0  lab_2_IP9036  Global Default Network   \n",
       "   HIGH               NaN           NaN                     NaN   \n",
       "L  LOW                0.0  lab_2_IP9036  Global Default Network   \n",
       "   MEDIEM             3.0  lab_2_IP9036  Global Default Network   \n",
       "   HIGH               NaN           NaN                     NaN   \n",
       "N  LOW                5.0  lab_2_IP9036  Global Default Network   \n",
       "   MEDIEM             2.0  lab_2_IP9036  Global Default Network   \n",
       "   HIGH               1.0  lab_2_IP9036  Global Default Network   \n",
       "\n",
       "              Tracking Method                    OS                 IP Status  \\\n",
       "AV CVSS_range                                                                   \n",
       "A  LOW                 QAGENT  Ubuntu Linux 16.04.4  host scanned, found vuln   \n",
       "   MEDIEM              QAGENT  Ubuntu Linux 16.04.4  host scanned, found vuln   \n",
       "   HIGH                   NaN                   NaN                       NaN   \n",
       "L  LOW                 QAGENT  Ubuntu Linux 16.04.4  host scanned, found vuln   \n",
       "   MEDIEM              QAGENT  Ubuntu Linux 16.04.4  host scanned, found vuln   \n",
       "   HIGH                   NaN                   NaN                       NaN   \n",
       "N  LOW                 QAGENT  Ubuntu Linux 16.04.4  host scanned, found vuln   \n",
       "   MEDIEM              QAGENT  Ubuntu Linux 16.04.4  host scanned, found vuln   \n",
       "   HIGH                QAGENT  Ubuntu Linux 16.04.4  host scanned, found vuln   \n",
       "\n",
       "                    QID                                              Title  \\\n",
       "AV CVSS_range                                                                \n",
       "A  LOW         197820.0  Ubuntu Security Notification for Linux, Linux-...   \n",
       "   MEDIEM      197995.0  Ubuntu Security Notification for Sane-backends...   \n",
       "   HIGH             NaN                                                NaN   \n",
       "L  LOW         197967.0  Ubuntu Security Notification for Grub2 Vulnera...   \n",
       "   MEDIEM      196604.0  Ubuntu Security Notification for Linux Vulnera...   \n",
       "   HIGH             NaN                                                NaN   \n",
       "N  LOW         370248.0  Ruby Gem nokogiri libxml2 and libxslt Security...   \n",
       "   MEDIEM      197688.0  Ubuntu Security Notification for LibTIFF vulne...   \n",
       "   HIGH        197742.0  Ubuntu Security Notification for Linux, Linux-...   \n",
       "\n",
       "              Vuln Status  Type  ...  CVSS3 AC  CVSS3 PR CVSS3 UI CVSS3 S  \\\n",
       "AV CVSS_range                    ...                                        \n",
       "A  LOW             Active  Vuln  ...         L         L        N       C   \n",
       "   MEDIEM          Active  Vuln  ...         L         N        N       U   \n",
       "   HIGH               NaN   NaN  ...       NaN       NaN      NaN     NaN   \n",
       "L  LOW             Active  Vuln  ...         L         H        N       C   \n",
       "   MEDIEM          Active  Vuln  ...         L         L        N       U   \n",
       "   HIGH               NaN   NaN  ...       NaN       NaN      NaN     NaN   \n",
       "N  LOW             Active  Vuln  ...         L         N        N       U   \n",
       "   MEDIEM          Active  Vuln  ...         L         N        R       U   \n",
       "   HIGH            Active  Vuln  ...         L         N        N       U   \n",
       "\n",
       "              CVSS3 C CVSS3 I CVSS3 A  CVSS3 E CVSS3 RL CVSS3 RC  \n",
       "AV CVSS_range                                                     \n",
       "A  LOW              H       N       N        U        O        U  \n",
       "   MEDIEM           H       H       H        U        O        U  \n",
       "   HIGH           NaN     NaN     NaN      NaN      NaN      NaN  \n",
       "L  LOW              H       H       H        U        O        C  \n",
       "   MEDIEM           H       H       H        P        O        U  \n",
       "   HIGH           NaN     NaN     NaN      NaN      NaN      NaN  \n",
       "N  LOW              N       N       H        U        O        C  \n",
       "   MEDIEM           H       H       H        U        O        C  \n",
       "   HIGH             H       H       H        U        O        U  \n",
       "\n",
       "[9 rows x 52 columns]"
      ]
     },
     "execution_count": 44,
     "metadata": {},
     "output_type": "execute_result"
    }
   ],
   "source": [
    "avg.first()"
   ]
  },
  {
   "cell_type": "code",
   "execution_count": 45,
   "id": "706838ef",
   "metadata": {},
   "outputs": [
    {
     "data": {
      "text/plain": [
       "AV  CVSS_range\n",
       "A   LOW           [discovered, kvm, hypervisor, implementation, ...\n",
       "    MEDIEM        [discovered, sane-backends, incorrectly, handl...\n",
       "    HIGH                                                        NaN\n",
       "L   LOW           [grub2, boot, loader, vulnerable, buffer, over...\n",
       "    MEDIEM        [discovered, race, condition, existed, memory,...\n",
       "    HIGH                                                        NaN\n",
       "N   LOW           [nokogiri, html, ,, xml, ,, sax, ,, reader, pa...\n",
       "    MEDIEM        [discovered, libtiff, incorrectly, handled, ce...\n",
       "    HIGH          [discovered, heap-based, buffer, overflow, exi...\n",
       "Name: Threat, dtype: object"
      ]
     },
     "execution_count": 45,
     "metadata": {},
     "output_type": "execute_result"
    }
   ],
   "source": [
    "avg['Threat'].first()"
   ]
  },
  {
   "cell_type": "markdown",
   "id": "d628119f",
   "metadata": {},
   "source": [
    "array = np.array(data['Impact'])\n",
    "tuple(data['Threat'])"
   ]
  },
  {
   "cell_type": "markdown",
   "id": "819a2c23",
   "metadata": {},
   "source": [
    "strr=data['Threat'].to_string(index = False)"
   ]
  },
  {
   "cell_type": "code",
   "execution_count": 46,
   "id": "0a0b13ac",
   "metadata": {},
   "outputs": [],
   "source": [
    "res = list(zip(*(data['Threat'][key] for key in data['Threat'].keys())))"
   ]
  },
  {
   "cell_type": "code",
   "execution_count": 47,
   "id": "e6ef6c01",
   "metadata": {},
   "outputs": [
    {
     "data": {
      "text/plain": [
       "69909"
      ]
     },
     "execution_count": 47,
     "metadata": {},
     "output_type": "execute_result"
    }
   ],
   "source": [
    "len(res[3])"
   ]
  },
  {
   "cell_type": "code",
   "execution_count": 48,
   "id": "8e14d6d1",
   "metadata": {},
   "outputs": [
    {
     "data": {
      "text/plain": [
       "0    [grub2, boot, loader, vulnerable, buffer, over...\n",
       "1    [discovered, heap-based, buffer, overflow, exi...\n",
       "2    [discovered, libtiff, incorrectly, handled, ce...\n",
       "3    [discovered, race, condition, existed, memory,...\n",
       "4    [docker, engine, enables, containerized, appli...\n",
       "Name: Threat, dtype: object"
      ]
     },
     "execution_count": 48,
     "metadata": {},
     "output_type": "execute_result"
    }
   ],
   "source": [
    "data['Threat'].head()"
   ]
  },
  {
   "cell_type": "markdown",
   "id": "6aa2cbd3",
   "metadata": {},
   "source": [
    "# Term frequency using self defined function"
   ]
  },
  {
   "cell_type": "markdown",
   "id": "57429896",
   "metadata": {},
   "source": [
    "# Impact first "
   ]
  },
  {
   "cell_type": "code",
   "execution_count": 49,
   "id": "244dd03a",
   "metadata": {},
   "outputs": [],
   "source": [
    "def unnesting(df, explode):\n",
    "    idx=df.index.repeat(df[explode[0]].str.len())\n",
    "    df1=pd.concat([pd.DataFrame({x:np.concatenate(df[x].values)} )for x in explode],axis=1)\n",
    "    df1.index=idx\n",
    "    return df1.join(df.drop(explode,1),how='left')"
   ]
  },
  {
   "cell_type": "code",
   "execution_count": 50,
   "id": "6707ae56",
   "metadata": {},
   "outputs": [],
   "source": [
    "df = pd.DataFrame()"
   ]
  },
  {
   "cell_type": "code",
   "execution_count": 51,
   "id": "e1d2b28b",
   "metadata": {},
   "outputs": [
    {
     "name": "stderr",
     "output_type": "stream",
     "text": [
      "C:\\Users\\utkar\\AppData\\Local\\Temp\\ipykernel_15056\\1699215736.py:5: FutureWarning: In a future version of pandas all arguments of DataFrame.drop except for the argument 'labels' will be keyword-only.\n",
      "  return df1.join(df.drop(explode,1),how='left')\n"
     ]
    }
   ],
   "source": [
    "df['Impact-TF']=unnesting(data,['Impact'])['Impact'].value_counts()"
   ]
  },
  {
   "cell_type": "code",
   "execution_count": 52,
   "id": "d81487bb",
   "metadata": {},
   "outputs": [
    {
     "data": {
      "text/plain": [
       "attacker          50950\n",
       "vulnerability     42613\n",
       "maninthemiddle    27216\n",
       "exploit           25887\n",
       "server            24903\n",
       "attacks           22685\n",
       "attack            21018\n",
       "certificate       18639\n",
       "exploiting        15037\n",
       "system            12559\n",
       "information       12167\n",
       "communication     11232\n",
       "remote            11227\n",
       "access            11121\n",
       "malicious         10925\n",
       "Name: Impact-TF, dtype: int64"
      ]
     },
     "execution_count": 52,
     "metadata": {},
     "output_type": "execute_result"
    }
   ],
   "source": [
    "df['Impact-TF'].head(15)"
   ]
  },
  {
   "cell_type": "code",
   "execution_count": 53,
   "id": "4b7309dd",
   "metadata": {},
   "outputs": [
    {
     "data": {
      "text/plain": [
       "attacker          False\n",
       "vulnerability     False\n",
       "maninthemiddle    False\n",
       "exploit           False\n",
       "server            False\n",
       "                  ...  \n",
       "needs             False\n",
       "combination       False\n",
       "hashed            False\n",
       "jobconfigure      False\n",
       "master            False\n",
       "Name: Impact-TF, Length: 2249, dtype: bool"
      ]
     },
     "execution_count": 53,
     "metadata": {},
     "output_type": "execute_result"
    }
   ],
   "source": [
    "df['Impact-TF'].isna()"
   ]
  },
  {
   "cell_type": "markdown",
   "id": "2d20b9c3",
   "metadata": {},
   "source": [
    "## TF for Impact"
   ]
  },
  {
   "cell_type": "markdown",
   "id": "b2f52dc9",
   "metadata": {},
   "source": [
    "def termf(df, explode):\n",
    "    idx=df.index.repeat(df[explode[0]].str.len())\n",
    "    df1=pd.concat([pd.DataFrame({x:np.concatenate(df[x].values)} )for x in explode],axis=1)\n",
    "    df1.index=idx\n",
    "    return df1.join(df.drop(explode,1),how='left')"
   ]
  },
  {
   "cell_type": "markdown",
   "id": "b1491434",
   "metadata": {},
   "source": [
    "df['Threat-TF']=termf(data,['Threat'])['Threat'].value_counts()"
   ]
  },
  {
   "cell_type": "markdown",
   "id": "27396c7b",
   "metadata": {},
   "source": [
    "df['Threat-TF'].head(10)"
   ]
  },
  {
   "cell_type": "markdown",
   "id": "bfdd46e2",
   "metadata": {},
   "source": [
    "df['Threat-TF'].isna()"
   ]
  },
  {
   "cell_type": "code",
   "execution_count": 54,
   "id": "8409d829",
   "metadata": {},
   "outputs": [],
   "source": [
    "#data_a=pd.read_excel(r'C:\\Users\\utkar\\OneDrive\\Desktop\\EDA_project\\data_A.xlsx')"
   ]
  },
  {
   "cell_type": "code",
   "execution_count": 55,
   "id": "0c170bca",
   "metadata": {},
   "outputs": [],
   "source": [
    "df_a = pd.DataFrame()"
   ]
  },
  {
   "cell_type": "code",
   "execution_count": 56,
   "id": "f2ca37c1",
   "metadata": {},
   "outputs": [],
   "source": [
    "df_n = pd.DataFrame()"
   ]
  },
  {
   "cell_type": "code",
   "execution_count": 57,
   "id": "4f880bfa",
   "metadata": {},
   "outputs": [],
   "source": [
    "df_l = pd.DataFrame()"
   ]
  },
  {
   "cell_type": "code",
   "execution_count": 58,
   "id": "3081a85d",
   "metadata": {},
   "outputs": [],
   "source": [
    "data_a=data.loc[data['AV'] == 'A']"
   ]
  },
  {
   "cell_type": "code",
   "execution_count": 59,
   "id": "ab74bc73",
   "metadata": {},
   "outputs": [],
   "source": [
    "data_l=data.loc[data['AV'] == 'L']"
   ]
  },
  {
   "cell_type": "code",
   "execution_count": 60,
   "id": "b8388f88",
   "metadata": {},
   "outputs": [],
   "source": [
    "data_n=data.loc[data['AV'] == 'N']"
   ]
  },
  {
   "cell_type": "code",
   "execution_count": 61,
   "id": "c1d30794",
   "metadata": {},
   "outputs": [
    {
     "name": "stderr",
     "output_type": "stream",
     "text": [
      "C:\\Users\\utkar\\AppData\\Local\\Temp\\ipykernel_15056\\1699215736.py:5: FutureWarning: In a future version of pandas all arguments of DataFrame.drop except for the argument 'labels' will be keyword-only.\n",
      "  return df1.join(df.drop(explode,1),how='left')\n"
     ]
    }
   ],
   "source": [
    "df_a['Impact-TF']=unnesting(data_a,['Impact'])['Impact'].value_counts()"
   ]
  },
  {
   "cell_type": "code",
   "execution_count": 62,
   "id": "011786d3",
   "metadata": {},
   "outputs": [
    {
     "name": "stderr",
     "output_type": "stream",
     "text": [
      "C:\\Users\\utkar\\AppData\\Local\\Temp\\ipykernel_15056\\1699215736.py:5: FutureWarning: In a future version of pandas all arguments of DataFrame.drop except for the argument 'labels' will be keyword-only.\n",
      "  return df1.join(df.drop(explode,1),how='left')\n"
     ]
    }
   ],
   "source": [
    "df_n['Impact-TF']=unnesting(data_n,['Impact'])['Impact'].value_counts()"
   ]
  },
  {
   "cell_type": "code",
   "execution_count": 63,
   "id": "2ca691d1",
   "metadata": {},
   "outputs": [
    {
     "name": "stderr",
     "output_type": "stream",
     "text": [
      "C:\\Users\\utkar\\AppData\\Local\\Temp\\ipykernel_15056\\1699215736.py:5: FutureWarning: In a future version of pandas all arguments of DataFrame.drop except for the argument 'labels' will be keyword-only.\n",
      "  return df1.join(df.drop(explode,1),how='left')\n"
     ]
    }
   ],
   "source": [
    "df_l['Impact-TF']=unnesting(data_l,['Impact'])['Impact'].value_counts()"
   ]
  },
  {
   "cell_type": "code",
   "execution_count": 64,
   "id": "32d9e703",
   "metadata": {},
   "outputs": [
    {
     "data": {
      "text/plain": [
       "service      274\n",
       "denial       274\n",
       "attacker     238\n",
       "code         164\n",
       "arbitrary    139\n",
       "Name: Impact-TF, dtype: int64"
      ]
     },
     "execution_count": 64,
     "metadata": {},
     "output_type": "execute_result"
    }
   ],
   "source": [
    "df_a['Impact-TF'].head()"
   ]
  },
  {
   "cell_type": "code",
   "execution_count": 87,
   "id": "4b8b51a0",
   "metadata": {},
   "outputs": [
    {
     "data": {
      "text/plain": [
       "attacker          47773\n",
       "vulnerability     41001\n",
       "maninthemiddle    27216\n",
       "exploit           25197\n",
       "server            24684\n",
       "Name: Impact-TF, dtype: int64"
      ]
     },
     "execution_count": 87,
     "metadata": {},
     "output_type": "execute_result"
    }
   ],
   "source": [
    "df_n['Impact-TF'].head()"
   ]
  },
  {
   "cell_type": "code",
   "execution_count": 66,
   "id": "140a51a3",
   "metadata": {},
   "outputs": [
    {
     "data": {
      "text/html": [
       "<div>\n",
       "<style scoped>\n",
       "    .dataframe tbody tr th:only-of-type {\n",
       "        vertical-align: middle;\n",
       "    }\n",
       "\n",
       "    .dataframe tbody tr th {\n",
       "        vertical-align: top;\n",
       "    }\n",
       "\n",
       "    .dataframe thead th {\n",
       "        text-align: right;\n",
       "    }\n",
       "</style>\n",
       "<table border=\"1\" class=\"dataframe\">\n",
       "  <thead>\n",
       "    <tr style=\"text-align: right;\">\n",
       "      <th></th>\n",
       "      <th>Impact-TF</th>\n",
       "    </tr>\n",
       "  </thead>\n",
       "  <tbody>\n",
       "    <tr>\n",
       "      <th>service</th>\n",
       "      <td>274</td>\n",
       "    </tr>\n",
       "    <tr>\n",
       "      <th>denial</th>\n",
       "      <td>274</td>\n",
       "    </tr>\n",
       "    <tr>\n",
       "      <th>attacker</th>\n",
       "      <td>238</td>\n",
       "    </tr>\n",
       "    <tr>\n",
       "      <th>code</th>\n",
       "      <td>164</td>\n",
       "    </tr>\n",
       "    <tr>\n",
       "      <th>arbitrary</th>\n",
       "      <td>139</td>\n",
       "    </tr>\n",
       "  </tbody>\n",
       "</table>\n",
       "</div>"
      ],
      "text/plain": [
       "           Impact-TF\n",
       "service          274\n",
       "denial           274\n",
       "attacker         238\n",
       "code             164\n",
       "arbitrary        139"
      ]
     },
     "execution_count": 66,
     "metadata": {},
     "output_type": "execute_result"
    }
   ],
   "source": [
    "df_a.head()"
   ]
  },
  {
   "cell_type": "code",
   "execution_count": 67,
   "id": "95bec7eb",
   "metadata": {},
   "outputs": [
    {
     "name": "stdout",
     "output_type": "stream",
     "text": [
      "Row count is: 294\n"
     ]
    }
   ],
   "source": [
    "print('Row count is:', len(data_a))"
   ]
  },
  {
   "cell_type": "code",
   "execution_count": 68,
   "id": "e0a7837e",
   "metadata": {},
   "outputs": [
    {
     "name": "stdout",
     "output_type": "stream",
     "text": [
      "Row count is: 7094\n"
     ]
    }
   ],
   "source": [
    "print('Row count is:', len(data_l))"
   ]
  },
  {
   "cell_type": "code",
   "execution_count": 69,
   "id": "f057eb41",
   "metadata": {},
   "outputs": [
    {
     "name": "stdout",
     "output_type": "stream",
     "text": [
      "Row count is: 62521\n"
     ]
    }
   ],
   "source": [
    "print('Row count is:', len(data_n))"
   ]
  },
  {
   "cell_type": "code",
   "execution_count": 70,
   "id": "2975deda",
   "metadata": {},
   "outputs": [],
   "source": [
    "#df_a.to_excel(r'C:\\Users\\utkar\\OneDrive\\Desktop\\EDA_project\\Text Mined Datasets\\Term Freq_Groups\\df_a_Impact.xlsx')"
   ]
  },
  {
   "cell_type": "code",
   "execution_count": 71,
   "id": "cdb81a00",
   "metadata": {},
   "outputs": [],
   "source": [
    "#df_l.to_excel(r'C:\\Users\\utkar\\OneDrive\\Desktop\\EDA_project\\Text Mined Datasets\\Term Freq_Groups\\df_l_Impact.xlsx')"
   ]
  },
  {
   "cell_type": "code",
   "execution_count": 72,
   "id": "fa7ee8bd",
   "metadata": {},
   "outputs": [],
   "source": [
    "#df_n.to_excel(r'C:\\Users\\utkar\\OneDrive\\Desktop\\EDA_project\\Text Mined Datasets\\Term Freq_Groups\\df_n_Impact.xlsx')"
   ]
  },
  {
   "cell_type": "code",
   "execution_count": 157,
   "id": "83144816",
   "metadata": {},
   "outputs": [],
   "source": [
    "#df.to_excel(r'C:\\Users\\utkar\\OneDrive\\Desktop\\EDA_project\\Text Mined Datasets\\Term Freq\\text-minI.xlsx')"
   ]
  },
  {
   "cell_type": "code",
   "execution_count": null,
   "id": "06051042",
   "metadata": {},
   "outputs": [],
   "source": []
  },
  {
   "cell_type": "code",
   "execution_count": null,
   "id": "2a555d8c",
   "metadata": {},
   "outputs": [],
   "source": []
  },
  {
   "cell_type": "code",
   "execution_count": null,
   "id": "d985650b",
   "metadata": {},
   "outputs": [],
   "source": [
    "-------------------------------------------------------------------------------------------------------------------------------"
   ]
  },
  {
   "cell_type": "code",
   "execution_count": null,
   "id": "d8bdb59c",
   "metadata": {},
   "outputs": [],
   "source": []
  },
  {
   "cell_type": "code",
   "execution_count": 78,
   "id": "60f01b5c",
   "metadata": {},
   "outputs": [
    {
     "ename": "TypeError",
     "evalue": "sequence item 0: expected str instance, int found",
     "output_type": "error",
     "traceback": [
      "\u001b[1;31m---------------------------------------------------------------------------\u001b[0m",
      "\u001b[1;31mTypeError\u001b[0m                                 Traceback (most recent call last)",
      "\u001b[1;32m~\\AppData\\Local\\Temp\\ipykernel_15056\\3207828593.py\u001b[0m in \u001b[0;36m<module>\u001b[1;34m\u001b[0m\n\u001b[1;32m----> 1\u001b[1;33m \u001b[0mwordcloud1\u001b[0m \u001b[1;33m=\u001b[0m \u001b[0mWordCloud\u001b[0m\u001b[1;33m(\u001b[0m\u001b[1;33m)\u001b[0m\u001b[1;33m.\u001b[0m\u001b[0mgenerate\u001b[0m\u001b[1;33m(\u001b[0m\u001b[1;34m' '\u001b[0m\u001b[1;33m.\u001b[0m\u001b[0mjoin\u001b[0m\u001b[1;33m(\u001b[0m\u001b[0mdf_n\u001b[0m\u001b[1;33m[\u001b[0m\u001b[1;34m'Impact-TF'\u001b[0m\u001b[1;33m]\u001b[0m\u001b[1;33m)\u001b[0m\u001b[1;33m)\u001b[0m\u001b[1;33m\u001b[0m\u001b[1;33m\u001b[0m\u001b[0m\n\u001b[0m",
      "\u001b[1;31mTypeError\u001b[0m: sequence item 0: expected str instance, int found"
     ]
    }
   ],
   "source": [
    "wordcloud1 = WordCloud().generate(' '.join(df_n['Impact-TF']))"
   ]
  },
  {
   "cell_type": "code",
   "execution_count": 79,
   "id": "d46e7c5b",
   "metadata": {},
   "outputs": [],
   "source": [
    "text = df_n['Impact-TF'].values "
   ]
  },
  {
   "cell_type": "code",
   "execution_count": 94,
   "id": "28044d01",
   "metadata": {},
   "outputs": [
    {
     "ename": "TypeError",
     "evalue": "sequence item 0: expected str instance, list found",
     "output_type": "error",
     "traceback": [
      "\u001b[1;31m---------------------------------------------------------------------------\u001b[0m",
      "\u001b[1;31mTypeError\u001b[0m                                 Traceback (most recent call last)",
      "\u001b[1;32m~\\AppData\\Local\\Temp\\ipykernel_15056\\3083703801.py\u001b[0m in \u001b[0;36m<module>\u001b[1;34m\u001b[0m\n\u001b[1;32m----> 1\u001b[1;33m \u001b[0mtext2\u001b[0m \u001b[1;33m=\u001b[0m \u001b[1;34m' '\u001b[0m\u001b[1;33m.\u001b[0m\u001b[0mjoin\u001b[0m\u001b[1;33m(\u001b[0m\u001b[0mdata\u001b[0m\u001b[1;33m[\u001b[0m\u001b[1;34m'Threat'\u001b[0m\u001b[1;33m]\u001b[0m\u001b[1;33m)\u001b[0m\u001b[1;33m\u001b[0m\u001b[1;33m\u001b[0m\u001b[0m\n\u001b[0m\u001b[0;32m      2\u001b[0m \u001b[0mwordcloud2\u001b[0m \u001b[1;33m=\u001b[0m \u001b[0mWordCloud\u001b[0m\u001b[1;33m(\u001b[0m\u001b[1;33m)\u001b[0m\u001b[1;33m.\u001b[0m\u001b[0mgenerate\u001b[0m\u001b[1;33m(\u001b[0m\u001b[0mtext2\u001b[0m\u001b[1;33m)\u001b[0m\u001b[1;33m\u001b[0m\u001b[1;33m\u001b[0m\u001b[0m\n\u001b[0;32m      3\u001b[0m \u001b[1;31m# Generate plot\u001b[0m\u001b[1;33m\u001b[0m\u001b[1;33m\u001b[0m\u001b[0m\n\u001b[0;32m      4\u001b[0m \u001b[0mplt\u001b[0m\u001b[1;33m.\u001b[0m\u001b[0mimshow\u001b[0m\u001b[1;33m(\u001b[0m\u001b[0mwordcloud2\u001b[0m\u001b[1;33m)\u001b[0m\u001b[1;33m\u001b[0m\u001b[1;33m\u001b[0m\u001b[0m\n\u001b[0;32m      5\u001b[0m \u001b[0mplt\u001b[0m\u001b[1;33m.\u001b[0m\u001b[0maxis\u001b[0m\u001b[1;33m(\u001b[0m\u001b[1;34m\"off\"\u001b[0m\u001b[1;33m)\u001b[0m\u001b[1;33m\u001b[0m\u001b[1;33m\u001b[0m\u001b[0m\n",
      "\u001b[1;31mTypeError\u001b[0m: sequence item 0: expected str instance, list found"
     ]
    }
   ],
   "source": [
    "text2 = ' '.join(data['Threat'])\n",
    "wordcloud2 = WordCloud().generate(text2)\n",
    "# Generate plot\n",
    "plt.imshow(wordcloud2)\n",
    "plt.axis(\"off\")\n",
    "plt.show()"
   ]
  },
  {
   "cell_type": "code",
   "execution_count": 96,
   "id": "40df4341",
   "metadata": {},
   "outputs": [
    {
     "data": {
      "text/plain": [
       "(627, 1)"
      ]
     },
     "execution_count": 96,
     "metadata": {},
     "output_type": "execute_result"
    }
   ],
   "source": [
    "df_l.shape"
   ]
  },
  {
   "cell_type": "code",
   "execution_count": 97,
   "id": "b064e011",
   "metadata": {},
   "outputs": [],
   "source": [
    "da = pd.DataFrame()"
   ]
  },
  {
   "cell_type": "code",
   "execution_count": 153,
   "id": "a52bf4c9",
   "metadata": {},
   "outputs": [],
   "source": [
    "def nesting(df, explode):\n",
    "    idx=df.index.repeat(df[explode[0]].str.len())\n",
    "    df1=pd.concat([pd.DataFrame({x:(df[x].values)} )for x in explode],axis=1)\n",
    "    df1.index=idx\n",
    "    return df1"
   ]
  },
  {
   "cell_type": "code",
   "execution_count": 154,
   "id": "4e2a541a",
   "metadata": {},
   "outputs": [],
   "source": [
    "d=nesting(data,['Impact'])['Impact'].value_counts()"
   ]
  },
  {
   "cell_type": "code",
   "execution_count": 155,
   "id": "384dc4b7",
   "metadata": {},
   "outputs": [
    {
     "data": {
      "text/plain": [
       "(2249, 1)"
      ]
     },
     "execution_count": 155,
     "metadata": {},
     "output_type": "execute_result"
    }
   ],
   "source": [
    "da.shape"
   ]
  },
  {
   "cell_type": "code",
   "execution_count": 156,
   "id": "11aa10fa",
   "metadata": {},
   "outputs": [
    {
     "data": {
      "text/html": [
       "<div>\n",
       "<style scoped>\n",
       "    .dataframe tbody tr th:only-of-type {\n",
       "        vertical-align: middle;\n",
       "    }\n",
       "\n",
       "    .dataframe tbody tr th {\n",
       "        vertical-align: top;\n",
       "    }\n",
       "\n",
       "    .dataframe thead th {\n",
       "        text-align: right;\n",
       "    }\n",
       "</style>\n",
       "<table border=\"1\" class=\"dataframe\">\n",
       "  <thead>\n",
       "    <tr style=\"text-align: right;\">\n",
       "      <th></th>\n",
       "      <th>Impact-TF</th>\n",
       "    </tr>\n",
       "  </thead>\n",
       "  <tbody>\n",
       "    <tr>\n",
       "      <th>attacker</th>\n",
       "      <td>50950</td>\n",
       "    </tr>\n",
       "    <tr>\n",
       "      <th>vulnerability</th>\n",
       "      <td>42613</td>\n",
       "    </tr>\n",
       "    <tr>\n",
       "      <th>maninthemiddle</th>\n",
       "      <td>27216</td>\n",
       "    </tr>\n",
       "    <tr>\n",
       "      <th>exploit</th>\n",
       "      <td>25887</td>\n",
       "    </tr>\n",
       "    <tr>\n",
       "      <th>server</th>\n",
       "      <td>24903</td>\n",
       "    </tr>\n",
       "  </tbody>\n",
       "</table>\n",
       "</div>"
      ],
      "text/plain": [
       "                Impact-TF\n",
       "attacker            50950\n",
       "vulnerability       42613\n",
       "maninthemiddle      27216\n",
       "exploit             25887\n",
       "server              24903"
      ]
     },
     "execution_count": 156,
     "metadata": {},
     "output_type": "execute_result"
    }
   ],
   "source": [
    "da.head()"
   ]
  },
  {
   "cell_type": "code",
   "execution_count": null,
   "id": "ecc91571",
   "metadata": {},
   "outputs": [],
   "source": []
  }
 ],
 "metadata": {
  "kernelspec": {
   "display_name": "Python 3 (ipykernel)",
   "language": "python",
   "name": "python3"
  },
  "language_info": {
   "codemirror_mode": {
    "name": "ipython",
    "version": 3
   },
   "file_extension": ".py",
   "mimetype": "text/x-python",
   "name": "python",
   "nbconvert_exporter": "python",
   "pygments_lexer": "ipython3",
   "version": "3.9.13"
  }
 },
 "nbformat": 4,
 "nbformat_minor": 5
}
