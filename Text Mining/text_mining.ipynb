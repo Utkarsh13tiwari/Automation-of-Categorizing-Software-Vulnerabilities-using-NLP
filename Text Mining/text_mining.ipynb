{
 "cells": [
  {
   "cell_type": "code",
   "execution_count": 1,
   "id": "deaa04f1",
   "metadata": {},
   "outputs": [],
   "source": [
    "import pandas as pd\n",
    "import seaborn as sns\n",
    "import matplotlib.pyplot as plt\n",
    "import numpy as np"
   ]
  },
  {
   "cell_type": "code",
   "execution_count": 2,
   "id": "9ebdd3ed",
   "metadata": {},
   "outputs": [],
   "source": [
    "data=pd.read_excel(r'C:\\Users\\utkar\\OneDrive\\Desktop\\EDA_project\\Data_set\\Split_data_final.xlsx', sheet_name ='Sheet1') # Reading data "
   ]
  },
  {
   "cell_type": "code",
   "execution_count": 3,
   "id": "2270d1c1",
   "metadata": {},
   "outputs": [
    {
     "data": {
      "text/plain": [
       "N    62521\n",
       "L     7094\n",
       "A      294\n",
       "Name: AV, dtype: int64"
      ]
     },
     "execution_count": 3,
     "metadata": {},
     "output_type": "execute_result"
    }
   ],
   "source": [
    "data['AV'].value_counts()"
   ]
  },
  {
   "cell_type": "code",
   "execution_count": 4,
   "id": "2b62ffe1",
   "metadata": {},
   "outputs": [],
   "source": [
    "av_grp = data.groupby('AV')"
   ]
  },
  {
   "cell_type": "code",
   "execution_count": 5,
   "id": "83a3d0d2",
   "metadata": {},
   "outputs": [
    {
     "data": {
      "text/plain": [
       "AV\n",
       "A    5.477551\n",
       "L    4.057119\n",
       "N    4.289658\n",
       "Name: CVSS, dtype: float64"
      ]
     },
     "execution_count": 5,
     "metadata": {},
     "output_type": "execute_result"
    }
   ],
   "source": [
    "av_grp['CVSS'].mean()"
   ]
  },
  {
   "cell_type": "code",
   "execution_count": 6,
   "id": "96b5c704",
   "metadata": {},
   "outputs": [
    {
     "data": {
      "text/plain": [
       "AV\n",
       "A    7.466667\n",
       "L    6.129652\n",
       "N    5.975095\n",
       "Name: CVSS3, dtype: float64"
      ]
     },
     "execution_count": 6,
     "metadata": {},
     "output_type": "execute_result"
    }
   ],
   "source": [
    "av_grp['CVSS3'].mean()"
   ]
  },
  {
   "cell_type": "code",
   "execution_count": 7,
   "id": "5bf44178",
   "metadata": {},
   "outputs": [
    {
     "data": {
      "text/plain": [
       "AV  AV\n",
       "A   A       294\n",
       "L   L      7094\n",
       "N   N     62521\n",
       "Name: AV, dtype: int64"
      ]
     },
     "execution_count": 7,
     "metadata": {},
     "output_type": "execute_result"
    }
   ],
   "source": [
    "av_grp['AV'].value_counts()"
   ]
  },
  {
   "cell_type": "code",
   "execution_count": 8,
   "id": "b07d2b3b",
   "metadata": {},
   "outputs": [
    {
     "data": {
      "text/html": [
       "<div>\n",
       "<style scoped>\n",
       "    .dataframe tbody tr th:only-of-type {\n",
       "        vertical-align: middle;\n",
       "    }\n",
       "\n",
       "    .dataframe tbody tr th {\n",
       "        vertical-align: top;\n",
       "    }\n",
       "\n",
       "    .dataframe thead th {\n",
       "        text-align: right;\n",
       "    }\n",
       "</style>\n",
       "<table border=\"1\" class=\"dataframe\">\n",
       "  <thead>\n",
       "    <tr style=\"text-align: right;\">\n",
       "      <th></th>\n",
       "      <th>Unnamed: 0</th>\n",
       "      <th>masked Ip</th>\n",
       "      <th>Network</th>\n",
       "      <th>Tracking Method</th>\n",
       "      <th>OS</th>\n",
       "      <th>IP Status</th>\n",
       "      <th>QID</th>\n",
       "      <th>Title</th>\n",
       "      <th>Vuln Status</th>\n",
       "      <th>Type</th>\n",
       "      <th>...</th>\n",
       "      <th>CVSS3 AC</th>\n",
       "      <th>CVSS3 PR</th>\n",
       "      <th>CVSS3 UI</th>\n",
       "      <th>CVSS3 S</th>\n",
       "      <th>CVSS3 C</th>\n",
       "      <th>CVSS3 I</th>\n",
       "      <th>CVSS3 A</th>\n",
       "      <th>CVSS3 E</th>\n",
       "      <th>CVSS3 RL</th>\n",
       "      <th>CVSS3 RC</th>\n",
       "    </tr>\n",
       "    <tr>\n",
       "      <th>AV</th>\n",
       "      <th></th>\n",
       "      <th></th>\n",
       "      <th></th>\n",
       "      <th></th>\n",
       "      <th></th>\n",
       "      <th></th>\n",
       "      <th></th>\n",
       "      <th></th>\n",
       "      <th></th>\n",
       "      <th></th>\n",
       "      <th></th>\n",
       "      <th></th>\n",
       "      <th></th>\n",
       "      <th></th>\n",
       "      <th></th>\n",
       "      <th></th>\n",
       "      <th></th>\n",
       "      <th></th>\n",
       "      <th></th>\n",
       "      <th></th>\n",
       "      <th></th>\n",
       "    </tr>\n",
       "  </thead>\n",
       "  <tbody>\n",
       "    <tr>\n",
       "      <th>A</th>\n",
       "      <td>8</td>\n",
       "      <td>lab_2_IP9036</td>\n",
       "      <td>Global Default Network</td>\n",
       "      <td>QAGENT</td>\n",
       "      <td>Ubuntu Linux 16.04.4</td>\n",
       "      <td>host scanned, found vuln</td>\n",
       "      <td>197995</td>\n",
       "      <td>Ubuntu Security Notification for Sane-backends...</td>\n",
       "      <td>Active</td>\n",
       "      <td>Vuln</td>\n",
       "      <td>...</td>\n",
       "      <td>L</td>\n",
       "      <td>N</td>\n",
       "      <td>N</td>\n",
       "      <td>U</td>\n",
       "      <td>H</td>\n",
       "      <td>H</td>\n",
       "      <td>H</td>\n",
       "      <td>U</td>\n",
       "      <td>O</td>\n",
       "      <td>U</td>\n",
       "    </tr>\n",
       "    <tr>\n",
       "      <th>L</th>\n",
       "      <td>0</td>\n",
       "      <td>lab_2_IP9036</td>\n",
       "      <td>Global Default Network</td>\n",
       "      <td>QAGENT</td>\n",
       "      <td>Ubuntu Linux 16.04.4</td>\n",
       "      <td>host scanned, found vuln</td>\n",
       "      <td>197967</td>\n",
       "      <td>Ubuntu Security Notification for Grub2 Vulnera...</td>\n",
       "      <td>Active</td>\n",
       "      <td>Vuln</td>\n",
       "      <td>...</td>\n",
       "      <td>L</td>\n",
       "      <td>H</td>\n",
       "      <td>N</td>\n",
       "      <td>C</td>\n",
       "      <td>H</td>\n",
       "      <td>H</td>\n",
       "      <td>H</td>\n",
       "      <td>U</td>\n",
       "      <td>O</td>\n",
       "      <td>C</td>\n",
       "    </tr>\n",
       "    <tr>\n",
       "      <th>N</th>\n",
       "      <td>1</td>\n",
       "      <td>lab_2_IP9036</td>\n",
       "      <td>Global Default Network</td>\n",
       "      <td>QAGENT</td>\n",
       "      <td>Ubuntu Linux 16.04.4</td>\n",
       "      <td>host scanned, found vuln</td>\n",
       "      <td>197742</td>\n",
       "      <td>Ubuntu Security Notification for Linux, Linux-...</td>\n",
       "      <td>Active</td>\n",
       "      <td>Vuln</td>\n",
       "      <td>...</td>\n",
       "      <td>L</td>\n",
       "      <td>N</td>\n",
       "      <td>N</td>\n",
       "      <td>U</td>\n",
       "      <td>H</td>\n",
       "      <td>H</td>\n",
       "      <td>H</td>\n",
       "      <td>U</td>\n",
       "      <td>O</td>\n",
       "      <td>U</td>\n",
       "    </tr>\n",
       "  </tbody>\n",
       "</table>\n",
       "<p>3 rows × 52 columns</p>\n",
       "</div>"
      ],
      "text/plain": [
       "    Unnamed: 0     masked Ip                 Network Tracking Method  \\\n",
       "AV                                                                     \n",
       "A            8  lab_2_IP9036  Global Default Network          QAGENT   \n",
       "L            0  lab_2_IP9036  Global Default Network          QAGENT   \n",
       "N            1  lab_2_IP9036  Global Default Network          QAGENT   \n",
       "\n",
       "                      OS                 IP Status     QID  \\\n",
       "AV                                                           \n",
       "A   Ubuntu Linux 16.04.4  host scanned, found vuln  197995   \n",
       "L   Ubuntu Linux 16.04.4  host scanned, found vuln  197967   \n",
       "N   Ubuntu Linux 16.04.4  host scanned, found vuln  197742   \n",
       "\n",
       "                                                Title Vuln Status  Type  ...  \\\n",
       "AV                                                                       ...   \n",
       "A   Ubuntu Security Notification for Sane-backends...      Active  Vuln  ...   \n",
       "L   Ubuntu Security Notification for Grub2 Vulnera...      Active  Vuln  ...   \n",
       "N   Ubuntu Security Notification for Linux, Linux-...      Active  Vuln  ...   \n",
       "\n",
       "    CVSS3 AC  CVSS3 PR CVSS3 UI CVSS3 S CVSS3 C CVSS3 I CVSS3 A  CVSS3 E  \\\n",
       "AV                                                                         \n",
       "A          L         N        N       U       H       H       H        U   \n",
       "L          L         H        N       C       H       H       H        U   \n",
       "N          L         N        N       U       H       H       H        U   \n",
       "\n",
       "   CVSS3 RL CVSS3 RC  \n",
       "AV                    \n",
       "A         O        U  \n",
       "L         O        C  \n",
       "N         O        U  \n",
       "\n",
       "[3 rows x 52 columns]"
      ]
     },
     "execution_count": 8,
     "metadata": {},
     "output_type": "execute_result"
    }
   ],
   "source": [
    "av_grp.first()"
   ]
  },
  {
   "cell_type": "code",
   "execution_count": null,
   "id": "b49622ae",
   "metadata": {},
   "outputs": [],
   "source": []
  },
  {
   "cell_type": "code",
   "execution_count": 9,
   "id": "c057f793",
   "metadata": {},
   "outputs": [],
   "source": [
    "data['Threat'] = data['Threat'].str.lower()"
   ]
  },
  {
   "cell_type": "code",
   "execution_count": 10,
   "id": "e2637fe7",
   "metadata": {},
   "outputs": [
    {
     "data": {
      "text/plain": [
       "0    the grub2 boot loader is vulnerable to buffer ...\n",
       "1      it was discovered that a heap-based buffer o...\n",
       "2     it was discovered that libtiff incorrectly ha...\n",
       "3      it was discovered that a race condition exis...\n",
       "4    docker engine enables containerized applicatio...\n",
       "Name: Threat, dtype: object"
      ]
     },
     "execution_count": 10,
     "metadata": {},
     "output_type": "execute_result"
    }
   ],
   "source": [
    "data['Threat'].head()"
   ]
  },
  {
   "cell_type": "code",
   "execution_count": 11,
   "id": "657b53a7",
   "metadata": {},
   "outputs": [],
   "source": [
    "data['Impact'] = data['Impact'].str.lower()"
   ]
  },
  {
   "cell_type": "code",
   "execution_count": 12,
   "id": "74e1f1d0",
   "metadata": {},
   "outputs": [
    {
     "data": {
      "text/plain": [
       "0    successful exploitation allows attacker to exe...\n",
       "1       a physically proximate attacker could use t...\n",
       "2      if a user or automated system were tricked i...\n",
       "3       a local attacker could use this to gain adm...\n",
       "4    successful exploitation of this vulnerability ...\n",
       "Name: Impact, dtype: object"
      ]
     },
     "execution_count": 12,
     "metadata": {},
     "output_type": "execute_result"
    }
   ],
   "source": [
    "data['Impact'].head()"
   ]
  },
  {
   "cell_type": "code",
   "execution_count": 13,
   "id": "be149d79",
   "metadata": {},
   "outputs": [],
   "source": [
    "data['Exploitability'] = data['Exploitability'].str.lower()"
   ]
  },
  {
   "cell_type": "code",
   "execution_count": 14,
   "id": "59d81f04",
   "metadata": {},
   "outputs": [
    {
     "data": {
      "text/plain": [
       "0                                                      NaN\n",
       "1                                                      NaN\n",
       "2                                                      NaN\n",
       "3        source: the exploit-db_x005f_x000d_\\nreference...\n",
       "4        source: qualys_x005f_x000d_\\nreference:cve-201...\n",
       "                               ...                        \n",
       "69904                                                  NaN\n",
       "69905                                                  NaN\n",
       "69906                                                  NaN\n",
       "69907                                                  NaN\n",
       "69908                                                  NaN\n",
       "Name: Exploitability, Length: 69909, dtype: object"
      ]
     },
     "execution_count": 14,
     "metadata": {},
     "output_type": "execute_result"
    }
   ],
   "source": [
    "data['Exploitability']"
   ]
  },
  {
   "cell_type": "code",
   "execution_count": 15,
   "id": "88f0cb18",
   "metadata": {},
   "outputs": [
    {
     "data": {
      "text/plain": [
       "9702"
      ]
     },
     "execution_count": 15,
     "metadata": {},
     "output_type": "execute_result"
    }
   ],
   "source": [
    "data['Exploitability'].count()"
   ]
  },
  {
   "cell_type": "code",
   "execution_count": 16,
   "id": "4080ba6a",
   "metadata": {},
   "outputs": [
    {
     "name": "stderr",
     "output_type": "stream",
     "text": [
      "C:\\Users\\utkar\\AppData\\Local\\Temp\\ipykernel_40780\\77678499.py:1: FutureWarning: The default value of regex will change from True to False in a future version.\n",
      "  data[\"Impact\"] = data['Impact'].str.replace('[^\\w\\s]','')\n"
     ]
    }
   ],
   "source": [
    "data[\"Impact\"] = data['Impact'].str.replace('[^\\w\\s]','')"
   ]
  },
  {
   "cell_type": "code",
   "execution_count": 17,
   "id": "8fecd400",
   "metadata": {},
   "outputs": [
    {
     "data": {
      "text/plain": [
       "0    successful exploitation allows attacker to exe...\n",
       "1       a physically proximate attacker could use t...\n",
       "2      if a user or automated system were tricked i...\n",
       "3       a local attacker could use this to gain adm...\n",
       "4    successful exploitation of this vulnerability ...\n",
       "Name: Impact, dtype: object"
      ]
     },
     "execution_count": 17,
     "metadata": {},
     "output_type": "execute_result"
    }
   ],
   "source": [
    "data['Impact'].head()"
   ]
  },
  {
   "cell_type": "code",
   "execution_count": 18,
   "id": "4bde857a",
   "metadata": {},
   "outputs": [
    {
     "name": "stderr",
     "output_type": "stream",
     "text": [
      "C:\\Users\\utkar\\AppData\\Local\\Temp\\ipykernel_40780\\1039804244.py:1: FutureWarning: The default value of regex will change from True to False in a future version.\n",
      "  data[\"Threat\"] = data['Threat'].str.replace('[^\\w\\s]','')\n"
     ]
    }
   ],
   "source": [
    "data[\"Threat\"] = data['Threat'].str.replace('[^\\w\\s]','')"
   ]
  },
  {
   "cell_type": "code",
   "execution_count": 19,
   "id": "73784c72",
   "metadata": {},
   "outputs": [
    {
     "data": {
      "text/plain": [
       "0    the grub2 boot loader is vulnerable to buffer ...\n",
       "1      it was discovered that a heapbased buffer ov...\n",
       "2     it was discovered that libtiff incorrectly ha...\n",
       "3      it was discovered that a race condition exis...\n",
       "4    docker engine enables containerized applicatio...\n",
       "Name: Threat, dtype: object"
      ]
     },
     "execution_count": 19,
     "metadata": {},
     "output_type": "execute_result"
    }
   ],
   "source": [
    "data['Threat'].head()"
   ]
  },
  {
   "cell_type": "code",
   "execution_count": 20,
   "id": "979c3e10",
   "metadata": {},
   "outputs": [
    {
     "data": {
      "text/plain": [
       "count                                                 69909\n",
       "unique                                                 1124\n",
       "top       an ssl certificate associates an entity person...\n",
       "freq                                                   5391\n",
       "Name: Threat, dtype: object"
      ]
     },
     "execution_count": 20,
     "metadata": {},
     "output_type": "execute_result"
    }
   ],
   "source": [
    "data['Threat'].describe()"
   ]
  },
  {
   "cell_type": "code",
   "execution_count": 21,
   "id": "311f475b",
   "metadata": {},
   "outputs": [
    {
     "data": {
      "text/plain": [
       "count                                                 69409\n",
       "unique                                                  714\n",
       "top       by exploiting this vulnerability an attacker c...\n",
       "freq                                                   8128\n",
       "Name: Impact, dtype: object"
      ]
     },
     "execution_count": 21,
     "metadata": {},
     "output_type": "execute_result"
    }
   ],
   "source": [
    "data['Impact'].describe()"
   ]
  },
  {
   "cell_type": "code",
   "execution_count": 22,
   "id": "5499a7d4",
   "metadata": {},
   "outputs": [
    {
     "data": {
      "text/plain": [
       "count                                                  9702\n",
       "unique                                                  160\n",
       "top       source: the exploit-db_x005f_x000d_\\nreference...\n",
       "freq                                                   1180\n",
       "Name: Exploitability, dtype: object"
      ]
     },
     "execution_count": 22,
     "metadata": {},
     "output_type": "execute_result"
    }
   ],
   "source": [
    "data['Exploitability'].describe()"
   ]
  },
  {
   "cell_type": "code",
   "execution_count": 23,
   "id": "10402a1e",
   "metadata": {},
   "outputs": [
    {
     "data": {
      "text/plain": [
       "<bound method NDFrame.head of 0        successful exploitation allows attacker to exe...\n",
       "1           a physically proximate attacker could use t...\n",
       "2          if a user or automated system were tricked i...\n",
       "3           a local attacker could use this to gain adm...\n",
       "4        successful exploitation of this vulnerability ...\n",
       "                               ...                        \n",
       "69904    an attacker can exploit cryptographic flaws to...\n",
       "69905    an attacker can exploit cryptographic flaws to...\n",
       "69906    by exploiting this vulnerability an attacker c...\n",
       "69907    by exploiting this vulnerability an attacker c...\n",
       "69908    by exploiting this vulnerability an attacker c...\n",
       "Name: Impact, Length: 69909, dtype: object>"
      ]
     },
     "execution_count": 23,
     "metadata": {},
     "output_type": "execute_result"
    }
   ],
   "source": [
    "data['Impact'].dropna(inplace=True)\n",
    "data['Impact'] = data['Impact'].astype(str)\n",
    "data['Impact'].head"
   ]
  },
  {
   "cell_type": "code",
   "execution_count": 24,
   "id": "fc1e177e",
   "metadata": {},
   "outputs": [],
   "source": [
    "\n",
    "from nltk.tokenize import sent_tokenize, word_tokenize\n",
    "\n",
    "data['Impact']=data['Impact'].apply(word_tokenize)"
   ]
  },
  {
   "cell_type": "code",
   "execution_count": 25,
   "id": "af3bef12",
   "metadata": {},
   "outputs": [
    {
     "data": {
      "text/plain": [
       "0    [successful, exploitation, allows, attacker, t...\n",
       "1    [a, physically, proximate, attacker, could, us...\n",
       "2    [if, a, user, or, automated, system, were, tri...\n",
       "3    [a, local, attacker, could, use, this, to, gai...\n",
       "4    [successful, exploitation, of, this, vulnerabi...\n",
       "Name: Impact, dtype: object"
      ]
     },
     "execution_count": 25,
     "metadata": {},
     "output_type": "execute_result"
    }
   ],
   "source": [
    "data['Impact'].head()"
   ]
  },
  {
   "cell_type": "code",
   "execution_count": 26,
   "id": "cd060a73",
   "metadata": {},
   "outputs": [],
   "source": [
    "data['Threat']=data['Threat'].apply(word_tokenize)"
   ]
  },
  {
   "cell_type": "code",
   "execution_count": 27,
   "id": "a743993a",
   "metadata": {},
   "outputs": [
    {
     "data": {
      "text/plain": [
       "0    [the, grub2, boot, loader, is, vulnerable, to,...\n",
       "1    [it, was, discovered, that, a, heapbased, buff...\n",
       "2    [it, was, discovered, that, libtiff, incorrect...\n",
       "3    [it, was, discovered, that, a, race, condition...\n",
       "4    [docker, engine, enables, containerized, appli...\n",
       "Name: Threat, dtype: object"
      ]
     },
     "execution_count": 27,
     "metadata": {},
     "output_type": "execute_result"
    }
   ],
   "source": [
    "data['Threat'].head()"
   ]
  },
  {
   "cell_type": "code",
   "execution_count": 28,
   "id": "d9f5626c",
   "metadata": {},
   "outputs": [
    {
     "data": {
      "text/plain": [
       "[an, ssl, certificate, associates, an, entity, person, organization, host, etc, with, a, public, key, in, an, ssl, connection, the, client, authenticates, the, remote, server, using, the, servers, certificate, and, extracts, the, public, key, in, the, certificate, to, establish, the, secure, connection, the, authentication, is, done, by, verifying, that, the, public, key, in, the, certificate, is, signed, by, a, trusted, thirdparty, certificate, authority, if, a, client, is, unable, to, verify, the, certificate, it, can, abort, communication, or, prompt, the, user, to, continue, the, communication, without, authentication]                                                                                                                                                               5391\n",
       "[an, ssl, certificate, associates, an, entity, person, organization, host, etc, with, a, public, key, in, an, ssl, connection, the, client, authenticates, the, remote, server, using, the, servers, certificate, and, extracts, the, public, key, in, the, certificate, to, establish, the, secure, connection, the, client, can, trust, that, the, server, certificate, belongs, the, server, only, if, it, is, signed, by, a, mutually, trusted, thirdparty, certificate, authority, ca, selfsigned, certificates, are, created, generally, for, testing, purposes, or, to, avoid, paying, thirdparty, cas, these, should, not, be, used, on, any, production, or, critical, servers, by, exploiting, this, vulnerability, an, attacker, can, impersonate, the, server, ...]                                      4472\n",
       "[an, ssl, certificate, associates, an, entity, person, organization, host, etc, with, a, public, key, in, an, ssl, connection, the, client, authenticates, the, remote, server, using, the, servers, certificate, and, extracts, the, public, key, in, the, certificate, to, establish, the, secure, connection, a, certificate, whose, subject, commonname, or, subjectaltname, does, not, match, the, server, fqdn, offers, only, encryption, without, authentication, please, note, that, a, false, positive, reporting, of, this, vulnerability, is, possible, in, the, following, case, if, the, common, name, of, the, certificate, uses, a, wildcard, such, as, somedomainnamecom, and, the, reverse, dns, resolution, of, the, target, ip, is, not, configured, ...]                                         4296\n",
       "[a, remote, management, service, that, accepts, unencrypted, credentials, was, detected, on, target, host, services, like, telnet, ftp, http, with, basic, auth, are, checked, services, like, tftp, are, also, checked]                                                                                                                                                                                                                                                                                                                                                                                                                                                                                                                                                                                             3989\n",
       "[tls, is, capable, of, using, a, multitude, of, ciphers, algorithms, to, create, the, public, and, private, key, pairs, for, example, if, tlsv10, uses, either, the, rc4, stream, cipher, or, a, block, cipher, in, cbc, mode, rc4, is, known, to, have, biases, and, the, block, cipher, in, cbc, mode, is, vulnerable, to, the, poodle, attack, tlsv10, if, configured, to, use, the, same, cipher, suites, as, sslv3, includes, a, means, by, which, a, tls, implementation, can, downgrade, the, connection, to, ssl, v30, thus, weakening, security, a, poodletype, httpsblogqualyscomssllabs20141208poodlebitestls, attack, could, also, be, launched, directly, at, tls, without, negotiating, a, downgrade, this, qid, ...]                                                                                  3389\n",
       "                                                                                                                                                                                                                                                                                                                                                                                                                                                                                                                                                                                                                                                                                                                                                                                                                     ... \n",
       "[the, gnu, bourne, again, shell, bash, is, a, shell, and, command, language, interpreter, compatible, with, the, bourne, shell, sh, bash, is, prone, to, a, command, injection, vulnerability, that, exists, because, of, an, incomplete, fix, for, cve20146271, aka, original, shellshockbash, bug, a, flaw, was, found, in, the, way, bash, evaluated, certain, specially, crafted, environment, variables, an, attacker, could, use, this, flaw, to, override, or, bypass, environment, restrictions, to, execute, shell, commands, certain, services, and, applications, allow, remote, unauthenticated, attackers, to, provide, environment, variables, allowing, them, to, exploit, this, issuecve20147169, gnu, bash, through, 43, bash43026, does, not, properly, parse, function, definitions, in, ...]        1\n",
       "[ldap, stands, for, lightweight, directory, access, protocol, it, is, a, lightweight, protocol, for, accessing, directory, services, a, directory, is, a, specialized, database, optimized, for, reading, browsing, and, searching, the, manipulation, as, part, of, a, command, leads, to, a, denial, of, service, vulnerability, qid, detection, logic, authenticated, the, check, matches, open, ldap, version, retrieved, using, usrsbinslapd, vv, command]                                                                                                                                                                                                                                                                                                                                                         1\n",
       "[centos, has, released, security, update, for, openjpeg2, to, fix, the, vulnerabilities, affected, products, centos, 7]                                                                                                                                                                                                                                                                                                                                                                                                                                                                                                                                                                                                                                                                                                 1\n",
       "[centos, has, released, security, update, for, python3, to, fix, the, vulnerabilities, affected, products, centos, 7]                                                                                                                                                                                                                                                                                                                                                                                                                                                                                                                                                                                                                                                                                                   1\n",
       "[the, binutils, packages, provide, a, collection, of, binary, utilities, for, the, manipulation, of, object, code, in, various, object, file, formats, it, includes, the, ar, as, gprof, ld, nm, objcopy, objdump, ranlib, readelf, size, strings, strip, and, addr2line, utilities, security, fixes, binutils, improper, bounds, check, in, coffgenccoff_pointerize_aux, allows, for, denial, of, service, when, parsing, a, crafted, coff, file, cve20187208, binutils, integer, overflow, via, an, elf, file, with, corrupt, dwarf1, debug, information, in, libbfd, library, cve20187568, binutils, integer, underflow, or, overflow, via, an, elf, file, with, a, corrupt, dwarf, form, block, in, libbfd, library, cve20187569, binutils, null, pointer, dereference, in, swap_std_reloc_in, function, ...]       1\n",
       "Name: Threat, Length: 1120, dtype: int64"
      ]
     },
     "execution_count": 28,
     "metadata": {},
     "output_type": "execute_result"
    }
   ],
   "source": [
    "data['Threat'].value_counts()"
   ]
  },
  {
   "cell_type": "markdown",
   "id": "69ca13fd",
   "metadata": {},
   "source": [
    "# Removing stop words"
   ]
  },
  {
   "cell_type": "code",
   "execution_count": 29,
   "id": "380696fb",
   "metadata": {},
   "outputs": [],
   "source": [
    "from nltk.corpus import stopwords\n",
    "\n",
    "stop = stopwords.words('english')\n",
    "\n",
    "data['Impact']=data['Impact'].apply(lambda x: [item for item in x if item not in stop])"
   ]
  },
  {
   "cell_type": "code",
   "execution_count": 30,
   "id": "bad0407b",
   "metadata": {},
   "outputs": [
    {
     "data": {
      "text/plain": [
       "0    [successful, exploitation, allows, attacker, e...\n",
       "1    [physically, proximate, attacker, could, use, ...\n",
       "2    [user, automated, system, tricked, opening, sp...\n",
       "3    [local, attacker, could, use, gain, administra...\n",
       "4    [successful, exploitation, vulnerability, allo...\n",
       "Name: Impact, dtype: object"
      ]
     },
     "execution_count": 30,
     "metadata": {},
     "output_type": "execute_result"
    }
   ],
   "source": [
    "data['Impact'].head()"
   ]
  },
  {
   "cell_type": "markdown",
   "id": "a3e37a1a",
   "metadata": {},
   "source": [
    "# Removing stop words"
   ]
  },
  {
   "cell_type": "code",
   "execution_count": 31,
   "id": "84b79487",
   "metadata": {},
   "outputs": [],
   "source": [
    "from nltk.corpus import stopwords\n",
    "\n",
    "stop = stopwords.words('english')\n",
    "\n",
    "data['Threat']=data['Threat'].apply(lambda x: [item for item in x if item not in stop])"
   ]
  },
  {
   "cell_type": "code",
   "execution_count": 32,
   "id": "79c62283",
   "metadata": {},
   "outputs": [
    {
     "data": {
      "text/plain": [
       "0    [grub2, boot, loader, vulnerable, buffer, over...\n",
       "1    [discovered, heapbased, buffer, overflow, exis...\n",
       "2    [discovered, libtiff, incorrectly, handled, ce...\n",
       "3    [discovered, race, condition, existed, memory,...\n",
       "4    [docker, engine, enables, containerized, appli...\n",
       "Name: Threat, dtype: object"
      ]
     },
     "execution_count": 32,
     "metadata": {},
     "output_type": "execute_result"
    }
   ],
   "source": [
    "data['Threat'].head()"
   ]
  },
  {
   "cell_type": "code",
   "execution_count": 33,
   "id": "db29b2b1",
   "metadata": {},
   "outputs": [],
   "source": [
    "result = data['Threat'].value_counts() / len(data['Threat'])"
   ]
  },
  {
   "cell_type": "code",
   "execution_count": 34,
   "id": "8bc21412",
   "metadata": {},
   "outputs": [
    {
     "name": "stdout",
     "output_type": "stream",
     "text": [
      "[ssl, certificate, associates, entity, person, organization, host, etc, public, key, ssl, connection, client, authenticates, remote, server, using, servers, certificate, extracts, public, key, certificate, establish, secure, connection, authentication, done, verifying, public, key, certificate, signed, trusted, thirdparty, certificate, authority, client, unable, verify, certificate, abort, communication, prompt, user, continue, communication, without, authentication]                                                                                                                                                                                                                                                                                                                                                                                                                                                                                                                   0.077115\n",
      "[ssl, certificate, associates, entity, person, organization, host, etc, public, key, ssl, connection, client, authenticates, remote, server, using, servers, certificate, extracts, public, key, certificate, establish, secure, connection, client, trust, server, certificate, belongs, server, signed, mutually, trusted, thirdparty, certificate, authority, ca, selfsigned, certificates, created, generally, testing, purposes, avoid, paying, thirdparty, cas, used, production, critical, servers, exploiting, vulnerability, attacker, impersonate, server, presenting, fake, selfsigned, certificate, client, knows, server, trusted, certificate, accept, spoofed, certificate, communicate, remote, server]                                                                                                                                                                                                                                                                                   0.063969\n",
      "[ssl, certificate, associates, entity, person, organization, host, etc, public, key, ssl, connection, client, authenticates, remote, server, using, servers, certificate, extracts, public, key, certificate, establish, secure, connection, certificate, whose, subject, commonname, subjectaltname, match, server, fqdn, offers, encryption, without, authentication, please, note, false, positive, reporting, vulnerability, possible, following, case, common, name, certificate, uses, wildcard, somedomainnamecom, reverse, dns, resolution, target, ip, configured, case, way, qualys, associate, wildcard, common, name, ip, adding, reverse, dns, lookup, entry, target, ip, solve, problem]                                                                                                                                                                                                                                                                                                    0.061451\n",
      "[remote, management, service, accepts, unencrypted, credentials, detected, target, host, services, like, telnet, ftp, http, basic, auth, checked, services, like, tftp, also, checked]                                                                                                                                                                                                                                                                                                                                                                                                                                                                                                                                                                                                                                                                                                                                                                                                                    0.057060\n",
      "[tls, capable, using, multitude, ciphers, algorithms, create, public, private, key, pairs, example, tlsv10, uses, either, rc4, stream, cipher, block, cipher, cbc, mode, rc4, known, biases, block, cipher, cbc, mode, vulnerable, poodle, attack, tlsv10, configured, use, cipher, suites, sslv3, includes, means, tls, implementation, downgrade, connection, ssl, v30, thus, weakening, security, poodletype, httpsblogqualyscomssllabs20141208poodlebitestls, attack, could, also, launched, directly, tls, without, negotiating, downgrade, qid, automatic, pci, fail, accordance, pci, standards, details, found, pci, asv, program, guide, v31, page, 27, httpswwwpcisecuritystandardsorgdocumentsasv_program_guide_v31pdf, pci, use, ssl, early, tls, asv, scans, httpswwwpcisecuritystandardsorgdocumentsuseofsslearlytlsandasvscanspdf]                                                                                                                                                         0.048477\n",
      "                                                                                                                                                                                                                                                                                                                                                                                                                                                                                                                                                                                                                                                                                                                                                                                                                                                                                                                                                                                                            ...   \n",
      "[gnu, bourne, shell, bash, shell, command, language, interpreter, compatible, bourne, shell, sh, bash, prone, command, injection, vulnerability, exists, incomplete, fix, cve20146271, aka, original, shellshockbash, bug, flaw, found, way, bash, evaluated, certain, specially, crafted, environment, variables, attacker, could, use, flaw, override, bypass, environment, restrictions, execute, shell, commands, certain, services, applications, allow, remote, unauthenticated, attackers, provide, environment, variables, allowing, exploit, issuecve20147169, gnu, bash, 43, bash43026, properly, parse, function, definitions, values, environment, variables, allows, remote, attackers, execute, arbitrary, code, cause, denial, service, uninitialized, memory, access, untrustedpointer, read, write, operations, via, crafted, environment, demonstrated, vectors, involving, forcecommand, feature, openssh, sshd, mod_cgi, mod_cgid, modules, apache, ...]                              0.000014\n",
      "[ldap, stands, lightweight, directory, access, protocol, lightweight, protocol, accessing, directory, services, directory, specialized, database, optimized, reading, browsing, searching, manipulation, part, command, leads, denial, service, vulnerability, qid, detection, logic, authenticated, check, matches, open, ldap, version, retrieved, using, usrsbinslapd, vv, command]                                                                                                                                                                                                                                                                                                                                                                                                                                                                                                                                                                                                                    0.000014\n",
      "[centos, released, security, update, openjpeg2, fix, vulnerabilities, affected, products, centos, 7]                                                                                                                                                                                                                                                                                                                                                                                                                                                                                                                                                                                                                                                                                                                                                                                                                                                                                                      0.000014\n",
      "[centos, released, security, update, python3, fix, vulnerabilities, affected, products, centos, 7]                                                                                                                                                                                                                                                                                                                                                                                                                                                                                                                                                                                                                                                                                                                                                                                                                                                                                                        0.000014\n",
      "[binutils, packages, provide, collection, binary, utilities, manipulation, object, code, various, object, file, formats, includes, ar, gprof, ld, nm, objcopy, objdump, ranlib, readelf, size, strings, strip, addr2line, utilities, security, fixes, binutils, improper, bounds, check, coffgenccoff_pointerize_aux, allows, denial, service, parsing, crafted, coff, file, cve20187208, binutils, integer, overflow, via, elf, file, corrupt, dwarf1, debug, information, libbfd, library, cve20187568, binutils, integer, underflow, overflow, via, elf, file, corrupt, dwarf, form, block, libbfd, library, cve20187569, binutils, null, pointer, dereference, swap_std_reloc_in, function, aoutxh, resulting, crash, cve20187642, binutils, integer, overflow, display_debug_ranges, function, resulting, crash, cve20187643, binutils, crash, elfcbfd_section_from_shdr, crafted, executable, cve20188945, binutils, heapbase, buffer, overread, dwarfcprocess_cu_tu_index, allows, denial, ...]    0.000014\n",
      "Name: Threat, Length: 1119, dtype: float64\n"
     ]
    }
   ],
   "source": [
    "print(result)"
   ]
  },
  {
   "cell_type": "code",
   "execution_count": 35,
   "id": "6c18b6b8",
   "metadata": {},
   "outputs": [
    {
     "data": {
      "text/plain": [
       "0      [successful, exploitation, allows, attacker, e...\n",
       "1      [physically, proximate, attacker, could, use, ...\n",
       "2      [user, automated, system, tricked, opening, sp...\n",
       "3      [local, attacker, could, use, gain, administra...\n",
       "4      [successful, exploitation, vulnerability, allo...\n",
       "5      [successful, exploitation, allows, remote, att...\n",
       "6      [local, attacker, could, possibly, use, issue,...\n",
       "7      [attacker, could, use, construct, malicious, x...\n",
       "8      [remote, attacker, could, possibly, use, issue...\n",
       "9      [user, automated, system, tricked, processing,...\n",
       "10     [remote, attacker, could, possibly, use, issue...\n",
       "50     [attacker, could, use, expose, sensitive, info...\n",
       "79     [local, attacker, could, use, expose, sensitiv...\n",
       "101    [attacker, could, use, expose, sensitive, info...\n",
       "216    [successful, exploitation, could, allow, attac...\n",
       "Name: Impact, dtype: object"
      ]
     },
     "execution_count": 35,
     "metadata": {},
     "output_type": "execute_result"
    }
   ],
   "source": [
    "av_grp['Impact'].head(5)"
   ]
  },
  {
   "cell_type": "code",
   "execution_count": null,
   "id": "1f97f1d5",
   "metadata": {},
   "outputs": [],
   "source": []
  },
  {
   "cell_type": "code",
   "execution_count": null,
   "id": "20794fa2",
   "metadata": {},
   "outputs": [],
   "source": []
  }
 ],
 "metadata": {
  "kernelspec": {
   "display_name": "Python 3 (ipykernel)",
   "language": "python",
   "name": "python3"
  },
  "language_info": {
   "codemirror_mode": {
    "name": "ipython",
    "version": 3
   },
   "file_extension": ".py",
   "mimetype": "text/x-python",
   "name": "python",
   "nbconvert_exporter": "python",
   "pygments_lexer": "ipython3",
   "version": "3.9.13"
  }
 },
 "nbformat": 4,
 "nbformat_minor": 5
}
