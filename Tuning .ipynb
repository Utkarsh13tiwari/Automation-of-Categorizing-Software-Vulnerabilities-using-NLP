{
 "cells": [
  {
   "cell_type": "code",
   "execution_count": 6,
   "id": "36f5bfe7",
   "metadata": {},
   "outputs": [],
   "source": [
    "import pandas as pd\n",
    "import seaborn as sns\n",
    "import matplotlib.pyplot as plt\n",
    "import numpy as np\n",
    "from nltk.tokenize import RegexpTokenizer\n",
    "from sklearn.feature_extraction.text import TfidfVectorizer\n",
    "from sklearn.decomposition import LatentDirichletAllocation"
   ]
  },
  {
   "cell_type": "code",
   "execution_count": null,
   "id": "167654f4",
   "metadata": {},
   "outputs": [],
   "source": []
  },
  {
   "cell_type": "code",
   "execution_count": 7,
   "id": "48bec79b",
   "metadata": {},
   "outputs": [],
   "source": [
    "data=pd.read_excel(r'C:\\Users\\utkar\\OneDrive\\Desktop\\EDA_project\\Data_set\\Split_data_final.xlsx', sheet_name ='Sheet1') # Reading data "
   ]
  },
  {
   "cell_type": "code",
   "execution_count": 8,
   "id": "71aa7d4c",
   "metadata": {},
   "outputs": [],
   "source": [
    "data_A=pd.DataFrame()"
   ]
  },
  {
   "cell_type": "code",
   "execution_count": 9,
   "id": "54f09871",
   "metadata": {},
   "outputs": [],
   "source": [
    "data_L=pd.DataFrame()"
   ]
  },
  {
   "cell_type": "code",
   "execution_count": 10,
   "id": "3b973b1a",
   "metadata": {},
   "outputs": [],
   "source": [
    "data_N=pd.DataFrame()"
   ]
  },
  {
   "cell_type": "code",
   "execution_count": 11,
   "id": "592a232e",
   "metadata": {},
   "outputs": [],
   "source": [
    "data_A=data.loc[data['AV'] == 'A']"
   ]
  },
  {
   "cell_type": "code",
   "execution_count": 12,
   "id": "3585c8d0",
   "metadata": {},
   "outputs": [],
   "source": [
    "data_L=data.loc[data['AV'] == 'L']"
   ]
  },
  {
   "cell_type": "code",
   "execution_count": 13,
   "id": "038b2670",
   "metadata": {},
   "outputs": [],
   "source": [
    "data_N=data.loc[data['AV'] == 'N']"
   ]
  },
  {
   "cell_type": "code",
   "execution_count": 14,
   "id": "0841002b",
   "metadata": {},
   "outputs": [
    {
     "name": "stderr",
     "output_type": "stream",
     "text": [
      "C:\\Users\\utkar\\AppData\\Local\\Temp\\ipykernel_24936\\1371494755.py:3: FutureWarning: The default value of regex will change from True to False in a future version.\n",
      "  data[\"Threat\"] = data['Threat'].str.replace('[^\\w\\s]','')\n"
     ]
    }
   ],
   "source": [
    "data['Threat'] = data['Threat'].str.lower()\n",
    "data['Threat'] = data['Threat'].replace(r'http\\S+', '', regex=True).replace(r'www\\S+', '', regex=True)\n",
    "data[\"Threat\"] = data['Threat'].str.replace('[^\\w\\s]','')"
   ]
  },
  {
   "cell_type": "markdown",
   "id": "dd2077b0",
   "metadata": {},
   "source": [
    "import gensim\n",
    "from gensim.utils import simple_preprocess\n",
    "\n",
    "def sent_to_words(sentences):\n",
    "    for sentence in sentences:\n",
    "        yield(gensim.utils.simple_preprocess(str(sentence), deacc=True))  # deacc=True removes punctuations\n",
    "\n",
    "data = data_A.Threat.values.tolist()\n",
    "data_words = list(sent_to_words(data))\n",
    "\n",
    "print(data_words[:1][0][:30])"
   ]
  },
  {
   "cell_type": "code",
   "execution_count": 15,
   "id": "c41edb06",
   "metadata": {},
   "outputs": [],
   "source": [
    "from nltk.corpus import stopwords\n",
    "\n",
    "stop = stopwords.words('english')\n",
    "new_stopwords = [\"id\", \"from\", \"could\", \"use\", \"also\",\"Many\",\"like\",\"May\",\"may\",\"ca\",\"even\",\"ect\",\"i.e\",\"cause\",\"result\",\"used\",\"form\",\"Its\",\"cause\",\"take\",\"following\"]\n",
    "stop.extend(new_stopwords)\n",
    "\n",
    "data['Threat']=data['Threat'].apply(lambda x: [item for item in x if item not in stop])"
   ]
  },
  {
   "cell_type": "code",
   "execution_count": 16,
   "id": "daf41c6a",
   "metadata": {},
   "outputs": [
    {
     "name": "stderr",
     "output_type": "stream",
     "text": [
      "C:\\Users\\utkar\\AppData\\Local\\Temp\\ipykernel_24936\\902507766.py:3: SettingWithCopyWarning: \n",
      "A value is trying to be set on a copy of a slice from a DataFrame.\n",
      "Try using .loc[row_indexer,col_indexer] = value instead\n",
      "\n",
      "See the caveats in the documentation: https://pandas.pydata.org/pandas-docs/stable/user_guide/indexing.html#returning-a-view-versus-a-copy\n",
      "  data_A['Threat']=data_A['Threat'].apply(word_tokenize)\n"
     ]
    }
   ],
   "source": [
    "from nltk.tokenize import sent_tokenize, word_tokenize\n",
    "\n",
    "data_A['Threat']=data_A['Threat'].apply(word_tokenize)"
   ]
  },
  {
   "cell_type": "code",
   "execution_count": null,
   "id": "39674e7a",
   "metadata": {},
   "outputs": [],
   "source": []
  },
  {
   "cell_type": "code",
   "execution_count": 17,
   "id": "47e1cf27",
   "metadata": {},
   "outputs": [
    {
     "name": "stderr",
     "output_type": "stream",
     "text": [
      "C:\\Users\\utkar\\AppData\\Local\\Temp\\ipykernel_24936\\2303327044.py:3: SettingWithCopyWarning: \n",
      "A value is trying to be set on a copy of a slice from a DataFrame.\n",
      "Try using .loc[row_indexer,col_indexer] = value instead\n",
      "\n",
      "See the caveats in the documentation: https://pandas.pydata.org/pandas-docs/stable/user_guide/indexing.html#returning-a-view-versus-a-copy\n",
      "  data_lemmatized=data_A['Threat-bigrams'] = data_A['Threat'].apply(lambda row: list(nltk.bigrams(row)))\n"
     ]
    },
    {
     "data": {
      "text/plain": [
       "8      [(It, was), (was, discovered), (discovered, th...\n",
       "50     [(It, was), (was, discovered), (discovered, th...\n",
       "79     [(It, was), (was, discovered), (discovered, th...\n",
       "101    [(It, was), (was, discovered), (discovered, th...\n",
       "216    [(The, kernel), (kernel, packages), (packages,...\n",
       "Name: Threat-bigrams, dtype: object"
      ]
     },
     "execution_count": 17,
     "metadata": {},
     "output_type": "execute_result"
    }
   ],
   "source": [
    "import nltk, re, string, collections\n",
    "from nltk.util import ngrams\n",
    "data_lemmatized=data_A['Threat-bigrams'] = data_A['Threat'].apply(lambda row: list(nltk.bigrams(row)))\n",
    "data_A['Threat-bigrams'].head()"
   ]
  },
  {
   "cell_type": "markdown",
   "id": "f7e08ba8",
   "metadata": {},
   "source": [
    "import gensim.corpora as corpora\n",
    "\n",
    "# Create Dictionary\n",
    "id2word = corpora.Dictionary(data_A['Threat-bigrams'])\n",
    "\n",
    "# Create Corpus\n",
    "texts = data_A['Threat-bigrams']\n",
    "\n",
    "# Term Document Frequency\n",
    "corpus = [id2word.doc2bow(text) for text in texts]\n",
    "\n",
    "# View\n",
    "print(corpus[:1][0][:30])"
   ]
  },
  {
   "cell_type": "code",
   "execution_count": null,
   "id": "7b95649e",
   "metadata": {},
   "outputs": [],
   "source": [
    "!pip install spacy"
   ]
  },
  {
   "cell_type": "code",
   "execution_count": 19,
   "id": "05f04abc",
   "metadata": {},
   "outputs": [
    {
     "name": "stdout",
     "output_type": "stream",
     "text": [
      "['it', 'was', 'discovered', 'that', 'sane', 'backends', 'incorrectly', 'handled', 'certain', 'packets', 'it', 'was', 'discovered', 'that', 'sane', 'backends', 'incorrectly', 'handled', 'certain', 'memory', 'operations']\n"
     ]
    }
   ],
   "source": [
    "import gensim\n",
    "from gensim.utils import simple_preprocess\n",
    "\n",
    "def sent_to_words(sentences):\n",
    "    for sentence in sentences:\n",
    "        yield(gensim.utils.simple_preprocess(str(sentence), deacc=True))  # deacc=True removes punctuations\n",
    "\n",
    "data = data_A.Threat.values.tolist()\n",
    "data_words = list(sent_to_words(data))\n",
    "\n",
    "print(data_words[:1][0][:30])"
   ]
  },
  {
   "cell_type": "code",
   "execution_count": null,
   "id": "2faa421d",
   "metadata": {},
   "outputs": [],
   "source": []
  },
  {
   "cell_type": "code",
   "execution_count": 20,
   "id": "71cd6e72",
   "metadata": {},
   "outputs": [],
   "source": [
    "bigram = gensim.models.Phrases(data_words, min_count=5, threshold=100) # higher threshold fewer phrases.\n",
    "bigram_mod = gensim.models.phrases.Phraser(bigram)"
   ]
  },
  {
   "cell_type": "code",
   "execution_count": 21,
   "id": "659a196f",
   "metadata": {},
   "outputs": [],
   "source": [
    "def make_bigrams(texts):\n",
    "    return [bigram_mod[doc] for doc in texts]"
   ]
  },
  {
   "cell_type": "code",
   "execution_count": 22,
   "id": "edacdd70",
   "metadata": {},
   "outputs": [],
   "source": [
    "data_words_bigrams = make_bigrams(data_words)"
   ]
  },
  {
   "cell_type": "markdown",
   "id": "9c690b80",
   "metadata": {},
   "source": [
    "import spacy\n",
    "nlp = spacy.load(\"en_core_web_sm\", disable=['parser', 'ner'])\n",
    "def lemmatization(texts, allowed_postags=['NOUN', 'ADJ', 'VERB', 'ADV']):\n",
    "    \"\"\"https://spacy.io/api/annotation\"\"\"\n",
    "    texts_out = []\n",
    "    for sent in texts:\n",
    "        doc = nlp(\" \".join(sent)) \n",
    "        texts_out.append([token.lemma_ for token in doc if token.pos_ in allowed_postags])\n",
    "    return texts_out"
   ]
  },
  {
   "cell_type": "markdown",
   "id": "f9832b56",
   "metadata": {},
   "source": [
    "import spacy\n",
    "#nlp = spacy.load(\"en_core_web_sm\", disable=['parser', 'ner'])\n",
    "\n",
    "data_lemmatized = lemmatization(data_words_bigrams, allowed_postags=['NOUN', 'ADJ', 'VERB', 'ADV'])\n",
    "\n",
    "print(data_lemmatized[:1][0][:30])"
   ]
  },
  {
   "cell_type": "code",
   "execution_count": 23,
   "id": "359467e9",
   "metadata": {},
   "outputs": [
    {
     "name": "stdout",
     "output_type": "stream",
     "text": [
      "[(0, 2), (1, 2), (2, 2), (3, 2), (4, 2), (5, 2), (6, 1), (7, 1), (8, 1), (9, 2), (10, 2), (11, 2)]\n"
     ]
    }
   ],
   "source": [
    "import gensim.corpora as corpora\n",
    "\n",
    "# Create Dictionary\n",
    "id2word = corpora.Dictionary(data_words_bigrams)\n",
    "\n",
    "# Create Corpus\n",
    "texts = data_words_bigrams\n",
    "\n",
    "# Term Document Frequency\n",
    "corpus = [id2word.doc2bow(text) for text in texts]\n",
    "\n",
    "# View\n",
    "print(corpus[:1][0][:30])"
   ]
  },
  {
   "cell_type": "code",
   "execution_count": 24,
   "id": "906adfb6",
   "metadata": {},
   "outputs": [],
   "source": [
    "# Build LDA model\n",
    "lda_model = gensim.models.LdaMulticore(corpus=corpus,\n",
    "                                       id2word=id2word,\n",
    "                                       num_topics=10, \n",
    "                                       random_state=100,\n",
    "                                       chunksize=100,\n",
    "                                       passes=10,\n",
    "                                       per_word_topics=True)"
   ]
  },
  {
   "cell_type": "code",
   "execution_count": 25,
   "id": "0a2a08f3",
   "metadata": {},
   "outputs": [
    {
     "name": "stdout",
     "output_type": "stream",
     "text": [
      "[(0,\n",
      "  '0.008*\"linux\" + 0.007*\"red\" + 0.005*\"the\" + 0.005*\"hat\" + 0.005*\"kernel\" + '\n",
      "  '0.004*\"enterprise\" + 0.004*\"for\" + 0.004*\"in\" + 0.003*\"discovered\" + '\n",
      "  '0.003*\"it\"'),\n",
      " (1,\n",
      "  '0.065*\"kernel\" + 0.057*\"linux\" + 0.050*\"cve\" + 0.045*\"for\" + 0.044*\"red\" + '\n",
      "  '0.044*\"hat\" + 0.033*\"in\" + 0.025*\"enterprise\" + 0.022*\"to\" + '\n",
      "  '0.020*\"overflow\"'),\n",
      " (2,\n",
      "  '0.092*\"linux\" + 0.086*\"hat\" + 0.086*\"red\" + 0.081*\"enterprise\" + '\n",
      "  '0.056*\"for\" + 0.026*\"kernel\" + 0.025*\"power\" + 0.025*\"ppc\" + 0.025*\"update\" '\n",
      "  '+ 0.024*\"server\"'),\n",
      " (3,\n",
      "  '0.079*\"the\" + 0.037*\"it\" + 0.036*\"that\" + 0.034*\"discovered\" + 0.034*\"was\" '\n",
      "  '+ 0.029*\"kernel\" + 0.026*\"in\" + 0.026*\"linux\" + 0.019*\"properly\" + '\n",
      "  '0.019*\"not\"'),\n",
      " (4,\n",
      "  '0.086*\"the\" + 0.068*\"in\" + 0.048*\"was\" + 0.045*\"discovered\" + 0.045*\"it\" + '\n",
      "  '0.045*\"that\" + 0.044*\"kernel\" + 0.044*\"linux\" + 0.032*\"properly\" + '\n",
      "  '0.032*\"not\"'),\n",
      " (5,\n",
      "  '0.065*\"vmware\" + 0.052*\"esxi\" + 0.052*\"kb\" + 0.045*\"com\" + 0.045*\"http\" + '\n",
      "  '0.042*\"externalid\" + 0.042*\"selfservice\" + 0.042*\"cmd\" + 0.042*\"do\" + '\n",
      "  '0.042*\"microsites\"'),\n",
      " (6,\n",
      "  '0.022*\"vmware\" + 0.019*\"do\" + 0.018*\"kb\" + 0.018*\"the\" + 0.016*\"esxi\" + '\n",
      "  '0.016*\"displaykc\" + 0.016*\"com\" + 0.015*\"http\" + 0.015*\"cmd\" + '\n",
      "  '0.014*\"en_us\"'),\n",
      " (7,\n",
      "  '0.026*\"vmware\" + 0.022*\"kb\" + 0.021*\"esxi\" + 0.020*\"for\" + '\n",
      "  '0.020*\"enterprise\" + 0.019*\"http\" + 0.019*\"the\" + 0.018*\"com\" + '\n",
      "  '0.017*\"selfservice\" + 0.017*\"microsites\"'),\n",
      " (8,\n",
      "  '0.079*\"centos\" + 0.066*\"esx\" + 0.057*\"security\" + 0.049*\"update\" + '\n",
      "  '0.048*\"to\" + 0.047*\"sg\" + 0.047*\"affected\" + 0.044*\"the\" + 0.041*\"for\" + '\n",
      "  '0.040*\"fix\"'),\n",
      " (9,\n",
      "  '0.070*\"the\" + 0.061*\"ftp\" + 0.053*\"in\" + 0.033*\"server\" + 0.032*\"command\" + '\n",
      "  '0.032*\"remote\" + 0.031*\"kernel\" + 0.031*\"not\" + 0.031*\"clients\" + '\n",
      "  '0.031*\"does\"')]\n"
     ]
    }
   ],
   "source": [
    "from pprint import pprint\n",
    "\n",
    "# Print the Keyword in the 10 topics\n",
    "pprint(lda_model.print_topics())\n",
    "doc_lda = lda_model[corpus]"
   ]
  },
  {
   "cell_type": "code",
   "execution_count": null,
   "id": "ddc9965c",
   "metadata": {},
   "outputs": [],
   "source": [
    "from gensim.models import CoherenceModel\n",
    "\n",
    "# Compute Coherence Score\n",
    "coherence_model_lda = CoherenceModel(model=lda_model, texts=data_words_bigrams, dictionary=id2word, coherence='c_v')\n",
    "coherence_lda = coherence_model_lda.get_coherence()\n",
    "print('Coherence Score: ', coherence_lda)"
   ]
  },
  {
   "cell_type": "code",
   "execution_count": 27,
   "id": "02384155",
   "metadata": {},
   "outputs": [],
   "source": [
    "# supporting function\n",
    "def compute_coherence_values(corpus, dictionary, k, a, b):\n",
    "    \n",
    "    lda_model = gensim.models.LdaMulticore(corpus=corpus,\n",
    "                                           id2word=dictionary,\n",
    "                                           num_topics=k, \n",
    "                                           random_state=100,\n",
    "                                           chunksize=100,\n",
    "                                           passes=10,\n",
    "                                           alpha=a,\n",
    "                                           eta=b)\n",
    "    \n",
    "    coherence_model_lda = CoherenceModel(model=lda_model, texts=data_lemmatized, dictionary=id2word, coherence='c_v')\n",
    "    \n",
    "    return coherence_model_lda.get_coherence()"
   ]
  },
  {
   "cell_type": "code",
   "execution_count": 32,
   "id": "205bad8d",
   "metadata": {},
   "outputs": [
    {
     "ename": "SyntaxError",
     "evalue": "(unicode error) 'unicodeescape' codec can't decode bytes in position 2-3: truncated \\UXXXXXXXX escape (4106075069.py, line 59)",
     "output_type": "error",
     "traceback": [
      "\u001b[1;36m  File \u001b[1;32m\"C:\\Users\\utkar\\AppData\\Local\\Temp\\ipykernel_24936\\4106075069.py\"\u001b[1;36m, line \u001b[1;32m59\u001b[0m\n\u001b[1;33m    pd.DataFrame(model_results).to_csv('C:\\Users\\utkar\\OneDrive\\Desktop\\EDA_project\\Data_set.csv', index=False)\u001b[0m\n\u001b[1;37m                                                                                                 ^\u001b[0m\n\u001b[1;31mSyntaxError\u001b[0m\u001b[1;31m:\u001b[0m (unicode error) 'unicodeescape' codec can't decode bytes in position 2-3: truncated \\UXXXXXXXX escape\n"
     ]
    }
   ],
   "source": [
    "import numpy as np\n",
    "import tqdm\n",
    "\n",
    "grid = {}\n",
    "grid['Validation_Set'] = {}\n",
    "\n",
    "# Topics range\n",
    "min_topics = 2\n",
    "max_topics = 11\n",
    "step_size = 1\n",
    "topics_range = range(min_topics, max_topics, step_size)\n",
    "\n",
    "# Alpha parameter\n",
    "alpha = list(np.arange(0.01, 1, 0.3))\n",
    "alpha.append('symmetric')\n",
    "alpha.append('asymmetric')\n",
    "\n",
    "# Beta parameter\n",
    "beta = list(np.arange(0.01, 1, 0.3))\n",
    "beta.append('symmetric')\n",
    "\n",
    "# Validation sets\n",
    "num_of_docs = len(corpus)\n",
    "corpus_sets = [gensim.utils.ClippedCorpus(corpus, int(num_of_docs*0.75)), \n",
    "               corpus]\n",
    "\n",
    "corpus_title = ['75% Corpus', '100% Corpus']\n",
    "\n",
    "model_results = {'Validation_Set': [],\n",
    "                 'Topics': [],\n",
    "                 'Alpha': [],\n",
    "                 'Beta': [],\n",
    "                 'Coherence': []\n",
    "                }\n",
    "\n",
    "# Can take a long time to run\n",
    "if 1 == 1:\n",
    "    pbar = tqdm.tqdm(total=(len(beta)*len(alpha)*len(topics_range)*len(corpus_title)))\n",
    "    \n",
    "    # iterate through validation corpuses\n",
    "    for i in range(len(corpus_sets)):\n",
    "        # iterate through number of topics\n",
    "        for k in topics_range:\n",
    "            # iterate through alpha values\n",
    "            for a in alpha:\n",
    "                # iterare through beta values\n",
    "                for b in beta:\n",
    "                    # get the coherence score for the given parameters\n",
    "                    cv = compute_coherence_values(corpus=corpus_sets[i], dictionary=id2word, \n",
    "                                                  k=k, a=a, b=b)\n",
    "                    # Save the model results\n",
    "                    model_results['Validation_Set'].append(corpus_title[i])\n",
    "                    model_results['Topics'].append(k)\n",
    "                    model_results['Alpha'].append(a)\n",
    "                    model_results['Beta'].append(b)\n",
    "                    model_results['Coherence'].append(cv)\n",
    "                    \n",
    "                    pbar.update(1)\n",
    "    pd.DataFrame(model_results).to_csv('C:\\Users\\utkar\\OneDrive\\Desktop\\EDA_project\\Data_set.csv', index=False)\n",
    "    pbar.close()"
   ]
  },
  {
   "cell_type": "code",
   "execution_count": 33,
   "id": "4e30f5f9",
   "metadata": {},
   "outputs": [
    {
     "name": "stdout",
     "output_type": "stream",
     "text": [
      "{'Validation_Set': ['75% Corpus', '75% Corpus', '75% Corpus', '75% Corpus', '75% Corpus', '75% Corpus', '75% Corpus', '75% Corpus', '75% Corpus', '75% Corpus', '75% Corpus', '75% Corpus', '75% Corpus', '75% Corpus', '75% Corpus', '75% Corpus', '75% Corpus', '75% Corpus', '75% Corpus', '75% Corpus', '75% Corpus', '75% Corpus', '75% Corpus', '75% Corpus', '75% Corpus', '75% Corpus', '75% Corpus', '75% Corpus', '75% Corpus', '75% Corpus', '75% Corpus', '75% Corpus', '75% Corpus', '75% Corpus', '75% Corpus', '75% Corpus', '75% Corpus', '75% Corpus', '75% Corpus', '75% Corpus', '75% Corpus', '75% Corpus', '75% Corpus', '75% Corpus', '75% Corpus', '75% Corpus', '75% Corpus', '75% Corpus', '75% Corpus', '75% Corpus', '75% Corpus', '75% Corpus', '75% Corpus', '75% Corpus', '75% Corpus', '75% Corpus', '75% Corpus', '75% Corpus', '75% Corpus', '75% Corpus', '75% Corpus', '75% Corpus', '75% Corpus', '75% Corpus', '75% Corpus', '75% Corpus', '75% Corpus', '75% Corpus', '75% Corpus', '75% Corpus', '75% Corpus', '75% Corpus', '75% Corpus', '75% Corpus', '75% Corpus', '75% Corpus', '75% Corpus', '75% Corpus', '75% Corpus', '75% Corpus', '75% Corpus', '75% Corpus', '75% Corpus', '75% Corpus', '75% Corpus', '75% Corpus', '75% Corpus', '75% Corpus', '75% Corpus', '75% Corpus', '75% Corpus', '75% Corpus', '75% Corpus', '75% Corpus', '75% Corpus', '75% Corpus', '75% Corpus', '75% Corpus', '75% Corpus', '75% Corpus', '75% Corpus', '75% Corpus', '75% Corpus', '75% Corpus', '75% Corpus', '75% Corpus', '75% Corpus', '75% Corpus', '75% Corpus', '75% Corpus', '75% Corpus', '75% Corpus', '75% Corpus', '75% Corpus', '75% Corpus', '75% Corpus', '75% Corpus', '75% Corpus', '75% Corpus', '75% Corpus', '75% Corpus', '75% Corpus', '75% Corpus', '75% Corpus', '75% Corpus', '75% Corpus', '75% Corpus', '75% Corpus', '75% Corpus', '75% Corpus', '75% Corpus', '75% Corpus', '75% Corpus', '75% Corpus', '75% Corpus', '75% Corpus', '75% Corpus', '75% Corpus', '75% Corpus', '75% Corpus', '75% Corpus', '75% Corpus', '75% Corpus', '75% Corpus', '75% Corpus', '75% Corpus', '75% Corpus', '75% Corpus', '75% Corpus', '75% Corpus', '75% Corpus', '75% Corpus', '75% Corpus', '75% Corpus', '75% Corpus', '75% Corpus', '75% Corpus', '75% Corpus', '75% Corpus', '75% Corpus', '75% Corpus', '75% Corpus', '75% Corpus', '75% Corpus', '75% Corpus', '75% Corpus', '75% Corpus', '75% Corpus', '75% Corpus', '75% Corpus', '75% Corpus', '75% Corpus', '75% Corpus', '75% Corpus', '75% Corpus', '75% Corpus', '75% Corpus', '75% Corpus', '75% Corpus', '75% Corpus', '75% Corpus', '75% Corpus', '75% Corpus', '75% Corpus', '75% Corpus', '75% Corpus', '75% Corpus', '75% Corpus', '75% Corpus', '75% Corpus', '75% Corpus', '75% Corpus', '75% Corpus', '75% Corpus', '75% Corpus', '75% Corpus', '75% Corpus', '75% Corpus', '75% Corpus', '75% Corpus', '75% Corpus', '75% Corpus', '75% Corpus', '75% Corpus', '75% Corpus', '75% Corpus', '75% Corpus', '75% Corpus', '75% Corpus', '75% Corpus', '75% Corpus', '75% Corpus', '75% Corpus', '75% Corpus', '75% Corpus', '75% Corpus', '75% Corpus', '75% Corpus', '75% Corpus', '75% Corpus', '75% Corpus', '75% Corpus', '75% Corpus', '75% Corpus', '75% Corpus', '75% Corpus', '75% Corpus', '75% Corpus', '75% Corpus', '75% Corpus', '75% Corpus', '75% Corpus', '75% Corpus', '75% Corpus', '75% Corpus', '75% Corpus', '75% Corpus', '75% Corpus', '75% Corpus', '75% Corpus', '75% Corpus', '75% Corpus', '75% Corpus', '75% Corpus', '75% Corpus', '75% Corpus', '75% Corpus', '75% Corpus', '75% Corpus', '75% Corpus', '75% Corpus', '75% Corpus', '75% Corpus', '75% Corpus', '75% Corpus', '75% Corpus', '75% Corpus', '75% Corpus', '75% Corpus', '75% Corpus', '75% Corpus', '75% Corpus', '75% Corpus', '75% Corpus', '75% Corpus', '75% Corpus', '75% Corpus', '75% Corpus', '75% Corpus', '75% Corpus', '100% Corpus', '100% Corpus', '100% Corpus', '100% Corpus', '100% Corpus', '100% Corpus', '100% Corpus', '100% Corpus', '100% Corpus', '100% Corpus', '100% Corpus', '100% Corpus', '100% Corpus', '100% Corpus', '100% Corpus', '100% Corpus', '100% Corpus', '100% Corpus', '100% Corpus', '100% Corpus', '100% Corpus', '100% Corpus', '100% Corpus', '100% Corpus', '100% Corpus', '100% Corpus', '100% Corpus', '100% Corpus', '100% Corpus', '100% Corpus', '100% Corpus', '100% Corpus', '100% Corpus', '100% Corpus', '100% Corpus', '100% Corpus', '100% Corpus', '100% Corpus', '100% Corpus', '100% Corpus', '100% Corpus', '100% Corpus', '100% Corpus', '100% Corpus', '100% Corpus', '100% Corpus', '100% Corpus', '100% Corpus', '100% Corpus', '100% Corpus', '100% Corpus', '100% Corpus', '100% Corpus', '100% Corpus', '100% Corpus', '100% Corpus', '100% Corpus', '100% Corpus', '100% Corpus', '100% Corpus', '100% Corpus', '100% Corpus', '100% Corpus', '100% Corpus', '100% Corpus', '100% Corpus', '100% Corpus', '100% Corpus', '100% Corpus', '100% Corpus', '100% Corpus', '100% Corpus', '100% Corpus', '100% Corpus', '100% Corpus', '100% Corpus', '100% Corpus', '100% Corpus', '100% Corpus', '100% Corpus', '100% Corpus', '100% Corpus', '100% Corpus', '100% Corpus', '100% Corpus', '100% Corpus', '100% Corpus', '100% Corpus', '100% Corpus', '100% Corpus', '100% Corpus', '100% Corpus', '100% Corpus', '100% Corpus', '100% Corpus', '100% Corpus', '100% Corpus', '100% Corpus', '100% Corpus', '100% Corpus', '100% Corpus', '100% Corpus', '100% Corpus', '100% Corpus', '100% Corpus', '100% Corpus', '100% Corpus', '100% Corpus', '100% Corpus', '100% Corpus', '100% Corpus', '100% Corpus', '100% Corpus', '100% Corpus', '100% Corpus', '100% Corpus', '100% Corpus', '100% Corpus', '100% Corpus', '100% Corpus', '100% Corpus', '100% Corpus', '100% Corpus', '100% Corpus', '100% Corpus', '100% Corpus', '100% Corpus', '100% Corpus', '100% Corpus', '100% Corpus', '100% Corpus', '100% Corpus', '100% Corpus', '100% Corpus', '100% Corpus', '100% Corpus', '100% Corpus', '100% Corpus', '100% Corpus', '100% Corpus', '100% Corpus', '100% Corpus', '100% Corpus', '100% Corpus', '100% Corpus', '100% Corpus', '100% Corpus', '100% Corpus', '100% Corpus', '100% Corpus', '100% Corpus', '100% Corpus', '100% Corpus', '100% Corpus', '100% Corpus', '100% Corpus', '100% Corpus', '100% Corpus', '100% Corpus', '100% Corpus', '100% Corpus', '100% Corpus', '100% Corpus', '100% Corpus', '100% Corpus', '100% Corpus', '100% Corpus', '100% Corpus', '100% Corpus', '100% Corpus', '100% Corpus', '100% Corpus', '100% Corpus', '100% Corpus', '100% Corpus', '100% Corpus', '100% Corpus', '100% Corpus', '100% Corpus', '100% Corpus', '100% Corpus', '100% Corpus', '100% Corpus', '100% Corpus', '100% Corpus', '100% Corpus', '100% Corpus', '100% Corpus', '100% Corpus', '100% Corpus', '100% Corpus', '100% Corpus', '100% Corpus', '100% Corpus', '100% Corpus', '100% Corpus', '100% Corpus', '100% Corpus', '100% Corpus', '100% Corpus', '100% Corpus', '100% Corpus', '100% Corpus', '100% Corpus', '100% Corpus', '100% Corpus', '100% Corpus', '100% Corpus', '100% Corpus', '100% Corpus', '100% Corpus', '100% Corpus', '100% Corpus', '100% Corpus', '100% Corpus', '100% Corpus', '100% Corpus', '100% Corpus', '100% Corpus', '100% Corpus', '100% Corpus', '100% Corpus', '100% Corpus', '100% Corpus', '100% Corpus', '100% Corpus', '100% Corpus', '100% Corpus', '100% Corpus', '100% Corpus', '100% Corpus', '100% Corpus', '100% Corpus', '100% Corpus', '100% Corpus', '100% Corpus', '100% Corpus', '100% Corpus', '100% Corpus', '100% Corpus', '100% Corpus', '100% Corpus', '100% Corpus', '100% Corpus', '100% Corpus', '100% Corpus', '100% Corpus', '100% Corpus', '100% Corpus', '100% Corpus', '100% Corpus', '100% Corpus', '100% Corpus', '100% Corpus', '100% Corpus', '100% Corpus', '100% Corpus', '100% Corpus', '100% Corpus', '100% Corpus', '100% Corpus', '100% Corpus', '100% Corpus', '100% Corpus', '100% Corpus', '100% Corpus', '100% Corpus', '100% Corpus', '100% Corpus', '100% Corpus'], 'Topics': [2, 2, 2, 2, 2, 2, 2, 2, 2, 2, 2, 2, 2, 2, 2, 2, 2, 2, 2, 2, 2, 2, 2, 2, 2, 2, 2, 2, 2, 2, 3, 3, 3, 3, 3, 3, 3, 3, 3, 3, 3, 3, 3, 3, 3, 3, 3, 3, 3, 3, 3, 3, 3, 3, 3, 3, 3, 3, 3, 3, 4, 4, 4, 4, 4, 4, 4, 4, 4, 4, 4, 4, 4, 4, 4, 4, 4, 4, 4, 4, 4, 4, 4, 4, 4, 4, 4, 4, 4, 4, 5, 5, 5, 5, 5, 5, 5, 5, 5, 5, 5, 5, 5, 5, 5, 5, 5, 5, 5, 5, 5, 5, 5, 5, 5, 5, 5, 5, 5, 5, 6, 6, 6, 6, 6, 6, 6, 6, 6, 6, 6, 6, 6, 6, 6, 6, 6, 6, 6, 6, 6, 6, 6, 6, 6, 6, 6, 6, 6, 6, 7, 7, 7, 7, 7, 7, 7, 7, 7, 7, 7, 7, 7, 7, 7, 7, 7, 7, 7, 7, 7, 7, 7, 7, 7, 7, 7, 7, 7, 7, 8, 8, 8, 8, 8, 8, 8, 8, 8, 8, 8, 8, 8, 8, 8, 8, 8, 8, 8, 8, 8, 8, 8, 8, 8, 8, 8, 8, 8, 8, 9, 9, 9, 9, 9, 9, 9, 9, 9, 9, 9, 9, 9, 9, 9, 9, 9, 9, 9, 9, 9, 9, 9, 9, 9, 9, 9, 9, 9, 9, 10, 10, 10, 10, 10, 10, 10, 10, 10, 10, 10, 10, 10, 10, 10, 10, 10, 10, 10, 10, 10, 10, 10, 10, 10, 10, 10, 10, 10, 10, 2, 2, 2, 2, 2, 2, 2, 2, 2, 2, 2, 2, 2, 2, 2, 2, 2, 2, 2, 2, 2, 2, 2, 2, 2, 2, 2, 2, 2, 2, 3, 3, 3, 3, 3, 3, 3, 3, 3, 3, 3, 3, 3, 3, 3, 3, 3, 3, 3, 3, 3, 3, 3, 3, 3, 3, 3, 3, 3, 3, 4, 4, 4, 4, 4, 4, 4, 4, 4, 4, 4, 4, 4, 4, 4, 4, 4, 4, 4, 4, 4, 4, 4, 4, 4, 4, 4, 4, 4, 4, 5, 5, 5, 5, 5, 5, 5, 5, 5, 5, 5, 5, 5, 5, 5, 5, 5, 5, 5, 5, 5, 5, 5, 5, 5, 5, 5, 5, 5, 5, 6, 6, 6, 6, 6, 6, 6, 6, 6, 6, 6, 6, 6, 6, 6, 6, 6, 6, 6, 6, 6, 6, 6, 6, 6, 6, 6, 6, 6, 6, 7, 7, 7, 7, 7, 7, 7, 7, 7, 7, 7, 7, 7, 7, 7, 7, 7, 7, 7, 7, 7, 7, 7, 7, 7, 7, 7, 7, 7, 7, 8, 8, 8, 8, 8, 8, 8, 8, 8, 8, 8, 8, 8, 8, 8, 8, 8, 8, 8, 8, 8, 8, 8, 8, 8, 8, 8, 8, 8, 8, 9, 9, 9, 9, 9, 9, 9, 9, 9, 9, 9, 9, 9, 9, 9, 9, 9, 9, 9, 9, 9, 9, 9, 9, 9, 9, 9, 9, 9, 9, 10, 10, 10, 10, 10, 10, 10, 10, 10, 10, 10, 10, 10, 10, 10, 10, 10, 10, 10, 10, 10, 10, 10, 10, 10, 10, 10, 10, 10, 10], 'Alpha': [0.01, 0.01, 0.01, 0.01, 0.01, 0.31, 0.31, 0.31, 0.31, 0.31, 0.61, 0.61, 0.61, 0.61, 0.61, 0.9099999999999999, 0.9099999999999999, 0.9099999999999999, 0.9099999999999999, 0.9099999999999999, 'symmetric', 'symmetric', 'symmetric', 'symmetric', 'symmetric', 'asymmetric', 'asymmetric', 'asymmetric', 'asymmetric', 'asymmetric', 0.01, 0.01, 0.01, 0.01, 0.01, 0.31, 0.31, 0.31, 0.31, 0.31, 0.61, 0.61, 0.61, 0.61, 0.61, 0.9099999999999999, 0.9099999999999999, 0.9099999999999999, 0.9099999999999999, 0.9099999999999999, 'symmetric', 'symmetric', 'symmetric', 'symmetric', 'symmetric', 'asymmetric', 'asymmetric', 'asymmetric', 'asymmetric', 'asymmetric', 0.01, 0.01, 0.01, 0.01, 0.01, 0.31, 0.31, 0.31, 0.31, 0.31, 0.61, 0.61, 0.61, 0.61, 0.61, 0.9099999999999999, 0.9099999999999999, 0.9099999999999999, 0.9099999999999999, 0.9099999999999999, 'symmetric', 'symmetric', 'symmetric', 'symmetric', 'symmetric', 'asymmetric', 'asymmetric', 'asymmetric', 'asymmetric', 'asymmetric', 0.01, 0.01, 0.01, 0.01, 0.01, 0.31, 0.31, 0.31, 0.31, 0.31, 0.61, 0.61, 0.61, 0.61, 0.61, 0.9099999999999999, 0.9099999999999999, 0.9099999999999999, 0.9099999999999999, 0.9099999999999999, 'symmetric', 'symmetric', 'symmetric', 'symmetric', 'symmetric', 'asymmetric', 'asymmetric', 'asymmetric', 'asymmetric', 'asymmetric', 0.01, 0.01, 0.01, 0.01, 0.01, 0.31, 0.31, 0.31, 0.31, 0.31, 0.61, 0.61, 0.61, 0.61, 0.61, 0.9099999999999999, 0.9099999999999999, 0.9099999999999999, 0.9099999999999999, 0.9099999999999999, 'symmetric', 'symmetric', 'symmetric', 'symmetric', 'symmetric', 'asymmetric', 'asymmetric', 'asymmetric', 'asymmetric', 'asymmetric', 0.01, 0.01, 0.01, 0.01, 0.01, 0.31, 0.31, 0.31, 0.31, 0.31, 0.61, 0.61, 0.61, 0.61, 0.61, 0.9099999999999999, 0.9099999999999999, 0.9099999999999999, 0.9099999999999999, 0.9099999999999999, 'symmetric', 'symmetric', 'symmetric', 'symmetric', 'symmetric', 'asymmetric', 'asymmetric', 'asymmetric', 'asymmetric', 'asymmetric', 0.01, 0.01, 0.01, 0.01, 0.01, 0.31, 0.31, 0.31, 0.31, 0.31, 0.61, 0.61, 0.61, 0.61, 0.61, 0.9099999999999999, 0.9099999999999999, 0.9099999999999999, 0.9099999999999999, 0.9099999999999999, 'symmetric', 'symmetric', 'symmetric', 'symmetric', 'symmetric', 'asymmetric', 'asymmetric', 'asymmetric', 'asymmetric', 'asymmetric', 0.01, 0.01, 0.01, 0.01, 0.01, 0.31, 0.31, 0.31, 0.31, 0.31, 0.61, 0.61, 0.61, 0.61, 0.61, 0.9099999999999999, 0.9099999999999999, 0.9099999999999999, 0.9099999999999999, 0.9099999999999999, 'symmetric', 'symmetric', 'symmetric', 'symmetric', 'symmetric', 'asymmetric', 'asymmetric', 'asymmetric', 'asymmetric', 'asymmetric', 0.01, 0.01, 0.01, 0.01, 0.01, 0.31, 0.31, 0.31, 0.31, 0.31, 0.61, 0.61, 0.61, 0.61, 0.61, 0.9099999999999999, 0.9099999999999999, 0.9099999999999999, 0.9099999999999999, 0.9099999999999999, 'symmetric', 'symmetric', 'symmetric', 'symmetric', 'symmetric', 'asymmetric', 'asymmetric', 'asymmetric', 'asymmetric', 'asymmetric', 0.01, 0.01, 0.01, 0.01, 0.01, 0.31, 0.31, 0.31, 0.31, 0.31, 0.61, 0.61, 0.61, 0.61, 0.61, 0.9099999999999999, 0.9099999999999999, 0.9099999999999999, 0.9099999999999999, 0.9099999999999999, 'symmetric', 'symmetric', 'symmetric', 'symmetric', 'symmetric', 'asymmetric', 'asymmetric', 'asymmetric', 'asymmetric', 'asymmetric', 0.01, 0.01, 0.01, 0.01, 0.01, 0.31, 0.31, 0.31, 0.31, 0.31, 0.61, 0.61, 0.61, 0.61, 0.61, 0.9099999999999999, 0.9099999999999999, 0.9099999999999999, 0.9099999999999999, 0.9099999999999999, 'symmetric', 'symmetric', 'symmetric', 'symmetric', 'symmetric', 'asymmetric', 'asymmetric', 'asymmetric', 'asymmetric', 'asymmetric', 0.01, 0.01, 0.01, 0.01, 0.01, 0.31, 0.31, 0.31, 0.31, 0.31, 0.61, 0.61, 0.61, 0.61, 0.61, 0.9099999999999999, 0.9099999999999999, 0.9099999999999999, 0.9099999999999999, 0.9099999999999999, 'symmetric', 'symmetric', 'symmetric', 'symmetric', 'symmetric', 'asymmetric', 'asymmetric', 'asymmetric', 'asymmetric', 'asymmetric', 0.01, 0.01, 0.01, 0.01, 0.01, 0.31, 0.31, 0.31, 0.31, 0.31, 0.61, 0.61, 0.61, 0.61, 0.61, 0.9099999999999999, 0.9099999999999999, 0.9099999999999999, 0.9099999999999999, 0.9099999999999999, 'symmetric', 'symmetric', 'symmetric', 'symmetric', 'symmetric', 'asymmetric', 'asymmetric', 'asymmetric', 'asymmetric', 'asymmetric', 0.01, 0.01, 0.01, 0.01, 0.01, 0.31, 0.31, 0.31, 0.31, 0.31, 0.61, 0.61, 0.61, 0.61, 0.61, 0.9099999999999999, 0.9099999999999999, 0.9099999999999999, 0.9099999999999999, 0.9099999999999999, 'symmetric', 'symmetric', 'symmetric', 'symmetric', 'symmetric', 'asymmetric', 'asymmetric', 'asymmetric', 'asymmetric', 'asymmetric', 0.01, 0.01, 0.01, 0.01, 0.01, 0.31, 0.31, 0.31, 0.31, 0.31, 0.61, 0.61, 0.61, 0.61, 0.61, 0.9099999999999999, 0.9099999999999999, 0.9099999999999999, 0.9099999999999999, 0.9099999999999999, 'symmetric', 'symmetric', 'symmetric', 'symmetric', 'symmetric', 'asymmetric', 'asymmetric', 'asymmetric', 'asymmetric', 'asymmetric', 0.01, 0.01, 0.01, 0.01, 0.01, 0.31, 0.31, 0.31, 0.31, 0.31, 0.61, 0.61, 0.61, 0.61, 0.61, 0.9099999999999999, 0.9099999999999999, 0.9099999999999999, 0.9099999999999999, 0.9099999999999999, 'symmetric', 'symmetric', 'symmetric', 'symmetric', 'symmetric', 'asymmetric', 'asymmetric', 'asymmetric', 'asymmetric', 'asymmetric', 0.01, 0.01, 0.01, 0.01, 0.01, 0.31, 0.31, 0.31, 0.31, 0.31, 0.61, 0.61, 0.61, 0.61, 0.61, 0.9099999999999999, 0.9099999999999999, 0.9099999999999999, 0.9099999999999999, 0.9099999999999999, 'symmetric', 'symmetric', 'symmetric', 'symmetric', 'symmetric', 'asymmetric', 'asymmetric', 'asymmetric', 'asymmetric', 'asymmetric', 0.01, 0.01, 0.01, 0.01, 0.01, 0.31, 0.31, 0.31, 0.31, 0.31, 0.61, 0.61, 0.61, 0.61, 0.61, 0.9099999999999999, 0.9099999999999999, 0.9099999999999999, 0.9099999999999999, 0.9099999999999999, 'symmetric', 'symmetric', 'symmetric', 'symmetric', 'symmetric', 'asymmetric', 'asymmetric', 'asymmetric', 'asymmetric', 'asymmetric'], 'Beta': [0.01, 0.31, 0.61, 0.9099999999999999, 'symmetric', 0.01, 0.31, 0.61, 0.9099999999999999, 'symmetric', 0.01, 0.31, 0.61, 0.9099999999999999, 'symmetric', 0.01, 0.31, 0.61, 0.9099999999999999, 'symmetric', 0.01, 0.31, 0.61, 0.9099999999999999, 'symmetric', 0.01, 0.31, 0.61, 0.9099999999999999, 'symmetric', 0.01, 0.31, 0.61, 0.9099999999999999, 'symmetric', 0.01, 0.31, 0.61, 0.9099999999999999, 'symmetric', 0.01, 0.31, 0.61, 0.9099999999999999, 'symmetric', 0.01, 0.31, 0.61, 0.9099999999999999, 'symmetric', 0.01, 0.31, 0.61, 0.9099999999999999, 'symmetric', 0.01, 0.31, 0.61, 0.9099999999999999, 'symmetric', 0.01, 0.31, 0.61, 0.9099999999999999, 'symmetric', 0.01, 0.31, 0.61, 0.9099999999999999, 'symmetric', 0.01, 0.31, 0.61, 0.9099999999999999, 'symmetric', 0.01, 0.31, 0.61, 0.9099999999999999, 'symmetric', 0.01, 0.31, 0.61, 0.9099999999999999, 'symmetric', 0.01, 0.31, 0.61, 0.9099999999999999, 'symmetric', 0.01, 0.31, 0.61, 0.9099999999999999, 'symmetric', 0.01, 0.31, 0.61, 0.9099999999999999, 'symmetric', 0.01, 0.31, 0.61, 0.9099999999999999, 'symmetric', 0.01, 0.31, 0.61, 0.9099999999999999, 'symmetric', 0.01, 0.31, 0.61, 0.9099999999999999, 'symmetric', 0.01, 0.31, 0.61, 0.9099999999999999, 'symmetric', 0.01, 0.31, 0.61, 0.9099999999999999, 'symmetric', 0.01, 0.31, 0.61, 0.9099999999999999, 'symmetric', 0.01, 0.31, 0.61, 0.9099999999999999, 'symmetric', 0.01, 0.31, 0.61, 0.9099999999999999, 'symmetric', 0.01, 0.31, 0.61, 0.9099999999999999, 'symmetric', 0.01, 0.31, 0.61, 0.9099999999999999, 'symmetric', 0.01, 0.31, 0.61, 0.9099999999999999, 'symmetric', 0.01, 0.31, 0.61, 0.9099999999999999, 'symmetric', 0.01, 0.31, 0.61, 0.9099999999999999, 'symmetric', 0.01, 0.31, 0.61, 0.9099999999999999, 'symmetric', 0.01, 0.31, 0.61, 0.9099999999999999, 'symmetric', 0.01, 0.31, 0.61, 0.9099999999999999, 'symmetric', 0.01, 0.31, 0.61, 0.9099999999999999, 'symmetric', 0.01, 0.31, 0.61, 0.9099999999999999, 'symmetric', 0.01, 0.31, 0.61, 0.9099999999999999, 'symmetric', 0.01, 0.31, 0.61, 0.9099999999999999, 'symmetric', 0.01, 0.31, 0.61, 0.9099999999999999, 'symmetric', 0.01, 0.31, 0.61, 0.9099999999999999, 'symmetric', 0.01, 0.31, 0.61, 0.9099999999999999, 'symmetric', 0.01, 0.31, 0.61, 0.9099999999999999, 'symmetric', 0.01, 0.31, 0.61, 0.9099999999999999, 'symmetric', 0.01, 0.31, 0.61, 0.9099999999999999, 'symmetric', 0.01, 0.31, 0.61, 0.9099999999999999, 'symmetric', 0.01, 0.31, 0.61, 0.9099999999999999, 'symmetric', 0.01, 0.31, 0.61, 0.9099999999999999, 'symmetric', 0.01, 0.31, 0.61, 0.9099999999999999, 'symmetric', 0.01, 0.31, 0.61, 0.9099999999999999, 'symmetric', 0.01, 0.31, 0.61, 0.9099999999999999, 'symmetric', 0.01, 0.31, 0.61, 0.9099999999999999, 'symmetric', 0.01, 0.31, 0.61, 0.9099999999999999, 'symmetric', 0.01, 0.31, 0.61, 0.9099999999999999, 'symmetric', 0.01, 0.31, 0.61, 0.9099999999999999, 'symmetric', 0.01, 0.31, 0.61, 0.9099999999999999, 'symmetric', 0.01, 0.31, 0.61, 0.9099999999999999, 'symmetric', 0.01, 0.31, 0.61, 0.9099999999999999, 'symmetric', 0.01, 0.31, 0.61, 0.9099999999999999, 'symmetric', 0.01, 0.31, 0.61, 0.9099999999999999, 'symmetric', 0.01, 0.31, 0.61, 0.9099999999999999, 'symmetric', 0.01, 0.31, 0.61, 0.9099999999999999, 'symmetric', 0.01, 0.31, 0.61, 0.9099999999999999, 'symmetric', 0.01, 0.31, 0.61, 0.9099999999999999, 'symmetric', 0.01, 0.31, 0.61, 0.9099999999999999, 'symmetric', 0.01, 0.31, 0.61, 0.9099999999999999, 'symmetric', 0.01, 0.31, 0.61, 0.9099999999999999, 'symmetric', 0.01, 0.31, 0.61, 0.9099999999999999, 'symmetric', 0.01, 0.31, 0.61, 0.9099999999999999, 'symmetric', 0.01, 0.31, 0.61, 0.9099999999999999, 'symmetric', 0.01, 0.31, 0.61, 0.9099999999999999, 'symmetric', 0.01, 0.31, 0.61, 0.9099999999999999, 'symmetric', 0.01, 0.31, 0.61, 0.9099999999999999, 'symmetric', 0.01, 0.31, 0.61, 0.9099999999999999, 'symmetric', 0.01, 0.31, 0.61, 0.9099999999999999, 'symmetric', 0.01, 0.31, 0.61, 0.9099999999999999, 'symmetric', 0.01, 0.31, 0.61, 0.9099999999999999, 'symmetric', 0.01, 0.31, 0.61, 0.9099999999999999, 'symmetric', 0.01, 0.31, 0.61, 0.9099999999999999, 'symmetric', 0.01, 0.31, 0.61, 0.9099999999999999, 'symmetric', 0.01, 0.31, 0.61, 0.9099999999999999, 'symmetric', 0.01, 0.31, 0.61, 0.9099999999999999, 'symmetric', 0.01, 0.31, 0.61, 0.9099999999999999, 'symmetric', 0.01, 0.31, 0.61, 0.9099999999999999, 'symmetric', 0.01, 0.31, 0.61, 0.9099999999999999, 'symmetric', 0.01, 0.31, 0.61, 0.9099999999999999, 'symmetric', 0.01, 0.31, 0.61, 0.9099999999999999, 'symmetric', 0.01, 0.31, 0.61, 0.9099999999999999, 'symmetric', 0.01, 0.31, 0.61, 0.9099999999999999, 'symmetric', 0.01, 0.31, 0.61, 0.9099999999999999, 'symmetric', 0.01, 0.31, 0.61, 0.9099999999999999, 'symmetric', 0.01, 0.31, 0.61, 0.9099999999999999, 'symmetric', 0.01, 0.31, 0.61, 0.9099999999999999, 'symmetric', 0.01, 0.31, 0.61, 0.9099999999999999, 'symmetric', 0.01, 0.31, 0.61, 0.9099999999999999, 'symmetric', 0.01, 0.31, 0.61, 0.9099999999999999, 'symmetric', 0.01, 0.31, 0.61, 0.9099999999999999, 'symmetric', 0.01, 0.31, 0.61, 0.9099999999999999, 'symmetric', 0.01, 0.31, 0.61, 0.9099999999999999, 'symmetric', 0.01, 0.31, 0.61, 0.9099999999999999, 'symmetric', 0.01, 0.31, 0.61, 0.9099999999999999, 'symmetric', 0.01, 0.31, 0.61, 0.9099999999999999, 'symmetric', 0.01, 0.31, 0.61, 0.9099999999999999, 'symmetric', 0.01, 0.31, 0.61, 0.9099999999999999, 'symmetric', 0.01, 0.31, 0.61, 0.9099999999999999, 'symmetric', 0.01, 0.31, 0.61, 0.9099999999999999, 'symmetric', 0.01, 0.31, 0.61, 0.9099999999999999, 'symmetric'], 'Coherence': [nan, nan, nan, nan, nan, nan, nan, nan, nan, nan, nan, nan, nan, nan, nan, nan, nan, nan, nan, nan, nan, nan, nan, nan, nan, nan, nan, nan, nan, nan, nan, nan, nan, nan, nan, nan, nan, nan, nan, nan, nan, nan, nan, nan, nan, nan, nan, nan, nan, nan, nan, nan, nan, nan, nan, nan, nan, nan, nan, nan, nan, nan, nan, nan, nan, nan, nan, nan, nan, nan, nan, nan, nan, nan, nan, nan, nan, nan, nan, nan, nan, nan, nan, nan, nan, nan, nan, nan, nan, nan, nan, nan, nan, nan, nan, nan, nan, nan, nan, nan, nan, nan, nan, nan, nan, nan, nan, nan, nan, nan, nan, nan, nan, nan, nan, nan, nan, nan, nan, nan, nan, nan, nan, nan, nan, nan, nan, nan, nan, nan, nan, nan, nan, nan, nan, nan, nan, nan, nan, nan, nan, nan, nan, nan, nan, nan, nan, nan, nan, nan, nan, nan, nan, nan, nan, nan, nan, nan, nan, nan, nan, nan, nan, nan, nan, nan, nan, nan, nan, nan, nan, nan, nan, nan, nan, nan, nan, nan, nan, nan, nan, nan, nan, nan, nan, nan, nan, nan, nan, nan, nan, nan, nan, nan, nan, nan, nan, nan, nan, nan, nan, nan, nan, nan, nan, nan, nan, nan, nan, nan, nan, nan, nan, nan, nan, nan, nan, nan, nan, nan, nan, nan, nan, nan, nan, nan, nan, nan, nan, nan, nan, nan, nan, nan, nan, nan, nan, nan, nan, nan, nan, nan, nan, nan, nan, nan, nan, nan, nan, nan, nan, nan, nan, nan, nan, nan, nan, nan, nan, nan, nan, nan, nan, nan, nan, nan, nan, nan, nan, nan, nan, nan, nan, nan, nan, nan, nan, nan, nan, nan, nan, nan, nan, nan, nan, nan, nan, nan, nan, nan, nan, nan, nan, nan, nan, nan, nan, nan, nan, nan, nan, nan, nan, nan, nan, nan, nan, nan, nan, nan, nan, nan, nan, nan, nan, nan, nan, nan, nan, nan, nan, nan, nan, nan, nan, nan, nan, nan, nan, nan, nan, nan, nan, nan, nan, nan, nan, nan, nan, nan, nan, nan, nan, nan, nan, nan, nan, nan, nan, nan, nan, nan, nan, nan, nan, nan, nan, nan, nan, nan, nan, nan, nan, nan, nan, nan, nan, nan, nan, nan, nan, nan, nan, nan, nan, nan, nan, nan, nan, nan, nan, nan, nan, nan, nan, nan, nan, nan, nan, nan, nan, nan, nan, nan, nan, nan, nan, nan, nan, nan, nan, nan, nan, nan, nan, nan, nan, nan, nan, nan, nan, nan, nan, nan, nan, nan, nan, nan, nan, nan, nan, nan, nan, nan, nan, nan, nan, nan, nan, nan, nan, nan, nan, nan, nan, nan, nan, nan, nan, nan, nan, nan, nan, nan, nan, nan, nan, nan, nan, nan, nan, nan, nan, nan, nan, nan, nan, nan, nan, nan, nan, nan, nan, nan, nan, nan, nan, nan, nan, nan, nan, nan, nan, nan, nan, nan, nan, nan, nan, nan, nan, nan, nan, nan, nan, nan, nan, nan, nan, nan, nan, nan, nan, nan, nan, nan, nan, nan, nan, nan, nan, nan, nan, nan, nan, nan, nan, nan, nan, nan, nan, nan, nan, nan, nan, nan, nan, nan, nan, nan, nan, nan, nan, nan, nan, nan, nan, nan, nan, nan, nan, nan, nan, nan, nan, nan, nan, nan, nan, nan]}\n"
     ]
    }
   ],
   "source": [
    "print(model_results)"
   ]
  },
  {
   "cell_type": "code",
   "execution_count": null,
   "id": "350bc8ed",
   "metadata": {},
   "outputs": [],
   "source": []
  },
  {
   "cell_type": "code",
   "execution_count": null,
   "id": "ffa6c50c",
   "metadata": {},
   "outputs": [],
   "source": []
  },
  {
   "cell_type": "code",
   "execution_count": null,
   "id": "6a28ce25",
   "metadata": {},
   "outputs": [],
   "source": []
  }
 ],
 "metadata": {
  "kernelspec": {
   "display_name": "Python 3 (ipykernel)",
   "language": "python",
   "name": "python3"
  },
  "language_info": {
   "codemirror_mode": {
    "name": "ipython",
    "version": 3
   },
   "file_extension": ".py",
   "mimetype": "text/x-python",
   "name": "python",
   "nbconvert_exporter": "python",
   "pygments_lexer": "ipython3",
   "version": "3.9.13"
  }
 },
 "nbformat": 4,
 "nbformat_minor": 5
}
